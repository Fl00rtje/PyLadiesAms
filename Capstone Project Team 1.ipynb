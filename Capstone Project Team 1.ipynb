{
 "cells": [
  {
   "cell_type": "markdown",
   "metadata": {},
   "source": [
    "# An Analysis of Oscar Awards and Film Data: Team 1\n",
    "\n",
    "\n",
    "Oscar Award Data: https://www.kaggle.com/unanimad/the-oscar-award/kernels\n",
    "Top 10 Highest Grossing Films: https://www.kaggle.com/bidyutchanda/top-10-highest-grossing-films-1975-2018\n",
    "\n",
    "\n",
    "\n",
    "# Seven questions we will explore:\n",
    "1. What are the top 3 highest-grossing films that won an Oscar?\n",
    "2. Which genre has won the most Oscars?\n",
    "3. Which studio has the best Oscars to total movies produced ratio?\n",
    "4. How is the relation between total nominations and Oscars award?\n",
    "5. What is the award-winning rate per year?\n",
    "6. How are genres represented among blockbuster movies? \n",
    "7. How do genres differ in the revenue they bring? "
   ]
  },
  {
   "cell_type": "code",
   "execution_count": 1,
   "metadata": {
    "ExecuteTime": {
     "end_time": "2020-06-02T20:09:45.595678Z",
     "start_time": "2020-06-02T20:09:43.932006Z"
    }
   },
   "outputs": [],
   "source": [
    "# load libraries\n",
    "import pandas as pd\n",
    "import numpy as np\n",
    "from matplotlib import pyplot\n",
    "import seaborn as sns"
   ]
  },
  {
   "cell_type": "code",
   "execution_count": 2,
   "metadata": {
    "ExecuteTime": {
     "end_time": "2020-06-02T20:09:45.692468Z",
     "start_time": "2020-06-02T20:09:45.602458Z"
    }
   },
   "outputs": [],
   "source": [
    "# setting the path for the csv files\n",
    "path_blockbusters = \"data/blockbusters.csv\"\n",
    "path_oscars = \"data/the_oscar_award.csv\"\n",
    "\n",
    "# read the csv files\n",
    "blockbusters = pd.read_csv(path_blockbusters)\n",
    "oscars = pd.read_csv(path_oscars)"
   ]
  },
  {
   "cell_type": "markdown",
   "metadata": {},
   "source": [
    "# Exploring the data"
   ]
  },
  {
   "cell_type": "code",
   "execution_count": 3,
   "metadata": {
    "ExecuteTime": {
     "end_time": "2020-06-02T20:09:45.732032Z",
     "start_time": "2020-06-02T20:09:45.696787Z"
    }
   },
   "outputs": [
    {
     "data": {
      "text/html": [
       "<div>\n",
       "<style scoped>\n",
       "    .dataframe tbody tr th:only-of-type {\n",
       "        vertical-align: middle;\n",
       "    }\n",
       "\n",
       "    .dataframe tbody tr th {\n",
       "        vertical-align: top;\n",
       "    }\n",
       "\n",
       "    .dataframe thead th {\n",
       "        text-align: right;\n",
       "    }\n",
       "</style>\n",
       "<table border=\"1\" class=\"dataframe\">\n",
       "  <thead>\n",
       "    <tr style=\"text-align: right;\">\n",
       "      <th></th>\n",
       "      <th>Main_Genre</th>\n",
       "      <th>Genre_2</th>\n",
       "      <th>Genre_3</th>\n",
       "      <th>imdb_rating</th>\n",
       "      <th>length</th>\n",
       "      <th>rank_in_year</th>\n",
       "      <th>rating</th>\n",
       "      <th>studio</th>\n",
       "      <th>title</th>\n",
       "      <th>worldwide_gross</th>\n",
       "      <th>year</th>\n",
       "    </tr>\n",
       "  </thead>\n",
       "  <tbody>\n",
       "    <tr>\n",
       "      <th>0</th>\n",
       "      <td>Action</td>\n",
       "      <td>Adventure</td>\n",
       "      <td>Drama</td>\n",
       "      <td>7.4</td>\n",
       "      <td>135</td>\n",
       "      <td>1</td>\n",
       "      <td>PG-13</td>\n",
       "      <td>Walt Disney Pictures</td>\n",
       "      <td>Black Panther</td>\n",
       "      <td>$700,059,566</td>\n",
       "      <td>2018</td>\n",
       "    </tr>\n",
       "    <tr>\n",
       "      <th>1</th>\n",
       "      <td>Action</td>\n",
       "      <td>Adventure</td>\n",
       "      <td>Sci-Fi</td>\n",
       "      <td>8.5</td>\n",
       "      <td>156</td>\n",
       "      <td>2</td>\n",
       "      <td>PG-13</td>\n",
       "      <td>Walt Disney Pictures</td>\n",
       "      <td>Avengers: Infinity War</td>\n",
       "      <td>$678,815,482</td>\n",
       "      <td>2018</td>\n",
       "    </tr>\n",
       "    <tr>\n",
       "      <th>2</th>\n",
       "      <td>Animation</td>\n",
       "      <td>Action</td>\n",
       "      <td>Adventure</td>\n",
       "      <td>7.8</td>\n",
       "      <td>118</td>\n",
       "      <td>3</td>\n",
       "      <td>PG</td>\n",
       "      <td>Pixar</td>\n",
       "      <td>Incredibles 2</td>\n",
       "      <td>$608,581,744</td>\n",
       "      <td>2018</td>\n",
       "    </tr>\n",
       "    <tr>\n",
       "      <th>3</th>\n",
       "      <td>Action</td>\n",
       "      <td>Adventure</td>\n",
       "      <td>Drama</td>\n",
       "      <td>6.2</td>\n",
       "      <td>129</td>\n",
       "      <td>4</td>\n",
       "      <td>PG-13</td>\n",
       "      <td>Universal Pictures</td>\n",
       "      <td>Jurassic World: Fallen Kingdom</td>\n",
       "      <td>$416,769,345</td>\n",
       "      <td>2018</td>\n",
       "    </tr>\n",
       "    <tr>\n",
       "      <th>4</th>\n",
       "      <td>Action</td>\n",
       "      <td>Comedy</td>\n",
       "      <td>NaN</td>\n",
       "      <td>7.8</td>\n",
       "      <td>119</td>\n",
       "      <td>5</td>\n",
       "      <td>R</td>\n",
       "      <td>20th Century Fox</td>\n",
       "      <td>Deadpool 2</td>\n",
       "      <td>$318,491,426</td>\n",
       "      <td>2018</td>\n",
       "    </tr>\n",
       "  </tbody>\n",
       "</table>\n",
       "</div>"
      ],
      "text/plain": [
       "  Main_Genre    Genre_2    Genre_3  imdb_rating  length  rank_in_year rating  \\\n",
       "0     Action  Adventure      Drama          7.4     135             1  PG-13   \n",
       "1     Action  Adventure     Sci-Fi          8.5     156             2  PG-13   \n",
       "2  Animation     Action  Adventure          7.8     118             3     PG   \n",
       "3     Action  Adventure      Drama          6.2     129             4  PG-13   \n",
       "4     Action     Comedy        NaN          7.8     119             5      R   \n",
       "\n",
       "                 studio                           title worldwide_gross  year  \n",
       "0  Walt Disney Pictures                   Black Panther    $700,059,566  2018  \n",
       "1  Walt Disney Pictures          Avengers: Infinity War    $678,815,482  2018  \n",
       "2                 Pixar                   Incredibles 2    $608,581,744  2018  \n",
       "3    Universal Pictures  Jurassic World: Fallen Kingdom    $416,769,345  2018  \n",
       "4      20th Century Fox                      Deadpool 2    $318,491,426  2018  "
      ]
     },
     "execution_count": 3,
     "metadata": {},
     "output_type": "execute_result"
    }
   ],
   "source": [
    "# getting an idea of how the blockbusters dataframe looks like\n",
    "blockbusters.head(5)"
   ]
  },
  {
   "cell_type": "code",
   "execution_count": 4,
   "metadata": {
    "ExecuteTime": {
     "end_time": "2020-06-02T20:09:45.759031Z",
     "start_time": "2020-06-02T20:09:45.737931Z"
    },
    "scrolled": true
   },
   "outputs": [
    {
     "data": {
      "text/html": [
       "<div>\n",
       "<style scoped>\n",
       "    .dataframe tbody tr th:only-of-type {\n",
       "        vertical-align: middle;\n",
       "    }\n",
       "\n",
       "    .dataframe tbody tr th {\n",
       "        vertical-align: top;\n",
       "    }\n",
       "\n",
       "    .dataframe thead th {\n",
       "        text-align: right;\n",
       "    }\n",
       "</style>\n",
       "<table border=\"1\" class=\"dataframe\">\n",
       "  <thead>\n",
       "    <tr style=\"text-align: right;\">\n",
       "      <th></th>\n",
       "      <th>year_film</th>\n",
       "      <th>year_ceremony</th>\n",
       "      <th>ceremony</th>\n",
       "      <th>category</th>\n",
       "      <th>name</th>\n",
       "      <th>film</th>\n",
       "      <th>winner</th>\n",
       "    </tr>\n",
       "  </thead>\n",
       "  <tbody>\n",
       "    <tr>\n",
       "      <th>0</th>\n",
       "      <td>1927</td>\n",
       "      <td>1928</td>\n",
       "      <td>1</td>\n",
       "      <td>ACTOR</td>\n",
       "      <td>Richard Barthelmess</td>\n",
       "      <td>The Noose</td>\n",
       "      <td>False</td>\n",
       "    </tr>\n",
       "    <tr>\n",
       "      <th>1</th>\n",
       "      <td>1927</td>\n",
       "      <td>1928</td>\n",
       "      <td>1</td>\n",
       "      <td>ACTOR</td>\n",
       "      <td>Emil Jannings</td>\n",
       "      <td>The Last Command</td>\n",
       "      <td>True</td>\n",
       "    </tr>\n",
       "    <tr>\n",
       "      <th>2</th>\n",
       "      <td>1927</td>\n",
       "      <td>1928</td>\n",
       "      <td>1</td>\n",
       "      <td>ACTRESS</td>\n",
       "      <td>Louise Dresser</td>\n",
       "      <td>A Ship Comes In</td>\n",
       "      <td>False</td>\n",
       "    </tr>\n",
       "    <tr>\n",
       "      <th>3</th>\n",
       "      <td>1927</td>\n",
       "      <td>1928</td>\n",
       "      <td>1</td>\n",
       "      <td>ACTRESS</td>\n",
       "      <td>Janet Gaynor</td>\n",
       "      <td>7th Heaven</td>\n",
       "      <td>True</td>\n",
       "    </tr>\n",
       "    <tr>\n",
       "      <th>4</th>\n",
       "      <td>1927</td>\n",
       "      <td>1928</td>\n",
       "      <td>1</td>\n",
       "      <td>ACTRESS</td>\n",
       "      <td>Gloria Swanson</td>\n",
       "      <td>Sadie Thompson</td>\n",
       "      <td>False</td>\n",
       "    </tr>\n",
       "  </tbody>\n",
       "</table>\n",
       "</div>"
      ],
      "text/plain": [
       "   year_film  year_ceremony  ceremony category                 name  \\\n",
       "0       1927           1928         1    ACTOR  Richard Barthelmess   \n",
       "1       1927           1928         1    ACTOR        Emil Jannings   \n",
       "2       1927           1928         1  ACTRESS       Louise Dresser   \n",
       "3       1927           1928         1  ACTRESS         Janet Gaynor   \n",
       "4       1927           1928         1  ACTRESS       Gloria Swanson   \n",
       "\n",
       "               film  winner  \n",
       "0         The Noose   False  \n",
       "1  The Last Command    True  \n",
       "2   A Ship Comes In   False  \n",
       "3        7th Heaven    True  \n",
       "4    Sadie Thompson   False  "
      ]
     },
     "execution_count": 4,
     "metadata": {},
     "output_type": "execute_result"
    }
   ],
   "source": [
    "# getting an idea of how the oscars dataframe looks like\n",
    "oscars.head(5)"
   ]
  },
  {
   "cell_type": "markdown",
   "metadata": {},
   "source": [
    "# Analysing the dataframes\n",
    "\n",
    "## Differences\n",
    "The data from the oscars starts from 1927.\n",
    "The data from the blockbusters starts at 1975.\n",
    "If we combine the data it makes sense to limit the oscar data to data >= 1975.\n",
    "\n",
    "## Similarities\n",
    "The dataframes have two columns in common:\n",
    "1. The title of the film (title/film)\n",
    "2. The year the film was produced (year/year_film)"
   ]
  },
  {
   "cell_type": "code",
   "execution_count": 5,
   "metadata": {
    "ExecuteTime": {
     "end_time": "2020-06-02T20:09:45.787821Z",
     "start_time": "2020-06-02T20:09:45.763468Z"
    }
   },
   "outputs": [],
   "source": [
    "# limit the oscar data to the year 1975 and up\n",
    "oscars_1975 = oscars.loc[oscars[\"year_film\"] >= 1975]"
   ]
  },
  {
   "cell_type": "markdown",
   "metadata": {},
   "source": [
    "worldwide_gross is a text variable, and therefore does not get sorted by ascending of descending revenue. We can clean it to fix that. "
   ]
  },
  {
   "cell_type": "code",
   "execution_count": 6,
   "metadata": {},
   "outputs": [],
   "source": [
    "# the revenue variable is a string - we clean it and convert it to numeric\n",
    "\n",
    "blockbusters['worldwide_gross'] = blockbusters['worldwide_gross'].str.replace(',', '')\n",
    "blockbusters['worldwide_gross'] = blockbusters['worldwide_gross'].str.replace('$', '')\n",
    "blockbusters['worldwide_gross'] = pd.to_numeric(blockbusters['worldwide_gross'])"
   ]
  },
  {
   "cell_type": "markdown",
   "metadata": {},
   "source": [
    "# Merging the data\n",
    "We can merge the data on title and the year of the movie. To do this, we want to rename the columns so that they hold the same name"
   ]
  },
  {
   "cell_type": "code",
   "execution_count": 7,
   "metadata": {
    "ExecuteTime": {
     "end_time": "2020-06-02T20:09:45.824662Z",
     "start_time": "2020-06-02T20:09:45.792914Z"
    }
   },
   "outputs": [
    {
     "data": {
      "text/html": [
       "<div>\n",
       "<style scoped>\n",
       "    .dataframe tbody tr th:only-of-type {\n",
       "        vertical-align: middle;\n",
       "    }\n",
       "\n",
       "    .dataframe tbody tr th {\n",
       "        vertical-align: top;\n",
       "    }\n",
       "\n",
       "    .dataframe thead th {\n",
       "        text-align: right;\n",
       "    }\n",
       "</style>\n",
       "<table border=\"1\" class=\"dataframe\">\n",
       "  <thead>\n",
       "    <tr style=\"text-align: right;\">\n",
       "      <th></th>\n",
       "      <th>year_film</th>\n",
       "      <th>year_ceremony</th>\n",
       "      <th>ceremony</th>\n",
       "      <th>category</th>\n",
       "      <th>name</th>\n",
       "      <th>title</th>\n",
       "      <th>winner</th>\n",
       "    </tr>\n",
       "  </thead>\n",
       "  <tbody>\n",
       "    <tr>\n",
       "      <th>5298</th>\n",
       "      <td>1975</td>\n",
       "      <td>1976</td>\n",
       "      <td>48</td>\n",
       "      <td>ACTOR</td>\n",
       "      <td>Walter Matthau</td>\n",
       "      <td>The Sunshine Boys</td>\n",
       "      <td>False</td>\n",
       "    </tr>\n",
       "    <tr>\n",
       "      <th>5299</th>\n",
       "      <td>1975</td>\n",
       "      <td>1976</td>\n",
       "      <td>48</td>\n",
       "      <td>ACTOR</td>\n",
       "      <td>Jack Nicholson</td>\n",
       "      <td>One Flew over the Cuckoo's Nest</td>\n",
       "      <td>True</td>\n",
       "    </tr>\n",
       "  </tbody>\n",
       "</table>\n",
       "</div>"
      ],
      "text/plain": [
       "      year_film  year_ceremony  ceremony category            name  \\\n",
       "5298       1975           1976        48    ACTOR  Walter Matthau   \n",
       "5299       1975           1976        48    ACTOR  Jack Nicholson   \n",
       "\n",
       "                                title  winner  \n",
       "5298                The Sunshine Boys   False  \n",
       "5299  One Flew over the Cuckoo's Nest    True  "
      ]
     },
     "execution_count": 7,
     "metadata": {},
     "output_type": "execute_result"
    }
   ],
   "source": [
    "# Rename the column \"title\" to \"film\" in oscars_1975 and check that it worked\n",
    "oscars_1975 = oscars_1975.rename(columns={\"film\": \"title\"})\n",
    "oscars_1975.head(2)"
   ]
  },
  {
   "cell_type": "code",
   "execution_count": 8,
   "metadata": {
    "ExecuteTime": {
     "end_time": "2020-06-02T20:09:45.904953Z",
     "start_time": "2020-06-02T20:09:45.830741Z"
    }
   },
   "outputs": [
    {
     "data": {
      "text/html": [
       "<div>\n",
       "<style scoped>\n",
       "    .dataframe tbody tr th:only-of-type {\n",
       "        vertical-align: middle;\n",
       "    }\n",
       "\n",
       "    .dataframe tbody tr th {\n",
       "        vertical-align: top;\n",
       "    }\n",
       "\n",
       "    .dataframe thead th {\n",
       "        text-align: right;\n",
       "    }\n",
       "</style>\n",
       "<table border=\"1\" class=\"dataframe\">\n",
       "  <thead>\n",
       "    <tr style=\"text-align: right;\">\n",
       "      <th></th>\n",
       "      <th>Main_Genre</th>\n",
       "      <th>Genre_2</th>\n",
       "      <th>Genre_3</th>\n",
       "      <th>imdb_rating</th>\n",
       "      <th>length</th>\n",
       "      <th>rank_in_year</th>\n",
       "      <th>rating</th>\n",
       "      <th>studio</th>\n",
       "      <th>title</th>\n",
       "      <th>worldwide_gross</th>\n",
       "      <th>year_film</th>\n",
       "    </tr>\n",
       "  </thead>\n",
       "  <tbody>\n",
       "    <tr>\n",
       "      <th>0</th>\n",
       "      <td>Action</td>\n",
       "      <td>Adventure</td>\n",
       "      <td>Drama</td>\n",
       "      <td>7.4</td>\n",
       "      <td>135</td>\n",
       "      <td>1</td>\n",
       "      <td>PG-13</td>\n",
       "      <td>Walt Disney Pictures</td>\n",
       "      <td>Black Panther</td>\n",
       "      <td>700059566.0</td>\n",
       "      <td>2018</td>\n",
       "    </tr>\n",
       "    <tr>\n",
       "      <th>1</th>\n",
       "      <td>Action</td>\n",
       "      <td>Adventure</td>\n",
       "      <td>Sci-Fi</td>\n",
       "      <td>8.5</td>\n",
       "      <td>156</td>\n",
       "      <td>2</td>\n",
       "      <td>PG-13</td>\n",
       "      <td>Walt Disney Pictures</td>\n",
       "      <td>Avengers: Infinity War</td>\n",
       "      <td>678815482.0</td>\n",
       "      <td>2018</td>\n",
       "    </tr>\n",
       "  </tbody>\n",
       "</table>\n",
       "</div>"
      ],
      "text/plain": [
       "  Main_Genre    Genre_2 Genre_3  imdb_rating  length  rank_in_year rating  \\\n",
       "0     Action  Adventure   Drama          7.4     135             1  PG-13   \n",
       "1     Action  Adventure  Sci-Fi          8.5     156             2  PG-13   \n",
       "\n",
       "                 studio                   title  worldwide_gross  year_film  \n",
       "0  Walt Disney Pictures           Black Panther      700059566.0       2018  \n",
       "1  Walt Disney Pictures  Avengers: Infinity War      678815482.0       2018  "
      ]
     },
     "execution_count": 8,
     "metadata": {},
     "output_type": "execute_result"
    }
   ],
   "source": [
    "# Rename the column \"year\" to \"film\" in blockbusters and check that it worked\n",
    "blockbusters = blockbusters.rename(columns={\"year\": \"year_film\"})\n",
    "blockbusters.head(2)"
   ]
  },
  {
   "cell_type": "code",
   "execution_count": 9,
   "metadata": {
    "ExecuteTime": {
     "end_time": "2020-06-02T20:09:45.970036Z",
     "start_time": "2020-06-02T20:09:45.912874Z"
    }
   },
   "outputs": [
    {
     "data": {
      "text/html": [
       "<div>\n",
       "<style scoped>\n",
       "    .dataframe tbody tr th:only-of-type {\n",
       "        vertical-align: middle;\n",
       "    }\n",
       "\n",
       "    .dataframe tbody tr th {\n",
       "        vertical-align: top;\n",
       "    }\n",
       "\n",
       "    .dataframe thead th {\n",
       "        text-align: right;\n",
       "    }\n",
       "</style>\n",
       "<table border=\"1\" class=\"dataframe\">\n",
       "  <thead>\n",
       "    <tr style=\"text-align: right;\">\n",
       "      <th></th>\n",
       "      <th>year_film</th>\n",
       "      <th>year_ceremony</th>\n",
       "      <th>ceremony</th>\n",
       "      <th>category</th>\n",
       "      <th>name</th>\n",
       "      <th>title</th>\n",
       "      <th>winner</th>\n",
       "      <th>Main_Genre</th>\n",
       "      <th>Genre_2</th>\n",
       "      <th>Genre_3</th>\n",
       "      <th>imdb_rating</th>\n",
       "      <th>length</th>\n",
       "      <th>rank_in_year</th>\n",
       "      <th>rating</th>\n",
       "      <th>studio</th>\n",
       "      <th>worldwide_gross</th>\n",
       "    </tr>\n",
       "  </thead>\n",
       "  <tbody>\n",
       "    <tr>\n",
       "      <th>0</th>\n",
       "      <td>1975</td>\n",
       "      <td>1976</td>\n",
       "      <td>48</td>\n",
       "      <td>ACTOR</td>\n",
       "      <td>Al Pacino</td>\n",
       "      <td>Dog Day Afternoon</td>\n",
       "      <td>False</td>\n",
       "      <td>Drama</td>\n",
       "      <td>Crime</td>\n",
       "      <td>NaN</td>\n",
       "      <td>8.1</td>\n",
       "      <td>125</td>\n",
       "      <td>4</td>\n",
       "      <td>R</td>\n",
       "      <td>Warner Bros</td>\n",
       "      <td>50000000.0</td>\n",
       "    </tr>\n",
       "    <tr>\n",
       "      <th>1</th>\n",
       "      <td>1975</td>\n",
       "      <td>1976</td>\n",
       "      <td>48</td>\n",
       "      <td>ACTOR IN A SUPPORTING ROLE</td>\n",
       "      <td>Chris Sarandon</td>\n",
       "      <td>Dog Day Afternoon</td>\n",
       "      <td>False</td>\n",
       "      <td>Drama</td>\n",
       "      <td>Crime</td>\n",
       "      <td>NaN</td>\n",
       "      <td>8.1</td>\n",
       "      <td>125</td>\n",
       "      <td>4</td>\n",
       "      <td>R</td>\n",
       "      <td>Warner Bros</td>\n",
       "      <td>50000000.0</td>\n",
       "    </tr>\n",
       "  </tbody>\n",
       "</table>\n",
       "</div>"
      ],
      "text/plain": [
       "   year_film  year_ceremony  ceremony                    category  \\\n",
       "0       1975           1976        48                       ACTOR   \n",
       "1       1975           1976        48  ACTOR IN A SUPPORTING ROLE   \n",
       "\n",
       "             name              title  winner Main_Genre Genre_2 Genre_3  \\\n",
       "0       Al Pacino  Dog Day Afternoon   False      Drama   Crime     NaN   \n",
       "1  Chris Sarandon  Dog Day Afternoon   False      Drama   Crime     NaN   \n",
       "\n",
       "   imdb_rating  length  rank_in_year rating       studio  worldwide_gross  \n",
       "0          8.1     125             4      R  Warner Bros       50000000.0  \n",
       "1          8.1     125             4      R  Warner Bros       50000000.0  "
      ]
     },
     "execution_count": 9,
     "metadata": {},
     "output_type": "execute_result"
    }
   ],
   "source": [
    "# Merge the files and check that it worked\n",
    "oscars_and_busters = oscars_1975.merge(blockbusters, on = ['title', 'year_film'])\n",
    "oscars_and_busters.head(2)"
   ]
  },
  {
   "cell_type": "code",
   "execution_count": 10,
   "metadata": {
    "ExecuteTime": {
     "end_time": "2020-06-02T20:09:45.999794Z",
     "start_time": "2020-06-02T20:09:45.980528Z"
    }
   },
   "outputs": [
    {
     "name": "stdout",
     "output_type": "stream",
     "text": [
      "<class 'pandas.core.frame.DataFrame'>\n",
      "Int64Index: 843 entries, 0 to 842\n",
      "Data columns (total 16 columns):\n",
      " #   Column           Non-Null Count  Dtype  \n",
      "---  ------           --------------  -----  \n",
      " 0   year_film        843 non-null    int64  \n",
      " 1   year_ceremony    843 non-null    int64  \n",
      " 2   ceremony         843 non-null    int64  \n",
      " 3   category         843 non-null    object \n",
      " 4   name             843 non-null    object \n",
      " 5   title            843 non-null    object \n",
      " 6   winner           843 non-null    bool   \n",
      " 7   Main_Genre       843 non-null    object \n",
      " 8   Genre_2          775 non-null    object \n",
      " 9   Genre_3          505 non-null    object \n",
      " 10  imdb_rating      843 non-null    float64\n",
      " 11  length           843 non-null    int64  \n",
      " 12  rank_in_year     843 non-null    int64  \n",
      " 13  rating           843 non-null    object \n",
      " 14  studio           843 non-null    object \n",
      " 15  worldwide_gross  843 non-null    float64\n",
      "dtypes: bool(1), float64(2), int64(5), object(8)\n",
      "memory usage: 106.2+ KB\n"
     ]
    }
   ],
   "source": [
    "# check NaN \n",
    "oscars_and_busters.info()"
   ]
  },
  {
   "cell_type": "code",
   "execution_count": 11,
   "metadata": {
    "ExecuteTime": {
     "end_time": "2020-06-02T20:09:46.011295Z",
     "start_time": "2020-06-02T20:09:46.005749Z"
    }
   },
   "outputs": [],
   "source": [
    "df = oscars_and_busters"
   ]
  },
  {
   "cell_type": "code",
   "execution_count": 12,
   "metadata": {
    "ExecuteTime": {
     "end_time": "2020-06-03T02:03:45.522357Z",
     "start_time": "2020-06-03T02:03:45.395038Z"
    }
   },
   "outputs": [
    {
     "data": {
      "text/html": [
       "<style  type=\"text/css\" >\n",
       "</style><table id=\"T_4d11a7c2_a5b4_11ea_8dfb_f018989a0d7a\" ><thead>    <tr>        <th class=\"blank level0\" ></th>        <th class=\"col_heading level0 col0\" >title</th>        <th class=\"col_heading level0 col1\" >worldwide_gross</th>    </tr></thead><tbody>\n",
       "                <tr>\n",
       "                        <th id=\"T_4d11a7c2_a5b4_11ea_8dfb_f018989a0d7alevel0_row0\" class=\"row_heading level0 row0\" >733</th>\n",
       "                        <td id=\"T_4d11a7c2_a5b4_11ea_8dfb_f018989a0d7arow0_col0\" class=\"data row0 col0\" >Avatar</td>\n",
       "                        <td id=\"T_4d11a7c2_a5b4_11ea_8dfb_f018989a0d7arow0_col1\" class=\"data row0 col1\" >$2,749,064,328.00</td>\n",
       "            </tr>\n",
       "            <tr>\n",
       "                        <th id=\"T_4d11a7c2_a5b4_11ea_8dfb_f018989a0d7alevel0_row1\" class=\"row_heading level0 row1\" >508</th>\n",
       "                        <td id=\"T_4d11a7c2_a5b4_11ea_8dfb_f018989a0d7arow1_col0\" class=\"data row1 col0\" >Titanic</td>\n",
       "                        <td id=\"T_4d11a7c2_a5b4_11ea_8dfb_f018989a0d7arow1_col1\" class=\"data row1 col1\" >$1,843,201,268.00</td>\n",
       "            </tr>\n",
       "            <tr>\n",
       "                        <th id=\"T_4d11a7c2_a5b4_11ea_8dfb_f018989a0d7alevel0_row2\" class=\"row_heading level0 row2\" >790</th>\n",
       "                        <td id=\"T_4d11a7c2_a5b4_11ea_8dfb_f018989a0d7arow2_col0\" class=\"data row2 col0\" >Frozen</td>\n",
       "                        <td id=\"T_4d11a7c2_a5b4_11ea_8dfb_f018989a0d7arow2_col1\" class=\"data row2 col1\" >$1,274,219,009.00</td>\n",
       "            </tr>\n",
       "            <tr>\n",
       "                        <th id=\"T_4d11a7c2_a5b4_11ea_8dfb_f018989a0d7alevel0_row3\" class=\"row_heading level0 row3\" >794</th>\n",
       "                        <td id=\"T_4d11a7c2_a5b4_11ea_8dfb_f018989a0d7arow3_col0\" class=\"data row3 col0\" >Iron Man 3</td>\n",
       "                        <td id=\"T_4d11a7c2_a5b4_11ea_8dfb_f018989a0d7arow3_col1\" class=\"data row3 col1\" >$1,215,439,994.00</td>\n",
       "            </tr>\n",
       "            <tr>\n",
       "                        <th id=\"T_4d11a7c2_a5b4_11ea_8dfb_f018989a0d7alevel0_row4\" class=\"row_heading level0 row4\" >768</th>\n",
       "                        <td id=\"T_4d11a7c2_a5b4_11ea_8dfb_f018989a0d7arow4_col0\" class=\"data row4 col0\" >Transformers: Dark of the Moon</td>\n",
       "                        <td id=\"T_4d11a7c2_a5b4_11ea_8dfb_f018989a0d7arow4_col1\" class=\"data row4 col1\" >$1,123,794,079.00</td>\n",
       "            </tr>\n",
       "            <tr>\n",
       "                        <th id=\"T_4d11a7c2_a5b4_11ea_8dfb_f018989a0d7alevel0_row5\" class=\"row_heading level0 row5\" >657</th>\n",
       "                        <td id=\"T_4d11a7c2_a5b4_11ea_8dfb_f018989a0d7arow5_col0\" class=\"data row5 col0\" >The Lord of the Rings: The Return of the King</td>\n",
       "                        <td id=\"T_4d11a7c2_a5b4_11ea_8dfb_f018989a0d7arow5_col1\" class=\"data row5 col1\" >$1,119,929,521.00</td>\n",
       "            </tr>\n",
       "            <tr>\n",
       "                        <th id=\"T_4d11a7c2_a5b4_11ea_8dfb_f018989a0d7alevel0_row6\" class=\"row_heading level0 row6\" >769</th>\n",
       "                        <td id=\"T_4d11a7c2_a5b4_11ea_8dfb_f018989a0d7arow6_col0\" class=\"data row6 col0\" >Skyfall</td>\n",
       "                        <td id=\"T_4d11a7c2_a5b4_11ea_8dfb_f018989a0d7arow6_col1\" class=\"data row6 col1\" >$1,108,561,013.00</td>\n",
       "            </tr>\n",
       "            <tr>\n",
       "                        <th id=\"T_4d11a7c2_a5b4_11ea_8dfb_f018989a0d7alevel0_row7\" class=\"row_heading level0 row7\" >698</th>\n",
       "                        <td id=\"T_4d11a7c2_a5b4_11ea_8dfb_f018989a0d7arow7_col0\" class=\"data row7 col0\" >Pirates of the Caribbean: Dead Man's Chest</td>\n",
       "                        <td id=\"T_4d11a7c2_a5b4_11ea_8dfb_f018989a0d7arow7_col1\" class=\"data row7 col1\" >$1,066,179,725.00</td>\n",
       "            </tr>\n",
       "            <tr>\n",
       "                        <th id=\"T_4d11a7c2_a5b4_11ea_8dfb_f018989a0d7alevel0_row8\" class=\"row_heading level0 row8\" >749</th>\n",
       "                        <td id=\"T_4d11a7c2_a5b4_11ea_8dfb_f018989a0d7arow8_col0\" class=\"data row8 col0\" >Toy Story 3</td>\n",
       "                        <td id=\"T_4d11a7c2_a5b4_11ea_8dfb_f018989a0d7arow8_col1\" class=\"data row8 col1\" >$1,063,171,911.00</td>\n",
       "            </tr>\n",
       "            <tr>\n",
       "                        <th id=\"T_4d11a7c2_a5b4_11ea_8dfb_f018989a0d7alevel0_row9\" class=\"row_heading level0 row9\" >754</th>\n",
       "                        <td id=\"T_4d11a7c2_a5b4_11ea_8dfb_f018989a0d7arow9_col0\" class=\"data row9 col0\" >Alice in Wonderland</td>\n",
       "                        <td id=\"T_4d11a7c2_a5b4_11ea_8dfb_f018989a0d7arow9_col1\" class=\"data row9 col1\" >$1,025,467,110.00</td>\n",
       "            </tr>\n",
       "            <tr>\n",
       "                        <th id=\"T_4d11a7c2_a5b4_11ea_8dfb_f018989a0d7alevel0_row10\" class=\"row_heading level0 row10\" >774</th>\n",
       "                        <td id=\"T_4d11a7c2_a5b4_11ea_8dfb_f018989a0d7arow10_col0\" class=\"data row10 col0\" >The Hobbit: An Unexpected Journey</td>\n",
       "                        <td id=\"T_4d11a7c2_a5b4_11ea_8dfb_f018989a0d7arow10_col1\" class=\"data row10 col1\" >$1,017,003,568.00</td>\n",
       "            </tr>\n",
       "            <tr>\n",
       "                        <th id=\"T_4d11a7c2_a5b4_11ea_8dfb_f018989a0d7alevel0_row11\" class=\"row_heading level0 row11\" >710</th>\n",
       "                        <td id=\"T_4d11a7c2_a5b4_11ea_8dfb_f018989a0d7arow11_col0\" class=\"data row11 col0\" >The Dark Knight</td>\n",
       "                        <td id=\"T_4d11a7c2_a5b4_11ea_8dfb_f018989a0d7arow11_col1\" class=\"data row11 col1\" >$997,000,000.00</td>\n",
       "            </tr>\n",
       "            <tr>\n",
       "                        <th id=\"T_4d11a7c2_a5b4_11ea_8dfb_f018989a0d7alevel0_row12\" class=\"row_heading level0 row12\" >621</th>\n",
       "                        <td id=\"T_4d11a7c2_a5b4_11ea_8dfb_f018989a0d7arow12_col0\" class=\"data row12 col0\" >Harry Potter and the Sorcerer's Stone</td>\n",
       "                        <td id=\"T_4d11a7c2_a5b4_11ea_8dfb_f018989a0d7arow12_col1\" class=\"data row12 col1\" >$974,733,550.00</td>\n",
       "            </tr>\n",
       "            <tr>\n",
       "                        <th id=\"T_4d11a7c2_a5b4_11ea_8dfb_f018989a0d7alevel0_row13\" class=\"row_heading level0 row13\" >788</th>\n",
       "                        <td id=\"T_4d11a7c2_a5b4_11ea_8dfb_f018989a0d7arow13_col0\" class=\"data row13 col0\" >Despicable Me 2</td>\n",
       "                        <td id=\"T_4d11a7c2_a5b4_11ea_8dfb_f018989a0d7arow13_col1\" class=\"data row13 col1\" >$970,761,885.00</td>\n",
       "            </tr>\n",
       "            <tr>\n",
       "                        <th id=\"T_4d11a7c2_a5b4_11ea_8dfb_f018989a0d7alevel0_row14\" class=\"row_heading level0 row14\" >705</th>\n",
       "                        <td id=\"T_4d11a7c2_a5b4_11ea_8dfb_f018989a0d7arow14_col0\" class=\"data row14 col0\" >Pirates of the Caribbean: At World's End</td>\n",
       "                        <td id=\"T_4d11a7c2_a5b4_11ea_8dfb_f018989a0d7arow14_col1\" class=\"data row14 col1\" >$963,420,425.00</td>\n",
       "            </tr>\n",
       "            <tr>\n",
       "                        <th id=\"T_4d11a7c2_a5b4_11ea_8dfb_f018989a0d7alevel0_row15\" class=\"row_heading level0 row15\" >792</th>\n",
       "                        <td id=\"T_4d11a7c2_a5b4_11ea_8dfb_f018989a0d7arow15_col0\" class=\"data row15 col0\" >The Hobbit: The Desolation of Smaug</td>\n",
       "                        <td id=\"T_4d11a7c2_a5b4_11ea_8dfb_f018989a0d7arow15_col1\" class=\"data row15 col1\" >$960,366,855.00</td>\n",
       "            </tr>\n",
       "            <tr>\n",
       "                        <th id=\"T_4d11a7c2_a5b4_11ea_8dfb_f018989a0d7alevel0_row16\" class=\"row_heading level0 row16\" >803</th>\n",
       "                        <td id=\"T_4d11a7c2_a5b4_11ea_8dfb_f018989a0d7arow16_col0\" class=\"data row16 col0\" >The Hobbit: The Battle of the Five Armies</td>\n",
       "                        <td id=\"T_4d11a7c2_a5b4_11ea_8dfb_f018989a0d7arow16_col1\" class=\"data row16 col1\" >$955,113,783.00</td>\n",
       "            </tr>\n",
       "            <tr>\n",
       "                        <th id=\"T_4d11a7c2_a5b4_11ea_8dfb_f018989a0d7alevel0_row17\" class=\"row_heading level0 row17\" >819</th>\n",
       "                        <td id=\"T_4d11a7c2_a5b4_11ea_8dfb_f018989a0d7arow17_col0\" class=\"data row17 col0\" >Star Wars: The Force Awakens</td>\n",
       "                        <td id=\"T_4d11a7c2_a5b4_11ea_8dfb_f018989a0d7arow17_col1\" class=\"data row17 col1\" >$936,662,225.00</td>\n",
       "            </tr>\n",
       "            <tr>\n",
       "                        <th id=\"T_4d11a7c2_a5b4_11ea_8dfb_f018989a0d7alevel0_row18\" class=\"row_heading level0 row18\" >743</th>\n",
       "                        <td id=\"T_4d11a7c2_a5b4_11ea_8dfb_f018989a0d7arow18_col0\" class=\"data row18 col0\" >Harry Potter and the Half-Blood Prince</td>\n",
       "                        <td id=\"T_4d11a7c2_a5b4_11ea_8dfb_f018989a0d7arow18_col1\" class=\"data row18 col1\" >$934,416,487.00</td>\n",
       "            </tr>\n",
       "            <tr>\n",
       "                        <th id=\"T_4d11a7c2_a5b4_11ea_8dfb_f018989a0d7alevel0_row19\" class=\"row_heading level0 row19\" >634</th>\n",
       "                        <td id=\"T_4d11a7c2_a5b4_11ea_8dfb_f018989a0d7arow19_col0\" class=\"data row19 col0\" >The Lord of the Rings: The Two Towers</td>\n",
       "                        <td id=\"T_4d11a7c2_a5b4_11ea_8dfb_f018989a0d7arow19_col1\" class=\"data row19 col1\" >$926,287,400.00</td>\n",
       "            </tr>\n",
       "            <tr>\n",
       "                        <th id=\"T_4d11a7c2_a5b4_11ea_8dfb_f018989a0d7alevel0_row20\" class=\"row_heading level0 row20\" >584</th>\n",
       "                        <td id=\"T_4d11a7c2_a5b4_11ea_8dfb_f018989a0d7arow20_col0\" class=\"data row20 col0\" >Star Wars Episode I: The Phantom Menace</td>\n",
       "                        <td id=\"T_4d11a7c2_a5b4_11ea_8dfb_f018989a0d7arow20_col1\" class=\"data row20 col1\" >$924,317,558.00</td>\n",
       "            </tr>\n",
       "            <tr>\n",
       "                        <th id=\"T_4d11a7c2_a5b4_11ea_8dfb_f018989a0d7alevel0_row21\" class=\"row_heading level0 row21\" >668</th>\n",
       "                        <td id=\"T_4d11a7c2_a5b4_11ea_8dfb_f018989a0d7arow21_col0\" class=\"data row21 col0\" >Shrek 2</td>\n",
       "                        <td id=\"T_4d11a7c2_a5b4_11ea_8dfb_f018989a0d7arow21_col1\" class=\"data row21 col1\" >$919,838,758.00</td>\n",
       "            </tr>\n",
       "            <tr>\n",
       "                        <th id=\"T_4d11a7c2_a5b4_11ea_8dfb_f018989a0d7alevel0_row22\" class=\"row_heading level0 row22\" >437</th>\n",
       "                        <td id=\"T_4d11a7c2_a5b4_11ea_8dfb_f018989a0d7arow22_col0\" class=\"data row22 col0\" >Jurassic Park</td>\n",
       "                        <td id=\"T_4d11a7c2_a5b4_11ea_8dfb_f018989a0d7arow22_col1\" class=\"data row22 col1\" >$914,691,118.00</td>\n",
       "            </tr>\n",
       "            <tr>\n",
       "                        <th id=\"T_4d11a7c2_a5b4_11ea_8dfb_f018989a0d7alevel0_row23\" class=\"row_heading level0 row23\" >679</th>\n",
       "                        <td id=\"T_4d11a7c2_a5b4_11ea_8dfb_f018989a0d7arow23_col0\" class=\"data row23 col0\" >Harry Potter and the Goblet of Fire</td>\n",
       "                        <td id=\"T_4d11a7c2_a5b4_11ea_8dfb_f018989a0d7arow23_col1\" class=\"data row23 col1\" >$895,921,036.00</td>\n",
       "            </tr>\n",
       "            <tr>\n",
       "                        <th id=\"T_4d11a7c2_a5b4_11ea_8dfb_f018989a0d7alevel0_row24\" class=\"row_heading level0 row24\" >607</th>\n",
       "                        <td id=\"T_4d11a7c2_a5b4_11ea_8dfb_f018989a0d7arow24_col0\" class=\"data row24 col0\" >The Lord of the Rings: The Fellowship of the Ring</td>\n",
       "                        <td id=\"T_4d11a7c2_a5b4_11ea_8dfb_f018989a0d7arow24_col1\" class=\"data row24 col1\" >$870,761,744.00</td>\n",
       "            </tr>\n",
       "            <tr>\n",
       "                        <th id=\"T_4d11a7c2_a5b4_11ea_8dfb_f018989a0d7alevel0_row25\" class=\"row_heading level0 row25\" >649</th>\n",
       "                        <td id=\"T_4d11a7c2_a5b4_11ea_8dfb_f018989a0d7arow25_col0\" class=\"data row25 col0\" >Finding Nemo</td>\n",
       "                        <td id=\"T_4d11a7c2_a5b4_11ea_8dfb_f018989a0d7arow25_col1\" class=\"data row25 col1\" >$867,893,978.00</td>\n",
       "            </tr>\n",
       "            <tr>\n",
       "                        <th id=\"T_4d11a7c2_a5b4_11ea_8dfb_f018989a0d7alevel0_row26\" class=\"row_heading level0 row26\" >744</th>\n",
       "                        <td id=\"T_4d11a7c2_a5b4_11ea_8dfb_f018989a0d7arow26_col0\" class=\"data row26 col0\" >Transformers: Revenge of the Fallen</td>\n",
       "                        <td id=\"T_4d11a7c2_a5b4_11ea_8dfb_f018989a0d7arow26_col1\" class=\"data row26 col1\" >$836,303,693.00</td>\n",
       "            </tr>\n",
       "            <tr>\n",
       "                        <th id=\"T_4d11a7c2_a5b4_11ea_8dfb_f018989a0d7alevel0_row27\" class=\"row_heading level0 row27\" >762</th>\n",
       "                        <td id=\"T_4d11a7c2_a5b4_11ea_8dfb_f018989a0d7arow27_col0\" class=\"data row27 col0\" >Inception</td>\n",
       "                        <td id=\"T_4d11a7c2_a5b4_11ea_8dfb_f018989a0d7arow27_col1\" class=\"data row27 col1\" >$825,531,030.00</td>\n",
       "            </tr>\n",
       "            <tr>\n",
       "                        <th id=\"T_4d11a7c2_a5b4_11ea_8dfb_f018989a0d7alevel0_row28\" class=\"row_heading level0 row28\" >635</th>\n",
       "                        <td id=\"T_4d11a7c2_a5b4_11ea_8dfb_f018989a0d7arow28_col0\" class=\"data row28 col0\" >Spider-Man</td>\n",
       "                        <td id=\"T_4d11a7c2_a5b4_11ea_8dfb_f018989a0d7arow28_col1\" class=\"data row28 col1\" >$821,708,551.00</td>\n",
       "            </tr>\n",
       "            <tr>\n",
       "                        <th id=\"T_4d11a7c2_a5b4_11ea_8dfb_f018989a0d7alevel0_row29\" class=\"row_heading level0 row29\" >492</th>\n",
       "                        <td id=\"T_4d11a7c2_a5b4_11ea_8dfb_f018989a0d7arow29_col0\" class=\"data row29 col0\" >Independence Day</td>\n",
       "                        <td id=\"T_4d11a7c2_a5b4_11ea_8dfb_f018989a0d7arow29_col1\" class=\"data row29 col1\" >$817,400,891.00</td>\n",
       "            </tr>\n",
       "            <tr>\n",
       "                        <th id=\"T_4d11a7c2_a5b4_11ea_8dfb_f018989a0d7alevel0_row30\" class=\"row_heading level0 row30\" >674</th>\n",
       "                        <td id=\"T_4d11a7c2_a5b4_11ea_8dfb_f018989a0d7arow30_col0\" class=\"data row30 col0\" >Harry Potter and the Prisoner of Azkaban</td>\n",
       "                        <td id=\"T_4d11a7c2_a5b4_11ea_8dfb_f018989a0d7arow30_col1\" class=\"data row30 col1\" >$795,634,069.00</td>\n",
       "            </tr>\n",
       "            <tr>\n",
       "                        <th id=\"T_4d11a7c2_a5b4_11ea_8dfb_f018989a0d7alevel0_row31\" class=\"row_heading level0 row31\" >678</th>\n",
       "                        <td id=\"T_4d11a7c2_a5b4_11ea_8dfb_f018989a0d7arow31_col0\" class=\"data row31 col0\" >Spider-Man 2</td>\n",
       "                        <td id=\"T_4d11a7c2_a5b4_11ea_8dfb_f018989a0d7arow31_col1\" class=\"data row31 col1\" >$783,766,341.00</td>\n",
       "            </tr>\n",
       "            <tr>\n",
       "                        <th id=\"T_4d11a7c2_a5b4_11ea_8dfb_f018989a0d7alevel0_row32\" class=\"row_heading level0 row32\" >797</th>\n",
       "                        <td id=\"T_4d11a7c2_a5b4_11ea_8dfb_f018989a0d7arow32_col0\" class=\"data row32 col0\" >Guardians of the Galaxy</td>\n",
       "                        <td id=\"T_4d11a7c2_a5b4_11ea_8dfb_f018989a0d7arow32_col1\" class=\"data row32 col1\" >$774,176,600.00</td>\n",
       "            </tr>\n",
       "            <tr>\n",
       "                        <th id=\"T_4d11a7c2_a5b4_11ea_8dfb_f018989a0d7alevel0_row33\" class=\"row_heading level0 row33\" >458</th>\n",
       "                        <td id=\"T_4d11a7c2_a5b4_11ea_8dfb_f018989a0d7arow33_col0\" class=\"data row33 col0\" >The Lion King</td>\n",
       "                        <td id=\"T_4d11a7c2_a5b4_11ea_8dfb_f018989a0d7arow33_col1\" class=\"data row33 col1\" >$768,625,889.00</td>\n",
       "            </tr>\n",
       "            <tr>\n",
       "                        <th id=\"T_4d11a7c2_a5b4_11ea_8dfb_f018989a0d7alevel0_row34\" class=\"row_heading level0 row34\" >795</th>\n",
       "                        <td id=\"T_4d11a7c2_a5b4_11ea_8dfb_f018989a0d7arow34_col0\" class=\"data row34 col0\" >Maleficent</td>\n",
       "                        <td id=\"T_4d11a7c2_a5b4_11ea_8dfb_f018989a0d7arow34_col1\" class=\"data row34 col1\" >$758,654,942.00</td>\n",
       "            </tr>\n",
       "            <tr>\n",
       "                        <th id=\"T_4d11a7c2_a5b4_11ea_8dfb_f018989a0d7alevel0_row35\" class=\"row_heading level0 row35\" >806</th>\n",
       "                        <td id=\"T_4d11a7c2_a5b4_11ea_8dfb_f018989a0d7arow35_col0\" class=\"data row35 col0\" >X-Men: Days of Future Past</td>\n",
       "                        <td id=\"T_4d11a7c2_a5b4_11ea_8dfb_f018989a0d7arow35_col1\" class=\"data row35 col1\" >$748,121,534.00</td>\n",
       "            </tr>\n",
       "            <tr>\n",
       "                        <th id=\"T_4d11a7c2_a5b4_11ea_8dfb_f018989a0d7alevel0_row36\" class=\"row_heading level0 row36\" >688</th>\n",
       "                        <td id=\"T_4d11a7c2_a5b4_11ea_8dfb_f018989a0d7arow36_col0\" class=\"data row36 col0\" >The Chronicles of Narnia: The Lion, the Witch and the Wardrobe</td>\n",
       "                        <td id=\"T_4d11a7c2_a5b4_11ea_8dfb_f018989a0d7arow36_col1\" class=\"data row36 col1\" >$745,011,272.00</td>\n",
       "            </tr>\n",
       "            <tr>\n",
       "                        <th id=\"T_4d11a7c2_a5b4_11ea_8dfb_f018989a0d7alevel0_row37\" class=\"row_heading level0 row37\" >729</th>\n",
       "                        <td id=\"T_4d11a7c2_a5b4_11ea_8dfb_f018989a0d7arow37_col0\" class=\"data row37 col0\" >Up</td>\n",
       "                        <td id=\"T_4d11a7c2_a5b4_11ea_8dfb_f018989a0d7arow37_col1\" class=\"data row37 col1\" >$731,342,744.00</td>\n",
       "            </tr>\n",
       "            <tr>\n",
       "                        <th id=\"T_4d11a7c2_a5b4_11ea_8dfb_f018989a0d7alevel0_row38\" class=\"row_heading level0 row38\" >780</th>\n",
       "                        <td id=\"T_4d11a7c2_a5b4_11ea_8dfb_f018989a0d7arow38_col0\" class=\"data row38 col0\" >Gravity</td>\n",
       "                        <td id=\"T_4d11a7c2_a5b4_11ea_8dfb_f018989a0d7arow38_col1\" class=\"data row38 col1\" >$716,392,705.00</td>\n",
       "            </tr>\n",
       "            <tr>\n",
       "                        <th id=\"T_4d11a7c2_a5b4_11ea_8dfb_f018989a0d7alevel0_row39\" class=\"row_heading level0 row39\" >804</th>\n",
       "                        <td id=\"T_4d11a7c2_a5b4_11ea_8dfb_f018989a0d7arow39_col0\" class=\"data row39 col0\" >Captain America: The Winter Soldier</td>\n",
       "                        <td id=\"T_4d11a7c2_a5b4_11ea_8dfb_f018989a0d7arow39_col1\" class=\"data row39 col1\" >$714,766,572.00</td>\n",
       "            </tr>\n",
       "            <tr>\n",
       "                        <th id=\"T_4d11a7c2_a5b4_11ea_8dfb_f018989a0d7alevel0_row40\" class=\"row_heading level0 row40\" >709</th>\n",
       "                        <td id=\"T_4d11a7c2_a5b4_11ea_8dfb_f018989a0d7arow40_col0\" class=\"data row40 col0\" >Transformers</td>\n",
       "                        <td id=\"T_4d11a7c2_a5b4_11ea_8dfb_f018989a0d7arow40_col1\" class=\"data row40 col1\" >$709,709,780.00</td>\n",
       "            </tr>\n",
       "            <tr>\n",
       "                        <th id=\"T_4d11a7c2_a5b4_11ea_8dfb_f018989a0d7alevel0_row41\" class=\"row_heading level0 row41\" >805</th>\n",
       "                        <td id=\"T_4d11a7c2_a5b4_11ea_8dfb_f018989a0d7arow41_col0\" class=\"data row41 col0\" >Dawn of the Planet of the Apes</td>\n",
       "                        <td id=\"T_4d11a7c2_a5b4_11ea_8dfb_f018989a0d7arow41_col1\" class=\"data row41 col1\" >$708,835,589.00</td>\n",
       "            </tr>\n",
       "            <tr>\n",
       "                        <th id=\"T_4d11a7c2_a5b4_11ea_8dfb_f018989a0d7alevel0_row42\" class=\"row_heading level0 row42\" >837</th>\n",
       "                        <td id=\"T_4d11a7c2_a5b4_11ea_8dfb_f018989a0d7arow42_col0\" class=\"data row42 col0\" >Black Panther</td>\n",
       "                        <td id=\"T_4d11a7c2_a5b4_11ea_8dfb_f018989a0d7arow42_col1\" class=\"data row42 col1\" >$700,059,566.00</td>\n",
       "            </tr>\n",
       "            <tr>\n",
       "                        <th id=\"T_4d11a7c2_a5b4_11ea_8dfb_f018989a0d7alevel0_row43\" class=\"row_heading level0 row43\" >841</th>\n",
       "                        <td id=\"T_4d11a7c2_a5b4_11ea_8dfb_f018989a0d7arow43_col0\" class=\"data row43 col0\" >Avengers: Infinity War</td>\n",
       "                        <td id=\"T_4d11a7c2_a5b4_11ea_8dfb_f018989a0d7arow43_col1\" class=\"data row43 col1\" >$678,815,482.00</td>\n",
       "            </tr>\n",
       "            <tr>\n",
       "                        <th id=\"T_4d11a7c2_a5b4_11ea_8dfb_f018989a0d7alevel0_row44\" class=\"row_heading level0 row44\" >443</th>\n",
       "                        <td id=\"T_4d11a7c2_a5b4_11ea_8dfb_f018989a0d7arow44_col0\" class=\"data row44 col0\" >Forrest Gump</td>\n",
       "                        <td id=\"T_4d11a7c2_a5b4_11ea_8dfb_f018989a0d7arow44_col1\" class=\"data row44 col1\" >$677,387,716.00</td>\n",
       "            </tr>\n",
       "            <tr>\n",
       "                        <th id=\"T_4d11a7c2_a5b4_11ea_8dfb_f018989a0d7alevel0_row45\" class=\"row_heading level0 row45\" >799</th>\n",
       "                        <td id=\"T_4d11a7c2_a5b4_11ea_8dfb_f018989a0d7arow45_col0\" class=\"data row45 col0\" >Interstellar</td>\n",
       "                        <td id=\"T_4d11a7c2_a5b4_11ea_8dfb_f018989a0d7arow45_col1\" class=\"data row45 col1\" >$672,974,414.00</td>\n",
       "            </tr>\n",
       "            <tr>\n",
       "                        <th id=\"T_4d11a7c2_a5b4_11ea_8dfb_f018989a0d7alevel0_row46\" class=\"row_heading level0 row46\" >570</th>\n",
       "                        <td id=\"T_4d11a7c2_a5b4_11ea_8dfb_f018989a0d7arow46_col0\" class=\"data row46 col0\" >The Sixth Sense</td>\n",
       "                        <td id=\"T_4d11a7c2_a5b4_11ea_8dfb_f018989a0d7arow46_col1\" class=\"data row46 col1\" >$672,806,292.00</td>\n",
       "            </tr>\n",
       "            <tr>\n",
       "                        <th id=\"T_4d11a7c2_a5b4_11ea_8dfb_f018989a0d7alevel0_row47\" class=\"row_heading level0 row47\" >765</th>\n",
       "                        <td id=\"T_4d11a7c2_a5b4_11ea_8dfb_f018989a0d7arow47_col0\" class=\"data row47 col0\" >Kung Fu Panda 2</td>\n",
       "                        <td id=\"T_4d11a7c2_a5b4_11ea_8dfb_f018989a0d7arow47_col1\" class=\"data row47 col1\" >$665,692,281.00</td>\n",
       "            </tr>\n",
       "            <tr>\n",
       "                        <th id=\"T_4d11a7c2_a5b4_11ea_8dfb_f018989a0d7alevel0_row48\" class=\"row_heading level0 row48\" >642</th>\n",
       "                        <td id=\"T_4d11a7c2_a5b4_11ea_8dfb_f018989a0d7arow48_col0\" class=\"data row48 col0\" >Pirates of the Caribbean: The Curse of the Black Pearl</td>\n",
       "                        <td id=\"T_4d11a7c2_a5b4_11ea_8dfb_f018989a0d7arow48_col1\" class=\"data row48 col1\" >$654,264,015.00</td>\n",
       "            </tr>\n",
       "            <tr>\n",
       "                        <th id=\"T_4d11a7c2_a5b4_11ea_8dfb_f018989a0d7alevel0_row49\" class=\"row_heading level0 row49\" >718</th>\n",
       "                        <td id=\"T_4d11a7c2_a5b4_11ea_8dfb_f018989a0d7arow49_col0\" class=\"data row49 col0\" >Kung Fu Panda</td>\n",
       "                        <td id=\"T_4d11a7c2_a5b4_11ea_8dfb_f018989a0d7arow49_col1\" class=\"data row49 col1\" >$631,744,560.00</td>\n",
       "            </tr>\n",
       "            <tr>\n",
       "                        <th id=\"T_4d11a7c2_a5b4_11ea_8dfb_f018989a0d7alevel0_row50\" class=\"row_heading level0 row50\" >664</th>\n",
       "                        <td id=\"T_4d11a7c2_a5b4_11ea_8dfb_f018989a0d7arow50_col0\" class=\"data row50 col0\" >The Incredibles</td>\n",
       "                        <td id=\"T_4d11a7c2_a5b4_11ea_8dfb_f018989a0d7arow50_col1\" class=\"data row50 col1\" >$631,442,092.00</td>\n",
       "            </tr>\n",
       "            <tr>\n",
       "                        <th id=\"T_4d11a7c2_a5b4_11ea_8dfb_f018989a0d7alevel0_row51\" class=\"row_heading level0 row51\" >764</th>\n",
       "                        <td id=\"T_4d11a7c2_a5b4_11ea_8dfb_f018989a0d7arow51_col0\" class=\"data row51 col0\" >Iron Man 2</td>\n",
       "                        <td id=\"T_4d11a7c2_a5b4_11ea_8dfb_f018989a0d7arow51_col1\" class=\"data row51 col1\" >$623,933,331.00</td>\n",
       "            </tr>\n",
       "            <tr>\n",
       "                        <th id=\"T_4d11a7c2_a5b4_11ea_8dfb_f018989a0d7alevel0_row52\" class=\"row_heading level0 row52\" >701</th>\n",
       "                        <td id=\"T_4d11a7c2_a5b4_11ea_8dfb_f018989a0d7arow52_col0\" class=\"data row52 col0\" >Ratatouille</td>\n",
       "                        <td id=\"T_4d11a7c2_a5b4_11ea_8dfb_f018989a0d7arow52_col1\" class=\"data row52 col1\" >$623,707,397.00</td>\n",
       "            </tr>\n",
       "            <tr>\n",
       "                        <th id=\"T_4d11a7c2_a5b4_11ea_8dfb_f018989a0d7alevel0_row53\" class=\"row_heading level0 row53\" >830</th>\n",
       "                        <td id=\"T_4d11a7c2_a5b4_11ea_8dfb_f018989a0d7arow53_col0\" class=\"data row53 col0\" >Star Wars: The Last Jedi</td>\n",
       "                        <td id=\"T_4d11a7c2_a5b4_11ea_8dfb_f018989a0d7arow53_col1\" class=\"data row53 col1\" >$620,181,382.00</td>\n",
       "            </tr>\n",
       "            <tr>\n",
       "                        <th id=\"T_4d11a7c2_a5b4_11ea_8dfb_f018989a0d7alevel0_row54\" class=\"row_heading level0 row54\" >529</th>\n",
       "                        <td id=\"T_4d11a7c2_a5b4_11ea_8dfb_f018989a0d7arow54_col0\" class=\"data row54 col0\" >The Lost World: Jurassic Park</td>\n",
       "                        <td id=\"T_4d11a7c2_a5b4_11ea_8dfb_f018989a0d7arow54_col1\" class=\"data row54 col1\" >$618,638,999.00</td>\n",
       "            </tr>\n",
       "            <tr>\n",
       "                        <th id=\"T_4d11a7c2_a5b4_11ea_8dfb_f018989a0d7alevel0_row55\" class=\"row_heading level0 row55\" >670</th>\n",
       "                        <td id=\"T_4d11a7c2_a5b4_11ea_8dfb_f018989a0d7arow55_col0\" class=\"data row55 col0\" >The Passion of the Christ</td>\n",
       "                        <td id=\"T_4d11a7c2_a5b4_11ea_8dfb_f018989a0d7arow55_col1\" class=\"data row55 col1\" >$611,899,420.00</td>\n",
       "            </tr>\n",
       "            <tr>\n",
       "                        <th id=\"T_4d11a7c2_a5b4_11ea_8dfb_f018989a0d7alevel0_row56\" class=\"row_heading level0 row56\" >833</th>\n",
       "                        <td id=\"T_4d11a7c2_a5b4_11ea_8dfb_f018989a0d7arow56_col0\" class=\"data row56 col0\" >Incredibles 2</td>\n",
       "                        <td id=\"T_4d11a7c2_a5b4_11ea_8dfb_f018989a0d7arow56_col1\" class=\"data row56 col1\" >$608,581,744.00</td>\n",
       "            </tr>\n",
       "            <tr>\n",
       "                        <th id=\"T_4d11a7c2_a5b4_11ea_8dfb_f018989a0d7alevel0_row57\" class=\"row_heading level0 row57\" >763</th>\n",
       "                        <td id=\"T_4d11a7c2_a5b4_11ea_8dfb_f018989a0d7arow57_col0\" class=\"data row57 col0\" >Tangled</td>\n",
       "                        <td id=\"T_4d11a7c2_a5b4_11ea_8dfb_f018989a0d7arow57_col1\" class=\"data row57 col1\" >$591,794,936.00</td>\n",
       "            </tr>\n",
       "            <tr>\n",
       "                        <th id=\"T_4d11a7c2_a5b4_11ea_8dfb_f018989a0d7alevel0_row58\" class=\"row_heading level0 row58\" >689</th>\n",
       "                        <td id=\"T_4d11a7c2_a5b4_11ea_8dfb_f018989a0d7arow58_col0\" class=\"data row58 col0\" >War of the Worlds</td>\n",
       "                        <td id=\"T_4d11a7c2_a5b4_11ea_8dfb_f018989a0d7arow58_col1\" class=\"data row58 col1\" >$591,745,540.00</td>\n",
       "            </tr>\n",
       "            <tr>\n",
       "                        <th id=\"T_4d11a7c2_a5b4_11ea_8dfb_f018989a0d7alevel0_row59\" class=\"row_heading level0 row59\" >520</th>\n",
       "                        <td id=\"T_4d11a7c2_a5b4_11ea_8dfb_f018989a0d7arow59_col0\" class=\"data row59 col0\" >Men in Black</td>\n",
       "                        <td id=\"T_4d11a7c2_a5b4_11ea_8dfb_f018989a0d7arow59_col1\" class=\"data row59 col1\" >$589,390,539.00</td>\n",
       "            </tr>\n",
       "            <tr>\n",
       "                        <th id=\"T_4d11a7c2_a5b4_11ea_8dfb_f018989a0d7alevel0_row60\" class=\"row_heading level0 row60\" >726</th>\n",
       "                        <td id=\"T_4d11a7c2_a5b4_11ea_8dfb_f018989a0d7arow60_col0\" class=\"data row60 col0\" >Iron Man</td>\n",
       "                        <td id=\"T_4d11a7c2_a5b4_11ea_8dfb_f018989a0d7arow60_col1\" class=\"data row60 col1\" >$585,174,222.00</td>\n",
       "            </tr>\n",
       "            <tr>\n",
       "                        <th id=\"T_4d11a7c2_a5b4_11ea_8dfb_f018989a0d7alevel0_row61\" class=\"row_heading level0 row61\" >556</th>\n",
       "                        <td id=\"T_4d11a7c2_a5b4_11ea_8dfb_f018989a0d7arow61_col0\" class=\"data row61 col0\" >Armageddon</td>\n",
       "                        <td id=\"T_4d11a7c2_a5b4_11ea_8dfb_f018989a0d7arow61_col1\" class=\"data row61 col1\" >$553,709,788.00</td>\n",
       "            </tr>\n",
       "            <tr>\n",
       "                        <th id=\"T_4d11a7c2_a5b4_11ea_8dfb_f018989a0d7alevel0_row62\" class=\"row_heading level0 row62\" >681</th>\n",
       "                        <td id=\"T_4d11a7c2_a5b4_11ea_8dfb_f018989a0d7arow62_col0\" class=\"data row62 col0\" >King Kong</td>\n",
       "                        <td id=\"T_4d11a7c2_a5b4_11ea_8dfb_f018989a0d7arow62_col1\" class=\"data row62 col1\" >$550,517,357.00</td>\n",
       "            </tr>\n",
       "            <tr>\n",
       "                        <th id=\"T_4d11a7c2_a5b4_11ea_8dfb_f018989a0d7alevel0_row63\" class=\"row_heading level0 row63\" >827</th>\n",
       "                        <td id=\"T_4d11a7c2_a5b4_11ea_8dfb_f018989a0d7arow63_col0\" class=\"data row63 col0\" >Rogue One: A Star Wars Story</td>\n",
       "                        <td id=\"T_4d11a7c2_a5b4_11ea_8dfb_f018989a0d7arow63_col1\" class=\"data row63 col1\" >$532,177,324.00</td>\n",
       "            </tr>\n",
       "            <tr>\n",
       "                        <th id=\"T_4d11a7c2_a5b4_11ea_8dfb_f018989a0d7alevel0_row64\" class=\"row_heading level0 row64\" >617</th>\n",
       "                        <td id=\"T_4d11a7c2_a5b4_11ea_8dfb_f018989a0d7arow64_col0\" class=\"data row64 col0\" >Monsters, Inc.</td>\n",
       "                        <td id=\"T_4d11a7c2_a5b4_11ea_8dfb_f018989a0d7arow64_col1\" class=\"data row64 col1\" >$525,366,597.00</td>\n",
       "            </tr>\n",
       "            <tr>\n",
       "                        <th id=\"T_4d11a7c2_a5b4_11ea_8dfb_f018989a0d7alevel0_row65\" class=\"row_heading level0 row65\" >741</th>\n",
       "                        <td id=\"T_4d11a7c2_a5b4_11ea_8dfb_f018989a0d7arow65_col0\" class=\"data row65 col0\" >Sherlock Holmes</td>\n",
       "                        <td id=\"T_4d11a7c2_a5b4_11ea_8dfb_f018989a0d7arow65_col1\" class=\"data row65 col1\" >$524,028,679.00</td>\n",
       "            </tr>\n",
       "            <tr>\n",
       "                        <th id=\"T_4d11a7c2_a5b4_11ea_8dfb_f018989a0d7alevel0_row66\" class=\"row_heading level0 row66\" >721</th>\n",
       "                        <td id=\"T_4d11a7c2_a5b4_11ea_8dfb_f018989a0d7arow66_col0\" class=\"data row66 col0\" >WALL-E</td>\n",
       "                        <td id=\"T_4d11a7c2_a5b4_11ea_8dfb_f018989a0d7arow66_col1\" class=\"data row66 col1\" >$521,311,860.00</td>\n",
       "            </tr>\n",
       "            <tr>\n",
       "                        <th id=\"T_4d11a7c2_a5b4_11ea_8dfb_f018989a0d7alevel0_row67\" class=\"row_heading level0 row67\" >375</th>\n",
       "                        <td id=\"T_4d11a7c2_a5b4_11ea_8dfb_f018989a0d7arow67_col0\" class=\"data row67 col0\" >Terminator 2: Judgment Day</td>\n",
       "                        <td id=\"T_4d11a7c2_a5b4_11ea_8dfb_f018989a0d7arow67_col1\" class=\"data row67 col1\" >$519,843,345.00</td>\n",
       "            </tr>\n",
       "            <tr>\n",
       "                        <th id=\"T_4d11a7c2_a5b4_11ea_8dfb_f018989a0d7alevel0_row68\" class=\"row_heading level0 row68\" >342</th>\n",
       "                        <td id=\"T_4d11a7c2_a5b4_11ea_8dfb_f018989a0d7arow68_col0\" class=\"data row68 col0\" >Ghost</td>\n",
       "                        <td id=\"T_4d11a7c2_a5b4_11ea_8dfb_f018989a0d7arow68_col1\" class=\"data row68 col1\" >$505,702,588.00</td>\n",
       "            </tr>\n",
       "            <tr>\n",
       "                        <th id=\"T_4d11a7c2_a5b4_11ea_8dfb_f018989a0d7alevel0_row69\" class=\"row_heading level0 row69\" >398</th>\n",
       "                        <td id=\"T_4d11a7c2_a5b4_11ea_8dfb_f018989a0d7arow69_col0\" class=\"data row69 col0\" >Aladdin</td>\n",
       "                        <td id=\"T_4d11a7c2_a5b4_11ea_8dfb_f018989a0d7arow69_col1\" class=\"data row69 col1\" >$504,050,219.00</td>\n",
       "            </tr>\n",
       "            <tr>\n",
       "                        <th id=\"T_4d11a7c2_a5b4_11ea_8dfb_f018989a0d7alevel0_row70\" class=\"row_heading level0 row70\" >673</th>\n",
       "                        <td id=\"T_4d11a7c2_a5b4_11ea_8dfb_f018989a0d7arow70_col0\" class=\"data row70 col0\" >Troy</td>\n",
       "                        <td id=\"T_4d11a7c2_a5b4_11ea_8dfb_f018989a0d7arow70_col1\" class=\"data row70 col1\" >$497,409,852.00</td>\n",
       "            </tr>\n",
       "            <tr>\n",
       "                        <th id=\"T_4d11a7c2_a5b4_11ea_8dfb_f018989a0d7alevel0_row71\" class=\"row_heading level0 row71\" >745</th>\n",
       "                        <td id=\"T_4d11a7c2_a5b4_11ea_8dfb_f018989a0d7arow71_col0\" class=\"data row71 col0\" >How to Train Your Dragon</td>\n",
       "                        <td id=\"T_4d11a7c2_a5b4_11ea_8dfb_f018989a0d7arow71_col1\" class=\"data row71 col1\" >$494,878,759.00</td>\n",
       "            </tr>\n",
       "            <tr>\n",
       "                        <th id=\"T_4d11a7c2_a5b4_11ea_8dfb_f018989a0d7alevel0_row72\" class=\"row_heading level0 row72\" >494</th>\n",
       "                        <td id=\"T_4d11a7c2_a5b4_11ea_8dfb_f018989a0d7arow72_col0\" class=\"data row72 col0\" >Twister</td>\n",
       "                        <td id=\"T_4d11a7c2_a5b4_11ea_8dfb_f018989a0d7arow72_col1\" class=\"data row72 col1\" >$494,471,524.00</td>\n",
       "            </tr>\n",
       "            <tr>\n",
       "                        <th id=\"T_4d11a7c2_a5b4_11ea_8dfb_f018989a0d7alevel0_row73\" class=\"row_heading level0 row73\" >579</th>\n",
       "                        <td id=\"T_4d11a7c2_a5b4_11ea_8dfb_f018989a0d7arow73_col0\" class=\"data row73 col0\" >Toy Story 2</td>\n",
       "                        <td id=\"T_4d11a7c2_a5b4_11ea_8dfb_f018989a0d7arow73_col1\" class=\"data row73 col1\" >$485,015,179.00</td>\n",
       "            </tr>\n",
       "            <tr>\n",
       "                        <th id=\"T_4d11a7c2_a5b4_11ea_8dfb_f018989a0d7alevel0_row74\" class=\"row_heading level0 row74\" >620</th>\n",
       "                        <td id=\"T_4d11a7c2_a5b4_11ea_8dfb_f018989a0d7arow74_col0\" class=\"data row74 col0\" >Shrek</td>\n",
       "                        <td id=\"T_4d11a7c2_a5b4_11ea_8dfb_f018989a0d7arow74_col1\" class=\"data row74 col1\" >$484,409,218.00</td>\n",
       "            </tr>\n",
       "            <tr>\n",
       "                        <th id=\"T_4d11a7c2_a5b4_11ea_8dfb_f018989a0d7alevel0_row75\" class=\"row_heading level0 row75\" >538</th>\n",
       "                        <td id=\"T_4d11a7c2_a5b4_11ea_8dfb_f018989a0d7arow75_col0\" class=\"data row75 col0\" >Saving Private Ryan</td>\n",
       "                        <td id=\"T_4d11a7c2_a5b4_11ea_8dfb_f018989a0d7arow75_col1\" class=\"data row75 col1\" >$481,840,909.00</td>\n",
       "            </tr>\n",
       "            <tr>\n",
       "                        <th id=\"T_4d11a7c2_a5b4_11ea_8dfb_f018989a0d7alevel0_row76\" class=\"row_heading level0 row76\" >344</th>\n",
       "                        <td id=\"T_4d11a7c2_a5b4_11ea_8dfb_f018989a0d7arow76_col0\" class=\"data row76 col0\" >Home Alone</td>\n",
       "                        <td id=\"T_4d11a7c2_a5b4_11ea_8dfb_f018989a0d7arow76_col1\" class=\"data row76 col1\" >$476,684,675.00</td>\n",
       "            </tr>\n",
       "            <tr>\n",
       "                        <th id=\"T_4d11a7c2_a5b4_11ea_8dfb_f018989a0d7alevel0_row77\" class=\"row_heading level0 row77\" >685</th>\n",
       "                        <td id=\"T_4d11a7c2_a5b4_11ea_8dfb_f018989a0d7arow77_col0\" class=\"data row77 col0\" >Charlie and the Chocolate Factory</td>\n",
       "                        <td id=\"T_4d11a7c2_a5b4_11ea_8dfb_f018989a0d7arow77_col1\" class=\"data row77 col1\" >$474,968,763.00</td>\n",
       "            </tr>\n",
       "            <tr>\n",
       "                        <th id=\"T_4d11a7c2_a5b4_11ea_8dfb_f018989a0d7alevel0_row78\" class=\"row_heading level0 row78\" >329</th>\n",
       "                        <td id=\"T_4d11a7c2_a5b4_11ea_8dfb_f018989a0d7arow78_col0\" class=\"data row78 col0\" >Indiana Jones and the Last Crusade</td>\n",
       "                        <td id=\"T_4d11a7c2_a5b4_11ea_8dfb_f018989a0d7arow78_col1\" class=\"data row78 col1\" >$474,171,806.00</td>\n",
       "            </tr>\n",
       "            <tr>\n",
       "                        <th id=\"T_4d11a7c2_a5b4_11ea_8dfb_f018989a0d7alevel0_row79\" class=\"row_heading level0 row79\" >337</th>\n",
       "                        <td id=\"T_4d11a7c2_a5b4_11ea_8dfb_f018989a0d7arow79_col0\" class=\"data row79 col0\" >Pretty Woman</td>\n",
       "                        <td id=\"T_4d11a7c2_a5b4_11ea_8dfb_f018989a0d7arow79_col1\" class=\"data row79 col1\" >$463,406,268.00</td>\n",
       "            </tr>\n",
       "            <tr>\n",
       "                        <th id=\"T_4d11a7c2_a5b4_11ea_8dfb_f018989a0d7alevel0_row80\" class=\"row_heading level0 row80\" >693</th>\n",
       "                        <td id=\"T_4d11a7c2_a5b4_11ea_8dfb_f018989a0d7arow80_col0\" class=\"data row80 col0\" >Cars</td>\n",
       "                        <td id=\"T_4d11a7c2_a5b4_11ea_8dfb_f018989a0d7arow80_col1\" class=\"data row80 col1\" >$461,983,149.00</td>\n",
       "            </tr>\n",
       "            <tr>\n",
       "                        <th id=\"T_4d11a7c2_a5b4_11ea_8dfb_f018989a0d7alevel0_row81\" class=\"row_heading level0 row81\" >577</th>\n",
       "                        <td id=\"T_4d11a7c2_a5b4_11ea_8dfb_f018989a0d7arow81_col0\" class=\"data row81 col0\" >The Matrix</td>\n",
       "                        <td id=\"T_4d11a7c2_a5b4_11ea_8dfb_f018989a0d7arow81_col1\" class=\"data row81 col1\" >$460,379,930.00</td>\n",
       "            </tr>\n",
       "            <tr>\n",
       "                        <th id=\"T_4d11a7c2_a5b4_11ea_8dfb_f018989a0d7alevel0_row82\" class=\"row_heading level0 row82\" >590</th>\n",
       "                        <td id=\"T_4d11a7c2_a5b4_11ea_8dfb_f018989a0d7arow82_col0\" class=\"data row82 col0\" >Gladiator</td>\n",
       "                        <td id=\"T_4d11a7c2_a5b4_11ea_8dfb_f018989a0d7arow82_col1\" class=\"data row82 col1\" >$457,640,427.00</td>\n",
       "            </tr>\n",
       "            <tr>\n",
       "                        <th id=\"T_4d11a7c2_a5b4_11ea_8dfb_f018989a0d7alevel0_row83\" class=\"row_heading level0 row83\" >647</th>\n",
       "                        <td id=\"T_4d11a7c2_a5b4_11ea_8dfb_f018989a0d7arow83_col0\" class=\"data row83 col0\" >The Last Samurai</td>\n",
       "                        <td id=\"T_4d11a7c2_a5b4_11ea_8dfb_f018989a0d7arow83_col1\" class=\"data row83 col1\" >$456,758,981.00</td>\n",
       "            </tr>\n",
       "            <tr>\n",
       "                        <th id=\"T_4d11a7c2_a5b4_11ea_8dfb_f018989a0d7alevel0_row84\" class=\"row_heading level0 row84\" >624</th>\n",
       "                        <td id=\"T_4d11a7c2_a5b4_11ea_8dfb_f018989a0d7arow84_col0\" class=\"data row84 col0\" >Pearl Harbor</td>\n",
       "                        <td id=\"T_4d11a7c2_a5b4_11ea_8dfb_f018989a0d7arow84_col1\" class=\"data row84 col1\" >$449,220,945.00</td>\n",
       "            </tr>\n",
       "            <tr>\n",
       "                        <th id=\"T_4d11a7c2_a5b4_11ea_8dfb_f018989a0d7alevel0_row85\" class=\"row_heading level0 row85\" >580</th>\n",
       "                        <td id=\"T_4d11a7c2_a5b4_11ea_8dfb_f018989a0d7arow85_col0\" class=\"data row85 col0\" >Tarzan</td>\n",
       "                        <td id=\"T_4d11a7c2_a5b4_11ea_8dfb_f018989a0d7arow85_col1\" class=\"data row85 col1\" >$448,191,819.00</td>\n",
       "            </tr>\n",
       "            <tr>\n",
       "                        <th id=\"T_4d11a7c2_a5b4_11ea_8dfb_f018989a0d7alevel0_row86\" class=\"row_heading level0 row86\" >430</th>\n",
       "                        <td id=\"T_4d11a7c2_a5b4_11ea_8dfb_f018989a0d7arow86_col0\" class=\"data row86 col0\" >Mrs. Doubtfire</td>\n",
       "                        <td id=\"T_4d11a7c2_a5b4_11ea_8dfb_f018989a0d7arow86_col1\" class=\"data row86 col1\" >$441,286,195.00</td>\n",
       "            </tr>\n",
       "            <tr>\n",
       "                        <th id=\"T_4d11a7c2_a5b4_11ea_8dfb_f018989a0d7alevel0_row87\" class=\"row_heading level0 row87\" >597</th>\n",
       "                        <td id=\"T_4d11a7c2_a5b4_11ea_8dfb_f018989a0d7arow87_col0\" class=\"data row87 col0\" >Cast Away</td>\n",
       "                        <td id=\"T_4d11a7c2_a5b4_11ea_8dfb_f018989a0d7arow87_col1\" class=\"data row87 col1\" >$429,632,142.00</td>\n",
       "            </tr>\n",
       "            <tr>\n",
       "                        <th id=\"T_4d11a7c2_a5b4_11ea_8dfb_f018989a0d7alevel0_row88\" class=\"row_heading level0 row88\" >581</th>\n",
       "                        <td id=\"T_4d11a7c2_a5b4_11ea_8dfb_f018989a0d7arow88_col0\" class=\"data row88 col0\" >The Mummy</td>\n",
       "                        <td id=\"T_4d11a7c2_a5b4_11ea_8dfb_f018989a0d7arow88_col1\" class=\"data row88 col1\" >$415,933,406.00</td>\n",
       "            </tr>\n",
       "            <tr>\n",
       "                        <th id=\"T_4d11a7c2_a5b4_11ea_8dfb_f018989a0d7alevel0_row89\" class=\"row_heading level0 row89\" >328</th>\n",
       "                        <td id=\"T_4d11a7c2_a5b4_11ea_8dfb_f018989a0d7arow89_col0\" class=\"data row89 col0\" >Batman</td>\n",
       "                        <td id=\"T_4d11a7c2_a5b4_11ea_8dfb_f018989a0d7arow89_col1\" class=\"data row89 col1\" >$411,348,924.00</td>\n",
       "            </tr>\n",
       "            <tr>\n",
       "                        <th id=\"T_4d11a7c2_a5b4_11ea_8dfb_f018989a0d7alevel0_row90\" class=\"row_heading level0 row90\" >403</th>\n",
       "                        <td id=\"T_4d11a7c2_a5b4_11ea_8dfb_f018989a0d7arow90_col0\" class=\"data row90 col0\" >The Bodyguard</td>\n",
       "                        <td id=\"T_4d11a7c2_a5b4_11ea_8dfb_f018989a0d7arow90_col1\" class=\"data row90 col1\" >$411,006,740.00</td>\n",
       "            </tr>\n",
       "            <tr>\n",
       "                        <th id=\"T_4d11a7c2_a5b4_11ea_8dfb_f018989a0d7alevel0_row91\" class=\"row_heading level0 row91\" >699</th>\n",
       "                        <td id=\"T_4d11a7c2_a5b4_11ea_8dfb_f018989a0d7arow91_col0\" class=\"data row91 col0\" >Superman Returns</td>\n",
       "                        <td id=\"T_4d11a7c2_a5b4_11ea_8dfb_f018989a0d7arow91_col1\" class=\"data row91 col1\" >$391,081,192.00</td>\n",
       "            </tr>\n",
       "            <tr>\n",
       "                        <th id=\"T_4d11a7c2_a5b4_11ea_8dfb_f018989a0d7alevel0_row92\" class=\"row_heading level0 row92\" >384</th>\n",
       "                        <td id=\"T_4d11a7c2_a5b4_11ea_8dfb_f018989a0d7arow92_col0\" class=\"data row92 col0\" >Robin Hood: Prince of Thieves</td>\n",
       "                        <td id=\"T_4d11a7c2_a5b4_11ea_8dfb_f018989a0d7arow92_col1\" class=\"data row92 col1\" >$390,493,908.00</td>\n",
       "            </tr>\n",
       "            <tr>\n",
       "                        <th id=\"T_4d11a7c2_a5b4_11ea_8dfb_f018989a0d7alevel0_row93\" class=\"row_heading level0 row93\" >832</th>\n",
       "                        <td id=\"T_4d11a7c2_a5b4_11ea_8dfb_f018989a0d7arow93_col0\" class=\"data row93 col0\" >Guardians of the Galaxy Vol. 2</td>\n",
       "                        <td id=\"T_4d11a7c2_a5b4_11ea_8dfb_f018989a0d7arow93_col1\" class=\"data row93 col1\" >$389,813,101.00</td>\n",
       "            </tr>\n",
       "            <tr>\n",
       "                        <th id=\"T_4d11a7c2_a5b4_11ea_8dfb_f018989a0d7alevel0_row94\" class=\"row_heading level0 row94\" >694</th>\n",
       "                        <td id=\"T_4d11a7c2_a5b4_11ea_8dfb_f018989a0d7arow94_col0\" class=\"data row94 col0\" >Happy Feet</td>\n",
       "                        <td id=\"T_4d11a7c2_a5b4_11ea_8dfb_f018989a0d7arow94_col1\" class=\"data row94 col1\" >$384,335,608.00</td>\n",
       "            </tr>\n",
       "            <tr>\n",
       "                        <th id=\"T_4d11a7c2_a5b4_11ea_8dfb_f018989a0d7alevel0_row95\" class=\"row_heading level0 row95\" >628</th>\n",
       "                        <td id=\"T_4d11a7c2_a5b4_11ea_8dfb_f018989a0d7arow95_col0\" class=\"data row95 col0\" >Ice Age</td>\n",
       "                        <td id=\"T_4d11a7c2_a5b4_11ea_8dfb_f018989a0d7arow95_col1\" class=\"data row95 col1\" >$383,257,136.00</td>\n",
       "            </tr>\n",
       "            <tr>\n",
       "                        <th id=\"T_4d11a7c2_a5b4_11ea_8dfb_f018989a0d7alevel0_row96\" class=\"row_heading level0 row96\" >464</th>\n",
       "                        <td id=\"T_4d11a7c2_a5b4_11ea_8dfb_f018989a0d7arow96_col0\" class=\"data row96 col0\" >True Lies</td>\n",
       "                        <td id=\"T_4d11a7c2_a5b4_11ea_8dfb_f018989a0d7arow96_col1\" class=\"data row96 col1\" >$378,882,411.00</td>\n",
       "            </tr>\n",
       "            <tr>\n",
       "                        <th id=\"T_4d11a7c2_a5b4_11ea_8dfb_f018989a0d7alevel0_row97\" class=\"row_heading level0 row97\" >684</th>\n",
       "                        <td id=\"T_4d11a7c2_a5b4_11ea_8dfb_f018989a0d7arow97_col0\" class=\"data row97 col0\" >Batman Begins</td>\n",
       "                        <td id=\"T_4d11a7c2_a5b4_11ea_8dfb_f018989a0d7arow97_col1\" class=\"data row97 col1\" >$372,710,015.00</td>\n",
       "            </tr>\n",
       "            <tr>\n",
       "                        <th id=\"T_4d11a7c2_a5b4_11ea_8dfb_f018989a0d7alevel0_row98\" class=\"row_heading level0 row98\" >426</th>\n",
       "                        <td id=\"T_4d11a7c2_a5b4_11ea_8dfb_f018989a0d7arow98_col0\" class=\"data row98 col0\" >The Fugitive</td>\n",
       "                        <td id=\"T_4d11a7c2_a5b4_11ea_8dfb_f018989a0d7arow98_col1\" class=\"data row98 col1\" >$368,875,760.00</td>\n",
       "            </tr>\n",
       "            <tr>\n",
       "                        <th id=\"T_4d11a7c2_a5b4_11ea_8dfb_f018989a0d7alevel0_row99\" class=\"row_heading level0 row99\" >638</th>\n",
       "                        <td id=\"T_4d11a7c2_a5b4_11ea_8dfb_f018989a0d7arow99_col0\" class=\"data row99 col0\" >My Big Fat Greek Wedding</td>\n",
       "                        <td id=\"T_4d11a7c2_a5b4_11ea_8dfb_f018989a0d7arow99_col1\" class=\"data row99 col1\" >$368,744,044.00</td>\n",
       "            </tr>\n",
       "            <tr>\n",
       "                        <th id=\"T_4d11a7c2_a5b4_11ea_8dfb_f018989a0d7alevel0_row100\" class=\"row_heading level0 row100\" >667</th>\n",
       "                        <td id=\"T_4d11a7c2_a5b4_11ea_8dfb_f018989a0d7arow100_col0\" class=\"data row100 col0\" >Shark Tale</td>\n",
       "                        <td id=\"T_4d11a7c2_a5b4_11ea_8dfb_f018989a0d7arow100_col1\" class=\"data row100 col1\" >$367,275,019.00</td>\n",
       "            </tr>\n",
       "            <tr>\n",
       "                        <th id=\"T_4d11a7c2_a5b4_11ea_8dfb_f018989a0d7alevel0_row101\" class=\"row_heading level0 row101\" >554</th>\n",
       "                        <td id=\"T_4d11a7c2_a5b4_11ea_8dfb_f018989a0d7arow101_col0\" class=\"data row101 col0\" >A Bug's Life</td>\n",
       "                        <td id=\"T_4d11a7c2_a5b4_11ea_8dfb_f018989a0d7arow101_col1\" class=\"data row101 col1\" >$363,398,565.00</td>\n",
       "            </tr>\n",
       "            <tr>\n",
       "                        <th id=\"T_4d11a7c2_a5b4_11ea_8dfb_f018989a0d7alevel0_row102\" class=\"row_heading level0 row102\" >480</th>\n",
       "                        <td id=\"T_4d11a7c2_a5b4_11ea_8dfb_f018989a0d7arow102_col0\" class=\"data row102 col0\" >Toy Story</td>\n",
       "                        <td id=\"T_4d11a7c2_a5b4_11ea_8dfb_f018989a0d7arow102_col1\" class=\"data row102 col1\" >$361,958,736.00</td>\n",
       "            </tr>\n",
       "            <tr>\n",
       "                        <th id=\"T_4d11a7c2_a5b4_11ea_8dfb_f018989a0d7alevel0_row103\" class=\"row_heading level0 row103\" >637</th>\n",
       "                        <td id=\"T_4d11a7c2_a5b4_11ea_8dfb_f018989a0d7arow103_col0\" class=\"data row103 col0\" >Minority Report</td>\n",
       "                        <td id=\"T_4d11a7c2_a5b4_11ea_8dfb_f018989a0d7arow103_col1\" class=\"data row103 col1\" >$358,372,926.00</td>\n",
       "            </tr>\n",
       "            <tr>\n",
       "                        <th id=\"T_4d11a7c2_a5b4_11ea_8dfb_f018989a0d7alevel0_row104\" class=\"row_heading level0 row104\" >815</th>\n",
       "                        <td id=\"T_4d11a7c2_a5b4_11ea_8dfb_f018989a0d7arow104_col0\" class=\"data row104 col0\" >Inside Out</td>\n",
       "                        <td id=\"T_4d11a7c2_a5b4_11ea_8dfb_f018989a0d7arow104_col1\" class=\"data row104 col1\" >$356,461,711.00</td>\n",
       "            </tr>\n",
       "            <tr>\n",
       "                        <th id=\"T_4d11a7c2_a5b4_11ea_8dfb_f018989a0d7alevel0_row105\" class=\"row_heading level0 row105\" >567</th>\n",
       "                        <td id=\"T_4d11a7c2_a5b4_11ea_8dfb_f018989a0d7arow105_col0\" class=\"data row105 col0\" >American Beauty</td>\n",
       "                        <td id=\"T_4d11a7c2_a5b4_11ea_8dfb_f018989a0d7arow105_col1\" class=\"data row105 col1\" >$356,296,601.00</td>\n",
       "            </tr>\n",
       "            <tr>\n",
       "                        <th id=\"T_4d11a7c2_a5b4_11ea_8dfb_f018989a0d7alevel0_row106\" class=\"row_heading level0 row106\" >469</th>\n",
       "                        <td id=\"T_4d11a7c2_a5b4_11ea_8dfb_f018989a0d7arow106_col0\" class=\"data row106 col0\" >Apollo 13</td>\n",
       "                        <td id=\"T_4d11a7c2_a5b4_11ea_8dfb_f018989a0d7arow106_col1\" class=\"data row106 col1\" >$353,471,312.00</td>\n",
       "            </tr>\n",
       "            <tr>\n",
       "                        <th id=\"T_4d11a7c2_a5b4_11ea_8dfb_f018989a0d7alevel0_row107\" class=\"row_heading level0 row107\" >394</th>\n",
       "                        <td id=\"T_4d11a7c2_a5b4_11ea_8dfb_f018989a0d7arow107_col0\" class=\"data row107 col0\" >Basic Instinct</td>\n",
       "                        <td id=\"T_4d11a7c2_a5b4_11ea_8dfb_f018989a0d7arow107_col1\" class=\"data row107 col1\" >$352,927,224.00</td>\n",
       "            </tr>\n",
       "            <tr>\n",
       "                        <th id=\"T_4d11a7c2_a5b4_11ea_8dfb_f018989a0d7alevel0_row108\" class=\"row_heading level0 row108\" >380</th>\n",
       "                        <td id=\"T_4d11a7c2_a5b4_11ea_8dfb_f018989a0d7arow108_col0\" class=\"data row108 col0\" >Beauty and the Beast</td>\n",
       "                        <td id=\"T_4d11a7c2_a5b4_11ea_8dfb_f018989a0d7arow108_col1\" class=\"data row108 col1\" >$351,863,363.00</td>\n",
       "            </tr>\n",
       "            <tr>\n",
       "                        <th id=\"T_4d11a7c2_a5b4_11ea_8dfb_f018989a0d7alevel0_row109\" class=\"row_heading level0 row109\" >463</th>\n",
       "                        <td id=\"T_4d11a7c2_a5b4_11ea_8dfb_f018989a0d7arow109_col0\" class=\"data row109 col0\" >The Mask</td>\n",
       "                        <td id=\"T_4d11a7c2_a5b4_11ea_8dfb_f018989a0d7arow109_col1\" class=\"data row109 col1\" >$351,583,407.00</td>\n",
       "            </tr>\n",
       "            <tr>\n",
       "                        <th id=\"T_4d11a7c2_a5b4_11ea_8dfb_f018989a0d7alevel0_row110\" class=\"row_heading level0 row110\" >454</th>\n",
       "                        <td id=\"T_4d11a7c2_a5b4_11ea_8dfb_f018989a0d7arow110_col0\" class=\"data row110 col0\" >Speed</td>\n",
       "                        <td id=\"T_4d11a7c2_a5b4_11ea_8dfb_f018989a0d7arow110_col1\" class=\"data row110 col1\" >$350,448,145.00</td>\n",
       "            </tr>\n",
       "            <tr>\n",
       "                        <th id=\"T_4d11a7c2_a5b4_11ea_8dfb_f018989a0d7alevel0_row111\" class=\"row_heading level0 row111\" >478</th>\n",
       "                        <td id=\"T_4d11a7c2_a5b4_11ea_8dfb_f018989a0d7arow111_col0\" class=\"data row111 col0\" >Pocahontas</td>\n",
       "                        <td id=\"T_4d11a7c2_a5b4_11ea_8dfb_f018989a0d7arow111_col1\" class=\"data row111 col1\" >$346,079,773.00</td>\n",
       "            </tr>\n",
       "            <tr>\n",
       "                        <th id=\"T_4d11a7c2_a5b4_11ea_8dfb_f018989a0d7alevel0_row112\" class=\"row_heading level0 row112\" >823</th>\n",
       "                        <td id=\"T_4d11a7c2_a5b4_11ea_8dfb_f018989a0d7arow112_col0\" class=\"data row112 col0\" >Zootopia</td>\n",
       "                        <td id=\"T_4d11a7c2_a5b4_11ea_8dfb_f018989a0d7arow112_col1\" class=\"data row112 col1\" >$341,268,248.00</td>\n",
       "            </tr>\n",
       "            <tr>\n",
       "                        <th id=\"T_4d11a7c2_a5b4_11ea_8dfb_f018989a0d7alevel0_row113\" class=\"row_heading level0 row113\" >474</th>\n",
       "                        <td id=\"T_4d11a7c2_a5b4_11ea_8dfb_f018989a0d7arow113_col0\" class=\"data row113 col0\" >Batman Forever</td>\n",
       "                        <td id=\"T_4d11a7c2_a5b4_11ea_8dfb_f018989a0d7arow113_col1\" class=\"data row113 col1\" >$336,529,144.00</td>\n",
       "            </tr>\n",
       "            <tr>\n",
       "                        <th id=\"T_4d11a7c2_a5b4_11ea_8dfb_f018989a0d7alevel0_row114\" class=\"row_heading level0 row114\" >493</th>\n",
       "                        <td id=\"T_4d11a7c2_a5b4_11ea_8dfb_f018989a0d7arow114_col0\" class=\"data row114 col0\" >The Rock</td>\n",
       "                        <td id=\"T_4d11a7c2_a5b4_11ea_8dfb_f018989a0d7arow114_col1\" class=\"data row114 col1\" >$335,062,621.00</td>\n",
       "            </tr>\n",
       "            <tr>\n",
       "                        <th id=\"T_4d11a7c2_a5b4_11ea_8dfb_f018989a0d7alevel0_row115\" class=\"row_heading level0 row115\" >336</th>\n",
       "                        <td id=\"T_4d11a7c2_a5b4_11ea_8dfb_f018989a0d7arow115_col0\" class=\"data row115 col0\" >Back to the Future Part II</td>\n",
       "                        <td id=\"T_4d11a7c2_a5b4_11ea_8dfb_f018989a0d7arow115_col1\" class=\"data row115 col1\" >$331,950,002.00</td>\n",
       "            </tr>\n",
       "            <tr>\n",
       "                        <th id=\"T_4d11a7c2_a5b4_11ea_8dfb_f018989a0d7alevel0_row116\" class=\"row_heading level0 row116\" >599</th>\n",
       "                        <td id=\"T_4d11a7c2_a5b4_11ea_8dfb_f018989a0d7arow116_col0\" class=\"data row116 col0\" >Meet the Parents</td>\n",
       "                        <td id=\"T_4d11a7c2_a5b4_11ea_8dfb_f018989a0d7arow116_col1\" class=\"data row116 col1\" >$330,444,045.00</td>\n",
       "            </tr>\n",
       "            <tr>\n",
       "                        <th id=\"T_4d11a7c2_a5b4_11ea_8dfb_f018989a0d7alevel0_row117\" class=\"row_heading level0 row117\" >601</th>\n",
       "                        <td id=\"T_4d11a7c2_a5b4_11ea_8dfb_f018989a0d7arow117_col0\" class=\"data row117 col0\" >The Perfect Storm</td>\n",
       "                        <td id=\"T_4d11a7c2_a5b4_11ea_8dfb_f018989a0d7arow117_col1\" class=\"data row117 col1\" >$328,718,434.00</td>\n",
       "            </tr>\n",
       "            <tr>\n",
       "                        <th id=\"T_4d11a7c2_a5b4_11ea_8dfb_f018989a0d7alevel0_row118\" class=\"row_heading level0 row118\" >477</th>\n",
       "                        <td id=\"T_4d11a7c2_a5b4_11ea_8dfb_f018989a0d7arow118_col0\" class=\"data row118 col0\" >Seven</td>\n",
       "                        <td id=\"T_4d11a7c2_a5b4_11ea_8dfb_f018989a0d7arow118_col1\" class=\"data row118 col1\" >$327,311,859.00</td>\n",
       "            </tr>\n",
       "            <tr>\n",
       "                        <th id=\"T_4d11a7c2_a5b4_11ea_8dfb_f018989a0d7alevel0_row119\" class=\"row_heading level0 row119\" >490</th>\n",
       "                        <td id=\"T_4d11a7c2_a5b4_11ea_8dfb_f018989a0d7arow119_col0\" class=\"data row119 col0\" >The Hunchback of Notre Dame</td>\n",
       "                        <td id=\"T_4d11a7c2_a5b4_11ea_8dfb_f018989a0d7arow119_col1\" class=\"data row119 col1\" >$325,338,851.00</td>\n",
       "            </tr>\n",
       "            <tr>\n",
       "                        <th id=\"T_4d11a7c2_a5b4_11ea_8dfb_f018989a0d7alevel0_row120\" class=\"row_heading level0 row120\" >824</th>\n",
       "                        <td id=\"T_4d11a7c2_a5b4_11ea_8dfb_f018989a0d7arow120_col0\" class=\"data row120 col0\" >Suicide Squad</td>\n",
       "                        <td id=\"T_4d11a7c2_a5b4_11ea_8dfb_f018989a0d7arow120_col1\" class=\"data row120 col1\" >$325,100,054.00</td>\n",
       "            </tr>\n",
       "            <tr>\n",
       "                        <th id=\"T_4d11a7c2_a5b4_11ea_8dfb_f018989a0d7alevel0_row121\" class=\"row_heading level0 row121\" >418</th>\n",
       "                        <td id=\"T_4d11a7c2_a5b4_11ea_8dfb_f018989a0d7arow121_col0\" class=\"data row121 col0\" >Schindler's List</td>\n",
       "                        <td id=\"T_4d11a7c2_a5b4_11ea_8dfb_f018989a0d7arow121_col1\" class=\"data row121 col1\" >$321,306,305.00</td>\n",
       "            </tr>\n",
       "            <tr>\n",
       "                        <th id=\"T_4d11a7c2_a5b4_11ea_8dfb_f018989a0d7alevel0_row122\" class=\"row_heading level0 row122\" >526</th>\n",
       "                        <td id=\"T_4d11a7c2_a5b4_11ea_8dfb_f018989a0d7arow122_col0\" class=\"data row122 col0\" >Air Force One</td>\n",
       "                        <td id=\"T_4d11a7c2_a5b4_11ea_8dfb_f018989a0d7arow122_col1\" class=\"data row122 col1\" >$315,156,409.00</td>\n",
       "            </tr>\n",
       "            <tr>\n",
       "                        <th id=\"T_4d11a7c2_a5b4_11ea_8dfb_f018989a0d7alevel0_row123\" class=\"row_heading level0 row123\" >503</th>\n",
       "                        <td id=\"T_4d11a7c2_a5b4_11ea_8dfb_f018989a0d7arow123_col0\" class=\"data row123 col0\" >As Good as It Gets</td>\n",
       "                        <td id=\"T_4d11a7c2_a5b4_11ea_8dfb_f018989a0d7arow123_col1\" class=\"data row123 col1\" >$314,178,011.00</td>\n",
       "            </tr>\n",
       "            <tr>\n",
       "                        <th id=\"T_4d11a7c2_a5b4_11ea_8dfb_f018989a0d7alevel0_row124\" class=\"row_heading level0 row124\" >578</th>\n",
       "                        <td id=\"T_4d11a7c2_a5b4_11ea_8dfb_f018989a0d7arow124_col0\" class=\"data row124 col0\" >Austin Powers: The Spy Who Shagged Me</td>\n",
       "                        <td id=\"T_4d11a7c2_a5b4_11ea_8dfb_f018989a0d7arow124_col1\" class=\"data row124 col1\" >$312,016,858.00</td>\n",
       "            </tr>\n",
       "            <tr>\n",
       "                        <th id=\"T_4d11a7c2_a5b4_11ea_8dfb_f018989a0d7alevel0_row125\" class=\"row_heading level0 row125\" >63</th>\n",
       "                        <td id=\"T_4d11a7c2_a5b4_11ea_8dfb_f018989a0d7arow125_col0\" class=\"data row125 col0\" >Star Wars</td>\n",
       "                        <td id=\"T_4d11a7c2_a5b4_11ea_8dfb_f018989a0d7arow125_col1\" class=\"data row125 col1\" >$307,263,857.00</td>\n",
       "            </tr>\n",
       "            <tr>\n",
       "                        <th id=\"T_4d11a7c2_a5b4_11ea_8dfb_f018989a0d7alevel0_row126\" class=\"row_heading level0 row126\" >555</th>\n",
       "                        <td id=\"T_4d11a7c2_a5b4_11ea_8dfb_f018989a0d7arow126_col0\" class=\"data row126 col0\" >Mulan</td>\n",
       "                        <td id=\"T_4d11a7c2_a5b4_11ea_8dfb_f018989a0d7arow126_col1\" class=\"data row126 col1\" >$304,320,254.00</td>\n",
       "            </tr>\n",
       "            <tr>\n",
       "                        <th id=\"T_4d11a7c2_a5b4_11ea_8dfb_f018989a0d7alevel0_row127\" class=\"row_heading level0 row127\" >370</th>\n",
       "                        <td id=\"T_4d11a7c2_a5b4_11ea_8dfb_f018989a0d7arow127_col0\" class=\"data row127 col0\" >Hook</td>\n",
       "                        <td id=\"T_4d11a7c2_a5b4_11ea_8dfb_f018989a0d7arow127_col1\" class=\"data row127 col1\" >$300,854,823.00</td>\n",
       "            </tr>\n",
       "            <tr>\n",
       "                        <th id=\"T_4d11a7c2_a5b4_11ea_8dfb_f018989a0d7alevel0_row128\" class=\"row_heading level0 row128\" >527</th>\n",
       "                        <td id=\"T_4d11a7c2_a5b4_11ea_8dfb_f018989a0d7arow128_col0\" class=\"data row128 col0\" >My Best Friend's Wedding</td>\n",
       "                        <td id=\"T_4d11a7c2_a5b4_11ea_8dfb_f018989a0d7arow128_col1\" class=\"data row128 col1\" >$299,288,605.00</td>\n",
       "            </tr>\n",
       "            <tr>\n",
       "                        <th id=\"T_4d11a7c2_a5b4_11ea_8dfb_f018989a0d7alevel0_row129\" class=\"row_heading level0 row129\" >546</th>\n",
       "                        <td id=\"T_4d11a7c2_a5b4_11ea_8dfb_f018989a0d7arow129_col0\" class=\"data row129 col0\" >Shakespeare in Love</td>\n",
       "                        <td id=\"T_4d11a7c2_a5b4_11ea_8dfb_f018989a0d7arow129_col1\" class=\"data row129 col1\" >$289,317,794.00</td>\n",
       "            </tr>\n",
       "            <tr>\n",
       "                        <th id=\"T_4d11a7c2_a5b4_11ea_8dfb_f018989a0d7alevel0_row130\" class=\"row_heading level0 row130\" >489</th>\n",
       "                        <td id=\"T_4d11a7c2_a5b4_11ea_8dfb_f018989a0d7arow130_col0\" class=\"data row130 col0\" >The Nutty Professor</td>\n",
       "                        <td id=\"T_4d11a7c2_a5b4_11ea_8dfb_f018989a0d7arow130_col1\" class=\"data row130 col1\" >$273,961,019.00</td>\n",
       "            </tr>\n",
       "            <tr>\n",
       "                        <th id=\"T_4d11a7c2_a5b4_11ea_8dfb_f018989a0d7alevel0_row131\" class=\"row_heading level0 row131\" >488</th>\n",
       "                        <td id=\"T_4d11a7c2_a5b4_11ea_8dfb_f018989a0d7arow131_col0\" class=\"data row131 col0\" >Jerry Maguire</td>\n",
       "                        <td id=\"T_4d11a7c2_a5b4_11ea_8dfb_f018989a0d7arow131_col1\" class=\"data row131 col1\" >$273,552,592.00</td>\n",
       "            </tr>\n",
       "            <tr>\n",
       "                        <th id=\"T_4d11a7c2_a5b4_11ea_8dfb_f018989a0d7alevel0_row132\" class=\"row_heading level0 row132\" >355</th>\n",
       "                        <td id=\"T_4d11a7c2_a5b4_11ea_8dfb_f018989a0d7arow132_col0\" class=\"data row132 col0\" >The Silence of the Lambs</td>\n",
       "                        <td id=\"T_4d11a7c2_a5b4_11ea_8dfb_f018989a0d7arow132_col1\" class=\"data row132 col1\" >$272,742,922.00</td>\n",
       "            </tr>\n",
       "            <tr>\n",
       "                        <th id=\"T_4d11a7c2_a5b4_11ea_8dfb_f018989a0d7alevel0_row133\" class=\"row_heading level0 row133\" >825</th>\n",
       "                        <td id=\"T_4d11a7c2_a5b4_11ea_8dfb_f018989a0d7arow133_col0\" class=\"data row133 col0\" >Sing</td>\n",
       "                        <td id=\"T_4d11a7c2_a5b4_11ea_8dfb_f018989a0d7arow133_col1\" class=\"data row133 col1\" >$270,395,425.00</td>\n",
       "            </tr>\n",
       "            <tr>\n",
       "                        <th id=\"T_4d11a7c2_a5b4_11ea_8dfb_f018989a0d7alevel0_row134\" class=\"row_heading level0 row134\" >428</th>\n",
       "                        <td id=\"T_4d11a7c2_a5b4_11ea_8dfb_f018989a0d7arow134_col0\" class=\"data row134 col0\" >The Firm</td>\n",
       "                        <td id=\"T_4d11a7c2_a5b4_11ea_8dfb_f018989a0d7arow134_col1\" class=\"data row134 col1\" >$270,248,367.00</td>\n",
       "            </tr>\n",
       "            <tr>\n",
       "                        <th id=\"T_4d11a7c2_a5b4_11ea_8dfb_f018989a0d7alevel0_row135\" class=\"row_heading level0 row135\" >395</th>\n",
       "                        <td id=\"T_4d11a7c2_a5b4_11ea_8dfb_f018989a0d7arow135_col0\" class=\"data row135 col0\" >Batman Returns</td>\n",
       "                        <td id=\"T_4d11a7c2_a5b4_11ea_8dfb_f018989a0d7arow135_col1\" class=\"data row135 col1\" >$266,822,354.00</td>\n",
       "            </tr>\n",
       "            <tr>\n",
       "                        <th id=\"T_4d11a7c2_a5b4_11ea_8dfb_f018989a0d7alevel0_row136\" class=\"row_heading level0 row136\" >483</th>\n",
       "                        <td id=\"T_4d11a7c2_a5b4_11ea_8dfb_f018989a0d7arow136_col0\" class=\"data row136 col0\" >Waterworld</td>\n",
       "                        <td id=\"T_4d11a7c2_a5b4_11ea_8dfb_f018989a0d7arow136_col1\" class=\"data row136 col1\" >$264,218,220.00</td>\n",
       "            </tr>\n",
       "            <tr>\n",
       "                        <th id=\"T_4d11a7c2_a5b4_11ea_8dfb_f018989a0d7alevel0_row137\" class=\"row_heading level0 row137\" >528</th>\n",
       "                        <td id=\"T_4d11a7c2_a5b4_11ea_8dfb_f018989a0d7arow137_col0\" class=\"data row137 col0\" >The Fifth Element</td>\n",
       "                        <td id=\"T_4d11a7c2_a5b4_11ea_8dfb_f018989a0d7arow137_col1\" class=\"data row137 col1\" >$263,920,180.00</td>\n",
       "            </tr>\n",
       "            <tr>\n",
       "                        <th id=\"T_4d11a7c2_a5b4_11ea_8dfb_f018989a0d7alevel0_row138\" class=\"row_heading level0 row138\" >347</th>\n",
       "                        <td id=\"T_4d11a7c2_a5b4_11ea_8dfb_f018989a0d7arow138_col0\" class=\"data row138 col0\" >Total Recall</td>\n",
       "                        <td id=\"T_4d11a7c2_a5b4_11ea_8dfb_f018989a0d7arow138_col1\" class=\"data row138 col1\" >$261,336,002.00</td>\n",
       "            </tr>\n",
       "            <tr>\n",
       "                        <th id=\"T_4d11a7c2_a5b4_11ea_8dfb_f018989a0d7alevel0_row139\" class=\"row_heading level0 row139\" >521</th>\n",
       "                        <td id=\"T_4d11a7c2_a5b4_11ea_8dfb_f018989a0d7arow139_col0\" class=\"data row139 col0\" >The Full Monty</td>\n",
       "                        <td id=\"T_4d11a7c2_a5b4_11ea_8dfb_f018989a0d7arow139_col1\" class=\"data row139 col1\" >$257,850,122.00</td>\n",
       "            </tr>\n",
       "            <tr>\n",
       "                        <th id=\"T_4d11a7c2_a5b4_11ea_8dfb_f018989a0d7alevel0_row140\" class=\"row_heading level0 row140\" >433</th>\n",
       "                        <td id=\"T_4d11a7c2_a5b4_11ea_8dfb_f018989a0d7arow140_col0\" class=\"data row140 col0\" >Cliffhanger</td>\n",
       "                        <td id=\"T_4d11a7c2_a5b4_11ea_8dfb_f018989a0d7arow140_col1\" class=\"data row140 col1\" >$255,000,211.00</td>\n",
       "            </tr>\n",
       "            <tr>\n",
       "                        <th id=\"T_4d11a7c2_a5b4_11ea_8dfb_f018989a0d7alevel0_row141\" class=\"row_heading level0 row141\" >460</th>\n",
       "                        <td id=\"T_4d11a7c2_a5b4_11ea_8dfb_f018989a0d7arow141_col0\" class=\"data row141 col0\" >Four Weddings and a Funeral</td>\n",
       "                        <td id=\"T_4d11a7c2_a5b4_11ea_8dfb_f018989a0d7arow141_col1\" class=\"data row141 col1\" >$245,700,832.00</td>\n",
       "            </tr>\n",
       "            <tr>\n",
       "                        <th id=\"T_4d11a7c2_a5b4_11ea_8dfb_f018989a0d7alevel0_row142\" class=\"row_heading level0 row142\" >388</th>\n",
       "                        <td id=\"T_4d11a7c2_a5b4_11ea_8dfb_f018989a0d7arow142_col0\" class=\"data row142 col0\" >A Few Good Men</td>\n",
       "                        <td id=\"T_4d11a7c2_a5b4_11ea_8dfb_f018989a0d7arow142_col1\" class=\"data row142 col1\" >$243,240,178.00</td>\n",
       "            </tr>\n",
       "            <tr>\n",
       "                        <th id=\"T_4d11a7c2_a5b4_11ea_8dfb_f018989a0d7alevel0_row143\" class=\"row_heading level0 row143\" >496</th>\n",
       "                        <td id=\"T_4d11a7c2_a5b4_11ea_8dfb_f018989a0d7arow143_col0\" class=\"data row143 col0\" >Eraser</td>\n",
       "                        <td id=\"T_4d11a7c2_a5b4_11ea_8dfb_f018989a0d7arow143_col1\" class=\"data row143 col1\" >$242,295,562.00</td>\n",
       "            </tr>\n",
       "            <tr>\n",
       "                        <th id=\"T_4d11a7c2_a5b4_11ea_8dfb_f018989a0d7alevel0_row144\" class=\"row_heading level0 row144\" >220</th>\n",
       "                        <td id=\"T_4d11a7c2_a5b4_11ea_8dfb_f018989a0d7arow144_col0\" class=\"data row144 col0\" >Ghostbusters</td>\n",
       "                        <td id=\"T_4d11a7c2_a5b4_11ea_8dfb_f018989a0d7arow144_col1\" class=\"data row144 col1\" >$238,632,124.00</td>\n",
       "            </tr>\n",
       "            <tr>\n",
       "                        <th id=\"T_4d11a7c2_a5b4_11ea_8dfb_f018989a0d7alevel0_row145\" class=\"row_heading level0 row145\" >325</th>\n",
       "                        <td id=\"T_4d11a7c2_a5b4_11ea_8dfb_f018989a0d7arow145_col0\" class=\"data row145 col0\" >Dead Poets Society</td>\n",
       "                        <td id=\"T_4d11a7c2_a5b4_11ea_8dfb_f018989a0d7arow145_col1\" class=\"data row145 col1\" >$235,860,116.00</td>\n",
       "            </tr>\n",
       "            <tr>\n",
       "                        <th id=\"T_4d11a7c2_a5b4_11ea_8dfb_f018989a0d7alevel0_row146\" class=\"row_heading level0 row146\" >221</th>\n",
       "                        <td id=\"T_4d11a7c2_a5b4_11ea_8dfb_f018989a0d7arow146_col0\" class=\"data row146 col0\" >Beverly Hills Cop</td>\n",
       "                        <td id=\"T_4d11a7c2_a5b4_11ea_8dfb_f018989a0d7arow146_col1\" class=\"data row146 col1\" >$234,760,478.00</td>\n",
       "            </tr>\n",
       "            <tr>\n",
       "                        <th id=\"T_4d11a7c2_a5b4_11ea_8dfb_f018989a0d7alevel0_row147\" class=\"row_heading level0 row147\" >808</th>\n",
       "                        <td id=\"T_4d11a7c2_a5b4_11ea_8dfb_f018989a0d7arow147_col0\" class=\"data row147 col0\" >The Martian</td>\n",
       "                        <td id=\"T_4d11a7c2_a5b4_11ea_8dfb_f018989a0d7arow147_col1\" class=\"data row147 col1\" >$228,433,663.00</td>\n",
       "            </tr>\n",
       "            <tr>\n",
       "                        <th id=\"T_4d11a7c2_a5b4_11ea_8dfb_f018989a0d7alevel0_row148\" class=\"row_heading level0 row148\" >335</th>\n",
       "                        <td id=\"T_4d11a7c2_a5b4_11ea_8dfb_f018989a0d7arow148_col0\" class=\"data row148 col0\" >Lethal Weapon 2</td>\n",
       "                        <td id=\"T_4d11a7c2_a5b4_11ea_8dfb_f018989a0d7arow148_col1\" class=\"data row148 col1\" >$227,853,986.00</td>\n",
       "            </tr>\n",
       "            <tr>\n",
       "                        <th id=\"T_4d11a7c2_a5b4_11ea_8dfb_f018989a0d7alevel0_row149\" class=\"row_heading level0 row149\" >432</th>\n",
       "                        <td id=\"T_4d11a7c2_a5b4_11ea_8dfb_f018989a0d7arow149_col0\" class=\"data row149 col0\" >Sleepless in Seattle</td>\n",
       "                        <td id=\"T_4d11a7c2_a5b4_11ea_8dfb_f018989a0d7arow149_col1\" class=\"data row149 col1\" >$227,799,884.00</td>\n",
       "            </tr>\n",
       "            <tr>\n",
       "                        <th id=\"T_4d11a7c2_a5b4_11ea_8dfb_f018989a0d7alevel0_row150\" class=\"row_heading level0 row150\" >461</th>\n",
       "                        <td id=\"T_4d11a7c2_a5b4_11ea_8dfb_f018989a0d7arow150_col0\" class=\"data row150 col0\" >Clear and Present Danger</td>\n",
       "                        <td id=\"T_4d11a7c2_a5b4_11ea_8dfb_f018989a0d7arow150_col1\" class=\"data row150 col1\" >$215,887,717.00</td>\n",
       "            </tr>\n",
       "            <tr>\n",
       "                        <th id=\"T_4d11a7c2_a5b4_11ea_8dfb_f018989a0d7alevel0_row151\" class=\"row_heading level0 row151\" >392</th>\n",
       "                        <td id=\"T_4d11a7c2_a5b4_11ea_8dfb_f018989a0d7arow151_col0\" class=\"data row151 col0\" >Bram Stoker's Dracula</td>\n",
       "                        <td id=\"T_4d11a7c2_a5b4_11ea_8dfb_f018989a0d7arow151_col1\" class=\"data row151 col1\" >$215,862,692.00</td>\n",
       "            </tr>\n",
       "            <tr>\n",
       "                        <th id=\"T_4d11a7c2_a5b4_11ea_8dfb_f018989a0d7alevel0_row152\" class=\"row_heading level0 row152\" >842</th>\n",
       "                        <td id=\"T_4d11a7c2_a5b4_11ea_8dfb_f018989a0d7arow152_col0\" class=\"data row152 col0\" >Solo: A Star Wars Story</td>\n",
       "                        <td id=\"T_4d11a7c2_a5b4_11ea_8dfb_f018989a0d7arow152_col1\" class=\"data row152 col1\" >$213,767,512.00</td>\n",
       "            </tr>\n",
       "            <tr>\n",
       "                        <th id=\"T_4d11a7c2_a5b4_11ea_8dfb_f018989a0d7alevel0_row153\" class=\"row_heading level0 row153\" >161</th>\n",
       "                        <td id=\"T_4d11a7c2_a5b4_11ea_8dfb_f018989a0d7arow153_col0\" class=\"data row153 col0\" >Raiders of the Lost Ark</td>\n",
       "                        <td id=\"T_4d11a7c2_a5b4_11ea_8dfb_f018989a0d7arow153_col1\" class=\"data row153 col1\" >$212,222,025.00</td>\n",
       "            </tr>\n",
       "            <tr>\n",
       "                        <th id=\"T_4d11a7c2_a5b4_11ea_8dfb_f018989a0d7alevel0_row154\" class=\"row_heading level0 row154\" >246</th>\n",
       "                        <td id=\"T_4d11a7c2_a5b4_11ea_8dfb_f018989a0d7arow154_col0\" class=\"data row154 col0\" >Back to the Future</td>\n",
       "                        <td id=\"T_4d11a7c2_a5b4_11ea_8dfb_f018989a0d7arow154_col1\" class=\"data row154 col1\" >$210,609,762.00</td>\n",
       "            </tr>\n",
       "            <tr>\n",
       "                        <th id=\"T_4d11a7c2_a5b4_11ea_8dfb_f018989a0d7alevel0_row155\" class=\"row_heading level0 row155\" >407</th>\n",
       "                        <td id=\"T_4d11a7c2_a5b4_11ea_8dfb_f018989a0d7arow155_col0\" class=\"data row155 col0\" >Philadelphia</td>\n",
       "                        <td id=\"T_4d11a7c2_a5b4_11ea_8dfb_f018989a0d7arow155_col1\" class=\"data row155 col1\" >$206,678,440.00</td>\n",
       "            </tr>\n",
       "            <tr>\n",
       "                        <th id=\"T_4d11a7c2_a5b4_11ea_8dfb_f018989a0d7alevel0_row156\" class=\"row_heading level0 row156\" >364</th>\n",
       "                        <td id=\"T_4d11a7c2_a5b4_11ea_8dfb_f018989a0d7arow156_col0\" class=\"data row156 col0\" >JFK</td>\n",
       "                        <td id=\"T_4d11a7c2_a5b4_11ea_8dfb_f018989a0d7arow156_col1\" class=\"data row156 col1\" >$205,405,498.00</td>\n",
       "            </tr>\n",
       "            <tr>\n",
       "                        <th id=\"T_4d11a7c2_a5b4_11ea_8dfb_f018989a0d7alevel0_row157\" class=\"row_heading level0 row157\" >816</th>\n",
       "                        <td id=\"T_4d11a7c2_a5b4_11ea_8dfb_f018989a0d7arow157_col0\" class=\"data row157 col0\" >Cinderella</td>\n",
       "                        <td id=\"T_4d11a7c2_a5b4_11ea_8dfb_f018989a0d7arow157_col1\" class=\"data row157 col1\" >$201,151,353.00</td>\n",
       "            </tr>\n",
       "            <tr>\n",
       "                        <th id=\"T_4d11a7c2_a5b4_11ea_8dfb_f018989a0d7alevel0_row158\" class=\"row_heading level0 row158\" >822</th>\n",
       "                        <td id=\"T_4d11a7c2_a5b4_11ea_8dfb_f018989a0d7arow158_col0\" class=\"data row158 col0\" >Spectre</td>\n",
       "                        <td id=\"T_4d11a7c2_a5b4_11ea_8dfb_f018989a0d7arow158_col1\" class=\"data row158 col1\" >$200,074,609.00</td>\n",
       "            </tr>\n",
       "            <tr>\n",
       "                        <th id=\"T_4d11a7c2_a5b4_11ea_8dfb_f018989a0d7alevel0_row159\" class=\"row_heading level0 row159\" >377</th>\n",
       "                        <td id=\"T_4d11a7c2_a5b4_11ea_8dfb_f018989a0d7arow159_col0\" class=\"data row159 col0\" >The Addams Family</td>\n",
       "                        <td id=\"T_4d11a7c2_a5b4_11ea_8dfb_f018989a0d7arow159_col1\" class=\"data row159 col1\" >$191,502,426.00</td>\n",
       "            </tr>\n",
       "            <tr>\n",
       "                        <th id=\"T_4d11a7c2_a5b4_11ea_8dfb_f018989a0d7alevel0_row160\" class=\"row_heading level0 row160\" >333</th>\n",
       "                        <td id=\"T_4d11a7c2_a5b4_11ea_8dfb_f018989a0d7arow160_col0\" class=\"data row160 col0\" >The Little Mermaid</td>\n",
       "                        <td id=\"T_4d11a7c2_a5b4_11ea_8dfb_f018989a0d7arow160_col1\" class=\"data row160 col1\" >$184,155,863.00</td>\n",
       "            </tr>\n",
       "            <tr>\n",
       "                        <th id=\"T_4d11a7c2_a5b4_11ea_8dfb_f018989a0d7alevel0_row161\" class=\"row_heading level0 row161\" >349</th>\n",
       "                        <td id=\"T_4d11a7c2_a5b4_11ea_8dfb_f018989a0d7arow161_col0\" class=\"data row161 col0\" >Cape Fear</td>\n",
       "                        <td id=\"T_4d11a7c2_a5b4_11ea_8dfb_f018989a0d7arow161_col1\" class=\"data row161 col1\" >$182,291,969.00</td>\n",
       "            </tr>\n",
       "            <tr>\n",
       "                        <th id=\"T_4d11a7c2_a5b4_11ea_8dfb_f018989a0d7alevel0_row162\" class=\"row_heading level0 row162\" >215</th>\n",
       "                        <td id=\"T_4d11a7c2_a5b4_11ea_8dfb_f018989a0d7arow162_col0\" class=\"data row162 col0\" >Indiana Jones and the Temple of Doom</td>\n",
       "                        <td id=\"T_4d11a7c2_a5b4_11ea_8dfb_f018989a0d7arow162_col1\" class=\"data row162 col1\" >$179,870,271.00</td>\n",
       "            </tr>\n",
       "            <tr>\n",
       "                        <th id=\"T_4d11a7c2_a5b4_11ea_8dfb_f018989a0d7alevel0_row163\" class=\"row_heading level0 row163\" >365</th>\n",
       "                        <td id=\"T_4d11a7c2_a5b4_11ea_8dfb_f018989a0d7arow163_col0\" class=\"data row163 col0\" >City Slickers</td>\n",
       "                        <td id=\"T_4d11a7c2_a5b4_11ea_8dfb_f018989a0d7arow163_col1\" class=\"data row163 col1\" >$179,033,791.00</td>\n",
       "            </tr>\n",
       "            <tr>\n",
       "                        <th id=\"T_4d11a7c2_a5b4_11ea_8dfb_f018989a0d7alevel0_row164\" class=\"row_heading level0 row164\" >174</th>\n",
       "                        <td id=\"T_4d11a7c2_a5b4_11ea_8dfb_f018989a0d7arow164_col0\" class=\"data row164 col0\" >Tootsie</td>\n",
       "                        <td id=\"T_4d11a7c2_a5b4_11ea_8dfb_f018989a0d7arow164_col1\" class=\"data row164 col1\" >$177,200,000.00</td>\n",
       "            </tr>\n",
       "            <tr>\n",
       "                        <th id=\"T_4d11a7c2_a5b4_11ea_8dfb_f018989a0d7alevel0_row165\" class=\"row_heading level0 row165\" >270</th>\n",
       "                        <td id=\"T_4d11a7c2_a5b4_11ea_8dfb_f018989a0d7arow165_col0\" class=\"data row165 col0\" >Top Gun</td>\n",
       "                        <td id=\"T_4d11a7c2_a5b4_11ea_8dfb_f018989a0d7arow165_col1\" class=\"data row165 col1\" >$176,781,728.00</td>\n",
       "            </tr>\n",
       "            <tr>\n",
       "                        <th id=\"T_4d11a7c2_a5b4_11ea_8dfb_f018989a0d7alevel0_row166\" class=\"row_heading level0 row166\" >295</th>\n",
       "                        <td id=\"T_4d11a7c2_a5b4_11ea_8dfb_f018989a0d7arow166_col0\" class=\"data row166 col0\" >Rain Man</td>\n",
       "                        <td id=\"T_4d11a7c2_a5b4_11ea_8dfb_f018989a0d7arow166_col1\" class=\"data row166 col1\" >$172,825,435.00</td>\n",
       "            </tr>\n",
       "            <tr>\n",
       "                        <th id=\"T_4d11a7c2_a5b4_11ea_8dfb_f018989a0d7alevel0_row167\" class=\"row_heading level0 row167\" >321</th>\n",
       "                        <td id=\"T_4d11a7c2_a5b4_11ea_8dfb_f018989a0d7arow167_col0\" class=\"data row167 col0\" >Born on the Fourth of July</td>\n",
       "                        <td id=\"T_4d11a7c2_a5b4_11ea_8dfb_f018989a0d7arow167_col1\" class=\"data row167 col1\" >$161,001,698.00</td>\n",
       "            </tr>\n",
       "            <tr>\n",
       "                        <th id=\"T_4d11a7c2_a5b4_11ea_8dfb_f018989a0d7alevel0_row168\" class=\"row_heading level0 row168\" >102</th>\n",
       "                        <td id=\"T_4d11a7c2_a5b4_11ea_8dfb_f018989a0d7arow168_col0\" class=\"data row168 col0\" >Grease</td>\n",
       "                        <td id=\"T_4d11a7c2_a5b4_11ea_8dfb_f018989a0d7arow168_col1\" class=\"data row168 col1\" >$159,978,870.00</td>\n",
       "            </tr>\n",
       "            <tr>\n",
       "                        <th id=\"T_4d11a7c2_a5b4_11ea_8dfb_f018989a0d7alevel0_row169\" class=\"row_heading level0 row169\" >283</th>\n",
       "                        <td id=\"T_4d11a7c2_a5b4_11ea_8dfb_f018989a0d7arow169_col0\" class=\"data row169 col0\" >Fatal Attraction</td>\n",
       "                        <td id=\"T_4d11a7c2_a5b4_11ea_8dfb_f018989a0d7arow169_col1\" class=\"data row169 col1\" >$156,645,693.00</td>\n",
       "            </tr>\n",
       "            <tr>\n",
       "                        <th id=\"T_4d11a7c2_a5b4_11ea_8dfb_f018989a0d7alevel0_row170\" class=\"row_heading level0 row170\" >308</th>\n",
       "                        <td id=\"T_4d11a7c2_a5b4_11ea_8dfb_f018989a0d7arow170_col0\" class=\"data row170 col0\" >Who Framed Roger Rabbit</td>\n",
       "                        <td id=\"T_4d11a7c2_a5b4_11ea_8dfb_f018989a0d7arow170_col1\" class=\"data row170 col1\" >$156,452,370.00</td>\n",
       "            </tr>\n",
       "            <tr>\n",
       "                        <th id=\"T_4d11a7c2_a5b4_11ea_8dfb_f018989a0d7alevel0_row171\" class=\"row_heading level0 row171\" >291</th>\n",
       "                        <td id=\"T_4d11a7c2_a5b4_11ea_8dfb_f018989a0d7arow171_col0\" class=\"data row171 col0\" >Beverly Hills Cop II</td>\n",
       "                        <td id=\"T_4d11a7c2_a5b4_11ea_8dfb_f018989a0d7arow171_col1\" class=\"data row171 col1\" >$153,665,036.00</td>\n",
       "            </tr>\n",
       "            <tr>\n",
       "                        <th id=\"T_4d11a7c2_a5b4_11ea_8dfb_f018989a0d7alevel0_row172\" class=\"row_heading level0 row172\" >247</th>\n",
       "                        <td id=\"T_4d11a7c2_a5b4_11ea_8dfb_f018989a0d7arow172_col0\" class=\"data row172 col0\" >Rambo: First Blood Part II</td>\n",
       "                        <td id=\"T_4d11a7c2_a5b4_11ea_8dfb_f018989a0d7arow172_col1\" class=\"data row172 col1\" >$150,415,432.00</td>\n",
       "            </tr>\n",
       "            <tr>\n",
       "                        <th id=\"T_4d11a7c2_a5b4_11ea_8dfb_f018989a0d7alevel0_row173\" class=\"row_heading level0 row173\" >255</th>\n",
       "                        <td id=\"T_4d11a7c2_a5b4_11ea_8dfb_f018989a0d7arow173_col0\" class=\"data row173 col0\" >Platoon</td>\n",
       "                        <td id=\"T_4d11a7c2_a5b4_11ea_8dfb_f018989a0d7arow173_col1\" class=\"data row173 col1\" >$138,530,565.00</td>\n",
       "            </tr>\n",
       "            <tr>\n",
       "                        <th id=\"T_4d11a7c2_a5b4_11ea_8dfb_f018989a0d7alevel0_row174\" class=\"row_heading level0 row174\" >98</th>\n",
       "                        <td id=\"T_4d11a7c2_a5b4_11ea_8dfb_f018989a0d7arow174_col0\" class=\"data row174 col0\" >Superman</td>\n",
       "                        <td id=\"T_4d11a7c2_a5b4_11ea_8dfb_f018989a0d7arow174_col1\" class=\"data row174 col1\" >$134,218,018.00</td>\n",
       "            </tr>\n",
       "            <tr>\n",
       "                        <th id=\"T_4d11a7c2_a5b4_11ea_8dfb_f018989a0d7alevel0_row175\" class=\"row_heading level0 row175\" >184</th>\n",
       "                        <td id=\"T_4d11a7c2_a5b4_11ea_8dfb_f018989a0d7arow175_col0\" class=\"data row175 col0\" >An Officer and a Gentleman</td>\n",
       "                        <td id=\"T_4d11a7c2_a5b4_11ea_8dfb_f018989a0d7arow175_col1\" class=\"data row175 col1\" >$129,795,554.00</td>\n",
       "            </tr>\n",
       "            <tr>\n",
       "                        <th id=\"T_4d11a7c2_a5b4_11ea_8dfb_f018989a0d7alevel0_row176\" class=\"row_heading level0 row176\" >310</th>\n",
       "                        <td id=\"T_4d11a7c2_a5b4_11ea_8dfb_f018989a0d7arow176_col0\" class=\"data row176 col0\" >Coming to America</td>\n",
       "                        <td id=\"T_4d11a7c2_a5b4_11ea_8dfb_f018989a0d7arow176_col1\" class=\"data row176 col1\" >$128,152,301.00</td>\n",
       "            </tr>\n",
       "            <tr>\n",
       "                        <th id=\"T_4d11a7c2_a5b4_11ea_8dfb_f018989a0d7alevel0_row177\" class=\"row_heading level0 row177\" >77</th>\n",
       "                        <td id=\"T_4d11a7c2_a5b4_11ea_8dfb_f018989a0d7arow177_col0\" class=\"data row177 col0\" >Smokey and the Bandit</td>\n",
       "                        <td id=\"T_4d11a7c2_a5b4_11ea_8dfb_f018989a0d7arow177_col1\" class=\"data row177 col1\" >$126,737,428.00</td>\n",
       "            </tr>\n",
       "            <tr>\n",
       "                        <th id=\"T_4d11a7c2_a5b4_11ea_8dfb_f018989a0d7alevel0_row178\" class=\"row_heading level0 row178\" >193</th>\n",
       "                        <td id=\"T_4d11a7c2_a5b4_11ea_8dfb_f018989a0d7arow178_col0\" class=\"data row178 col0\" >Rocky III</td>\n",
       "                        <td id=\"T_4d11a7c2_a5b4_11ea_8dfb_f018989a0d7arow178_col1\" class=\"data row178 col1\" >$124,146,897.00</td>\n",
       "            </tr>\n",
       "            <tr>\n",
       "                        <th id=\"T_4d11a7c2_a5b4_11ea_8dfb_f018989a0d7alevel0_row179\" class=\"row_heading level0 row179\" >272</th>\n",
       "                        <td id=\"T_4d11a7c2_a5b4_11ea_8dfb_f018989a0d7arow179_col0\" class=\"data row179 col0\" >Good Morning, Vietnam</td>\n",
       "                        <td id=\"T_4d11a7c2_a5b4_11ea_8dfb_f018989a0d7arow179_col1\" class=\"data row179 col1\" >$123,922,370.00</td>\n",
       "            </tr>\n",
       "            <tr>\n",
       "                        <th id=\"T_4d11a7c2_a5b4_11ea_8dfb_f018989a0d7alevel0_row180\" class=\"row_heading level0 row180\" >143</th>\n",
       "                        <td id=\"T_4d11a7c2_a5b4_11ea_8dfb_f018989a0d7arow180_col0\" class=\"data row180 col0\" >On Golden Pond</td>\n",
       "                        <td id=\"T_4d11a7c2_a5b4_11ea_8dfb_f018989a0d7arow180_col1\" class=\"data row180 col1\" >$119,285,432.00</td>\n",
       "            </tr>\n",
       "            <tr>\n",
       "                        <th id=\"T_4d11a7c2_a5b4_11ea_8dfb_f018989a0d7alevel0_row181\" class=\"row_heading level0 row181\" >24</th>\n",
       "                        <td id=\"T_4d11a7c2_a5b4_11ea_8dfb_f018989a0d7arow181_col0\" class=\"data row181 col0\" >Rocky</td>\n",
       "                        <td id=\"T_4d11a7c2_a5b4_11ea_8dfb_f018989a0d7arow181_col1\" class=\"data row181 col1\" >$117,235,147.00</td>\n",
       "            </tr>\n",
       "            <tr>\n",
       "                        <th id=\"T_4d11a7c2_a5b4_11ea_8dfb_f018989a0d7alevel0_row182\" class=\"row_heading level0 row182\" >69</th>\n",
       "                        <td id=\"T_4d11a7c2_a5b4_11ea_8dfb_f018989a0d7arow182_col0\" class=\"data row182 col0\" >Close Encounters of the Third Kind</td>\n",
       "                        <td id=\"T_4d11a7c2_a5b4_11ea_8dfb_f018989a0d7arow182_col1\" class=\"data row182 col1\" >$116,395,460.00</td>\n",
       "            </tr>\n",
       "            <tr>\n",
       "                        <th id=\"T_4d11a7c2_a5b4_11ea_8dfb_f018989a0d7alevel0_row183\" class=\"row_heading level0 row183\" >293</th>\n",
       "                        <td id=\"T_4d11a7c2_a5b4_11ea_8dfb_f018989a0d7arow183_col0\" class=\"data row183 col0\" >Big</td>\n",
       "                        <td id=\"T_4d11a7c2_a5b4_11ea_8dfb_f018989a0d7arow183_col1\" class=\"data row183 col1\" >$114,968,774.00</td>\n",
       "            </tr>\n",
       "            <tr>\n",
       "                        <th id=\"T_4d11a7c2_a5b4_11ea_8dfb_f018989a0d7alevel0_row184\" class=\"row_heading level0 row184\" >265</th>\n",
       "                        <td id=\"T_4d11a7c2_a5b4_11ea_8dfb_f018989a0d7arow184_col0\" class=\"data row184 col0\" >Star Trek IV: The Voyage Home</td>\n",
       "                        <td id=\"T_4d11a7c2_a5b4_11ea_8dfb_f018989a0d7arow184_col1\" class=\"data row184 col1\" >$109,713,132.00</td>\n",
       "            </tr>\n",
       "            <tr>\n",
       "                        <th id=\"T_4d11a7c2_a5b4_11ea_8dfb_f018989a0d7alevel0_row185\" class=\"row_heading level0 row185\" >197</th>\n",
       "                        <td id=\"T_4d11a7c2_a5b4_11ea_8dfb_f018989a0d7arow185_col0\" class=\"data row185 col0\" >Terms of Endearment</td>\n",
       "                        <td id=\"T_4d11a7c2_a5b4_11ea_8dfb_f018989a0d7arow185_col1\" class=\"data row185 col1\" >$108,423,489.00</td>\n",
       "            </tr>\n",
       "            <tr>\n",
       "                        <th id=\"T_4d11a7c2_a5b4_11ea_8dfb_f018989a0d7alevel0_row186\" class=\"row_heading level0 row186\" >107</th>\n",
       "                        <td id=\"T_4d11a7c2_a5b4_11ea_8dfb_f018989a0d7arow186_col0\" class=\"data row186 col0\" >Kramer vs. Kramer</td>\n",
       "                        <td id=\"T_4d11a7c2_a5b4_11ea_8dfb_f018989a0d7arow186_col1\" class=\"data row186 col1\" >$106,260,000.00</td>\n",
       "            </tr>\n",
       "            <tr>\n",
       "                        <th id=\"T_4d11a7c2_a5b4_11ea_8dfb_f018989a0d7alevel0_row187\" class=\"row_heading level0 row187\" >49</th>\n",
       "                        <td id=\"T_4d11a7c2_a5b4_11ea_8dfb_f018989a0d7arow187_col0\" class=\"data row187 col0\" >The Goodbye Girl</td>\n",
       "                        <td id=\"T_4d11a7c2_a5b4_11ea_8dfb_f018989a0d7arow187_col1\" class=\"data row187 col1\" >$102,000,000.00</td>\n",
       "            </tr>\n",
       "            <tr>\n",
       "                        <th id=\"T_4d11a7c2_a5b4_11ea_8dfb_f018989a0d7alevel0_row188\" class=\"row_heading level0 row188\" >152</th>\n",
       "                        <td id=\"T_4d11a7c2_a5b4_11ea_8dfb_f018989a0d7arow188_col0\" class=\"data row188 col0\" >Arthur</td>\n",
       "                        <td id=\"T_4d11a7c2_a5b4_11ea_8dfb_f018989a0d7arow188_col1\" class=\"data row188 col1\" >$95,461,682.00</td>\n",
       "            </tr>\n",
       "            <tr>\n",
       "                        <th id=\"T_4d11a7c2_a5b4_11ea_8dfb_f018989a0d7alevel0_row189\" class=\"row_heading level0 row189\" >54</th>\n",
       "                        <td id=\"T_4d11a7c2_a5b4_11ea_8dfb_f018989a0d7arow189_col0\" class=\"data row189 col0\" >Saturday Night Fever</td>\n",
       "                        <td id=\"T_4d11a7c2_a5b4_11ea_8dfb_f018989a0d7arow189_col1\" class=\"data row189 col1\" >$94,213,184.00</td>\n",
       "            </tr>\n",
       "            <tr>\n",
       "                        <th id=\"T_4d11a7c2_a5b4_11ea_8dfb_f018989a0d7alevel0_row190\" class=\"row_heading level0 row190\" >238</th>\n",
       "                        <td id=\"T_4d11a7c2_a5b4_11ea_8dfb_f018989a0d7arow190_col0\" class=\"data row190 col0\" >The Color Purple</td>\n",
       "                        <td id=\"T_4d11a7c2_a5b4_11ea_8dfb_f018989a0d7arow190_col1\" class=\"data row190 col1\" >$94,175,854.00</td>\n",
       "            </tr>\n",
       "            <tr>\n",
       "                        <th id=\"T_4d11a7c2_a5b4_11ea_8dfb_f018989a0d7alevel0_row191\" class=\"row_heading level0 row191\" >206</th>\n",
       "                        <td id=\"T_4d11a7c2_a5b4_11ea_8dfb_f018989a0d7arow191_col0\" class=\"data row191 col0\" >Flashdance</td>\n",
       "                        <td id=\"T_4d11a7c2_a5b4_11ea_8dfb_f018989a0d7arow191_col1\" class=\"data row191 col1\" >$92,921,203.00</td>\n",
       "            </tr>\n",
       "            <tr>\n",
       "                        <th id=\"T_4d11a7c2_a5b4_11ea_8dfb_f018989a0d7alevel0_row192\" class=\"row_heading level0 row192\" >213</th>\n",
       "                        <td id=\"T_4d11a7c2_a5b4_11ea_8dfb_f018989a0d7arow192_col0\" class=\"data row192 col0\" >The Karate Kid</td>\n",
       "                        <td id=\"T_4d11a7c2_a5b4_11ea_8dfb_f018989a0d7arow192_col1\" class=\"data row192 col1\" >$90,815,558.00</td>\n",
       "            </tr>\n",
       "            <tr>\n",
       "                        <th id=\"T_4d11a7c2_a5b4_11ea_8dfb_f018989a0d7alevel0_row193\" class=\"row_heading level0 row193\" >212</th>\n",
       "                        <td id=\"T_4d11a7c2_a5b4_11ea_8dfb_f018989a0d7arow193_col0\" class=\"data row193 col0\" >Trading Places</td>\n",
       "                        <td id=\"T_4d11a7c2_a5b4_11ea_8dfb_f018989a0d7arow193_col1\" class=\"data row193 col1\" >$90,404,800.00</td>\n",
       "            </tr>\n",
       "            <tr>\n",
       "                        <th id=\"T_4d11a7c2_a5b4_11ea_8dfb_f018989a0d7alevel0_row194\" class=\"row_heading level0 row194\" >123</th>\n",
       "                        <td id=\"T_4d11a7c2_a5b4_11ea_8dfb_f018989a0d7arow194_col0\" class=\"data row194 col0\" >The Amityville Horror</td>\n",
       "                        <td id=\"T_4d11a7c2_a5b4_11ea_8dfb_f018989a0d7arow194_col1\" class=\"data row194 col1\" >$86,432,520.00</td>\n",
       "            </tr>\n",
       "            <tr>\n",
       "                        <th id=\"T_4d11a7c2_a5b4_11ea_8dfb_f018989a0d7alevel0_row195\" class=\"row_heading level0 row195\" >258</th>\n",
       "                        <td id=\"T_4d11a7c2_a5b4_11ea_8dfb_f018989a0d7arow195_col0\" class=\"data row195 col0\" >Aliens</td>\n",
       "                        <td id=\"T_4d11a7c2_a5b4_11ea_8dfb_f018989a0d7arow195_col1\" class=\"data row195 col1\" >$86,160,248.00</td>\n",
       "            </tr>\n",
       "            <tr>\n",
       "                        <th id=\"T_4d11a7c2_a5b4_11ea_8dfb_f018989a0d7alevel0_row196\" class=\"row_heading level0 row196\" >230</th>\n",
       "                        <td id=\"T_4d11a7c2_a5b4_11ea_8dfb_f018989a0d7arow196_col0\" class=\"data row196 col0\" >Cocoon</td>\n",
       "                        <td id=\"T_4d11a7c2_a5b4_11ea_8dfb_f018989a0d7arow196_col1\" class=\"data row196 col1\" >$85,313,124.00</td>\n",
       "            </tr>\n",
       "            <tr>\n",
       "                        <th id=\"T_4d11a7c2_a5b4_11ea_8dfb_f018989a0d7alevel0_row197\" class=\"row_heading level0 row197\" >271</th>\n",
       "                        <td id=\"T_4d11a7c2_a5b4_11ea_8dfb_f018989a0d7arow197_col0\" class=\"data row197 col0\" >An American Tail</td>\n",
       "                        <td id=\"T_4d11a7c2_a5b4_11ea_8dfb_f018989a0d7arow197_col1\" class=\"data row197 col1\" >$84,542,002.00</td>\n",
       "            </tr>\n",
       "            <tr>\n",
       "                        <th id=\"T_4d11a7c2_a5b4_11ea_8dfb_f018989a0d7alevel0_row198\" class=\"row_heading level0 row198\" >120</th>\n",
       "                        <td id=\"T_4d11a7c2_a5b4_11ea_8dfb_f018989a0d7arow198_col0\" class=\"data row198 col0\" >Apocalypse Now</td>\n",
       "                        <td id=\"T_4d11a7c2_a5b4_11ea_8dfb_f018989a0d7arow198_col1\" class=\"data row198 col1\" >$83,471,511.00</td>\n",
       "            </tr>\n",
       "            <tr>\n",
       "                        <th id=\"T_4d11a7c2_a5b4_11ea_8dfb_f018989a0d7alevel0_row199\" class=\"row_heading level0 row199\" >311</th>\n",
       "                        <td id=\"T_4d11a7c2_a5b4_11ea_8dfb_f018989a0d7arow199_col0\" class=\"data row199 col0\" >Die Hard</td>\n",
       "                        <td id=\"T_4d11a7c2_a5b4_11ea_8dfb_f018989a0d7arow199_col1\" class=\"data row199 col1\" >$83,008,852.00</td>\n",
       "            </tr>\n",
       "            <tr>\n",
       "                        <th id=\"T_4d11a7c2_a5b4_11ea_8dfb_f018989a0d7alevel0_row200\" class=\"row_heading level0 row200\" >87</th>\n",
       "                        <td id=\"T_4d11a7c2_a5b4_11ea_8dfb_f018989a0d7arow200_col0\" class=\"data row200 col0\" >Heaven Can Wait</td>\n",
       "                        <td id=\"T_4d11a7c2_a5b4_11ea_8dfb_f018989a0d7arow200_col1\" class=\"data row200 col1\" >$81,640,278.00</td>\n",
       "            </tr>\n",
       "            <tr>\n",
       "                        <th id=\"T_4d11a7c2_a5b4_11ea_8dfb_f018989a0d7alevel0_row201\" class=\"row_heading level0 row201\" >122</th>\n",
       "                        <td id=\"T_4d11a7c2_a5b4_11ea_8dfb_f018989a0d7arow201_col0\" class=\"data row201 col0\" >Alien</td>\n",
       "                        <td id=\"T_4d11a7c2_a5b4_11ea_8dfb_f018989a0d7arow201_col1\" class=\"data row201 col1\" >$80,931,801.00</td>\n",
       "            </tr>\n",
       "            <tr>\n",
       "                        <th id=\"T_4d11a7c2_a5b4_11ea_8dfb_f018989a0d7alevel0_row202\" class=\"row_heading level0 row202\" >282</th>\n",
       "                        <td id=\"T_4d11a7c2_a5b4_11ea_8dfb_f018989a0d7arow202_col0\" class=\"data row202 col0\" >Moonstruck</td>\n",
       "                        <td id=\"T_4d11a7c2_a5b4_11ea_8dfb_f018989a0d7arow202_col1\" class=\"data row202 col1\" >$80,640,528.00</td>\n",
       "            </tr>\n",
       "            <tr>\n",
       "                        <th id=\"T_4d11a7c2_a5b4_11ea_8dfb_f018989a0d7alevel0_row203\" class=\"row_heading level0 row203\" >218</th>\n",
       "                        <td id=\"T_4d11a7c2_a5b4_11ea_8dfb_f018989a0d7arow203_col0\" class=\"data row203 col0\" >Footloose</td>\n",
       "                        <td id=\"T_4d11a7c2_a5b4_11ea_8dfb_f018989a0d7arow203_col1\" class=\"data row203 col1\" >$80,035,402.00</td>\n",
       "            </tr>\n",
       "            <tr>\n",
       "                        <th id=\"T_4d11a7c2_a5b4_11ea_8dfb_f018989a0d7alevel0_row204\" class=\"row_heading level0 row204\" >40</th>\n",
       "                        <td id=\"T_4d11a7c2_a5b4_11ea_8dfb_f018989a0d7arow204_col0\" class=\"data row204 col0\" >A Star Is Born</td>\n",
       "                        <td id=\"T_4d11a7c2_a5b4_11ea_8dfb_f018989a0d7arow204_col1\" class=\"data row204 col1\" >$80,000,000.00</td>\n",
       "            </tr>\n",
       "            <tr>\n",
       "                        <th id=\"T_4d11a7c2_a5b4_11ea_8dfb_f018989a0d7alevel0_row205\" class=\"row_heading level0 row205\" >210</th>\n",
       "                        <td id=\"T_4d11a7c2_a5b4_11ea_8dfb_f018989a0d7arow205_col0\" class=\"data row205 col0\" >WarGames</td>\n",
       "                        <td id=\"T_4d11a7c2_a5b4_11ea_8dfb_f018989a0d7arow205_col1\" class=\"data row205 col1\" >$79,567,667.00</td>\n",
       "            </tr>\n",
       "            <tr>\n",
       "                        <th id=\"T_4d11a7c2_a5b4_11ea_8dfb_f018989a0d7alevel0_row206\" class=\"row_heading level0 row206\" >214</th>\n",
       "                        <td id=\"T_4d11a7c2_a5b4_11ea_8dfb_f018989a0d7arow206_col0\" class=\"data row206 col0\" >Romancing the Stone</td>\n",
       "                        <td id=\"T_4d11a7c2_a5b4_11ea_8dfb_f018989a0d7arow206_col1\" class=\"data row206 col1\" >$78,371,200.00</td>\n",
       "            </tr>\n",
       "            <tr>\n",
       "                        <th id=\"T_4d11a7c2_a5b4_11ea_8dfb_f018989a0d7alevel0_row207\" class=\"row_heading level0 row207\" >103</th>\n",
       "                        <td id=\"T_4d11a7c2_a5b4_11ea_8dfb_f018989a0d7arow207_col0\" class=\"data row207 col0\" >Hooper</td>\n",
       "                        <td id=\"T_4d11a7c2_a5b4_11ea_8dfb_f018989a0d7arow207_col1\" class=\"data row207 col1\" >$78,000,000.00</td>\n",
       "            </tr>\n",
       "            <tr>\n",
       "                        <th id=\"T_4d11a7c2_a5b4_11ea_8dfb_f018989a0d7alevel0_row208\" class=\"row_heading level0 row208\" >190</th>\n",
       "                        <td id=\"T_4d11a7c2_a5b4_11ea_8dfb_f018989a0d7arow208_col0\" class=\"data row208 col0\" >Poltergeist</td>\n",
       "                        <td id=\"T_4d11a7c2_a5b4_11ea_8dfb_f018989a0d7arow208_col1\" class=\"data row208 col1\" >$76,606,280.00</td>\n",
       "            </tr>\n",
       "            <tr>\n",
       "                        <th id=\"T_4d11a7c2_a5b4_11ea_8dfb_f018989a0d7alevel0_row209\" class=\"row_heading level0 row209\" >276</th>\n",
       "                        <td id=\"T_4d11a7c2_a5b4_11ea_8dfb_f018989a0d7arow209_col0\" class=\"data row209 col0\" >The Untouchables</td>\n",
       "                        <td id=\"T_4d11a7c2_a5b4_11ea_8dfb_f018989a0d7arow209_col1\" class=\"data row209 col1\" >$76,270,454.00</td>\n",
       "            </tr>\n",
       "            <tr>\n",
       "                        <th id=\"T_4d11a7c2_a5b4_11ea_8dfb_f018989a0d7alevel0_row210\" class=\"row_heading level0 row210\" >124</th>\n",
       "                        <td id=\"T_4d11a7c2_a5b4_11ea_8dfb_f018989a0d7arow210_col0\" class=\"data row210 col0\" >10</td>\n",
       "                        <td id=\"T_4d11a7c2_a5b4_11ea_8dfb_f018989a0d7arow210_col1\" class=\"data row210 col1\" >$74,865,517.00</td>\n",
       "            </tr>\n",
       "            <tr>\n",
       "                        <th id=\"T_4d11a7c2_a5b4_11ea_8dfb_f018989a0d7alevel0_row211\" class=\"row_heading level0 row211\" >315</th>\n",
       "                        <td id=\"T_4d11a7c2_a5b4_11ea_8dfb_f018989a0d7arow211_col0\" class=\"data row211 col0\" >Beetlejuice</td>\n",
       "                        <td id=\"T_4d11a7c2_a5b4_11ea_8dfb_f018989a0d7arow211_col1\" class=\"data row211 col1\" >$73,707,461.00</td>\n",
       "            </tr>\n",
       "            <tr>\n",
       "                        <th id=\"T_4d11a7c2_a5b4_11ea_8dfb_f018989a0d7alevel0_row212\" class=\"row_heading level0 row212\" >30</th>\n",
       "                        <td id=\"T_4d11a7c2_a5b4_11ea_8dfb_f018989a0d7arow212_col0\" class=\"data row212 col0\" >All the President's Men</td>\n",
       "                        <td id=\"T_4d11a7c2_a5b4_11ea_8dfb_f018989a0d7arow212_col1\" class=\"data row212 col1\" >$70,600,000.00</td>\n",
       "            </tr>\n",
       "            <tr>\n",
       "                        <th id=\"T_4d11a7c2_a5b4_11ea_8dfb_f018989a0d7alevel0_row213\" class=\"row_heading level0 row213\" >128</th>\n",
       "                        <td id=\"T_4d11a7c2_a5b4_11ea_8dfb_f018989a0d7arow213_col0\" class=\"data row213 col0\" >Moonraker</td>\n",
       "                        <td id=\"T_4d11a7c2_a5b4_11ea_8dfb_f018989a0d7arow213_col1\" class=\"data row213 col1\" >$70,308,099.00</td>\n",
       "            </tr>\n",
       "            <tr>\n",
       "                        <th id=\"T_4d11a7c2_a5b4_11ea_8dfb_f018989a0d7alevel0_row214\" class=\"row_heading level0 row214\" >129</th>\n",
       "                        <td id=\"T_4d11a7c2_a5b4_11ea_8dfb_f018989a0d7arow214_col0\" class=\"data row214 col0\" >Private Benjamin</td>\n",
       "                        <td id=\"T_4d11a7c2_a5b4_11ea_8dfb_f018989a0d7arow214_col1\" class=\"data row214 col1\" >$69,847,348.00</td>\n",
       "            </tr>\n",
       "            <tr>\n",
       "                        <th id=\"T_4d11a7c2_a5b4_11ea_8dfb_f018989a0d7alevel0_row215\" class=\"row_heading level0 row215\" >181</th>\n",
       "                        <td id=\"T_4d11a7c2_a5b4_11ea_8dfb_f018989a0d7arow215_col0\" class=\"data row215 col0\" >The Best Little Whorehouse in Texas</td>\n",
       "                        <td id=\"T_4d11a7c2_a5b4_11ea_8dfb_f018989a0d7arow215_col1\" class=\"data row215 col1\" >$69,701,637.00</td>\n",
       "            </tr>\n",
       "            <tr>\n",
       "                        <th id=\"T_4d11a7c2_a5b4_11ea_8dfb_f018989a0d7alevel0_row216\" class=\"row_heading level0 row216\" >229</th>\n",
       "                        <td id=\"T_4d11a7c2_a5b4_11ea_8dfb_f018989a0d7arow216_col0\" class=\"data row216 col0\" >Witness</td>\n",
       "                        <td id=\"T_4d11a7c2_a5b4_11ea_8dfb_f018989a0d7arow216_col1\" class=\"data row216 col1\" >$68,706,993.00</td>\n",
       "            </tr>\n",
       "            <tr>\n",
       "                        <th id=\"T_4d11a7c2_a5b4_11ea_8dfb_f018989a0d7alevel0_row217\" class=\"row_heading level0 row217\" >136</th>\n",
       "                        <td id=\"T_4d11a7c2_a5b4_11ea_8dfb_f018989a0d7arow217_col0\" class=\"data row217 col0\" >Coal Miner's Daughter</td>\n",
       "                        <td id=\"T_4d11a7c2_a5b4_11ea_8dfb_f018989a0d7arow217_col1\" class=\"data row217 col1\" >$67,182,787.00</td>\n",
       "            </tr>\n",
       "            <tr>\n",
       "                        <th id=\"T_4d11a7c2_a5b4_11ea_8dfb_f018989a0d7alevel0_row218\" class=\"row_heading level0 row218\" >292</th>\n",
       "                        <td id=\"T_4d11a7c2_a5b4_11ea_8dfb_f018989a0d7arow218_col0\" class=\"data row218 col0\" >Lethal Weapon</td>\n",
       "                        <td id=\"T_4d11a7c2_a5b4_11ea_8dfb_f018989a0d7arow218_col1\" class=\"data row218 col1\" >$65,207,127.00</td>\n",
       "            </tr>\n",
       "            <tr>\n",
       "                        <th id=\"T_4d11a7c2_a5b4_11ea_8dfb_f018989a0d7alevel0_row219\" class=\"row_heading level0 row219\" >127</th>\n",
       "                        <td id=\"T_4d11a7c2_a5b4_11ea_8dfb_f018989a0d7arow219_col0\" class=\"data row219 col0\" >The Muppet Movie</td>\n",
       "                        <td id=\"T_4d11a7c2_a5b4_11ea_8dfb_f018989a0d7arow219_col1\" class=\"data row219 col1\" >$65,200,000.00</td>\n",
       "            </tr>\n",
       "            <tr>\n",
       "                        <th id=\"T_4d11a7c2_a5b4_11ea_8dfb_f018989a0d7alevel0_row220\" class=\"row_heading level0 row220\" >289</th>\n",
       "                        <td id=\"T_4d11a7c2_a5b4_11ea_8dfb_f018989a0d7arow220_col0\" class=\"data row220 col0\" >The Witches of Eastwick</td>\n",
       "                        <td id=\"T_4d11a7c2_a5b4_11ea_8dfb_f018989a0d7arow220_col1\" class=\"data row220 col1\" >$63,766,510.00</td>\n",
       "            </tr>\n",
       "            <tr>\n",
       "                        <th id=\"T_4d11a7c2_a5b4_11ea_8dfb_f018989a0d7alevel0_row221\" class=\"row_heading level0 row221\" >42</th>\n",
       "                        <td id=\"T_4d11a7c2_a5b4_11ea_8dfb_f018989a0d7arow221_col0\" class=\"data row221 col0\" >The Omen</td>\n",
       "                        <td id=\"T_4d11a7c2_a5b4_11ea_8dfb_f018989a0d7arow221_col1\" class=\"data row221 col1\" >$60,922,980.00</td>\n",
       "            </tr>\n",
       "            <tr>\n",
       "                        <th id=\"T_4d11a7c2_a5b4_11ea_8dfb_f018989a0d7alevel0_row222\" class=\"row_heading level0 row222\" >157</th>\n",
       "                        <td id=\"T_4d11a7c2_a5b4_11ea_8dfb_f018989a0d7arow222_col0\" class=\"data row222 col0\" >Chariots of Fire</td>\n",
       "                        <td id=\"T_4d11a7c2_a5b4_11ea_8dfb_f018989a0d7arow222_col1\" class=\"data row222 col1\" >$58,972,904.00</td>\n",
       "            </tr>\n",
       "            <tr>\n",
       "                        <th id=\"T_4d11a7c2_a5b4_11ea_8dfb_f018989a0d7alevel0_row223\" class=\"row_heading level0 row223\" >139</th>\n",
       "                        <td id=\"T_4d11a7c2_a5b4_11ea_8dfb_f018989a0d7arow223_col0\" class=\"data row223 col0\" >The Blue Lagoon</td>\n",
       "                        <td id=\"T_4d11a7c2_a5b4_11ea_8dfb_f018989a0d7arow223_col1\" class=\"data row223 col1\" >$58,853,106.00</td>\n",
       "            </tr>\n",
       "            <tr>\n",
       "                        <th id=\"T_4d11a7c2_a5b4_11ea_8dfb_f018989a0d7alevel0_row224\" class=\"row_heading level0 row224\" >188</th>\n",
       "                        <td id=\"T_4d11a7c2_a5b4_11ea_8dfb_f018989a0d7arow224_col0\" class=\"data row224 col0\" >Annie</td>\n",
       "                        <td id=\"T_4d11a7c2_a5b4_11ea_8dfb_f018989a0d7arow224_col1\" class=\"data row224 col1\" >$57,059,003.00</td>\n",
       "            </tr>\n",
       "            <tr>\n",
       "                        <th id=\"T_4d11a7c2_a5b4_11ea_8dfb_f018989a0d7alevel0_row225\" class=\"row_heading level0 row225\" >170</th>\n",
       "                        <td id=\"T_4d11a7c2_a5b4_11ea_8dfb_f018989a0d7arow225_col0\" class=\"data row225 col0\" >For Your Eyes Only</td>\n",
       "                        <td id=\"T_4d11a7c2_a5b4_11ea_8dfb_f018989a0d7arow225_col1\" class=\"data row225 col1\" >$54,812,802.00</td>\n",
       "            </tr>\n",
       "            <tr>\n",
       "                        <th id=\"T_4d11a7c2_a5b4_11ea_8dfb_f018989a0d7alevel0_row226\" class=\"row_heading level0 row226\" >36</th>\n",
       "                        <td id=\"T_4d11a7c2_a5b4_11ea_8dfb_f018989a0d7arow226_col0\" class=\"data row226 col0\" >King Kong</td>\n",
       "                        <td id=\"T_4d11a7c2_a5b4_11ea_8dfb_f018989a0d7arow226_col1\" class=\"data row226 col1\" >$52,614,445.00</td>\n",
       "            </tr>\n",
       "            <tr>\n",
       "                        <th id=\"T_4d11a7c2_a5b4_11ea_8dfb_f018989a0d7alevel0_row227\" class=\"row_heading level0 row227\" >43</th>\n",
       "                        <td id=\"T_4d11a7c2_a5b4_11ea_8dfb_f018989a0d7arow227_col0\" class=\"data row227 col0\" >Silver Streak</td>\n",
       "                        <td id=\"T_4d11a7c2_a5b4_11ea_8dfb_f018989a0d7arow227_col1\" class=\"data row227 col1\" >$51,079,064.00</td>\n",
       "            </tr>\n",
       "            <tr>\n",
       "                        <th id=\"T_4d11a7c2_a5b4_11ea_8dfb_f018989a0d7alevel0_row228\" class=\"row_heading level0 row228\" >79</th>\n",
       "                        <td id=\"T_4d11a7c2_a5b4_11ea_8dfb_f018989a0d7arow228_col0\" class=\"data row228 col0\" >Oh, God!</td>\n",
       "                        <td id=\"T_4d11a7c2_a5b4_11ea_8dfb_f018989a0d7arow228_col1\" class=\"data row228 col1\" >$51,061,196.00</td>\n",
       "            </tr>\n",
       "            <tr>\n",
       "                        <th id=\"T_4d11a7c2_a5b4_11ea_8dfb_f018989a0d7alevel0_row229\" class=\"row_heading level0 row229\" >4</th>\n",
       "                        <td id=\"T_4d11a7c2_a5b4_11ea_8dfb_f018989a0d7arow229_col0\" class=\"data row229 col0\" >Dog Day Afternoon</td>\n",
       "                        <td id=\"T_4d11a7c2_a5b4_11ea_8dfb_f018989a0d7arow229_col1\" class=\"data row229 col1\" >$50,000,000.00</td>\n",
       "            </tr>\n",
       "            <tr>\n",
       "                        <th id=\"T_4d11a7c2_a5b4_11ea_8dfb_f018989a0d7alevel0_row230\" class=\"row_heading level0 row230\" >6</th>\n",
       "                        <td id=\"T_4d11a7c2_a5b4_11ea_8dfb_f018989a0d7arow230_col0\" class=\"data row230 col0\" >Shampoo</td>\n",
       "                        <td id=\"T_4d11a7c2_a5b4_11ea_8dfb_f018989a0d7arow230_col1\" class=\"data row230 col1\" >$49,407,734.00</td>\n",
       "            </tr>\n",
       "            <tr>\n",
       "                        <th id=\"T_4d11a7c2_a5b4_11ea_8dfb_f018989a0d7alevel0_row231\" class=\"row_heading level0 row231\" >94</th>\n",
       "                        <td id=\"T_4d11a7c2_a5b4_11ea_8dfb_f018989a0d7arow231_col0\" class=\"data row231 col0\" >The Deer Hunter</td>\n",
       "                        <td id=\"T_4d11a7c2_a5b4_11ea_8dfb_f018989a0d7arow231_col1\" class=\"data row231 col1\" >$48,979,328.00</td>\n",
       "            </tr>\n",
       "            <tr>\n",
       "                        <th id=\"T_4d11a7c2_a5b4_11ea_8dfb_f018989a0d7alevel0_row232\" class=\"row_heading level0 row232\" >78</th>\n",
       "                        <td id=\"T_4d11a7c2_a5b4_11ea_8dfb_f018989a0d7arow232_col0\" class=\"data row232 col0\" >The Deep</td>\n",
       "                        <td id=\"T_4d11a7c2_a5b4_11ea_8dfb_f018989a0d7arow232_col1\" class=\"data row232 col1\" >$47,346,365.00</td>\n",
       "            </tr>\n",
       "            <tr>\n",
       "                        <th id=\"T_4d11a7c2_a5b4_11ea_8dfb_f018989a0d7alevel0_row233\" class=\"row_heading level0 row233\" >75</th>\n",
       "                        <td id=\"T_4d11a7c2_a5b4_11ea_8dfb_f018989a0d7arow233_col0\" class=\"data row233 col0\" >The Spy Who Loved Me</td>\n",
       "                        <td id=\"T_4d11a7c2_a5b4_11ea_8dfb_f018989a0d7arow233_col1\" class=\"data row233 col1\" >$46,838,673.00</td>\n",
       "            </tr>\n",
       "            <tr>\n",
       "                        <th id=\"T_4d11a7c2_a5b4_11ea_8dfb_f018989a0d7alevel0_row234\" class=\"row_heading level0 row234\" >14</th>\n",
       "                        <td id=\"T_4d11a7c2_a5b4_11ea_8dfb_f018989a0d7arow234_col0\" class=\"data row234 col0\" >Funny Lady</td>\n",
       "                        <td id=\"T_4d11a7c2_a5b4_11ea_8dfb_f018989a0d7arow234_col1\" class=\"data row234 col1\" >$39,000,000.00</td>\n",
       "            </tr>\n",
       "            <tr>\n",
       "                        <th id=\"T_4d11a7c2_a5b4_11ea_8dfb_f018989a0d7alevel0_row235\" class=\"row_heading level0 row235\" >44</th>\n",
       "                        <td id=\"T_4d11a7c2_a5b4_11ea_8dfb_f018989a0d7arow235_col0\" class=\"data row235 col0\" >Annie Hall</td>\n",
       "                        <td id=\"T_4d11a7c2_a5b4_11ea_8dfb_f018989a0d7arow235_col1\" class=\"data row235 col1\" >$38,251,425.00</td>\n",
       "            </tr>\n",
       "            <tr>\n",
       "                        <th id=\"T_4d11a7c2_a5b4_11ea_8dfb_f018989a0d7alevel0_row236\" class=\"row_heading level0 row236\" >15</th>\n",
       "                        <td id=\"T_4d11a7c2_a5b4_11ea_8dfb_f018989a0d7arow236_col0\" class=\"data row236 col0\" >The Other Side of the Mountain</td>\n",
       "                        <td id=\"T_4d11a7c2_a5b4_11ea_8dfb_f018989a0d7arow236_col1\" class=\"data row236 col1\" >$34,673,100.00</td>\n",
       "            </tr>\n",
       "    </tbody></table>"
      ],
      "text/plain": [
       "<pandas.io.formats.style.Styler at 0x1a229a6f98>"
      ]
     },
     "execution_count": 12,
     "metadata": {},
     "output_type": "execute_result"
    }
   ],
   "source": [
    "# (df\n",
    "#  .sort_values('worldwide_gross', ascending = False)[['title', 'worldwide_gross']]\n",
    "#  .drop_duplicates(keep='first')\n",
    "# )\n",
    "\n",
    "(df\n",
    " .sort_values('worldwide_gross', ascending = False)[['title', 'worldwide_gross']]\n",
    " .drop_duplicates(keep='first')\n",
    ").style.format({\"worldwide_gross\" : '${0:,.2f}'}) # render column gross with formatting of currency for better reading"
   ]
  },
  {
   "cell_type": "markdown",
   "metadata": {},
   "source": [
    "# 1. What are the top 3 highest-grossing films that won an Oscar?\n",
    "1. Avatar\n",
    "2. Titanic\n",
    "3. Frozen"
   ]
  },
  {
   "cell_type": "code",
   "execution_count": 13,
   "metadata": {
    "ExecuteTime": {
     "end_time": "2020-06-02T20:09:46.031067Z",
     "start_time": "2020-06-02T20:09:46.018887Z"
    }
   },
   "outputs": [],
   "source": [
    "# First we only select the films that won an oscar\n",
    "df1 = df.loc[df[\"winner\"] == True]"
   ]
  },
  {
   "cell_type": "code",
   "execution_count": 14,
   "metadata": {},
   "outputs": [
    {
     "name": "stdout",
     "output_type": "stream",
     "text": [
      "105 different movies that won 258 oscars in total\n"
     ]
    }
   ],
   "source": [
    "# Some insights in the data\n",
    "oscars = len(df1)\n",
    "movies = len(df1['title'].unique())\n",
    "print(f'{movies} different movies that won {oscars} oscars in total')"
   ]
  },
  {
   "cell_type": "code",
   "execution_count": 15,
   "metadata": {},
   "outputs": [],
   "source": [
    "# We drop the rows that contain the same movies\n",
    "df1_drop_duplicates = df1.drop_duplicates(subset=['title'], keep='first')"
   ]
  },
  {
   "cell_type": "code",
   "execution_count": 16,
   "metadata": {
    "ExecuteTime": {
     "end_time": "2020-06-02T20:09:46.143175Z",
     "start_time": "2020-06-02T20:09:46.040531Z"
    }
   },
   "outputs": [
    {
     "data": {
      "text/html": [
       "<div>\n",
       "<style scoped>\n",
       "    .dataframe tbody tr th:only-of-type {\n",
       "        vertical-align: middle;\n",
       "    }\n",
       "\n",
       "    .dataframe tbody tr th {\n",
       "        vertical-align: top;\n",
       "    }\n",
       "\n",
       "    .dataframe thead th {\n",
       "        text-align: right;\n",
       "    }\n",
       "</style>\n",
       "<table border=\"1\" class=\"dataframe\">\n",
       "  <thead>\n",
       "    <tr style=\"text-align: right;\">\n",
       "      <th></th>\n",
       "      <th>year_film</th>\n",
       "      <th>year_ceremony</th>\n",
       "      <th>ceremony</th>\n",
       "      <th>category</th>\n",
       "      <th>name</th>\n",
       "      <th>title</th>\n",
       "      <th>winner</th>\n",
       "      <th>Main_Genre</th>\n",
       "      <th>Genre_2</th>\n",
       "      <th>Genre_3</th>\n",
       "      <th>imdb_rating</th>\n",
       "      <th>length</th>\n",
       "      <th>rank_in_year</th>\n",
       "      <th>rating</th>\n",
       "      <th>studio</th>\n",
       "      <th>worldwide_gross</th>\n",
       "    </tr>\n",
       "  </thead>\n",
       "  <tbody>\n",
       "    <tr>\n",
       "      <th>732</th>\n",
       "      <td>2009</td>\n",
       "      <td>2010</td>\n",
       "      <td>82</td>\n",
       "      <td>ART DIRECTION</td>\n",
       "      <td>Production Design: Rick Carter and Robert Stro...</td>\n",
       "      <td>Avatar</td>\n",
       "      <td>True</td>\n",
       "      <td>Fantasy</td>\n",
       "      <td>Adventure</td>\n",
       "      <td>Action</td>\n",
       "      <td>7.9</td>\n",
       "      <td>162</td>\n",
       "      <td>1</td>\n",
       "      <td>PG-13</td>\n",
       "      <td>20th Century Fox</td>\n",
       "      <td>2.749064e+09</td>\n",
       "    </tr>\n",
       "    <tr>\n",
       "      <th>506</th>\n",
       "      <td>1997</td>\n",
       "      <td>1998</td>\n",
       "      <td>70</td>\n",
       "      <td>ART DIRECTION</td>\n",
       "      <td>Art Direction:  Peter Lamont;  Set Decoration:...</td>\n",
       "      <td>Titanic</td>\n",
       "      <td>True</td>\n",
       "      <td>Romance</td>\n",
       "      <td>Drama</td>\n",
       "      <td>NaN</td>\n",
       "      <td>7.7</td>\n",
       "      <td>194</td>\n",
       "      <td>1</td>\n",
       "      <td>PG-13</td>\n",
       "      <td>Paramount Pictures</td>\n",
       "      <td>1.843201e+09</td>\n",
       "    </tr>\n",
       "    <tr>\n",
       "      <th>789</th>\n",
       "      <td>2013</td>\n",
       "      <td>2014</td>\n",
       "      <td>86</td>\n",
       "      <td>ANIMATED FEATURE FILM</td>\n",
       "      <td>Chris Buck, Jennifer Lee and Peter Del Vecho</td>\n",
       "      <td>Frozen</td>\n",
       "      <td>True</td>\n",
       "      <td>Comedy</td>\n",
       "      <td>Animation</td>\n",
       "      <td>Adventure</td>\n",
       "      <td>7.7</td>\n",
       "      <td>102</td>\n",
       "      <td>1</td>\n",
       "      <td>PG</td>\n",
       "      <td>Walt Disney Pictures</td>\n",
       "      <td>1.274219e+09</td>\n",
       "    </tr>\n",
       "  </tbody>\n",
       "</table>\n",
       "</div>"
      ],
      "text/plain": [
       "     year_film  year_ceremony  ceremony               category  \\\n",
       "732       2009           2010        82          ART DIRECTION   \n",
       "506       1997           1998        70          ART DIRECTION   \n",
       "789       2013           2014        86  ANIMATED FEATURE FILM   \n",
       "\n",
       "                                                  name    title  winner  \\\n",
       "732  Production Design: Rick Carter and Robert Stro...   Avatar    True   \n",
       "506  Art Direction:  Peter Lamont;  Set Decoration:...  Titanic    True   \n",
       "789       Chris Buck, Jennifer Lee and Peter Del Vecho   Frozen    True   \n",
       "\n",
       "    Main_Genre    Genre_2    Genre_3  imdb_rating  length  rank_in_year  \\\n",
       "732    Fantasy  Adventure     Action          7.9     162             1   \n",
       "506    Romance      Drama        NaN          7.7     194             1   \n",
       "789     Comedy  Animation  Adventure          7.7     102             1   \n",
       "\n",
       "    rating                studio  worldwide_gross  \n",
       "732  PG-13      20th Century Fox     2.749064e+09  \n",
       "506  PG-13    Paramount Pictures     1.843201e+09  \n",
       "789     PG  Walt Disney Pictures     1.274219e+09  "
      ]
     },
     "execution_count": 16,
     "metadata": {},
     "output_type": "execute_result"
    }
   ],
   "source": [
    "# We take the first three rows because that's the highest-grossing films\n",
    "df1_drop_duplicates.sort_values('worldwide_gross', ascending = False).head(3)"
   ]
  },
  {
   "cell_type": "markdown",
   "metadata": {
    "ExecuteTime": {
     "end_time": "2020-06-02T20:09:46.157184Z",
     "start_time": "2020-06-02T20:09:46.146987Z"
    }
   },
   "source": [
    "# 2. Which genre has earned the most Oscars?\n",
    "The genre \"romance\" has won the most oscars."
   ]
  },
  {
   "cell_type": "code",
   "execution_count": 17,
   "metadata": {},
   "outputs": [
    {
     "data": {
      "text/plain": [
       "Romance      58\n",
       "Drama        36\n",
       "Fantasy      34\n",
       "Thriller     27\n",
       "Sci-Fi       24\n",
       "War          18\n",
       "Comedy       13\n",
       "History       9\n",
       "Animation     8\n",
       "Adventure     8\n",
       "Sport         8\n",
       "Action        7\n",
       "Crime         4\n",
       "Music         2\n",
       "Family        1\n",
       "Horror        1\n",
       "Name: Main_Genre, dtype: int64"
      ]
     },
     "execution_count": 17,
     "metadata": {},
     "output_type": "execute_result"
    }
   ],
   "source": [
    "# from the genre we select the value_counts()\n",
    "df1['Main_Genre'].value_counts()"
   ]
  },
  {
   "cell_type": "code",
   "execution_count": 18,
   "metadata": {
    "ExecuteTime": {
     "end_time": "2020-06-03T01:01:47.800750Z",
     "start_time": "2020-06-03T01:01:47.420796Z"
    }
   },
   "outputs": [
    {
     "data": {
      "image/png": "[encoded data removed]",
      "text/plain": [
       "<Figure size 842.4x595.44 with 1 Axes>"
      ]
     },
     "metadata": {
      "needs_background": "light"
     },
     "output_type": "display_data"
    }
   ],
   "source": [
    "# plot the number of oscars per genre\n",
    "data_plot = df1['Main_Genre'].value_counts().rename_axis('Main_Genre').reset_index(name='oscars')\n",
    "\n",
    "a4_dims = (11.7, 8.27)\n",
    "fig, ax = pyplot.subplots(figsize=a4_dims)\n",
    "\n",
    "sns.barplot(x='Main_Genre', y='oscars', data=data_plot);\n"
   ]
  },
  {
   "cell_type": "markdown",
   "metadata": {},
   "source": [
    "# 3. Which studio has the best Oscars to total movies produced ratio?\n",
    "Although Warner Bros makes the largest total movies, it's oscar winning ratio is only 5th in the list.\n",
    "Lionsgate Films has a favouritable ratio at 60%."
   ]
  },
  {
   "cell_type": "code",
   "execution_count": 19,
   "metadata": {},
   "outputs": [],
   "source": [
    "# amount of movies per studio (regardless of if the movie won an oscar)\n",
    "movies_total = df['studio'].value_counts()"
   ]
  },
  {
   "cell_type": "code",
   "execution_count": 20,
   "metadata": {},
   "outputs": [
    {
     "data": {
      "text/html": [
       "<div>\n",
       "<style scoped>\n",
       "    .dataframe tbody tr th:only-of-type {\n",
       "        vertical-align: middle;\n",
       "    }\n",
       "\n",
       "    .dataframe tbody tr th {\n",
       "        vertical-align: top;\n",
       "    }\n",
       "\n",
       "    .dataframe thead th {\n",
       "        text-align: right;\n",
       "    }\n",
       "</style>\n",
       "<table border=\"1\" class=\"dataframe\">\n",
       "  <thead>\n",
       "    <tr style=\"text-align: right;\">\n",
       "      <th></th>\n",
       "      <th>studio</th>\n",
       "      <th>movies_total</th>\n",
       "    </tr>\n",
       "  </thead>\n",
       "  <tbody>\n",
       "    <tr>\n",
       "      <th>0</th>\n",
       "      <td>Warner Bros</td>\n",
       "      <td>174</td>\n",
       "    </tr>\n",
       "    <tr>\n",
       "      <th>1</th>\n",
       "      <td>Paramount Pictures</td>\n",
       "      <td>138</td>\n",
       "    </tr>\n",
       "    <tr>\n",
       "      <th>2</th>\n",
       "      <td>Walt Disney Pictures</td>\n",
       "      <td>108</td>\n",
       "    </tr>\n",
       "    <tr>\n",
       "      <th>3</th>\n",
       "      <td>Universal Pictures</td>\n",
       "      <td>96</td>\n",
       "    </tr>\n",
       "    <tr>\n",
       "      <th>4</th>\n",
       "      <td>Metro-Goldwyn-Mayer</td>\n",
       "      <td>77</td>\n",
       "    </tr>\n",
       "  </tbody>\n",
       "</table>\n",
       "</div>"
      ],
      "text/plain": [
       "                 studio  movies_total\n",
       "0           Warner Bros           174\n",
       "1    Paramount Pictures           138\n",
       "2  Walt Disney Pictures           108\n",
       "3    Universal Pictures            96\n",
       "4   Metro-Goldwyn-Mayer            77"
      ]
     },
     "execution_count": 20,
     "metadata": {},
     "output_type": "execute_result"
    }
   ],
   "source": [
    "# convert to dataframe\n",
    "movies_total = movies_total.rename_axis('studio').reset_index(name='movies_total')\n",
    "movies_total.head()"
   ]
  },
  {
   "cell_type": "code",
   "execution_count": 21,
   "metadata": {},
   "outputs": [
    {
     "data": {
      "text/html": [
       "<div>\n",
       "<style scoped>\n",
       "    .dataframe tbody tr th:only-of-type {\n",
       "        vertical-align: middle;\n",
       "    }\n",
       "\n",
       "    .dataframe tbody tr th {\n",
       "        vertical-align: top;\n",
       "    }\n",
       "\n",
       "    .dataframe thead th {\n",
       "        text-align: right;\n",
       "    }\n",
       "</style>\n",
       "<table border=\"1\" class=\"dataframe\">\n",
       "  <thead>\n",
       "    <tr style=\"text-align: right;\">\n",
       "      <th></th>\n",
       "      <th>studio</th>\n",
       "      <th>movies_won_oscar</th>\n",
       "    </tr>\n",
       "  </thead>\n",
       "  <tbody>\n",
       "    <tr>\n",
       "      <th>0</th>\n",
       "      <td>Warner Bros</td>\n",
       "      <td>19</td>\n",
       "    </tr>\n",
       "    <tr>\n",
       "      <th>1</th>\n",
       "      <td>Walt Disney Pictures</td>\n",
       "      <td>16</td>\n",
       "    </tr>\n",
       "    <tr>\n",
       "      <th>2</th>\n",
       "      <td>Paramount Pictures</td>\n",
       "      <td>15</td>\n",
       "    </tr>\n",
       "    <tr>\n",
       "      <th>3</th>\n",
       "      <td>Universal Pictures</td>\n",
       "      <td>11</td>\n",
       "    </tr>\n",
       "    <tr>\n",
       "      <th>4</th>\n",
       "      <td>20th Century Fox</td>\n",
       "      <td>9</td>\n",
       "    </tr>\n",
       "  </tbody>\n",
       "</table>\n",
       "</div>"
      ],
      "text/plain": [
       "                 studio  movies_won_oscar\n",
       "0           Warner Bros                19\n",
       "1  Walt Disney Pictures                16\n",
       "2    Paramount Pictures                15\n",
       "3    Universal Pictures                11\n",
       "4      20th Century Fox                 9"
      ]
     },
     "execution_count": 21,
     "metadata": {},
     "output_type": "execute_result"
    }
   ],
   "source": [
    "# amount of movies that won at least 1 oscar per studio\n",
    "amount_of_movies = df1_drop_duplicates['studio'].value_counts()\n",
    "# convert to dataframe\n",
    "amount_of_movies = amount_of_movies.rename_axis('studio').reset_index(name='movies_won_oscar')\n",
    "amount_of_movies.head()"
   ]
  },
  {
   "cell_type": "code",
   "execution_count": 22,
   "metadata": {},
   "outputs": [
    {
     "data": {
      "text/html": [
       "<div>\n",
       "<style scoped>\n",
       "    .dataframe tbody tr th:only-of-type {\n",
       "        vertical-align: middle;\n",
       "    }\n",
       "\n",
       "    .dataframe tbody tr th {\n",
       "        vertical-align: top;\n",
       "    }\n",
       "\n",
       "    .dataframe thead th {\n",
       "        text-align: right;\n",
       "    }\n",
       "</style>\n",
       "<table border=\"1\" class=\"dataframe\">\n",
       "  <thead>\n",
       "    <tr style=\"text-align: right;\">\n",
       "      <th></th>\n",
       "      <th>studio</th>\n",
       "      <th>oscars_total</th>\n",
       "    </tr>\n",
       "  </thead>\n",
       "  <tbody>\n",
       "    <tr>\n",
       "      <th>0</th>\n",
       "      <td>Warner Bros</td>\n",
       "      <td>54</td>\n",
       "    </tr>\n",
       "    <tr>\n",
       "      <th>1</th>\n",
       "      <td>Paramount Pictures</td>\n",
       "      <td>41</td>\n",
       "    </tr>\n",
       "    <tr>\n",
       "      <th>2</th>\n",
       "      <td>Universal Pictures</td>\n",
       "      <td>36</td>\n",
       "    </tr>\n",
       "    <tr>\n",
       "      <th>3</th>\n",
       "      <td>Metro-Goldwyn-Mayer</td>\n",
       "      <td>28</td>\n",
       "    </tr>\n",
       "    <tr>\n",
       "      <th>4</th>\n",
       "      <td>Walt Disney Pictures</td>\n",
       "      <td>28</td>\n",
       "    </tr>\n",
       "  </tbody>\n",
       "</table>\n",
       "</div>"
      ],
      "text/plain": [
       "                 studio  oscars_total\n",
       "0           Warner Bros            54\n",
       "1    Paramount Pictures            41\n",
       "2    Universal Pictures            36\n",
       "3   Metro-Goldwyn-Mayer            28\n",
       "4  Walt Disney Pictures            28"
      ]
     },
     "execution_count": 22,
     "metadata": {},
     "output_type": "execute_result"
    }
   ],
   "source": [
    "# amount of oscars won per studio\n",
    "amount_of_oscars = df1['studio'].value_counts()\n",
    "# convert to dataframe\n",
    "amount_of_oscars = amount_of_oscars.rename_axis('studio').reset_index(name='oscars_total')\n",
    "amount_of_oscars.head()"
   ]
  },
  {
   "cell_type": "code",
   "execution_count": 23,
   "metadata": {
    "ExecuteTime": {
     "end_time": "2020-06-02T20:53:43.375258Z",
     "start_time": "2020-06-02T20:53:43.350251Z"
    }
   },
   "outputs": [
    {
     "data": {
      "text/html": [
       "<div>\n",
       "<style scoped>\n",
       "    .dataframe tbody tr th:only-of-type {\n",
       "        vertical-align: middle;\n",
       "    }\n",
       "\n",
       "    .dataframe tbody tr th {\n",
       "        vertical-align: top;\n",
       "    }\n",
       "\n",
       "    .dataframe thead th {\n",
       "        text-align: right;\n",
       "    }\n",
       "</style>\n",
       "<table border=\"1\" class=\"dataframe\">\n",
       "  <thead>\n",
       "    <tr style=\"text-align: right;\">\n",
       "      <th></th>\n",
       "      <th>studio</th>\n",
       "      <th>movies_won_oscar</th>\n",
       "      <th>oscars_total</th>\n",
       "      <th>movies_total</th>\n",
       "    </tr>\n",
       "  </thead>\n",
       "  <tbody>\n",
       "    <tr>\n",
       "      <th>0</th>\n",
       "      <td>Warner Bros</td>\n",
       "      <td>19</td>\n",
       "      <td>54</td>\n",
       "      <td>174</td>\n",
       "    </tr>\n",
       "    <tr>\n",
       "      <th>1</th>\n",
       "      <td>Walt Disney Pictures</td>\n",
       "      <td>16</td>\n",
       "      <td>28</td>\n",
       "      <td>108</td>\n",
       "    </tr>\n",
       "    <tr>\n",
       "      <th>2</th>\n",
       "      <td>Paramount Pictures</td>\n",
       "      <td>15</td>\n",
       "      <td>41</td>\n",
       "      <td>138</td>\n",
       "    </tr>\n",
       "    <tr>\n",
       "      <th>3</th>\n",
       "      <td>Universal Pictures</td>\n",
       "      <td>11</td>\n",
       "      <td>36</td>\n",
       "      <td>96</td>\n",
       "    </tr>\n",
       "    <tr>\n",
       "      <th>4</th>\n",
       "      <td>20th Century Fox</td>\n",
       "      <td>9</td>\n",
       "      <td>14</td>\n",
       "      <td>58</td>\n",
       "    </tr>\n",
       "  </tbody>\n",
       "</table>\n",
       "</div>"
      ],
      "text/plain": [
       "                 studio  movies_won_oscar  oscars_total  movies_total\n",
       "0           Warner Bros                19            54           174\n",
       "1  Walt Disney Pictures                16            28           108\n",
       "2    Paramount Pictures                15            41           138\n",
       "3    Universal Pictures                11            36            96\n",
       "4      20th Century Fox                 9            14            58"
      ]
     },
     "execution_count": 23,
     "metadata": {},
     "output_type": "execute_result"
    }
   ],
   "source": [
    "merged = amount_of_movies.merge(amount_of_oscars, on = ['studio'])\n",
    "merged = merged.merge(movies_total, on = ['studio'])\n",
    "merged.head()"
   ]
  },
  {
   "cell_type": "code",
   "execution_count": 24,
   "metadata": {
    "ExecuteTime": {
     "end_time": "2020-06-02T20:54:41.230753Z",
     "start_time": "2020-06-02T20:54:35.512340Z"
    }
   },
   "outputs": [],
   "source": [
    "merged['ratio_oscars'] = merged['oscars_total']/merged['movies_total']"
   ]
  },
  {
   "cell_type": "code",
   "execution_count": 27,
   "metadata": {
    "ExecuteTime": {
     "end_time": "2020-06-02T20:55:55.618490Z",
     "start_time": "2020-06-02T20:55:55.599940Z"
    }
   },
   "outputs": [
    {
     "data": {
      "text/html": [
       "<div>\n",
       "<style scoped>\n",
       "    .dataframe tbody tr th:only-of-type {\n",
       "        vertical-align: middle;\n",
       "    }\n",
       "\n",
       "    .dataframe tbody tr th {\n",
       "        vertical-align: top;\n",
       "    }\n",
       "\n",
       "    .dataframe thead th {\n",
       "        text-align: right;\n",
       "    }\n",
       "</style>\n",
       "<table border=\"1\" class=\"dataframe\">\n",
       "  <thead>\n",
       "    <tr style=\"text-align: right;\">\n",
       "      <th></th>\n",
       "      <th>studio</th>\n",
       "      <th>movies_won_oscar</th>\n",
       "      <th>oscars_total</th>\n",
       "      <th>movies_total</th>\n",
       "      <th>ratio_oscars</th>\n",
       "    </tr>\n",
       "  </thead>\n",
       "  <tbody>\n",
       "    <tr>\n",
       "      <td>10</td>\n",
       "      <td>Lionsgate Films</td>\n",
       "      <td>1</td>\n",
       "      <td>6</td>\n",
       "      <td>10</td>\n",
       "      <td>0.600000</td>\n",
       "    </tr>\n",
       "    <tr>\n",
       "      <td>9</td>\n",
       "      <td>DreamWorks</td>\n",
       "      <td>4</td>\n",
       "      <td>16</td>\n",
       "      <td>40</td>\n",
       "      <td>0.400000</td>\n",
       "    </tr>\n",
       "    <tr>\n",
       "      <td>3</td>\n",
       "      <td>Universal Pictures</td>\n",
       "      <td>11</td>\n",
       "      <td>36</td>\n",
       "      <td>96</td>\n",
       "      <td>0.375000</td>\n",
       "    </tr>\n",
       "    <tr>\n",
       "      <td>5</td>\n",
       "      <td>Metro-Goldwyn-Mayer</td>\n",
       "      <td>9</td>\n",
       "      <td>28</td>\n",
       "      <td>77</td>\n",
       "      <td>0.363636</td>\n",
       "    </tr>\n",
       "    <tr>\n",
       "      <td>0</td>\n",
       "      <td>Warner Bros</td>\n",
       "      <td>19</td>\n",
       "      <td>54</td>\n",
       "      <td>174</td>\n",
       "      <td>0.310345</td>\n",
       "    </tr>\n",
       "    <tr>\n",
       "      <td>2</td>\n",
       "      <td>Paramount Pictures</td>\n",
       "      <td>15</td>\n",
       "      <td>41</td>\n",
       "      <td>138</td>\n",
       "      <td>0.297101</td>\n",
       "    </tr>\n",
       "    <tr>\n",
       "      <td>7</td>\n",
       "      <td>Pixar</td>\n",
       "      <td>7</td>\n",
       "      <td>9</td>\n",
       "      <td>33</td>\n",
       "      <td>0.272727</td>\n",
       "    </tr>\n",
       "    <tr>\n",
       "      <td>8</td>\n",
       "      <td>Sony Pictures</td>\n",
       "      <td>6</td>\n",
       "      <td>11</td>\n",
       "      <td>41</td>\n",
       "      <td>0.268293</td>\n",
       "    </tr>\n",
       "    <tr>\n",
       "      <td>1</td>\n",
       "      <td>Walt Disney Pictures</td>\n",
       "      <td>16</td>\n",
       "      <td>28</td>\n",
       "      <td>108</td>\n",
       "      <td>0.259259</td>\n",
       "    </tr>\n",
       "    <tr>\n",
       "      <td>4</td>\n",
       "      <td>20th Century Fox</td>\n",
       "      <td>9</td>\n",
       "      <td>14</td>\n",
       "      <td>58</td>\n",
       "      <td>0.241379</td>\n",
       "    </tr>\n",
       "    <tr>\n",
       "      <td>6</td>\n",
       "      <td>Columbia Pictures</td>\n",
       "      <td>8</td>\n",
       "      <td>15</td>\n",
       "      <td>64</td>\n",
       "      <td>0.234375</td>\n",
       "    </tr>\n",
       "  </tbody>\n",
       "</table>\n",
       "</div>"
      ],
      "text/plain": [
       "                  studio  movies_won_oscar  oscars_total  movies_total  \\\n",
       "10       Lionsgate Films                 1             6            10   \n",
       "9             DreamWorks                 4            16            40   \n",
       "3     Universal Pictures                11            36            96   \n",
       "5    Metro-Goldwyn-Mayer                 9            28            77   \n",
       "0            Warner Bros                19            54           174   \n",
       "2     Paramount Pictures                15            41           138   \n",
       "7                  Pixar                 7             9            33   \n",
       "8          Sony Pictures                 6            11            41   \n",
       "1   Walt Disney Pictures                16            28           108   \n",
       "4       20th Century Fox                 9            14            58   \n",
       "6      Columbia Pictures                 8            15            64   \n",
       "\n",
       "    ratio_oscars  \n",
       "10      0.600000  \n",
       "9       0.400000  \n",
       "3       0.375000  \n",
       "5       0.363636  \n",
       "0       0.310345  \n",
       "2       0.297101  \n",
       "7       0.272727  \n",
       "8       0.268293  \n",
       "1       0.259259  \n",
       "4       0.241379  \n",
       "6       0.234375  "
      ]
     },
     "execution_count": 27,
     "metadata": {},
     "output_type": "execute_result"
    }
   ],
   "source": [
    "merged.sort_values('ratio_oscars', ascending=False)"
   ]
  },
  {
   "cell_type": "code",
   "execution_count": 25,
   "metadata": {
    "ExecuteTime": {
     "end_time": "2020-06-02T21:33:44.796766Z",
     "start_time": "2020-06-02T21:33:44.785973Z"
    }
   },
   "outputs": [
    {
     "data": {
      "image/png": "[encoded data removed]",
      "text/plain": [
       "<Figure size 842.4x595.44 with 1 Axes>"
      ]
     },
     "metadata": {
      "needs_background": "light"
     },
     "output_type": "display_data"
    }
   ],
   "source": [
    "# plot the ratio of oscar for each studio\n",
    "\n",
    "a4_dims = (11.7, 8.27)\n",
    "fig, ax = pyplot.subplots(figsize=a4_dims)\n",
    "\n",
    "sns.barplot(y='studio', x='ratio_oscars', data=merged.sort_values('ratio_oscars', ascending = False));"
   ]
  },
  {
   "cell_type": "markdown",
   "metadata": {},
   "source": [
    "# 4. Plot number of nominations over the years and oscars"
   ]
  },
  {
   "cell_type": "code",
   "execution_count": 26,
   "metadata": {
    "ExecuteTime": {
     "end_time": "2020-06-03T01:15:47.572505Z",
     "start_time": "2020-06-03T01:15:47.542667Z"
    }
   },
   "outputs": [
    {
     "data": {
      "text/html": [
       "<div>\n",
       "<style scoped>\n",
       "    .dataframe tbody tr th:only-of-type {\n",
       "        vertical-align: middle;\n",
       "    }\n",
       "\n",
       "    .dataframe tbody tr th {\n",
       "        vertical-align: top;\n",
       "    }\n",
       "\n",
       "    .dataframe thead th {\n",
       "        text-align: right;\n",
       "    }\n",
       "</style>\n",
       "<table border=\"1\" class=\"dataframe\">\n",
       "  <thead>\n",
       "    <tr style=\"text-align: right;\">\n",
       "      <th></th>\n",
       "      <th>year_film</th>\n",
       "      <th>year_ceremony</th>\n",
       "      <th>ceremony</th>\n",
       "      <th>category</th>\n",
       "      <th>name</th>\n",
       "      <th>title</th>\n",
       "      <th>winner</th>\n",
       "      <th>Main_Genre</th>\n",
       "      <th>Genre_2</th>\n",
       "      <th>Genre_3</th>\n",
       "      <th>imdb_rating</th>\n",
       "      <th>length</th>\n",
       "      <th>rank_in_year</th>\n",
       "      <th>rating</th>\n",
       "      <th>studio</th>\n",
       "      <th>worldwide_gross</th>\n",
       "    </tr>\n",
       "  </thead>\n",
       "  <tbody>\n",
       "    <tr>\n",
       "      <th>0</th>\n",
       "      <td>1975</td>\n",
       "      <td>1976</td>\n",
       "      <td>48</td>\n",
       "      <td>ACTOR</td>\n",
       "      <td>Al Pacino</td>\n",
       "      <td>Dog Day Afternoon</td>\n",
       "      <td>False</td>\n",
       "      <td>Drama</td>\n",
       "      <td>Crime</td>\n",
       "      <td>NaN</td>\n",
       "      <td>8.1</td>\n",
       "      <td>125</td>\n",
       "      <td>4</td>\n",
       "      <td>R</td>\n",
       "      <td>Warner Bros</td>\n",
       "      <td>50000000.0</td>\n",
       "    </tr>\n",
       "    <tr>\n",
       "      <th>1</th>\n",
       "      <td>1975</td>\n",
       "      <td>1976</td>\n",
       "      <td>48</td>\n",
       "      <td>ACTOR IN A SUPPORTING ROLE</td>\n",
       "      <td>Chris Sarandon</td>\n",
       "      <td>Dog Day Afternoon</td>\n",
       "      <td>False</td>\n",
       "      <td>Drama</td>\n",
       "      <td>Crime</td>\n",
       "      <td>NaN</td>\n",
       "      <td>8.1</td>\n",
       "      <td>125</td>\n",
       "      <td>4</td>\n",
       "      <td>R</td>\n",
       "      <td>Warner Bros</td>\n",
       "      <td>50000000.0</td>\n",
       "    </tr>\n",
       "    <tr>\n",
       "      <th>2</th>\n",
       "      <td>1975</td>\n",
       "      <td>1976</td>\n",
       "      <td>48</td>\n",
       "      <td>DIRECTING</td>\n",
       "      <td>Sidney Lumet</td>\n",
       "      <td>Dog Day Afternoon</td>\n",
       "      <td>False</td>\n",
       "      <td>Drama</td>\n",
       "      <td>Crime</td>\n",
       "      <td>NaN</td>\n",
       "      <td>8.1</td>\n",
       "      <td>125</td>\n",
       "      <td>4</td>\n",
       "      <td>R</td>\n",
       "      <td>Warner Bros</td>\n",
       "      <td>50000000.0</td>\n",
       "    </tr>\n",
       "    <tr>\n",
       "      <th>3</th>\n",
       "      <td>1975</td>\n",
       "      <td>1976</td>\n",
       "      <td>48</td>\n",
       "      <td>FILM EDITING</td>\n",
       "      <td>Dede Allen</td>\n",
       "      <td>Dog Day Afternoon</td>\n",
       "      <td>False</td>\n",
       "      <td>Drama</td>\n",
       "      <td>Crime</td>\n",
       "      <td>NaN</td>\n",
       "      <td>8.1</td>\n",
       "      <td>125</td>\n",
       "      <td>4</td>\n",
       "      <td>R</td>\n",
       "      <td>Warner Bros</td>\n",
       "      <td>50000000.0</td>\n",
       "    </tr>\n",
       "    <tr>\n",
       "      <th>4</th>\n",
       "      <td>1975</td>\n",
       "      <td>1976</td>\n",
       "      <td>48</td>\n",
       "      <td>BEST PICTURE</td>\n",
       "      <td>Martin Bregman and Martin Elfand, Producers</td>\n",
       "      <td>Dog Day Afternoon</td>\n",
       "      <td>False</td>\n",
       "      <td>Drama</td>\n",
       "      <td>Crime</td>\n",
       "      <td>NaN</td>\n",
       "      <td>8.1</td>\n",
       "      <td>125</td>\n",
       "      <td>4</td>\n",
       "      <td>R</td>\n",
       "      <td>Warner Bros</td>\n",
       "      <td>50000000.0</td>\n",
       "    </tr>\n",
       "  </tbody>\n",
       "</table>\n",
       "</div>"
      ],
      "text/plain": [
       "   year_film  year_ceremony  ceremony                    category  \\\n",
       "0       1975           1976        48                       ACTOR   \n",
       "1       1975           1976        48  ACTOR IN A SUPPORTING ROLE   \n",
       "2       1975           1976        48                   DIRECTING   \n",
       "3       1975           1976        48                FILM EDITING   \n",
       "4       1975           1976        48                BEST PICTURE   \n",
       "\n",
       "                                          name              title  winner  \\\n",
       "0                                    Al Pacino  Dog Day Afternoon   False   \n",
       "1                               Chris Sarandon  Dog Day Afternoon   False   \n",
       "2                                 Sidney Lumet  Dog Day Afternoon   False   \n",
       "3                                   Dede Allen  Dog Day Afternoon   False   \n",
       "4  Martin Bregman and Martin Elfand, Producers  Dog Day Afternoon   False   \n",
       "\n",
       "  Main_Genre Genre_2 Genre_3  imdb_rating  length  rank_in_year rating  \\\n",
       "0      Drama   Crime     NaN          8.1     125             4      R   \n",
       "1      Drama   Crime     NaN          8.1     125             4      R   \n",
       "2      Drama   Crime     NaN          8.1     125             4      R   \n",
       "3      Drama   Crime     NaN          8.1     125             4      R   \n",
       "4      Drama   Crime     NaN          8.1     125             4      R   \n",
       "\n",
       "        studio  worldwide_gross  \n",
       "0  Warner Bros       50000000.0  \n",
       "1  Warner Bros       50000000.0  \n",
       "2  Warner Bros       50000000.0  \n",
       "3  Warner Bros       50000000.0  \n",
       "4  Warner Bros       50000000.0  "
      ]
     },
     "execution_count": 26,
     "metadata": {},
     "output_type": "execute_result"
    }
   ],
   "source": [
    "df.head()"
   ]
  },
  {
   "cell_type": "code",
   "execution_count": 27,
   "metadata": {
    "ExecuteTime": {
     "end_time": "2020-06-03T01:38:01.388660Z",
     "start_time": "2020-06-03T01:38:01.375797Z"
    }
   },
   "outputs": [],
   "source": [
    "years_total = df['year_film'].value_counts().rename_axis('year').reset_index(name='nominations')\n",
    "# years_total.head()"
   ]
  },
  {
   "cell_type": "code",
   "execution_count": 28,
   "metadata": {
    "ExecuteTime": {
     "end_time": "2020-06-03T01:57:42.701470Z",
     "start_time": "2020-06-03T01:57:42.693020Z"
    }
   },
   "outputs": [],
   "source": [
    "years_oscar = df1['year_film'].value_counts().rename_axis('year').reset_index(name='oscars')\n",
    "# years_oscar.head()"
   ]
  },
  {
   "cell_type": "code",
   "execution_count": 29,
   "metadata": {
    "ExecuteTime": {
     "end_time": "2020-06-03T01:57:43.570535Z",
     "start_time": "2020-06-03T01:57:43.547909Z"
    }
   },
   "outputs": [
    {
     "data": {
      "text/html": [
       "<div>\n",
       "<style scoped>\n",
       "    .dataframe tbody tr th:only-of-type {\n",
       "        vertical-align: middle;\n",
       "    }\n",
       "\n",
       "    .dataframe tbody tr th {\n",
       "        vertical-align: top;\n",
       "    }\n",
       "\n",
       "    .dataframe thead th {\n",
       "        text-align: right;\n",
       "    }\n",
       "</style>\n",
       "<table border=\"1\" class=\"dataframe\">\n",
       "  <thead>\n",
       "    <tr style=\"text-align: right;\">\n",
       "      <th></th>\n",
       "      <th>year</th>\n",
       "      <th>nominations</th>\n",
       "      <th>oscars</th>\n",
       "    </tr>\n",
       "  </thead>\n",
       "  <tbody>\n",
       "    <tr>\n",
       "      <th>29</th>\n",
       "      <td>1975</td>\n",
       "      <td>16</td>\n",
       "      <td>2</td>\n",
       "    </tr>\n",
       "    <tr>\n",
       "      <th>6</th>\n",
       "      <td>1976</td>\n",
       "      <td>28</td>\n",
       "      <td>10</td>\n",
       "    </tr>\n",
       "    <tr>\n",
       "      <th>1</th>\n",
       "      <td>1977</td>\n",
       "      <td>36</td>\n",
       "      <td>13</td>\n",
       "    </tr>\n",
       "    <tr>\n",
       "      <th>13</th>\n",
       "      <td>1978</td>\n",
       "      <td>24</td>\n",
       "      <td>7</td>\n",
       "    </tr>\n",
       "    <tr>\n",
       "      <th>11</th>\n",
       "      <td>1979</td>\n",
       "      <td>25</td>\n",
       "      <td>8</td>\n",
       "    </tr>\n",
       "  </tbody>\n",
       "</table>\n",
       "</div>"
      ],
      "text/plain": [
       "    year  nominations  oscars\n",
       "29  1975           16       2\n",
       "6   1976           28      10\n",
       "1   1977           36      13\n",
       "13  1978           24       7\n",
       "11  1979           25       8"
      ]
     },
     "execution_count": 29,
     "metadata": {},
     "output_type": "execute_result"
    }
   ],
   "source": [
    "merged_years = years_total.merge(years_oscar, on = ['year']).sort_values('year', ascending=True)\n",
    "merged_years.head()"
   ]
  },
  {
   "cell_type": "code",
   "execution_count": 30,
   "metadata": {
    "ExecuteTime": {
     "end_time": "2020-06-03T02:01:15.231695Z",
     "start_time": "2020-06-03T02:01:15.014414Z"
    }
   },
   "outputs": [
    {
     "ename": "NameError",
     "evalue": "name 'go' is not defined",
     "output_type": "error",
     "traceback": [
      "\u001b[0;31m---------------------------------------------------------------------------\u001b[0m",
      "\u001b[0;31mNameError\u001b[0m                                 Traceback (most recent call last)",
      "\u001b[0;32m<ipython-input-30-4db2fa439020>\u001b[0m in \u001b[0;36m<module>\u001b[0;34m\u001b[0m\n\u001b[1;32m      1\u001b[0m \u001b[0mx\u001b[0m \u001b[0;34m=\u001b[0m \u001b[0mmerged_years\u001b[0m\u001b[0;34m[\u001b[0m\u001b[0;34m'year'\u001b[0m\u001b[0;34m]\u001b[0m\u001b[0;34m\u001b[0m\u001b[0;34m\u001b[0m\u001b[0m\n\u001b[0;32m----> 2\u001b[0;31m fig = go.Figure(data=[\n\u001b[0m\u001b[1;32m      3\u001b[0m     \u001b[0mgo\u001b[0m\u001b[0;34m.\u001b[0m\u001b[0mScatter\u001b[0m\u001b[0;34m(\u001b[0m\u001b[0mname\u001b[0m\u001b[0;34m=\u001b[0m\u001b[0;34m'winners'\u001b[0m\u001b[0;34m,\u001b[0m \u001b[0mx\u001b[0m\u001b[0;34m=\u001b[0m\u001b[0mx\u001b[0m\u001b[0;34m,\u001b[0m \u001b[0my\u001b[0m\u001b[0;34m=\u001b[0m\u001b[0mmerged_years\u001b[0m\u001b[0;34m[\u001b[0m\u001b[0;34m'oscars'\u001b[0m\u001b[0;34m]\u001b[0m\u001b[0;34m)\u001b[0m\u001b[0;34m,\u001b[0m\u001b[0;34m\u001b[0m\u001b[0;34m\u001b[0m\u001b[0m\n\u001b[1;32m      4\u001b[0m     \u001b[0mgo\u001b[0m\u001b[0;34m.\u001b[0m\u001b[0mScatter\u001b[0m\u001b[0;34m(\u001b[0m\u001b[0mname\u001b[0m\u001b[0;34m=\u001b[0m\u001b[0;34m'total'\u001b[0m\u001b[0;34m,\u001b[0m \u001b[0mx\u001b[0m\u001b[0;34m=\u001b[0m\u001b[0mx\u001b[0m\u001b[0;34m,\u001b[0m \u001b[0my\u001b[0m\u001b[0;34m=\u001b[0m\u001b[0mmerged_years\u001b[0m\u001b[0;34m[\u001b[0m\u001b[0;34m'nominations'\u001b[0m\u001b[0;34m]\u001b[0m\u001b[0;34m)\u001b[0m\u001b[0;34m\u001b[0m\u001b[0;34m\u001b[0m\u001b[0m\n\u001b[1;32m      5\u001b[0m            ])\n",
      "\u001b[0;31mNameError\u001b[0m: name 'go' is not defined"
     ]
    }
   ],
   "source": [
    "x = merged_years['year']\n",
    "fig = go.Figure(data=[\n",
    "    go.Scatter(name='winners', x=x, y=merged_years['oscars']),\n",
    "    go.Scatter(name='total', x=x, y=merged_years['nominations'])\n",
    "           ])\n",
    "# Change the bar mode\n",
    "fig.update_layout(barmode='group',title='Nominated movies grouped by studio', xaxis_title='year',\n",
    "                  yaxis_title='nominatated movies')\n",
    "fig.show()"
   ]
  },
  {
   "cell_type": "code",
   "execution_count": 118,
   "metadata": {
    "ExecuteTime": {
     "end_time": "2020-06-03T02:06:18.139596Z",
     "start_time": "2020-06-03T02:06:18.134656Z"
    }
   },
   "outputs": [],
   "source": [
    "# decline in overall movies being nominated and therefore decline in winners selected"
   ]
  },
  {
   "cell_type": "markdown",
   "metadata": {},
   "source": [
    "# 5. Winning probability year to year"
   ]
  },
  {
   "cell_type": "code",
   "execution_count": 61,
   "metadata": {
    "ExecuteTime": {
     "end_time": "2020-06-03T02:12:08.811985Z",
     "start_time": "2020-06-03T02:12:08.379222Z"
    }
   },
   "outputs": [
    {
     "data": {
      "application/vnd.plotly.v1+json": {
       "config": {
        "plotlyServerURL": "https://plot.ly"
       },
       "data": [
        {
         "hoverlabel": {
          "namelength": 0
         },
         "hovertemplate": "year=%{x}<br>winning_prob=%{y}",
         "legendgroup": "",
         "line": {
          "color": "#636efa",
          "dash": "solid"
         },
         "mode": "lines",
         "name": "",
         "showlegend": false,
         "type": "scatter",
         "x": [
          1975,
          1976,
          1977,
          1978,
          1979,
          1980,
          1981,
          1982,
          1983,
          1984,
          1985,
          1986,
          1987,
          1988,
          1989,
          1990,
          1991,
          1992,
          1993,
          1994,
          1995,
          1996,
          1997,
          1998,
          1999,
          2000,
          2001,
          2002,
          2003,
          2004,
          2005,
          2006,
          2007,
          2008,
          2009,
          2010,
          2012,
          2013,
          2014,
          2015,
          2016,
          2018
         ],
         "xaxis": "x",
         "y": [
          0.125,
          0.35714285714285715,
          0.3611111111111111,
          0.2916666666666667,
          0.32,
          0.09090909090909091,
          0.45161290322580644,
          0.13043478260869565,
          0.3157894736842105,
          0.1111111111111111,
          0.19230769230769232,
          0.2916666666666667,
          0.19047619047619047,
          0.34782608695652173,
          0.3333333333333333,
          0.2727272727272727,
          0.3783783783783784,
          0.2631578947368421,
          0.4,
          0.38461538461538464,
          0.21052631578947367,
          0.23076923076923078,
          0.45454545454545453,
          0.4,
          0.4,
          0.29411764705882354,
          0.2692307692307692,
          0.18181818181818182,
          0.5,
          0.1875,
          0.3076923076923077,
          0.25,
          0.1,
          0.17647058823529413,
          0.2777777777777778,
          0.4,
          0.25,
          0.5,
          0.08333333333333333,
          0.125,
          0.6,
          0.3
         ],
         "yaxis": "y"
        }
       ],
       "layout": {
        "legend": {
         "tracegroupgap": 0
        },
        "margin": {
         "t": 60
        },
        "template": {
         "data": {
          "bar": [
           {
            "error_x": {
             "color": "#2a3f5f"
            },
            "error_y": {
             "color": "#2a3f5f"
            },
            "marker": {
             "line": {
              "color": "#E5ECF6",
              "width": 0.5
             }
            },
            "type": "bar"
           }
          ],
          "barpolar": [
           {
            "marker": {
             "line": {
              "color": "#E5ECF6",
              "width": 0.5
             }
            },
            "type": "barpolar"
           }
          ],
          "carpet": [
           {
            "aaxis": {
             "endlinecolor": "#2a3f5f",
             "gridcolor": "white",
             "linecolor": "white",
             "minorgridcolor": "white",
             "startlinecolor": "#2a3f5f"
            },
            "baxis": {
             "endlinecolor": "#2a3f5f",
             "gridcolor": "white",
             "linecolor": "white",
             "minorgridcolor": "white",
             "startlinecolor": "#2a3f5f"
            },
            "type": "carpet"
           }
          ],
          "choropleth": [
           {
            "colorbar": {
             "outlinewidth": 0,
             "ticks": ""
            },
            "type": "choropleth"
           }
          ],
          "contour": [
           {
            "colorbar": {
             "outlinewidth": 0,
             "ticks": ""
            },
            "colorscale": [
             [
              0,
              "#0d0887"
             ],
             [
              0.1111111111111111,
              "#46039f"
             ],
             [
              0.2222222222222222,
              "#7201a8"
             ],
             [
              0.3333333333333333,
              "#9c179e"
             ],
             [
              0.4444444444444444,
              "#bd3786"
             ],
             [
              0.5555555555555556,
              "#d8576b"
             ],
             [
              0.6666666666666666,
              "#ed7953"
             ],
             [
              0.7777777777777778,
              "#fb9f3a"
             ],
             [
              0.8888888888888888,
              "#fdca26"
             ],
             [
              1,
              "#f0f921"
             ]
            ],
            "type": "contour"
           }
          ],
          "contourcarpet": [
           {
            "colorbar": {
             "outlinewidth": 0,
             "ticks": ""
            },
            "type": "contourcarpet"
           }
          ],
          "heatmap": [
           {
            "colorbar": {
             "outlinewidth": 0,
             "ticks": ""
            },
            "colorscale": [
             [
              0,
              "#0d0887"
             ],
             [
              0.1111111111111111,
              "#46039f"
             ],
             [
              0.2222222222222222,
              "#7201a8"
             ],
             [
              0.3333333333333333,
              "#9c179e"
             ],
             [
              0.4444444444444444,
              "#bd3786"
             ],
             [
              0.5555555555555556,
              "#d8576b"
             ],
             [
              0.6666666666666666,
              "#ed7953"
             ],
             [
              0.7777777777777778,
              "#fb9f3a"
             ],
             [
              0.8888888888888888,
              "#fdca26"
             ],
             [
              1,
              "#f0f921"
             ]
            ],
            "type": "heatmap"
           }
          ],
          "heatmapgl": [
           {
            "colorbar": {
             "outlinewidth": 0,
             "ticks": ""
            },
            "colorscale": [
             [
              0,
              "#0d0887"
             ],
             [
              0.1111111111111111,
              "#46039f"
             ],
             [
              0.2222222222222222,
              "#7201a8"
             ],
             [
              0.3333333333333333,
              "#9c179e"
             ],
             [
              0.4444444444444444,
              "#bd3786"
             ],
             [
              0.5555555555555556,
              "#d8576b"
             ],
             [
              0.6666666666666666,
              "#ed7953"
             ],
             [
              0.7777777777777778,
              "#fb9f3a"
             ],
             [
              0.8888888888888888,
              "#fdca26"
             ],
             [
              1,
              "#f0f921"
             ]
            ],
            "type": "heatmapgl"
           }
          ],
          "histogram": [
           {
            "marker": {
             "colorbar": {
              "outlinewidth": 0,
              "ticks": ""
             }
            },
            "type": "histogram"
           }
          ],
          "histogram2d": [
           {
            "colorbar": {
             "outlinewidth": 0,
             "ticks": ""
            },
            "colorscale": [
             [
              0,
              "#0d0887"
             ],
             [
              0.1111111111111111,
              "#46039f"
             ],
             [
              0.2222222222222222,
              "#7201a8"
             ],
             [
              0.3333333333333333,
              "#9c179e"
             ],
             [
              0.4444444444444444,
              "#bd3786"
             ],
             [
              0.5555555555555556,
              "#d8576b"
             ],
             [
              0.6666666666666666,
              "#ed7953"
             ],
             [
              0.7777777777777778,
              "#fb9f3a"
             ],
             [
              0.8888888888888888,
              "#fdca26"
             ],
             [
              1,
              "#f0f921"
             ]
            ],
            "type": "histogram2d"
           }
          ],
          "histogram2dcontour": [
           {
            "colorbar": {
             "outlinewidth": 0,
             "ticks": ""
            },
            "colorscale": [
             [
              0,
              "#0d0887"
             ],
             [
              0.1111111111111111,
              "#46039f"
             ],
             [
              0.2222222222222222,
              "#7201a8"
             ],
             [
              0.3333333333333333,
              "#9c179e"
             ],
             [
              0.4444444444444444,
              "#bd3786"
             ],
             [
              0.5555555555555556,
              "#d8576b"
             ],
             [
              0.6666666666666666,
              "#ed7953"
             ],
             [
              0.7777777777777778,
              "#fb9f3a"
             ],
             [
              0.8888888888888888,
              "#fdca26"
             ],
             [
              1,
              "#f0f921"
             ]
            ],
            "type": "histogram2dcontour"
           }
          ],
          "mesh3d": [
           {
            "colorbar": {
             "outlinewidth": 0,
             "ticks": ""
            },
            "type": "mesh3d"
           }
          ],
          "parcoords": [
           {
            "line": {
             "colorbar": {
              "outlinewidth": 0,
              "ticks": ""
             }
            },
            "type": "parcoords"
           }
          ],
          "pie": [
           {
            "automargin": true,
            "type": "pie"
           }
          ],
          "scatter": [
           {
            "marker": {
             "colorbar": {
              "outlinewidth": 0,
              "ticks": ""
             }
            },
            "type": "scatter"
           }
          ],
          "scatter3d": [
           {
            "line": {
             "colorbar": {
              "outlinewidth": 0,
              "ticks": ""
             }
            },
            "marker": {
             "colorbar": {
              "outlinewidth": 0,
              "ticks": ""
             }
            },
            "type": "scatter3d"
           }
          ],
          "scattercarpet": [
           {
            "marker": {
             "colorbar": {
              "outlinewidth": 0,
              "ticks": ""
             }
            },
            "type": "scattercarpet"
           }
          ],
          "scattergeo": [
           {
            "marker": {
             "colorbar": {
              "outlinewidth": 0,
              "ticks": ""
             }
            },
            "type": "scattergeo"
           }
          ],
          "scattergl": [
           {
            "marker": {
             "colorbar": {
              "outlinewidth": 0,
              "ticks": ""
             }
            },
            "type": "scattergl"
           }
          ],
          "scattermapbox": [
           {
            "marker": {
             "colorbar": {
              "outlinewidth": 0,
              "ticks": ""
             }
            },
            "type": "scattermapbox"
           }
          ],
          "scatterpolar": [
           {
            "marker": {
             "colorbar": {
              "outlinewidth": 0,
              "ticks": ""
             }
            },
            "type": "scatterpolar"
           }
          ],
          "scatterpolargl": [
           {
            "marker": {
             "colorbar": {
              "outlinewidth": 0,
              "ticks": ""
             }
            },
            "type": "scatterpolargl"
           }
          ],
          "scatterternary": [
           {
            "marker": {
             "colorbar": {
              "outlinewidth": 0,
              "ticks": ""
             }
            },
            "type": "scatterternary"
           }
          ],
          "surface": [
           {
            "colorbar": {
             "outlinewidth": 0,
             "ticks": ""
            },
            "colorscale": [
             [
              0,
              "#0d0887"
             ],
             [
              0.1111111111111111,
              "#46039f"
             ],
             [
              0.2222222222222222,
              "#7201a8"
             ],
             [
              0.3333333333333333,
              "#9c179e"
             ],
             [
              0.4444444444444444,
              "#bd3786"
             ],
             [
              0.5555555555555556,
              "#d8576b"
             ],
             [
              0.6666666666666666,
              "#ed7953"
             ],
             [
              0.7777777777777778,
              "#fb9f3a"
             ],
             [
              0.8888888888888888,
              "#fdca26"
             ],
             [
              1,
              "#f0f921"
             ]
            ],
            "type": "surface"
           }
          ],
          "table": [
           {
            "cells": {
             "fill": {
              "color": "#EBF0F8"
             },
             "line": {
              "color": "white"
             }
            },
            "header": {
             "fill": {
              "color": "#C8D4E3"
             },
             "line": {
              "color": "white"
             }
            },
            "type": "table"
           }
          ]
         },
         "layout": {
          "annotationdefaults": {
           "arrowcolor": "#2a3f5f",
           "arrowhead": 0,
           "arrowwidth": 1
          },
          "coloraxis": {
           "colorbar": {
            "outlinewidth": 0,
            "ticks": ""
           }
          },
          "colorscale": {
           "diverging": [
            [
             0,
             "#8e0152"
            ],
            [
             0.1,
             "#c51b7d"
            ],
            [
             0.2,
             "#de77ae"
            ],
            [
             0.3,
             "#f1b6da"
            ],
            [
             0.4,
             "#fde0ef"
            ],
            [
             0.5,
             "#f7f7f7"
            ],
            [
             0.6,
             "#e6f5d0"
            ],
            [
             0.7,
             "#b8e186"
            ],
            [
             0.8,
             "#7fbc41"
            ],
            [
             0.9,
             "#4d9221"
            ],
            [
             1,
             "#276419"
            ]
           ],
           "sequential": [
            [
             0,
             "#0d0887"
            ],
            [
             0.1111111111111111,
             "#46039f"
            ],
            [
             0.2222222222222222,
             "#7201a8"
            ],
            [
             0.3333333333333333,
             "#9c179e"
            ],
            [
             0.4444444444444444,
             "#bd3786"
            ],
            [
             0.5555555555555556,
             "#d8576b"
            ],
            [
             0.6666666666666666,
             "#ed7953"
            ],
            [
             0.7777777777777778,
             "#fb9f3a"
            ],
            [
             0.8888888888888888,
             "#fdca26"
            ],
            [
             1,
             "#f0f921"
            ]
           ],
           "sequentialminus": [
            [
             0,
             "#0d0887"
            ],
            [
             0.1111111111111111,
             "#46039f"
            ],
            [
             0.2222222222222222,
             "#7201a8"
            ],
            [
             0.3333333333333333,
             "#9c179e"
            ],
            [
             0.4444444444444444,
             "#bd3786"
            ],
            [
             0.5555555555555556,
             "#d8576b"
            ],
            [
             0.6666666666666666,
             "#ed7953"
            ],
            [
             0.7777777777777778,
             "#fb9f3a"
            ],
            [
             0.8888888888888888,
             "#fdca26"
            ],
            [
             1,
             "#f0f921"
            ]
           ]
          },
          "colorway": [
           "#636efa",
           "#EF553B",
           "#00cc96",
           "#ab63fa",
           "#FFA15A",
           "#19d3f3",
           "#FF6692",
           "#B6E880",
           "#FF97FF",
           "#FECB52"
          ],
          "font": {
           "color": "#2a3f5f"
          },
          "geo": {
           "bgcolor": "white",
           "lakecolor": "white",
           "landcolor": "#E5ECF6",
           "showlakes": true,
           "showland": true,
           "subunitcolor": "white"
          },
          "hoverlabel": {
           "align": "left"
          },
          "hovermode": "closest",
          "mapbox": {
           "style": "light"
          },
          "paper_bgcolor": "white",
          "plot_bgcolor": "#E5ECF6",
          "polar": {
           "angularaxis": {
            "gridcolor": "white",
            "linecolor": "white",
            "ticks": ""
           },
           "bgcolor": "#E5ECF6",
           "radialaxis": {
            "gridcolor": "white",
            "linecolor": "white",
            "ticks": ""
           }
          },
          "scene": {
           "xaxis": {
            "backgroundcolor": "#E5ECF6",
            "gridcolor": "white",
            "gridwidth": 2,
            "linecolor": "white",
            "showbackground": true,
            "ticks": "",
            "zerolinecolor": "white"
           },
           "yaxis": {
            "backgroundcolor": "#E5ECF6",
            "gridcolor": "white",
            "gridwidth": 2,
            "linecolor": "white",
            "showbackground": true,
            "ticks": "",
            "zerolinecolor": "white"
           },
           "zaxis": {
            "backgroundcolor": "#E5ECF6",
            "gridcolor": "white",
            "gridwidth": 2,
            "linecolor": "white",
            "showbackground": true,
            "ticks": "",
            "zerolinecolor": "white"
           }
          },
          "shapedefaults": {
           "line": {
            "color": "#2a3f5f"
           }
          },
          "ternary": {
           "aaxis": {
            "gridcolor": "white",
            "linecolor": "white",
            "ticks": ""
           },
           "baxis": {
            "gridcolor": "white",
            "linecolor": "white",
            "ticks": ""
           },
           "bgcolor": "#E5ECF6",
           "caxis": {
            "gridcolor": "white",
            "linecolor": "white",
            "ticks": ""
           }
          },
          "title": {
           "x": 0.05
          },
          "xaxis": {
           "automargin": true,
           "gridcolor": "white",
           "linecolor": "white",
           "ticks": "",
           "title": {
            "standoff": 15
           },
           "zerolinecolor": "white",
           "zerolinewidth": 2
          },
          "yaxis": {
           "automargin": true,
           "gridcolor": "white",
           "linecolor": "white",
           "ticks": "",
           "title": {
            "standoff": 15
           },
           "zerolinecolor": "white",
           "zerolinewidth": 2
          }
         }
        },
        "xaxis": {
         "anchor": "y",
         "domain": [
          0,
          1
         ],
         "title": {
          "text": "year"
         }
        },
        "yaxis": {
         "anchor": "x",
         "domain": [
          0,
          1
         ],
         "title": {
          "text": "winning_prob"
         }
        }
       }
      },
      "text/html": [
       "<div>\n",
       "        \n",
       "        \n",
       "            <div id=\"aeec4581-642a-4eb9-9b13-adce0b0a3c31\" class=\"plotly-graph-div\" style=\"height:525px; width:100%;\"></div>\n",
       "            <script type=\"text/javascript\">\n",
       "                require([\"plotly\"], function(Plotly) {\n",
       "                    window.PLOTLYENV=window.PLOTLYENV || {};\n",
       "                    \n",
       "                if (document.getElementById(\"aeec4581-642a-4eb9-9b13-adce0b0a3c31\")) {\n",
       "                    Plotly.newPlot(\n",
       "                        'aeec4581-642a-4eb9-9b13-adce0b0a3c31',\n",
       "                        [{\"hoverlabel\": {\"namelength\": 0}, \"hovertemplate\": \"year=%{x}<br>winning_prob=%{y}\", \"legendgroup\": \"\", \"line\": {\"color\": \"#636efa\", \"dash\": \"solid\"}, \"mode\": \"lines\", \"name\": \"\", \"showlegend\": false, \"type\": \"scatter\", \"x\": [1975, 1976, 1977, 1978, 1979, 1980, 1981, 1982, 1983, 1984, 1985, 1986, 1987, 1988, 1989, 1990, 1991, 1992, 1993, 1994, 1995, 1996, 1997, 1998, 1999, 2000, 2001, 2002, 2003, 2004, 2005, 2006, 2007, 2008, 2009, 2010, 2012, 2013, 2014, 2015, 2016, 2018], \"xaxis\": \"x\", \"y\": [0.125, 0.35714285714285715, 0.3611111111111111, 0.2916666666666667, 0.32, 0.09090909090909091, 0.45161290322580644, 0.13043478260869565, 0.3157894736842105, 0.1111111111111111, 0.19230769230769232, 0.2916666666666667, 0.19047619047619047, 0.34782608695652173, 0.3333333333333333, 0.2727272727272727, 0.3783783783783784, 0.2631578947368421, 0.4, 0.38461538461538464, 0.21052631578947367, 0.23076923076923078, 0.45454545454545453, 0.4, 0.4, 0.29411764705882354, 0.2692307692307692, 0.18181818181818182, 0.5, 0.1875, 0.3076923076923077, 0.25, 0.1, 0.17647058823529413, 0.2777777777777778, 0.4, 0.25, 0.5, 0.08333333333333333, 0.125, 0.6, 0.3], \"yaxis\": \"y\"}],\n",
       "                        {\"legend\": {\"tracegroupgap\": 0}, \"margin\": {\"t\": 60}, \"template\": {\"data\": {\"bar\": [{\"error_x\": {\"color\": \"#2a3f5f\"}, \"error_y\": {\"color\": \"#2a3f5f\"}, \"marker\": {\"line\": {\"color\": \"#E5ECF6\", \"width\": 0.5}}, \"type\": \"bar\"}], \"barpolar\": [{\"marker\": {\"line\": {\"color\": \"#E5ECF6\", \"width\": 0.5}}, \"type\": \"barpolar\"}], \"carpet\": [{\"aaxis\": {\"endlinecolor\": \"#2a3f5f\", \"gridcolor\": \"white\", \"linecolor\": \"white\", \"minorgridcolor\": \"white\", \"startlinecolor\": \"#2a3f5f\"}, \"baxis\": {\"endlinecolor\": \"#2a3f5f\", \"gridcolor\": \"white\", \"linecolor\": \"white\", \"minorgridcolor\": \"white\", \"startlinecolor\": \"#2a3f5f\"}, \"type\": \"carpet\"}], \"choropleth\": [{\"colorbar\": {\"outlinewidth\": 0, \"ticks\": \"\"}, \"type\": \"choropleth\"}], \"contour\": [{\"colorbar\": {\"outlinewidth\": 0, \"ticks\": \"\"}, \"colorscale\": [[0.0, \"#0d0887\"], [0.1111111111111111, \"#46039f\"], [0.2222222222222222, \"#7201a8\"], [0.3333333333333333, \"#9c179e\"], [0.4444444444444444, \"#bd3786\"], [0.5555555555555556, \"#d8576b\"], [0.6666666666666666, \"#ed7953\"], [0.7777777777777778, \"#fb9f3a\"], [0.8888888888888888, \"#fdca26\"], [1.0, \"#f0f921\"]], \"type\": \"contour\"}], \"contourcarpet\": [{\"colorbar\": {\"outlinewidth\": 0, \"ticks\": \"\"}, \"type\": \"contourcarpet\"}], \"heatmap\": [{\"colorbar\": {\"outlinewidth\": 0, \"ticks\": \"\"}, \"colorscale\": [[0.0, \"#0d0887\"], [0.1111111111111111, \"#46039f\"], [0.2222222222222222, \"#7201a8\"], [0.3333333333333333, \"#9c179e\"], [0.4444444444444444, \"#bd3786\"], [0.5555555555555556, \"#d8576b\"], [0.6666666666666666, \"#ed7953\"], [0.7777777777777778, \"#fb9f3a\"], [0.8888888888888888, \"#fdca26\"], [1.0, \"#f0f921\"]], \"type\": \"heatmap\"}], \"heatmapgl\": [{\"colorbar\": {\"outlinewidth\": 0, \"ticks\": \"\"}, \"colorscale\": [[0.0, \"#0d0887\"], [0.1111111111111111, \"#46039f\"], [0.2222222222222222, \"#7201a8\"], [0.3333333333333333, \"#9c179e\"], [0.4444444444444444, \"#bd3786\"], [0.5555555555555556, \"#d8576b\"], [0.6666666666666666, \"#ed7953\"], [0.7777777777777778, \"#fb9f3a\"], [0.8888888888888888, \"#fdca26\"], [1.0, \"#f0f921\"]], \"type\": \"heatmapgl\"}], \"histogram\": [{\"marker\": {\"colorbar\": {\"outlinewidth\": 0, \"ticks\": \"\"}}, \"type\": \"histogram\"}], \"histogram2d\": [{\"colorbar\": {\"outlinewidth\": 0, \"ticks\": \"\"}, \"colorscale\": [[0.0, \"#0d0887\"], [0.1111111111111111, \"#46039f\"], [0.2222222222222222, \"#7201a8\"], [0.3333333333333333, \"#9c179e\"], [0.4444444444444444, \"#bd3786\"], [0.5555555555555556, \"#d8576b\"], [0.6666666666666666, \"#ed7953\"], [0.7777777777777778, \"#fb9f3a\"], [0.8888888888888888, \"#fdca26\"], [1.0, \"#f0f921\"]], \"type\": \"histogram2d\"}], \"histogram2dcontour\": [{\"colorbar\": {\"outlinewidth\": 0, \"ticks\": \"\"}, \"colorscale\": [[0.0, \"#0d0887\"], [0.1111111111111111, \"#46039f\"], [0.2222222222222222, \"#7201a8\"], [0.3333333333333333, \"#9c179e\"], [0.4444444444444444, \"#bd3786\"], [0.5555555555555556, \"#d8576b\"], [0.6666666666666666, \"#ed7953\"], [0.7777777777777778, \"#fb9f3a\"], [0.8888888888888888, \"#fdca26\"], [1.0, \"#f0f921\"]], \"type\": \"histogram2dcontour\"}], \"mesh3d\": [{\"colorbar\": {\"outlinewidth\": 0, \"ticks\": \"\"}, \"type\": \"mesh3d\"}], \"parcoords\": [{\"line\": {\"colorbar\": {\"outlinewidth\": 0, \"ticks\": \"\"}}, \"type\": \"parcoords\"}], \"pie\": [{\"automargin\": true, \"type\": \"pie\"}], \"scatter\": [{\"marker\": {\"colorbar\": {\"outlinewidth\": 0, \"ticks\": \"\"}}, \"type\": \"scatter\"}], \"scatter3d\": [{\"line\": {\"colorbar\": {\"outlinewidth\": 0, \"ticks\": \"\"}}, \"marker\": {\"colorbar\": {\"outlinewidth\": 0, \"ticks\": \"\"}}, \"type\": \"scatter3d\"}], \"scattercarpet\": [{\"marker\": {\"colorbar\": {\"outlinewidth\": 0, \"ticks\": \"\"}}, \"type\": \"scattercarpet\"}], \"scattergeo\": [{\"marker\": {\"colorbar\": {\"outlinewidth\": 0, \"ticks\": \"\"}}, \"type\": \"scattergeo\"}], \"scattergl\": [{\"marker\": {\"colorbar\": {\"outlinewidth\": 0, \"ticks\": \"\"}}, \"type\": \"scattergl\"}], \"scattermapbox\": [{\"marker\": {\"colorbar\": {\"outlinewidth\": 0, \"ticks\": \"\"}}, \"type\": \"scattermapbox\"}], \"scatterpolar\": [{\"marker\": {\"colorbar\": {\"outlinewidth\": 0, \"ticks\": \"\"}}, \"type\": \"scatterpolar\"}], \"scatterpolargl\": [{\"marker\": {\"colorbar\": {\"outlinewidth\": 0, \"ticks\": \"\"}}, \"type\": \"scatterpolargl\"}], \"scatterternary\": [{\"marker\": {\"colorbar\": {\"outlinewidth\": 0, \"ticks\": \"\"}}, \"type\": \"scatterternary\"}], \"surface\": [{\"colorbar\": {\"outlinewidth\": 0, \"ticks\": \"\"}, \"colorscale\": [[0.0, \"#0d0887\"], [0.1111111111111111, \"#46039f\"], [0.2222222222222222, \"#7201a8\"], [0.3333333333333333, \"#9c179e\"], [0.4444444444444444, \"#bd3786\"], [0.5555555555555556, \"#d8576b\"], [0.6666666666666666, \"#ed7953\"], [0.7777777777777778, \"#fb9f3a\"], [0.8888888888888888, \"#fdca26\"], [1.0, \"#f0f921\"]], \"type\": \"surface\"}], \"table\": [{\"cells\": {\"fill\": {\"color\": \"#EBF0F8\"}, \"line\": {\"color\": \"white\"}}, \"header\": {\"fill\": {\"color\": \"#C8D4E3\"}, \"line\": {\"color\": \"white\"}}, \"type\": \"table\"}]}, \"layout\": {\"annotationdefaults\": {\"arrowcolor\": \"#2a3f5f\", \"arrowhead\": 0, \"arrowwidth\": 1}, \"coloraxis\": {\"colorbar\": {\"outlinewidth\": 0, \"ticks\": \"\"}}, \"colorscale\": {\"diverging\": [[0, \"#8e0152\"], [0.1, \"#c51b7d\"], [0.2, \"#de77ae\"], [0.3, \"#f1b6da\"], [0.4, \"#fde0ef\"], [0.5, \"#f7f7f7\"], [0.6, \"#e6f5d0\"], [0.7, \"#b8e186\"], [0.8, \"#7fbc41\"], [0.9, \"#4d9221\"], [1, \"#276419\"]], \"sequential\": [[0.0, \"#0d0887\"], [0.1111111111111111, \"#46039f\"], [0.2222222222222222, \"#7201a8\"], [0.3333333333333333, \"#9c179e\"], [0.4444444444444444, \"#bd3786\"], [0.5555555555555556, \"#d8576b\"], [0.6666666666666666, \"#ed7953\"], [0.7777777777777778, \"#fb9f3a\"], [0.8888888888888888, \"#fdca26\"], [1.0, \"#f0f921\"]], \"sequentialminus\": [[0.0, \"#0d0887\"], [0.1111111111111111, \"#46039f\"], [0.2222222222222222, \"#7201a8\"], [0.3333333333333333, \"#9c179e\"], [0.4444444444444444, \"#bd3786\"], [0.5555555555555556, \"#d8576b\"], [0.6666666666666666, \"#ed7953\"], [0.7777777777777778, \"#fb9f3a\"], [0.8888888888888888, \"#fdca26\"], [1.0, \"#f0f921\"]]}, \"colorway\": [\"#636efa\", \"#EF553B\", \"#00cc96\", \"#ab63fa\", \"#FFA15A\", \"#19d3f3\", \"#FF6692\", \"#B6E880\", \"#FF97FF\", \"#FECB52\"], \"font\": {\"color\": \"#2a3f5f\"}, \"geo\": {\"bgcolor\": \"white\", \"lakecolor\": \"white\", \"landcolor\": \"#E5ECF6\", \"showlakes\": true, \"showland\": true, \"subunitcolor\": \"white\"}, \"hoverlabel\": {\"align\": \"left\"}, \"hovermode\": \"closest\", \"mapbox\": {\"style\": \"light\"}, \"paper_bgcolor\": \"white\", \"plot_bgcolor\": \"#E5ECF6\", \"polar\": {\"angularaxis\": {\"gridcolor\": \"white\", \"linecolor\": \"white\", \"ticks\": \"\"}, \"bgcolor\": \"#E5ECF6\", \"radialaxis\": {\"gridcolor\": \"white\", \"linecolor\": \"white\", \"ticks\": \"\"}}, \"scene\": {\"xaxis\": {\"backgroundcolor\": \"#E5ECF6\", \"gridcolor\": \"white\", \"gridwidth\": 2, \"linecolor\": \"white\", \"showbackground\": true, \"ticks\": \"\", \"zerolinecolor\": \"white\"}, \"yaxis\": {\"backgroundcolor\": \"#E5ECF6\", \"gridcolor\": \"white\", \"gridwidth\": 2, \"linecolor\": \"white\", \"showbackground\": true, \"ticks\": \"\", \"zerolinecolor\": \"white\"}, \"zaxis\": {\"backgroundcolor\": \"#E5ECF6\", \"gridcolor\": \"white\", \"gridwidth\": 2, \"linecolor\": \"white\", \"showbackground\": true, \"ticks\": \"\", \"zerolinecolor\": \"white\"}}, \"shapedefaults\": {\"line\": {\"color\": \"#2a3f5f\"}}, \"ternary\": {\"aaxis\": {\"gridcolor\": \"white\", \"linecolor\": \"white\", \"ticks\": \"\"}, \"baxis\": {\"gridcolor\": \"white\", \"linecolor\": \"white\", \"ticks\": \"\"}, \"bgcolor\": \"#E5ECF6\", \"caxis\": {\"gridcolor\": \"white\", \"linecolor\": \"white\", \"ticks\": \"\"}}, \"title\": {\"x\": 0.05}, \"xaxis\": {\"automargin\": true, \"gridcolor\": \"white\", \"linecolor\": \"white\", \"ticks\": \"\", \"title\": {\"standoff\": 15}, \"zerolinecolor\": \"white\", \"zerolinewidth\": 2}, \"yaxis\": {\"automargin\": true, \"gridcolor\": \"white\", \"linecolor\": \"white\", \"ticks\": \"\", \"title\": {\"standoff\": 15}, \"zerolinecolor\": \"white\", \"zerolinewidth\": 2}}}, \"xaxis\": {\"anchor\": \"y\", \"domain\": [0.0, 1.0], \"title\": {\"text\": \"year\"}}, \"yaxis\": {\"anchor\": \"x\", \"domain\": [0.0, 1.0], \"title\": {\"text\": \"winning_prob\"}}},\n",
       "                        {\"responsive\": true}\n",
       "                    ).then(function(){\n",
       "                            \n",
       "var gd = document.getElementById('aeec4581-642a-4eb9-9b13-adce0b0a3c31');\n",
       "var x = new MutationObserver(function (mutations, observer) {{\n",
       "        var display = window.getComputedStyle(gd).display;\n",
       "        if (!display || display === 'none') {{\n",
       "            console.log([gd, 'removed!']);\n",
       "            Plotly.purge(gd);\n",
       "            observer.disconnect();\n",
       "        }}\n",
       "}});\n",
       "\n",
       "// Listen for the removal of the full notebook cells\n",
       "var notebookContainer = gd.closest('#notebook-container');\n",
       "if (notebookContainer) {{\n",
       "    x.observe(notebookContainer, {childList: true});\n",
       "}}\n",
       "\n",
       "// Listen for the clearing of the current output cell\n",
       "var outputEl = gd.closest('.output');\n",
       "if (outputEl) {{\n",
       "    x.observe(outputEl, {childList: true});\n",
       "}}\n",
       "\n",
       "                        })\n",
       "                };\n",
       "                });\n",
       "            </script>\n",
       "        </div>"
      ]
     },
     "metadata": {},
     "output_type": "display_data"
    }
   ],
   "source": [
    "merged_years['winning_prob'] = merged_years['oscars']/merged_years['nominations']\n",
    "fig = px.line(merged_years, x='year', y='winning_prob')\n",
    "fig.show()"
   ]
  },
  {
   "cell_type": "code",
   "execution_count": 120,
   "metadata": {},
   "outputs": [],
   "source": [
    "# there is a better chance of winning an oscar if you are nominated"
   ]
  },
  {
   "cell_type": "markdown",
   "metadata": {},
   "source": [
    "**Question 6: What movie genre is most often present in blobkbuster shortlist?**\n",
    "\n",
    "To answer this question, we visualise the count of each genre over the entire blockbuster dataset. "
   ]
  },
  {
   "cell_type": "code",
   "execution_count": 62,
   "metadata": {},
   "outputs": [
    {
     "data": {
      "image/png": "[encoded data removed]",
      "text/plain": [
       "<Figure size 842.4x595.44 with 1 Axes>"
      ]
     },
     "metadata": {
      "needs_background": "light"
     },
     "output_type": "display_data"
    }
   ],
   "source": [
    "# visualise the genre most frequently present in blobkbuster shortlist\n",
    "\n",
    "a4_dims = (11.7, 8.27)\n",
    "fig, ax = pyplot.subplots(figsize=a4_dims)\n",
    "\n",
    "ax = sns.countplot(y=\"Main_Genre\", data=blockbusters, order = blockbusters['Main_Genre'].value_counts().index)"
   ]
  },
  {
   "cell_type": "markdown",
   "metadata": {},
   "source": [
    "Thriller seems to be the most common genre. However may that have varied over time? To verify this we visualise the proportion represented by each genre from the total of each specific year."
   ]
  },
  {
   "cell_type": "code",
   "execution_count": 63,
   "metadata": {},
   "outputs": [],
   "source": [
    "# compute count of movies across and within categories each year, to obtain proportion represented by each category\n",
    "\n",
    "categories_each_year = (blockbusters\n",
    "                        .rename({\"year_film\": \"year\"}, axis=\"columns\")\n",
    "   .assign(number_year = lambda df: df.groupby('year')['title'].transform(len))\n",
    "   .assign(number_year_category = lambda df: df.groupby(['year', 'Main_Genre'])['title'].transform(len))\n",
    "   .assign(category_per_year = lambda df: df['number_year_category'] / df['number_year'])\n",
    ")\n",
    "\n",
    "categories_each_year = categories_each_year[['Main_Genre', 'year','category_per_year']].drop_duplicates() \n",
    "\n",
    "categories_each_year = (categories_each_year\n",
    "     .assign(temp=lambda df: df.groupby('year')['category_per_year'].shift())\n",
    "     .fillna(0)\n",
    "     .assign(bottom=lambda df: df.groupby('year')['temp'].cumsum()) #used for plotting\n",
    "     .reset_index() \n",
    "     .drop(['temp', 'index'], axis=1)\n",
    ")\n",
    "\n",
    "\n",
    "# create a dataframe of all combinations of year and genre, with counts of genre (filled in with 0 if not in the blockbuster shortlist)\n",
    "\n",
    "import itertools\n",
    "a = blockbusters.year_film.unique()\n",
    "b = blockbusters.Main_Genre.unique()\n",
    "#c = [-1]\n",
    "# result contains all possible combinations.\n",
    "combinations = list(itertools.product(a,b))\n",
    "combinations = pd.DataFrame.from_dict(combinations).rename(columns={0: \"year\", 1: \"Main_Genre\"}).assign(category_per_year=float(0),bottom=float(0))\n",
    "\n",
    "categories_each_year_full = (combinations\n",
    "                             .merge(categories_each_year, on = ['year','Main_Genre'], how='outer')\n",
    "                             .fillna(0)\n",
    "                             .drop(['category_per_year_x','bottom_x'], axis=1)\n",
    "                             .sort_values(['year', 'Main_Genre'])\n",
    "                            )\n",
    "\n",
    "#create color mapping  \n",
    "\n",
    "colors = ['chartreuse', 'olivedrab', 'darkseagreen', 'forestgreen','lightslategrey', 'darkturquoise', 'paleturquoise', 'cyan', 'cadetblue', 'lightblue', 'deepskyblue', 'darkmagenta', 'plum', 'cornflowerblue', 'midnightblue', 'blue']\n",
    "color_map = {'Genre': categories_each_year_full.Main_Genre.unique(),\n",
    "        'Color': colors}\n",
    "color_map = pd.DataFrame(color_map, columns = ['Genre', 'Color'])"
   ]
  },
  {
   "cell_type": "code",
   "execution_count": 64,
   "metadata": {},
   "outputs": [
    {
     "data": {
      "image/png": "[encoded data removed]",
      "text/plain": [
       "<Figure size 720x504 with 1 Axes>"
      ]
     },
     "metadata": {
      "needs_background": "light"
     },
     "output_type": "display_data"
    }
   ],
   "source": [
    "# visualise the proportions in a 100% stacked bar chart\n",
    "\n",
    "fig, ax = pyplot.subplots()\n",
    "\n",
    "\n",
    "\n",
    "\n",
    "for num, genre in enumerate(categories_each_year_full.Main_Genre.unique()):\n",
    "    values = list(categories_each_year_full[categories_each_year_full['Main_Genre'] == genre].loc[:, 'category_per_year_y'])\n",
    "    margin_bottom = list(categories_each_year_full[categories_each_year_full['Main_Genre'] == genre].loc[:, 'bottom_y'])\n",
    "    categories_each_year_full[categories_each_year_full['Main_Genre'] == genre].plot.bar(x='year',y='category_per_year_y', ax=ax, stacked=True, \n",
    "                                   bottom = margin_bottom, label=genre, color=color_map[color_map['Genre'] == genre].loc[:, 'Color'], figsize=(10,7), width = 0.85)\n",
    "\n",
    "\n",
    "pyplot.legend(bbox_to_anchor=(1.05, 1.0), loc='upper left')\n",
    "\n",
    "pyplot.show()\n",
    "\n"
   ]
  },
  {
   "cell_type": "markdown",
   "metadata": {},
   "source": [
    "Although thriller was the main category overall, action movies seem to have been most popular lately. \n",
    "\n",
    "**Question 7: What movie genre brings the most revenue among blockbuster movies?**\n",
    "\n",
    "Here again we'll compute revenue of movies across and within categories each year, to obtain proportion represented by each category"
   ]
  },
  {
   "cell_type": "code",
   "execution_count": 65,
   "metadata": {},
   "outputs": [
    {
     "ename": "AttributeError",
     "evalue": "Can only use .str accessor with string values!",
     "output_type": "error",
     "traceback": [
      "\u001b[0;31m---------------------------------------------------------------------------\u001b[0m",
      "\u001b[0;31mAttributeError\u001b[0m                            Traceback (most recent call last)",
      "\u001b[0;32m<ipython-input-65-656feeb89e9a>\u001b[0m in \u001b[0;36m<module>\u001b[0;34m\u001b[0m\n\u001b[1;32m      1\u001b[0m \u001b[0;31m# the revenue variable is a string - we clean it and convert it to numeric\u001b[0m\u001b[0;34m\u001b[0m\u001b[0;34m\u001b[0m\u001b[0;34m\u001b[0m\u001b[0m\n\u001b[1;32m      2\u001b[0m \u001b[0;34m\u001b[0m\u001b[0m\n\u001b[0;32m----> 3\u001b[0;31m \u001b[0mblockbusters\u001b[0m\u001b[0;34m[\u001b[0m\u001b[0;34m'worldwide_gross'\u001b[0m\u001b[0;34m]\u001b[0m \u001b[0;34m=\u001b[0m \u001b[0mblockbusters\u001b[0m\u001b[0;34m[\u001b[0m\u001b[0;34m'worldwide_gross'\u001b[0m\u001b[0;34m]\u001b[0m\u001b[0;34m.\u001b[0m\u001b[0mstr\u001b[0m\u001b[0;34m.\u001b[0m\u001b[0mreplace\u001b[0m\u001b[0;34m(\u001b[0m\u001b[0;34m','\u001b[0m\u001b[0;34m,\u001b[0m \u001b[0;34m''\u001b[0m\u001b[0;34m)\u001b[0m\u001b[0;34m\u001b[0m\u001b[0;34m\u001b[0m\u001b[0m\n\u001b[0m\u001b[1;32m      4\u001b[0m \u001b[0mblockbusters\u001b[0m\u001b[0;34m[\u001b[0m\u001b[0;34m'worldwide_gross'\u001b[0m\u001b[0;34m]\u001b[0m \u001b[0;34m=\u001b[0m \u001b[0mblockbusters\u001b[0m\u001b[0;34m[\u001b[0m\u001b[0;34m'worldwide_gross'\u001b[0m\u001b[0;34m]\u001b[0m\u001b[0;34m.\u001b[0m\u001b[0mstr\u001b[0m\u001b[0;34m.\u001b[0m\u001b[0mreplace\u001b[0m\u001b[0;34m(\u001b[0m\u001b[0;34m'$'\u001b[0m\u001b[0;34m,\u001b[0m \u001b[0;34m''\u001b[0m\u001b[0;34m)\u001b[0m\u001b[0;34m\u001b[0m\u001b[0;34m\u001b[0m\u001b[0m\n\u001b[1;32m      5\u001b[0m \u001b[0mblockbusters\u001b[0m\u001b[0;34m[\u001b[0m\u001b[0;34m'worldwide_gross'\u001b[0m\u001b[0;34m]\u001b[0m \u001b[0;34m=\u001b[0m \u001b[0mpd\u001b[0m\u001b[0;34m.\u001b[0m\u001b[0mto_numeric\u001b[0m\u001b[0;34m(\u001b[0m\u001b[0mblockbusters\u001b[0m\u001b[0;34m[\u001b[0m\u001b[0;34m'worldwide_gross'\u001b[0m\u001b[0;34m]\u001b[0m\u001b[0;34m)\u001b[0m\u001b[0;34m\u001b[0m\u001b[0;34m\u001b[0m\u001b[0m\n",
      "\u001b[0;32m/opt/anaconda3/lib/python3.7/site-packages/pandas/core/generic.py\u001b[0m in \u001b[0;36m__getattr__\u001b[0;34m(self, name)\u001b[0m\n\u001b[1;32m   5173\u001b[0m             \u001b[0;32mor\u001b[0m \u001b[0mname\u001b[0m \u001b[0;32min\u001b[0m \u001b[0mself\u001b[0m\u001b[0;34m.\u001b[0m\u001b[0m_accessors\u001b[0m\u001b[0;34m\u001b[0m\u001b[0;34m\u001b[0m\u001b[0m\n\u001b[1;32m   5174\u001b[0m         ):\n\u001b[0;32m-> 5175\u001b[0;31m             \u001b[0;32mreturn\u001b[0m \u001b[0mobject\u001b[0m\u001b[0;34m.\u001b[0m\u001b[0m__getattribute__\u001b[0m\u001b[0;34m(\u001b[0m\u001b[0mself\u001b[0m\u001b[0;34m,\u001b[0m \u001b[0mname\u001b[0m\u001b[0;34m)\u001b[0m\u001b[0;34m\u001b[0m\u001b[0;34m\u001b[0m\u001b[0m\n\u001b[0m\u001b[1;32m   5176\u001b[0m         \u001b[0;32melse\u001b[0m\u001b[0;34m:\u001b[0m\u001b[0;34m\u001b[0m\u001b[0;34m\u001b[0m\u001b[0m\n\u001b[1;32m   5177\u001b[0m             \u001b[0;32mif\u001b[0m \u001b[0mself\u001b[0m\u001b[0;34m.\u001b[0m\u001b[0m_info_axis\u001b[0m\u001b[0;34m.\u001b[0m\u001b[0m_can_hold_identifiers_and_holds_name\u001b[0m\u001b[0;34m(\u001b[0m\u001b[0mname\u001b[0m\u001b[0;34m)\u001b[0m\u001b[0;34m:\u001b[0m\u001b[0;34m\u001b[0m\u001b[0;34m\u001b[0m\u001b[0m\n",
      "\u001b[0;32m/opt/anaconda3/lib/python3.7/site-packages/pandas/core/accessor.py\u001b[0m in \u001b[0;36m__get__\u001b[0;34m(self, obj, cls)\u001b[0m\n\u001b[1;32m    173\u001b[0m             \u001b[0;31m# we're accessing the attribute of the class, i.e., Dataset.geo\u001b[0m\u001b[0;34m\u001b[0m\u001b[0;34m\u001b[0m\u001b[0;34m\u001b[0m\u001b[0m\n\u001b[1;32m    174\u001b[0m             \u001b[0;32mreturn\u001b[0m \u001b[0mself\u001b[0m\u001b[0;34m.\u001b[0m\u001b[0m_accessor\u001b[0m\u001b[0;34m\u001b[0m\u001b[0;34m\u001b[0m\u001b[0m\n\u001b[0;32m--> 175\u001b[0;31m         \u001b[0maccessor_obj\u001b[0m \u001b[0;34m=\u001b[0m \u001b[0mself\u001b[0m\u001b[0;34m.\u001b[0m\u001b[0m_accessor\u001b[0m\u001b[0;34m(\u001b[0m\u001b[0mobj\u001b[0m\u001b[0;34m)\u001b[0m\u001b[0;34m\u001b[0m\u001b[0;34m\u001b[0m\u001b[0m\n\u001b[0m\u001b[1;32m    176\u001b[0m         \u001b[0;31m# Replace the property with the accessor object. Inspired by:\u001b[0m\u001b[0;34m\u001b[0m\u001b[0;34m\u001b[0m\u001b[0;34m\u001b[0m\u001b[0m\n\u001b[1;32m    177\u001b[0m         \u001b[0;31m# http://www.pydanny.com/cached-property.html\u001b[0m\u001b[0;34m\u001b[0m\u001b[0;34m\u001b[0m\u001b[0;34m\u001b[0m\u001b[0m\n",
      "\u001b[0;32m/opt/anaconda3/lib/python3.7/site-packages/pandas/core/strings.py\u001b[0m in \u001b[0;36m__init__\u001b[0;34m(self, data)\u001b[0m\n\u001b[1;32m   1915\u001b[0m \u001b[0;34m\u001b[0m\u001b[0m\n\u001b[1;32m   1916\u001b[0m     \u001b[0;32mdef\u001b[0m \u001b[0m__init__\u001b[0m\u001b[0;34m(\u001b[0m\u001b[0mself\u001b[0m\u001b[0;34m,\u001b[0m \u001b[0mdata\u001b[0m\u001b[0;34m)\u001b[0m\u001b[0;34m:\u001b[0m\u001b[0;34m\u001b[0m\u001b[0;34m\u001b[0m\u001b[0m\n\u001b[0;32m-> 1917\u001b[0;31m         \u001b[0mself\u001b[0m\u001b[0;34m.\u001b[0m\u001b[0m_inferred_dtype\u001b[0m \u001b[0;34m=\u001b[0m \u001b[0mself\u001b[0m\u001b[0;34m.\u001b[0m\u001b[0m_validate\u001b[0m\u001b[0;34m(\u001b[0m\u001b[0mdata\u001b[0m\u001b[0;34m)\u001b[0m\u001b[0;34m\u001b[0m\u001b[0;34m\u001b[0m\u001b[0m\n\u001b[0m\u001b[1;32m   1918\u001b[0m         \u001b[0mself\u001b[0m\u001b[0;34m.\u001b[0m\u001b[0m_is_categorical\u001b[0m \u001b[0;34m=\u001b[0m \u001b[0mis_categorical_dtype\u001b[0m\u001b[0;34m(\u001b[0m\u001b[0mdata\u001b[0m\u001b[0;34m)\u001b[0m\u001b[0;34m\u001b[0m\u001b[0;34m\u001b[0m\u001b[0m\n\u001b[1;32m   1919\u001b[0m \u001b[0;34m\u001b[0m\u001b[0m\n",
      "\u001b[0;32m/opt/anaconda3/lib/python3.7/site-packages/pandas/core/strings.py\u001b[0m in \u001b[0;36m_validate\u001b[0;34m(data)\u001b[0m\n\u001b[1;32m   1965\u001b[0m \u001b[0;34m\u001b[0m\u001b[0m\n\u001b[1;32m   1966\u001b[0m         \u001b[0;32mif\u001b[0m \u001b[0minferred_dtype\u001b[0m \u001b[0;32mnot\u001b[0m \u001b[0;32min\u001b[0m \u001b[0mallowed_types\u001b[0m\u001b[0;34m:\u001b[0m\u001b[0;34m\u001b[0m\u001b[0;34m\u001b[0m\u001b[0m\n\u001b[0;32m-> 1967\u001b[0;31m             \u001b[0;32mraise\u001b[0m \u001b[0mAttributeError\u001b[0m\u001b[0;34m(\u001b[0m\u001b[0;34m\"Can only use .str accessor with string \"\u001b[0m \u001b[0;34m\"values!\"\u001b[0m\u001b[0;34m)\u001b[0m\u001b[0;34m\u001b[0m\u001b[0;34m\u001b[0m\u001b[0m\n\u001b[0m\u001b[1;32m   1968\u001b[0m         \u001b[0;32mreturn\u001b[0m \u001b[0minferred_dtype\u001b[0m\u001b[0;34m\u001b[0m\u001b[0;34m\u001b[0m\u001b[0m\n\u001b[1;32m   1969\u001b[0m \u001b[0;34m\u001b[0m\u001b[0m\n",
      "\u001b[0;31mAttributeError\u001b[0m: Can only use .str accessor with string values!"
     ]
    }
   ],
   "source": [
    "# the revenue variable is a string - we clean it and convert it to numeric\n",
    "\n",
    "#blockbusters['worldwide_gross'] = blockbusters['worldwide_gross'].str.replace(',', '')\n",
    "#blockbusters['worldwide_gross'] = blockbusters['worldwide_gross'].str.replace('$', '')\n",
    "#blockbusters['worldwide_gross'] = pd.to_numeric(blockbusters['worldwide_gross'])"
   ]
  },
  {
   "cell_type": "code",
   "execution_count": 66,
   "metadata": {},
   "outputs": [
    {
     "data": {
      "image/png": "[encoded data removed]",
      "text/plain": [
       "<Figure size 842.4x595.44 with 1 Axes>"
      ]
     },
     "metadata": {
      "needs_background": "light"
     },
     "output_type": "display_data"
    }
   ],
   "source": [
    "# visualise the revenue of each genre\n",
    "\n",
    "a4_dims = (11.7, 8.27)\n",
    "fig, ax = pyplot.subplots(figsize=a4_dims)\n",
    "\n",
    "ax = sns.barplot(x=\"Main_Genre\", y='worldwide_gross', data=blockbusters, estimator=sum, ci=None, order=blockbusters.groupby('Main_Genre')['worldwide_gross'].sum().sort_values(ascending=False).index)\n"
   ]
  },
  {
   "cell_type": "markdown",
   "metadata": {},
   "source": [
    "Fantasy seems to be the highest grossing genre. Thriller still comes third. We can now check again whether this varies by year. "
   ]
  },
  {
   "cell_type": "code",
   "execution_count": 67,
   "metadata": {},
   "outputs": [],
   "source": [
    "revenue_each_year = (blockbusters\n",
    "                     .rename({\"year_film\": \"year\"}, axis=\"columns\")\n",
    "                     .assign(worldwide_gross = pd.to_numeric(blockbusters['worldwide_gross']))\n",
    "                     .assign(revenue_year = lambda df: df.groupby('year')['worldwide_gross'].transform(sum))\n",
    "                     .assign(revenue_year_category = lambda df: df.groupby(['year', 'Main_Genre'])['worldwide_gross'].transform(sum))\n",
    "                     .assign(prop_revenue_per_category_year = lambda df: df['revenue_year_category'] / df['revenue_year'])\n",
    "                    )\n",
    "\n",
    "revenue_each_year.head()\n",
    "\n",
    "\n",
    "revenue_each_year = revenue_each_year[['Main_Genre', 'year','prop_revenue_per_category_year']].drop_duplicates() \n",
    "\n",
    "revenue_each_year = (revenue_each_year\n",
    "     .assign(temp=lambda df: df.groupby('year')['prop_revenue_per_category_year'].shift())\n",
    "     .fillna(0)\n",
    "     .assign(bottom=lambda df: df.groupby('year')['temp'].cumsum()) #used for plotting\n",
    "     .reset_index() \n",
    "     .drop(['temp', 'index'], axis=1)\n",
    ")\n",
    "\n",
    "revenue_each_year_full = (combinations\n",
    "                     .rename({\"category_per_year\": \"prop_revenue_per_category_year\"}, axis=\"columns\")\n",
    "                             .merge(revenue_each_year, on = ['year','Main_Genre'], how='outer')\n",
    "                             .fillna(0)\n",
    "                             .drop(['prop_revenue_per_category_year_x','bottom_x'], axis=1)\n",
    "                             .sort_values(['year', 'Main_Genre'])\n",
    "                            )\n",
    "\n"
   ]
  },
  {
   "cell_type": "code",
   "execution_count": 68,
   "metadata": {},
   "outputs": [
    {
     "data": {
      "image/png": "[encoded data removed]",
      "text/plain": [
       "<Figure size 720x504 with 1 Axes>"
      ]
     },
     "metadata": {
      "needs_background": "light"
     },
     "output_type": "display_data"
    }
   ],
   "source": [
    "# visualise proportions\n",
    "\n",
    "fig, ax = pyplot.subplots()\n",
    "\n",
    "for num, genre in enumerate(revenue_each_year_full.Main_Genre.unique()):\n",
    "    values = list(revenue_each_year_full[categories_each_year_full['Main_Genre'] == genre].loc[:, 'prop_revenue_per_category_year_y'])\n",
    "    margin_bottom = list(revenue_each_year_full[categories_each_year_full['Main_Genre'] == genre].loc[:, 'bottom_y'])\n",
    "    revenue_each_year_full[revenue_each_year_full['Main_Genre'] == genre].plot.bar(x='year',y='prop_revenue_per_category_year_y', ax=ax, stacked=True, \n",
    "                                   bottom = margin_bottom, label=genre, color=color_map[color_map['Genre'] == genre].loc[:, 'Color'], figsize=(10,7), width = 0.85)\n",
    "\n",
    "\n",
    "pyplot.legend(bbox_to_anchor=(1.05, 1.0), loc='upper left')\n",
    "\n",
    "pyplot.show()\n",
    "# here again action movies are seen to become more proeminent in recent years. "
   ]
  },
  {
   "cell_type": "code",
   "execution_count": null,
   "metadata": {},
   "outputs": [],
   "source": []
  },
  {
   "cell_type": "code",
   "execution_count": null,
   "metadata": {},
   "outputs": [],
   "source": []
  }
 ],
 "metadata": {
  "kernelspec": {
   "display_name": "Python 3",
   "language": "python",
   "name": "python3"
  },
  "language_info": {
   "codemirror_mode": {
    "name": "ipython",
    "version": 3
   },
   "file_extension": ".py",
   "mimetype": "text/x-python",
   "name": "python",
   "nbconvert_exporter": "python",
   "pygments_lexer": "ipython3",
   "version": "3.7.1"
  },
  "toc": {
   "base_numbering": 1,
   "nav_menu": {},
   "number_sections": false,
   "sideBar": true,
   "skip_h1_title": false,
   "title_cell": "Table of Contents",
   "title_sidebar": "Contents",
   "toc_cell": false,
   "toc_position": {},
   "toc_section_display": true,
   "toc_window_display": false
  }
 },
 "nbformat": 4,
 "nbformat_minor": 2
}
