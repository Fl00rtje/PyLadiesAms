{
 "cells": [
  {
   "cell_type": "markdown",
   "metadata": {},
   "source": [
    "# An Analysis of Oscar Awards and Film Data: Team 1\n",
    "\n",
    "\n",
    "Oscar Award Data: https://www.kaggle.com/unanimad/the-oscar-award/kernels\n",
    "Top 10 Highest Grossing Films: https://www.kaggle.com/bidyutchanda/top-10-highest-grossing-films-1975-2018\n",
    "\n",
    "\n",
    "\n",
    "# Five questions we will explore:\n",
    "1. What are the top 3 highest-grossing films that won an Oscar?\n",
    "2. Which genre has won the most Oscars?\n",
    "3. Which studio has the best Oscars to total movies produced ratio?\n",
    "4. How is the relation between total nominations and Oscars award?\n",
    "5. What is the award-winning rate per year?"
   ]
  },
  {
   "cell_type": "code",
   "execution_count": 1,
   "metadata": {
    "ExecuteTime": {
     "end_time": "2020-06-02T20:09:45.595678Z",
     "start_time": "2020-06-02T20:09:43.932006Z"
    }
   },
   "outputs": [],
   "source": [
    "# load libraries\n",
    "import pandas as pd\n",
    "import numpy as np"
   ]
  },
  {
   "cell_type": "code",
   "execution_count": 2,
   "metadata": {
    "ExecuteTime": {
     "end_time": "2020-06-02T20:09:45.692468Z",
     "start_time": "2020-06-02T20:09:45.602458Z"
    }
   },
   "outputs": [],
   "source": [
    "# setting the path for the csv files\n",
    "path_blockbusters = \"data/blockbusters.csv\"\n",
    "path_oscars = \"data/the_oscar_award.csv\"\n",
    "\n",
    "# read the csv files\n",
    "blockbusters = pd.read_csv(path_blockbusters)\n",
    "oscars = pd.read_csv(path_oscars)"
   ]
  },
  {
   "cell_type": "markdown",
   "metadata": {},
   "source": [
    "# Exploring the data"
   ]
  },
  {
   "cell_type": "code",
   "execution_count": 3,
   "metadata": {
    "ExecuteTime": {
     "end_time": "2020-06-02T20:09:45.732032Z",
     "start_time": "2020-06-02T20:09:45.696787Z"
    }
   },
   "outputs": [
    {
     "data": {
      "text/html": [
       "<div>\n",
       "<style scoped>\n",
       "    .dataframe tbody tr th:only-of-type {\n",
       "        vertical-align: middle;\n",
       "    }\n",
       "\n",
       "    .dataframe tbody tr th {\n",
       "        vertical-align: top;\n",
       "    }\n",
       "\n",
       "    .dataframe thead th {\n",
       "        text-align: right;\n",
       "    }\n",
       "</style>\n",
       "<table border=\"1\" class=\"dataframe\">\n",
       "  <thead>\n",
       "    <tr style=\"text-align: right;\">\n",
       "      <th></th>\n",
       "      <th>Main_Genre</th>\n",
       "      <th>Genre_2</th>\n",
       "      <th>Genre_3</th>\n",
       "      <th>imdb_rating</th>\n",
       "      <th>length</th>\n",
       "      <th>rank_in_year</th>\n",
       "      <th>rating</th>\n",
       "      <th>studio</th>\n",
       "      <th>title</th>\n",
       "      <th>worldwide_gross</th>\n",
       "      <th>year</th>\n",
       "    </tr>\n",
       "  </thead>\n",
       "  <tbody>\n",
       "    <tr>\n",
       "      <th>0</th>\n",
       "      <td>Action</td>\n",
       "      <td>Adventure</td>\n",
       "      <td>Drama</td>\n",
       "      <td>7.4</td>\n",
       "      <td>135</td>\n",
       "      <td>1</td>\n",
       "      <td>PG-13</td>\n",
       "      <td>Walt Disney Pictures</td>\n",
       "      <td>Black Panther</td>\n",
       "      <td>$700,059,566</td>\n",
       "      <td>2018</td>\n",
       "    </tr>\n",
       "    <tr>\n",
       "      <th>1</th>\n",
       "      <td>Action</td>\n",
       "      <td>Adventure</td>\n",
       "      <td>Sci-Fi</td>\n",
       "      <td>8.5</td>\n",
       "      <td>156</td>\n",
       "      <td>2</td>\n",
       "      <td>PG-13</td>\n",
       "      <td>Walt Disney Pictures</td>\n",
       "      <td>Avengers: Infinity War</td>\n",
       "      <td>$678,815,482</td>\n",
       "      <td>2018</td>\n",
       "    </tr>\n",
       "    <tr>\n",
       "      <th>2</th>\n",
       "      <td>Animation</td>\n",
       "      <td>Action</td>\n",
       "      <td>Adventure</td>\n",
       "      <td>7.8</td>\n",
       "      <td>118</td>\n",
       "      <td>3</td>\n",
       "      <td>PG</td>\n",
       "      <td>Pixar</td>\n",
       "      <td>Incredibles 2</td>\n",
       "      <td>$608,581,744</td>\n",
       "      <td>2018</td>\n",
       "    </tr>\n",
       "    <tr>\n",
       "      <th>3</th>\n",
       "      <td>Action</td>\n",
       "      <td>Adventure</td>\n",
       "      <td>Drama</td>\n",
       "      <td>6.2</td>\n",
       "      <td>129</td>\n",
       "      <td>4</td>\n",
       "      <td>PG-13</td>\n",
       "      <td>Universal Pictures</td>\n",
       "      <td>Jurassic World: Fallen Kingdom</td>\n",
       "      <td>$416,769,345</td>\n",
       "      <td>2018</td>\n",
       "    </tr>\n",
       "    <tr>\n",
       "      <th>4</th>\n",
       "      <td>Action</td>\n",
       "      <td>Comedy</td>\n",
       "      <td>NaN</td>\n",
       "      <td>7.8</td>\n",
       "      <td>119</td>\n",
       "      <td>5</td>\n",
       "      <td>R</td>\n",
       "      <td>20th Century Fox</td>\n",
       "      <td>Deadpool 2</td>\n",
       "      <td>$318,491,426</td>\n",
       "      <td>2018</td>\n",
       "    </tr>\n",
       "  </tbody>\n",
       "</table>\n",
       "</div>"
      ],
      "text/plain": [
       "  Main_Genre    Genre_2    Genre_3  imdb_rating  length  rank_in_year rating  \\\n",
       "0     Action  Adventure      Drama          7.4     135             1  PG-13   \n",
       "1     Action  Adventure     Sci-Fi          8.5     156             2  PG-13   \n",
       "2  Animation     Action  Adventure          7.8     118             3     PG   \n",
       "3     Action  Adventure      Drama          6.2     129             4  PG-13   \n",
       "4     Action     Comedy        NaN          7.8     119             5      R   \n",
       "\n",
       "                 studio                           title worldwide_gross  year  \n",
       "0  Walt Disney Pictures                   Black Panther    $700,059,566  2018  \n",
       "1  Walt Disney Pictures          Avengers: Infinity War    $678,815,482  2018  \n",
       "2                 Pixar                   Incredibles 2    $608,581,744  2018  \n",
       "3    Universal Pictures  Jurassic World: Fallen Kingdom    $416,769,345  2018  \n",
       "4      20th Century Fox                      Deadpool 2    $318,491,426  2018  "
      ]
     },
     "execution_count": 3,
     "metadata": {},
     "output_type": "execute_result"
    }
   ],
   "source": [
    "# getting an idea of how the blockbusters dataframe looks like\n",
    "blockbusters.head(5)"
   ]
  },
  {
   "cell_type": "code",
   "execution_count": 4,
   "metadata": {
    "ExecuteTime": {
     "end_time": "2020-06-02T20:09:45.759031Z",
     "start_time": "2020-06-02T20:09:45.737931Z"
    },
    "scrolled": true
   },
   "outputs": [
    {
     "data": {
      "text/html": [
       "<div>\n",
       "<style scoped>\n",
       "    .dataframe tbody tr th:only-of-type {\n",
       "        vertical-align: middle;\n",
       "    }\n",
       "\n",
       "    .dataframe tbody tr th {\n",
       "        vertical-align: top;\n",
       "    }\n",
       "\n",
       "    .dataframe thead th {\n",
       "        text-align: right;\n",
       "    }\n",
       "</style>\n",
       "<table border=\"1\" class=\"dataframe\">\n",
       "  <thead>\n",
       "    <tr style=\"text-align: right;\">\n",
       "      <th></th>\n",
       "      <th>year_film</th>\n",
       "      <th>year_ceremony</th>\n",
       "      <th>ceremony</th>\n",
       "      <th>category</th>\n",
       "      <th>name</th>\n",
       "      <th>film</th>\n",
       "      <th>winner</th>\n",
       "    </tr>\n",
       "  </thead>\n",
       "  <tbody>\n",
       "    <tr>\n",
       "      <th>0</th>\n",
       "      <td>1927</td>\n",
       "      <td>1928</td>\n",
       "      <td>1</td>\n",
       "      <td>ACTOR</td>\n",
       "      <td>Richard Barthelmess</td>\n",
       "      <td>The Noose</td>\n",
       "      <td>False</td>\n",
       "    </tr>\n",
       "    <tr>\n",
       "      <th>1</th>\n",
       "      <td>1927</td>\n",
       "      <td>1928</td>\n",
       "      <td>1</td>\n",
       "      <td>ACTOR</td>\n",
       "      <td>Emil Jannings</td>\n",
       "      <td>The Last Command</td>\n",
       "      <td>True</td>\n",
       "    </tr>\n",
       "    <tr>\n",
       "      <th>2</th>\n",
       "      <td>1927</td>\n",
       "      <td>1928</td>\n",
       "      <td>1</td>\n",
       "      <td>ACTRESS</td>\n",
       "      <td>Louise Dresser</td>\n",
       "      <td>A Ship Comes In</td>\n",
       "      <td>False</td>\n",
       "    </tr>\n",
       "    <tr>\n",
       "      <th>3</th>\n",
       "      <td>1927</td>\n",
       "      <td>1928</td>\n",
       "      <td>1</td>\n",
       "      <td>ACTRESS</td>\n",
       "      <td>Janet Gaynor</td>\n",
       "      <td>7th Heaven</td>\n",
       "      <td>True</td>\n",
       "    </tr>\n",
       "    <tr>\n",
       "      <th>4</th>\n",
       "      <td>1927</td>\n",
       "      <td>1928</td>\n",
       "      <td>1</td>\n",
       "      <td>ACTRESS</td>\n",
       "      <td>Gloria Swanson</td>\n",
       "      <td>Sadie Thompson</td>\n",
       "      <td>False</td>\n",
       "    </tr>\n",
       "  </tbody>\n",
       "</table>\n",
       "</div>"
      ],
      "text/plain": [
       "   year_film  year_ceremony  ceremony category                 name  \\\n",
       "0       1927           1928         1    ACTOR  Richard Barthelmess   \n",
       "1       1927           1928         1    ACTOR        Emil Jannings   \n",
       "2       1927           1928         1  ACTRESS       Louise Dresser   \n",
       "3       1927           1928         1  ACTRESS         Janet Gaynor   \n",
       "4       1927           1928         1  ACTRESS       Gloria Swanson   \n",
       "\n",
       "               film  winner  \n",
       "0         The Noose   False  \n",
       "1  The Last Command    True  \n",
       "2   A Ship Comes In   False  \n",
       "3        7th Heaven    True  \n",
       "4    Sadie Thompson   False  "
      ]
     },
     "execution_count": 4,
     "metadata": {},
     "output_type": "execute_result"
    }
   ],
   "source": [
    "# getting an idea of how the oscars dataframe looks like\n",
    "oscars.head(5)"
   ]
  },
  {
   "cell_type": "markdown",
   "metadata": {},
   "source": [
    "# Analysing the dataframes\n",
    "\n",
    "## Differences\n",
    "The data from the oscars starts from 1927.\n",
    "The data from the blockbusters starts at 1975.\n",
    "If we combine the data it makes sense to limit the oscar data to data >= 1975.\n",
    "\n",
    "## Similarities\n",
    "The dataframes have two columns in common:\n",
    "1. The title of the film (title/film)\n",
    "2. The year the film was produced (year/year_film)"
   ]
  },
  {
   "cell_type": "code",
   "execution_count": 5,
   "metadata": {
    "ExecuteTime": {
     "end_time": "2020-06-02T20:09:45.787821Z",
     "start_time": "2020-06-02T20:09:45.763468Z"
    }
   },
   "outputs": [],
   "source": [
    "# limit the oscar data to the year 1975 and up\n",
    "oscars_1975 = oscars.loc[oscars[\"year_film\"] >= 1975]"
   ]
  },
  {
   "cell_type": "markdown",
   "metadata": {},
   "source": [
    "# Merging the data\n",
    "We can merge the data on title and the year of the movie. To do this, we want to rename the columns so that they hold the same name"
   ]
  },
  {
   "cell_type": "code",
   "execution_count": 6,
   "metadata": {
    "ExecuteTime": {
     "end_time": "2020-06-02T20:09:45.824662Z",
     "start_time": "2020-06-02T20:09:45.792914Z"
    }
   },
   "outputs": [
    {
     "data": {
      "text/html": [
       "<div>\n",
       "<style scoped>\n",
       "    .dataframe tbody tr th:only-of-type {\n",
       "        vertical-align: middle;\n",
       "    }\n",
       "\n",
       "    .dataframe tbody tr th {\n",
       "        vertical-align: top;\n",
       "    }\n",
       "\n",
       "    .dataframe thead th {\n",
       "        text-align: right;\n",
       "    }\n",
       "</style>\n",
       "<table border=\"1\" class=\"dataframe\">\n",
       "  <thead>\n",
       "    <tr style=\"text-align: right;\">\n",
       "      <th></th>\n",
       "      <th>year_film</th>\n",
       "      <th>year_ceremony</th>\n",
       "      <th>ceremony</th>\n",
       "      <th>category</th>\n",
       "      <th>name</th>\n",
       "      <th>title</th>\n",
       "      <th>winner</th>\n",
       "    </tr>\n",
       "  </thead>\n",
       "  <tbody>\n",
       "    <tr>\n",
       "      <th>5298</th>\n",
       "      <td>1975</td>\n",
       "      <td>1976</td>\n",
       "      <td>48</td>\n",
       "      <td>ACTOR</td>\n",
       "      <td>Walter Matthau</td>\n",
       "      <td>The Sunshine Boys</td>\n",
       "      <td>False</td>\n",
       "    </tr>\n",
       "    <tr>\n",
       "      <th>5299</th>\n",
       "      <td>1975</td>\n",
       "      <td>1976</td>\n",
       "      <td>48</td>\n",
       "      <td>ACTOR</td>\n",
       "      <td>Jack Nicholson</td>\n",
       "      <td>One Flew over the Cuckoo's Nest</td>\n",
       "      <td>True</td>\n",
       "    </tr>\n",
       "  </tbody>\n",
       "</table>\n",
       "</div>"
      ],
      "text/plain": [
       "      year_film  year_ceremony  ceremony category            name  \\\n",
       "5298       1975           1976        48    ACTOR  Walter Matthau   \n",
       "5299       1975           1976        48    ACTOR  Jack Nicholson   \n",
       "\n",
       "                                title  winner  \n",
       "5298                The Sunshine Boys   False  \n",
       "5299  One Flew over the Cuckoo's Nest    True  "
      ]
     },
     "execution_count": 6,
     "metadata": {},
     "output_type": "execute_result"
    }
   ],
   "source": [
    "# Rename the column \"title\" to \"film\" in oscars_1975 and check that it worked\n",
    "oscars_1975 = oscars_1975.rename(columns={\"film\": \"title\"})\n",
    "oscars_1975.head(2)"
   ]
  },
  {
   "cell_type": "code",
   "execution_count": 7,
   "metadata": {
    "ExecuteTime": {
     "end_time": "2020-06-02T20:09:45.904953Z",
     "start_time": "2020-06-02T20:09:45.830741Z"
    }
   },
   "outputs": [
    {
     "data": {
      "text/html": [
       "<div>\n",
       "<style scoped>\n",
       "    .dataframe tbody tr th:only-of-type {\n",
       "        vertical-align: middle;\n",
       "    }\n",
       "\n",
       "    .dataframe tbody tr th {\n",
       "        vertical-align: top;\n",
       "    }\n",
       "\n",
       "    .dataframe thead th {\n",
       "        text-align: right;\n",
       "    }\n",
       "</style>\n",
       "<table border=\"1\" class=\"dataframe\">\n",
       "  <thead>\n",
       "    <tr style=\"text-align: right;\">\n",
       "      <th></th>\n",
       "      <th>Main_Genre</th>\n",
       "      <th>Genre_2</th>\n",
       "      <th>Genre_3</th>\n",
       "      <th>imdb_rating</th>\n",
       "      <th>length</th>\n",
       "      <th>rank_in_year</th>\n",
       "      <th>rating</th>\n",
       "      <th>studio</th>\n",
       "      <th>title</th>\n",
       "      <th>worldwide_gross</th>\n",
       "      <th>year_film</th>\n",
       "    </tr>\n",
       "  </thead>\n",
       "  <tbody>\n",
       "    <tr>\n",
       "      <th>0</th>\n",
       "      <td>Action</td>\n",
       "      <td>Adventure</td>\n",
       "      <td>Drama</td>\n",
       "      <td>7.4</td>\n",
       "      <td>135</td>\n",
       "      <td>1</td>\n",
       "      <td>PG-13</td>\n",
       "      <td>Walt Disney Pictures</td>\n",
       "      <td>Black Panther</td>\n",
       "      <td>$700,059,566</td>\n",
       "      <td>2018</td>\n",
       "    </tr>\n",
       "    <tr>\n",
       "      <th>1</th>\n",
       "      <td>Action</td>\n",
       "      <td>Adventure</td>\n",
       "      <td>Sci-Fi</td>\n",
       "      <td>8.5</td>\n",
       "      <td>156</td>\n",
       "      <td>2</td>\n",
       "      <td>PG-13</td>\n",
       "      <td>Walt Disney Pictures</td>\n",
       "      <td>Avengers: Infinity War</td>\n",
       "      <td>$678,815,482</td>\n",
       "      <td>2018</td>\n",
       "    </tr>\n",
       "  </tbody>\n",
       "</table>\n",
       "</div>"
      ],
      "text/plain": [
       "  Main_Genre    Genre_2 Genre_3  imdb_rating  length  rank_in_year rating  \\\n",
       "0     Action  Adventure   Drama          7.4     135             1  PG-13   \n",
       "1     Action  Adventure  Sci-Fi          8.5     156             2  PG-13   \n",
       "\n",
       "                 studio                   title worldwide_gross  year_film  \n",
       "0  Walt Disney Pictures           Black Panther    $700,059,566       2018  \n",
       "1  Walt Disney Pictures  Avengers: Infinity War    $678,815,482       2018  "
      ]
     },
     "execution_count": 7,
     "metadata": {},
     "output_type": "execute_result"
    }
   ],
   "source": [
    "# Rename the column \"year\" to \"film\" in blockbusters and check that it worked\n",
    "blockbusters = blockbusters.rename(columns={\"year\": \"year_film\"})\n",
    "blockbusters.head(2)"
   ]
  },
  {
   "cell_type": "code",
   "execution_count": 8,
   "metadata": {
    "ExecuteTime": {
     "end_time": "2020-06-02T20:09:45.970036Z",
     "start_time": "2020-06-02T20:09:45.912874Z"
    }
   },
   "outputs": [
    {
     "data": {
      "text/html": [
       "<div>\n",
       "<style scoped>\n",
       "    .dataframe tbody tr th:only-of-type {\n",
       "        vertical-align: middle;\n",
       "    }\n",
       "\n",
       "    .dataframe tbody tr th {\n",
       "        vertical-align: top;\n",
       "    }\n",
       "\n",
       "    .dataframe thead th {\n",
       "        text-align: right;\n",
       "    }\n",
       "</style>\n",
       "<table border=\"1\" class=\"dataframe\">\n",
       "  <thead>\n",
       "    <tr style=\"text-align: right;\">\n",
       "      <th></th>\n",
       "      <th>year_film</th>\n",
       "      <th>year_ceremony</th>\n",
       "      <th>ceremony</th>\n",
       "      <th>category</th>\n",
       "      <th>name</th>\n",
       "      <th>title</th>\n",
       "      <th>winner</th>\n",
       "      <th>Main_Genre</th>\n",
       "      <th>Genre_2</th>\n",
       "      <th>Genre_3</th>\n",
       "      <th>imdb_rating</th>\n",
       "      <th>length</th>\n",
       "      <th>rank_in_year</th>\n",
       "      <th>rating</th>\n",
       "      <th>studio</th>\n",
       "      <th>worldwide_gross</th>\n",
       "    </tr>\n",
       "  </thead>\n",
       "  <tbody>\n",
       "    <tr>\n",
       "      <th>0</th>\n",
       "      <td>1975</td>\n",
       "      <td>1976</td>\n",
       "      <td>48</td>\n",
       "      <td>ACTOR</td>\n",
       "      <td>Al Pacino</td>\n",
       "      <td>Dog Day Afternoon</td>\n",
       "      <td>False</td>\n",
       "      <td>Drama</td>\n",
       "      <td>Crime</td>\n",
       "      <td>NaN</td>\n",
       "      <td>8.1</td>\n",
       "      <td>125</td>\n",
       "      <td>4</td>\n",
       "      <td>R</td>\n",
       "      <td>Warner Bros</td>\n",
       "      <td>$50,000,000.00</td>\n",
       "    </tr>\n",
       "    <tr>\n",
       "      <th>1</th>\n",
       "      <td>1975</td>\n",
       "      <td>1976</td>\n",
       "      <td>48</td>\n",
       "      <td>ACTOR IN A SUPPORTING ROLE</td>\n",
       "      <td>Chris Sarandon</td>\n",
       "      <td>Dog Day Afternoon</td>\n",
       "      <td>False</td>\n",
       "      <td>Drama</td>\n",
       "      <td>Crime</td>\n",
       "      <td>NaN</td>\n",
       "      <td>8.1</td>\n",
       "      <td>125</td>\n",
       "      <td>4</td>\n",
       "      <td>R</td>\n",
       "      <td>Warner Bros</td>\n",
       "      <td>$50,000,000.00</td>\n",
       "    </tr>\n",
       "  </tbody>\n",
       "</table>\n",
       "</div>"
      ],
      "text/plain": [
       "   year_film  year_ceremony  ceremony                    category  \\\n",
       "0       1975           1976        48                       ACTOR   \n",
       "1       1975           1976        48  ACTOR IN A SUPPORTING ROLE   \n",
       "\n",
       "             name              title  winner Main_Genre Genre_2 Genre_3  \\\n",
       "0       Al Pacino  Dog Day Afternoon   False      Drama   Crime     NaN   \n",
       "1  Chris Sarandon  Dog Day Afternoon   False      Drama   Crime     NaN   \n",
       "\n",
       "   imdb_rating  length  rank_in_year rating       studio  worldwide_gross  \n",
       "0          8.1     125             4      R  Warner Bros  $50,000,000.00   \n",
       "1          8.1     125             4      R  Warner Bros  $50,000,000.00   "
      ]
     },
     "execution_count": 8,
     "metadata": {},
     "output_type": "execute_result"
    }
   ],
   "source": [
    "# Merge the files and check that it worked\n",
    "oscars_and_busters = oscars_1975.merge(blockbusters, on = ['title', 'year_film'])\n",
    "oscars_and_busters.head(2)"
   ]
  },
  {
   "cell_type": "code",
   "execution_count": 9,
   "metadata": {
    "ExecuteTime": {
     "end_time": "2020-06-02T20:09:45.999794Z",
     "start_time": "2020-06-02T20:09:45.980528Z"
    }
   },
   "outputs": [
    {
     "name": "stdout",
     "output_type": "stream",
     "text": [
      "<class 'pandas.core.frame.DataFrame'>\n",
      "Int64Index: 843 entries, 0 to 842\n",
      "Data columns (total 16 columns):\n",
      "year_film          843 non-null int64\n",
      "year_ceremony      843 non-null int64\n",
      "ceremony           843 non-null int64\n",
      "category           843 non-null object\n",
      "name               843 non-null object\n",
      "title              843 non-null object\n",
      "winner             843 non-null bool\n",
      "Main_Genre         843 non-null object\n",
      "Genre_2            775 non-null object\n",
      "Genre_3            505 non-null object\n",
      "imdb_rating        843 non-null float64\n",
      "length             843 non-null int64\n",
      "rank_in_year       843 non-null int64\n",
      "rating             843 non-null object\n",
      "studio             843 non-null object\n",
      "worldwide_gross    843 non-null object\n",
      "dtypes: bool(1), float64(1), int64(5), object(9)\n",
      "memory usage: 106.2+ KB\n"
     ]
    }
   ],
   "source": [
    "# check NaN \n",
    "oscars_and_busters.info()"
   ]
  },
  {
   "cell_type": "code",
   "execution_count": 10,
   "metadata": {
    "ExecuteTime": {
     "end_time": "2020-06-02T20:09:46.011295Z",
     "start_time": "2020-06-02T20:09:46.005749Z"
    }
   },
   "outputs": [],
   "source": [
    "df = oscars_and_busters"
   ]
  },
  {
   "cell_type": "code",
   "execution_count": 181,
   "metadata": {
    "ExecuteTime": {
     "end_time": "2020-06-03T02:03:45.522357Z",
     "start_time": "2020-06-03T02:03:45.395038Z"
    }
   },
   "outputs": [
    {
     "data": {
      "text/html": [
       "<div>\n",
       "<style scoped>\n",
       "    .dataframe tbody tr th:only-of-type {\n",
       "        vertical-align: middle;\n",
       "    }\n",
       "\n",
       "    .dataframe tbody tr th {\n",
       "        vertical-align: top;\n",
       "    }\n",
       "\n",
       "    .dataframe thead th {\n",
       "        text-align: right;\n",
       "    }\n",
       "</style>\n",
       "<table border=\"1\" class=\"dataframe\">\n",
       "  <thead>\n",
       "    <tr style=\"text-align: right;\">\n",
       "      <th></th>\n",
       "      <th>year_film</th>\n",
       "      <th>year_ceremony</th>\n",
       "      <th>ceremony</th>\n",
       "      <th>category</th>\n",
       "      <th>name</th>\n",
       "      <th>title</th>\n",
       "      <th>winner</th>\n",
       "      <th>Main_Genre</th>\n",
       "      <th>Genre_2</th>\n",
       "      <th>Genre_3</th>\n",
       "      <th>imdb_rating</th>\n",
       "      <th>length</th>\n",
       "      <th>rank_in_year</th>\n",
       "      <th>rating</th>\n",
       "      <th>studio</th>\n",
       "      <th>worldwide_gross</th>\n",
       "    </tr>\n",
       "  </thead>\n",
       "  <tbody>\n",
       "    <tr>\n",
       "      <th>775</th>\n",
       "      <td>2012</td>\n",
       "      <td>2013</td>\n",
       "      <td>85</td>\n",
       "      <td>PRODUCTION DESIGN</td>\n",
       "      <td>Production Design: Dan Hennah; Set Decoration:...</td>\n",
       "      <td>The Hobbit: An Unexpected Journey</td>\n",
       "      <td>False</td>\n",
       "      <td>Fantasy</td>\n",
       "      <td>Adventure</td>\n",
       "      <td>NaN</td>\n",
       "      <td>8.0</td>\n",
       "      <td>169</td>\n",
       "      <td>4</td>\n",
       "      <td>PG-13</td>\n",
       "      <td>Warner Bros</td>\n",
       "      <td>$1,017,003,568.00</td>\n",
       "    </tr>\n",
       "    <tr>\n",
       "      <th>776</th>\n",
       "      <td>2012</td>\n",
       "      <td>2013</td>\n",
       "      <td>85</td>\n",
       "      <td>VISUAL EFFECTS</td>\n",
       "      <td>Joe Letteri, Eric Saindon, David Clayton and R...</td>\n",
       "      <td>The Hobbit: An Unexpected Journey</td>\n",
       "      <td>False</td>\n",
       "      <td>Fantasy</td>\n",
       "      <td>Adventure</td>\n",
       "      <td>NaN</td>\n",
       "      <td>8.0</td>\n",
       "      <td>169</td>\n",
       "      <td>4</td>\n",
       "      <td>PG-13</td>\n",
       "      <td>Warner Bros</td>\n",
       "      <td>$1,017,003,568.00</td>\n",
       "    </tr>\n",
       "    <tr>\n",
       "      <th>774</th>\n",
       "      <td>2012</td>\n",
       "      <td>2013</td>\n",
       "      <td>85</td>\n",
       "      <td>MAKEUP AND HAIRSTYLING</td>\n",
       "      <td>Peter Swords King, Rick Findlater and Tami Lane</td>\n",
       "      <td>The Hobbit: An Unexpected Journey</td>\n",
       "      <td>False</td>\n",
       "      <td>Fantasy</td>\n",
       "      <td>Adventure</td>\n",
       "      <td>NaN</td>\n",
       "      <td>8.0</td>\n",
       "      <td>169</td>\n",
       "      <td>4</td>\n",
       "      <td>PG-13</td>\n",
       "      <td>Warner Bros</td>\n",
       "      <td>$1,017,003,568.00</td>\n",
       "    </tr>\n",
       "    <tr>\n",
       "      <th>754</th>\n",
       "      <td>2010</td>\n",
       "      <td>2011</td>\n",
       "      <td>83</td>\n",
       "      <td>VISUAL EFFECTS</td>\n",
       "      <td>Ken Ralston, David Schaub, Carey Villegas and ...</td>\n",
       "      <td>Alice in Wonderland</td>\n",
       "      <td>False</td>\n",
       "      <td>Fantasy</td>\n",
       "      <td>Family</td>\n",
       "      <td>Adventure</td>\n",
       "      <td>6.5</td>\n",
       "      <td>108</td>\n",
       "      <td>2</td>\n",
       "      <td>PG</td>\n",
       "      <td>Walt Disney Pictures</td>\n",
       "      <td>$1,025,467,110.00</td>\n",
       "    </tr>\n",
       "    <tr>\n",
       "      <th>753</th>\n",
       "      <td>2010</td>\n",
       "      <td>2011</td>\n",
       "      <td>83</td>\n",
       "      <td>COSTUME DESIGN</td>\n",
       "      <td>Colleen Atwood</td>\n",
       "      <td>Alice in Wonderland</td>\n",
       "      <td>True</td>\n",
       "      <td>Fantasy</td>\n",
       "      <td>Family</td>\n",
       "      <td>Adventure</td>\n",
       "      <td>6.5</td>\n",
       "      <td>108</td>\n",
       "      <td>2</td>\n",
       "      <td>PG</td>\n",
       "      <td>Walt Disney Pictures</td>\n",
       "      <td>$1,025,467,110.00</td>\n",
       "    </tr>\n",
       "    <tr>\n",
       "      <th>752</th>\n",
       "      <td>2010</td>\n",
       "      <td>2011</td>\n",
       "      <td>83</td>\n",
       "      <td>ART DIRECTION</td>\n",
       "      <td>Production Design: Robert Stromberg; Set Decor...</td>\n",
       "      <td>Alice in Wonderland</td>\n",
       "      <td>True</td>\n",
       "      <td>Fantasy</td>\n",
       "      <td>Family</td>\n",
       "      <td>Adventure</td>\n",
       "      <td>6.5</td>\n",
       "      <td>108</td>\n",
       "      <td>2</td>\n",
       "      <td>PG</td>\n",
       "      <td>Walt Disney Pictures</td>\n",
       "      <td>$1,025,467,110.00</td>\n",
       "    </tr>\n",
       "    <tr>\n",
       "      <th>749</th>\n",
       "      <td>2010</td>\n",
       "      <td>2011</td>\n",
       "      <td>83</td>\n",
       "      <td>BEST PICTURE</td>\n",
       "      <td>Darla K. Anderson, Producer</td>\n",
       "      <td>Toy Story 3</td>\n",
       "      <td>False</td>\n",
       "      <td>Comedy</td>\n",
       "      <td>Animation</td>\n",
       "      <td>Adventure</td>\n",
       "      <td>8.4</td>\n",
       "      <td>103</td>\n",
       "      <td>1</td>\n",
       "      <td>G</td>\n",
       "      <td>Walt Disney Pictures</td>\n",
       "      <td>$1,063,171,911.00</td>\n",
       "    </tr>\n",
       "    <tr>\n",
       "      <th>751</th>\n",
       "      <td>2010</td>\n",
       "      <td>2011</td>\n",
       "      <td>83</td>\n",
       "      <td>WRITING (Adapted Screenplay)</td>\n",
       "      <td>Screenplay by Michael Arndt; Story by John Las...</td>\n",
       "      <td>Toy Story 3</td>\n",
       "      <td>False</td>\n",
       "      <td>Comedy</td>\n",
       "      <td>Animation</td>\n",
       "      <td>Adventure</td>\n",
       "      <td>8.4</td>\n",
       "      <td>103</td>\n",
       "      <td>1</td>\n",
       "      <td>G</td>\n",
       "      <td>Walt Disney Pictures</td>\n",
       "      <td>$1,063,171,911.00</td>\n",
       "    </tr>\n",
       "    <tr>\n",
       "      <th>750</th>\n",
       "      <td>2010</td>\n",
       "      <td>2011</td>\n",
       "      <td>83</td>\n",
       "      <td>SOUND EDITING</td>\n",
       "      <td>Tom Myers and Michael Silvers</td>\n",
       "      <td>Toy Story 3</td>\n",
       "      <td>False</td>\n",
       "      <td>Comedy</td>\n",
       "      <td>Animation</td>\n",
       "      <td>Adventure</td>\n",
       "      <td>8.4</td>\n",
       "      <td>103</td>\n",
       "      <td>1</td>\n",
       "      <td>G</td>\n",
       "      <td>Walt Disney Pictures</td>\n",
       "      <td>$1,063,171,911.00</td>\n",
       "    </tr>\n",
       "    <tr>\n",
       "      <th>748</th>\n",
       "      <td>2010</td>\n",
       "      <td>2011</td>\n",
       "      <td>83</td>\n",
       "      <td>MUSIC (Original Song)</td>\n",
       "      <td>Music and Lyric by Randy Newman</td>\n",
       "      <td>Toy Story 3</td>\n",
       "      <td>True</td>\n",
       "      <td>Comedy</td>\n",
       "      <td>Animation</td>\n",
       "      <td>Adventure</td>\n",
       "      <td>8.4</td>\n",
       "      <td>103</td>\n",
       "      <td>1</td>\n",
       "      <td>G</td>\n",
       "      <td>Walt Disney Pictures</td>\n",
       "      <td>$1,063,171,911.00</td>\n",
       "    </tr>\n",
       "    <tr>\n",
       "      <th>747</th>\n",
       "      <td>2010</td>\n",
       "      <td>2011</td>\n",
       "      <td>83</td>\n",
       "      <td>ANIMATED FEATURE FILM</td>\n",
       "      <td>Lee Unkrich</td>\n",
       "      <td>Toy Story 3</td>\n",
       "      <td>True</td>\n",
       "      <td>Comedy</td>\n",
       "      <td>Animation</td>\n",
       "      <td>Adventure</td>\n",
       "      <td>8.4</td>\n",
       "      <td>103</td>\n",
       "      <td>1</td>\n",
       "      <td>G</td>\n",
       "      <td>Walt Disney Pictures</td>\n",
       "      <td>$1,063,171,911.00</td>\n",
       "    </tr>\n",
       "    <tr>\n",
       "      <th>697</th>\n",
       "      <td>2006</td>\n",
       "      <td>2007</td>\n",
       "      <td>79</td>\n",
       "      <td>SOUND MIXING</td>\n",
       "      <td>Paul Massey, Christopher Boyes and Lee Orloff</td>\n",
       "      <td>Pirates of the Caribbean: Dead Man's Chest</td>\n",
       "      <td>False</td>\n",
       "      <td>Fantasy</td>\n",
       "      <td>Adventure</td>\n",
       "      <td>Action</td>\n",
       "      <td>7.3</td>\n",
       "      <td>151</td>\n",
       "      <td>1</td>\n",
       "      <td>PG-13</td>\n",
       "      <td>Walt Disney Pictures</td>\n",
       "      <td>$1,066,179,725.00</td>\n",
       "    </tr>\n",
       "    <tr>\n",
       "      <th>698</th>\n",
       "      <td>2006</td>\n",
       "      <td>2007</td>\n",
       "      <td>79</td>\n",
       "      <td>VISUAL EFFECTS</td>\n",
       "      <td>John Knoll, Hal Hickel, Charles Gibson and All...</td>\n",
       "      <td>Pirates of the Caribbean: Dead Man's Chest</td>\n",
       "      <td>True</td>\n",
       "      <td>Fantasy</td>\n",
       "      <td>Adventure</td>\n",
       "      <td>Action</td>\n",
       "      <td>7.3</td>\n",
       "      <td>151</td>\n",
       "      <td>1</td>\n",
       "      <td>PG-13</td>\n",
       "      <td>Walt Disney Pictures</td>\n",
       "      <td>$1,066,179,725.00</td>\n",
       "    </tr>\n",
       "    <tr>\n",
       "      <th>696</th>\n",
       "      <td>2006</td>\n",
       "      <td>2007</td>\n",
       "      <td>79</td>\n",
       "      <td>SOUND EDITING</td>\n",
       "      <td>Christopher Boyes and George Watters II</td>\n",
       "      <td>Pirates of the Caribbean: Dead Man's Chest</td>\n",
       "      <td>False</td>\n",
       "      <td>Fantasy</td>\n",
       "      <td>Adventure</td>\n",
       "      <td>Action</td>\n",
       "      <td>7.3</td>\n",
       "      <td>151</td>\n",
       "      <td>1</td>\n",
       "      <td>PG-13</td>\n",
       "      <td>Walt Disney Pictures</td>\n",
       "      <td>$1,066,179,725.00</td>\n",
       "    </tr>\n",
       "    <tr>\n",
       "      <th>695</th>\n",
       "      <td>2006</td>\n",
       "      <td>2007</td>\n",
       "      <td>79</td>\n",
       "      <td>ART DIRECTION</td>\n",
       "      <td>Art Direction:  Rick Heinrichs; Set Decoration...</td>\n",
       "      <td>Pirates of the Caribbean: Dead Man's Chest</td>\n",
       "      <td>False</td>\n",
       "      <td>Fantasy</td>\n",
       "      <td>Adventure</td>\n",
       "      <td>Action</td>\n",
       "      <td>7.3</td>\n",
       "      <td>151</td>\n",
       "      <td>1</td>\n",
       "      <td>PG-13</td>\n",
       "      <td>Walt Disney Pictures</td>\n",
       "      <td>$1,066,179,725.00</td>\n",
       "    </tr>\n",
       "    <tr>\n",
       "      <th>773</th>\n",
       "      <td>2012</td>\n",
       "      <td>2013</td>\n",
       "      <td>85</td>\n",
       "      <td>SOUND MIXING</td>\n",
       "      <td>Scott Millan, Greg P. Russell and Stuart Wilson</td>\n",
       "      <td>Skyfall</td>\n",
       "      <td>False</td>\n",
       "      <td>Thriller</td>\n",
       "      <td>Adventure</td>\n",
       "      <td>Action</td>\n",
       "      <td>7.8</td>\n",
       "      <td>143</td>\n",
       "      <td>2</td>\n",
       "      <td>PG-13</td>\n",
       "      <td>Metro-Goldwyn-Mayer</td>\n",
       "      <td>$1,108,561,013.00</td>\n",
       "    </tr>\n",
       "    <tr>\n",
       "      <th>772</th>\n",
       "      <td>2012</td>\n",
       "      <td>2013</td>\n",
       "      <td>85</td>\n",
       "      <td>SOUND EDITING</td>\n",
       "      <td>Per Hallberg and Karen Baker Landers</td>\n",
       "      <td>Skyfall</td>\n",
       "      <td>True</td>\n",
       "      <td>Thriller</td>\n",
       "      <td>Adventure</td>\n",
       "      <td>Action</td>\n",
       "      <td>7.8</td>\n",
       "      <td>143</td>\n",
       "      <td>2</td>\n",
       "      <td>PG-13</td>\n",
       "      <td>Metro-Goldwyn-Mayer</td>\n",
       "      <td>$1,108,561,013.00</td>\n",
       "    </tr>\n",
       "    <tr>\n",
       "      <th>771</th>\n",
       "      <td>2012</td>\n",
       "      <td>2013</td>\n",
       "      <td>85</td>\n",
       "      <td>MUSIC (Original Song)</td>\n",
       "      <td>Music and Lyric by Adele Adkins and Paul Epworth</td>\n",
       "      <td>Skyfall</td>\n",
       "      <td>True</td>\n",
       "      <td>Thriller</td>\n",
       "      <td>Adventure</td>\n",
       "      <td>Action</td>\n",
       "      <td>7.8</td>\n",
       "      <td>143</td>\n",
       "      <td>2</td>\n",
       "      <td>PG-13</td>\n",
       "      <td>Metro-Goldwyn-Mayer</td>\n",
       "      <td>$1,108,561,013.00</td>\n",
       "    </tr>\n",
       "    <tr>\n",
       "      <th>770</th>\n",
       "      <td>2012</td>\n",
       "      <td>2013</td>\n",
       "      <td>85</td>\n",
       "      <td>MUSIC (Original Score)</td>\n",
       "      <td>Thomas Newman</td>\n",
       "      <td>Skyfall</td>\n",
       "      <td>False</td>\n",
       "      <td>Thriller</td>\n",
       "      <td>Adventure</td>\n",
       "      <td>Action</td>\n",
       "      <td>7.8</td>\n",
       "      <td>143</td>\n",
       "      <td>2</td>\n",
       "      <td>PG-13</td>\n",
       "      <td>Metro-Goldwyn-Mayer</td>\n",
       "      <td>$1,108,561,013.00</td>\n",
       "    </tr>\n",
       "    <tr>\n",
       "      <th>769</th>\n",
       "      <td>2012</td>\n",
       "      <td>2013</td>\n",
       "      <td>85</td>\n",
       "      <td>CINEMATOGRAPHY</td>\n",
       "      <td>Roger Deakins</td>\n",
       "      <td>Skyfall</td>\n",
       "      <td>False</td>\n",
       "      <td>Thriller</td>\n",
       "      <td>Adventure</td>\n",
       "      <td>Action</td>\n",
       "      <td>7.8</td>\n",
       "      <td>143</td>\n",
       "      <td>2</td>\n",
       "      <td>PG-13</td>\n",
       "      <td>Metro-Goldwyn-Mayer</td>\n",
       "      <td>$1,108,561,013.00</td>\n",
       "    </tr>\n",
       "    <tr>\n",
       "      <th>662</th>\n",
       "      <td>2003</td>\n",
       "      <td>2004</td>\n",
       "      <td>76</td>\n",
       "      <td>WRITING (Adapted Screenplay)</td>\n",
       "      <td>Screenplay by Fran Walsh, Philippa Boyens &amp; Pe...</td>\n",
       "      <td>The Lord of the Rings: The Return of the King</td>\n",
       "      <td>True</td>\n",
       "      <td>Fantasy</td>\n",
       "      <td>Adventure</td>\n",
       "      <td>Western</td>\n",
       "      <td>8.9</td>\n",
       "      <td>201</td>\n",
       "      <td>1</td>\n",
       "      <td>PG-13</td>\n",
       "      <td>Warner Bros</td>\n",
       "      <td>$1,119,929,521.00</td>\n",
       "    </tr>\n",
       "    <tr>\n",
       "      <th>653</th>\n",
       "      <td>2003</td>\n",
       "      <td>2004</td>\n",
       "      <td>76</td>\n",
       "      <td>COSTUME DESIGN</td>\n",
       "      <td>Ngila Dickson and Richard Taylor</td>\n",
       "      <td>The Lord of the Rings: The Return of the King</td>\n",
       "      <td>True</td>\n",
       "      <td>Fantasy</td>\n",
       "      <td>Adventure</td>\n",
       "      <td>Western</td>\n",
       "      <td>8.9</td>\n",
       "      <td>201</td>\n",
       "      <td>1</td>\n",
       "      <td>PG-13</td>\n",
       "      <td>Warner Bros</td>\n",
       "      <td>$1,119,929,521.00</td>\n",
       "    </tr>\n",
       "    <tr>\n",
       "      <th>652</th>\n",
       "      <td>2003</td>\n",
       "      <td>2004</td>\n",
       "      <td>76</td>\n",
       "      <td>ART DIRECTION</td>\n",
       "      <td>Art Direction: Grant Major; Set Decoration: Da...</td>\n",
       "      <td>The Lord of the Rings: The Return of the King</td>\n",
       "      <td>True</td>\n",
       "      <td>Fantasy</td>\n",
       "      <td>Adventure</td>\n",
       "      <td>Western</td>\n",
       "      <td>8.9</td>\n",
       "      <td>201</td>\n",
       "      <td>1</td>\n",
       "      <td>PG-13</td>\n",
       "      <td>Warner Bros</td>\n",
       "      <td>$1,119,929,521.00</td>\n",
       "    </tr>\n",
       "    <tr>\n",
       "      <th>660</th>\n",
       "      <td>2003</td>\n",
       "      <td>2004</td>\n",
       "      <td>76</td>\n",
       "      <td>SOUND MIXING</td>\n",
       "      <td>Christopher Boyes, Michael Semanick, Michael H...</td>\n",
       "      <td>The Lord of the Rings: The Return of the King</td>\n",
       "      <td>True</td>\n",
       "      <td>Fantasy</td>\n",
       "      <td>Adventure</td>\n",
       "      <td>Western</td>\n",
       "      <td>8.9</td>\n",
       "      <td>201</td>\n",
       "      <td>1</td>\n",
       "      <td>PG-13</td>\n",
       "      <td>Warner Bros</td>\n",
       "      <td>$1,119,929,521.00</td>\n",
       "    </tr>\n",
       "    <tr>\n",
       "      <th>659</th>\n",
       "      <td>2003</td>\n",
       "      <td>2004</td>\n",
       "      <td>76</td>\n",
       "      <td>BEST PICTURE</td>\n",
       "      <td>Barrie M. Osborne, Peter Jackson and Fran Wals...</td>\n",
       "      <td>The Lord of the Rings: The Return of the King</td>\n",
       "      <td>True</td>\n",
       "      <td>Fantasy</td>\n",
       "      <td>Adventure</td>\n",
       "      <td>Western</td>\n",
       "      <td>8.9</td>\n",
       "      <td>201</td>\n",
       "      <td>1</td>\n",
       "      <td>PG-13</td>\n",
       "      <td>Warner Bros</td>\n",
       "      <td>$1,119,929,521.00</td>\n",
       "    </tr>\n",
       "    <tr>\n",
       "      <th>658</th>\n",
       "      <td>2003</td>\n",
       "      <td>2004</td>\n",
       "      <td>76</td>\n",
       "      <td>MUSIC (Original Song)</td>\n",
       "      <td>Music and Lyric by Fran Walsh and Howard Shore...</td>\n",
       "      <td>The Lord of the Rings: The Return of the King</td>\n",
       "      <td>True</td>\n",
       "      <td>Fantasy</td>\n",
       "      <td>Adventure</td>\n",
       "      <td>Western</td>\n",
       "      <td>8.9</td>\n",
       "      <td>201</td>\n",
       "      <td>1</td>\n",
       "      <td>PG-13</td>\n",
       "      <td>Warner Bros</td>\n",
       "      <td>$1,119,929,521.00</td>\n",
       "    </tr>\n",
       "    <tr>\n",
       "      <th>657</th>\n",
       "      <td>2003</td>\n",
       "      <td>2004</td>\n",
       "      <td>76</td>\n",
       "      <td>MUSIC (Original Score)</td>\n",
       "      <td>Howard Shore</td>\n",
       "      <td>The Lord of the Rings: The Return of the King</td>\n",
       "      <td>True</td>\n",
       "      <td>Fantasy</td>\n",
       "      <td>Adventure</td>\n",
       "      <td>Western</td>\n",
       "      <td>8.9</td>\n",
       "      <td>201</td>\n",
       "      <td>1</td>\n",
       "      <td>PG-13</td>\n",
       "      <td>Warner Bros</td>\n",
       "      <td>$1,119,929,521.00</td>\n",
       "    </tr>\n",
       "    <tr>\n",
       "      <th>656</th>\n",
       "      <td>2003</td>\n",
       "      <td>2004</td>\n",
       "      <td>76</td>\n",
       "      <td>MAKEUP</td>\n",
       "      <td>Richard Taylor and Peter King</td>\n",
       "      <td>The Lord of the Rings: The Return of the King</td>\n",
       "      <td>True</td>\n",
       "      <td>Fantasy</td>\n",
       "      <td>Adventure</td>\n",
       "      <td>Western</td>\n",
       "      <td>8.9</td>\n",
       "      <td>201</td>\n",
       "      <td>1</td>\n",
       "      <td>PG-13</td>\n",
       "      <td>Warner Bros</td>\n",
       "      <td>$1,119,929,521.00</td>\n",
       "    </tr>\n",
       "    <tr>\n",
       "      <th>655</th>\n",
       "      <td>2003</td>\n",
       "      <td>2004</td>\n",
       "      <td>76</td>\n",
       "      <td>FILM EDITING</td>\n",
       "      <td>Jamie Selkirk</td>\n",
       "      <td>The Lord of the Rings: The Return of the King</td>\n",
       "      <td>True</td>\n",
       "      <td>Fantasy</td>\n",
       "      <td>Adventure</td>\n",
       "      <td>Western</td>\n",
       "      <td>8.9</td>\n",
       "      <td>201</td>\n",
       "      <td>1</td>\n",
       "      <td>PG-13</td>\n",
       "      <td>Warner Bros</td>\n",
       "      <td>$1,119,929,521.00</td>\n",
       "    </tr>\n",
       "    <tr>\n",
       "      <th>654</th>\n",
       "      <td>2003</td>\n",
       "      <td>2004</td>\n",
       "      <td>76</td>\n",
       "      <td>DIRECTING</td>\n",
       "      <td>Peter Jackson</td>\n",
       "      <td>The Lord of the Rings: The Return of the King</td>\n",
       "      <td>True</td>\n",
       "      <td>Fantasy</td>\n",
       "      <td>Adventure</td>\n",
       "      <td>Western</td>\n",
       "      <td>8.9</td>\n",
       "      <td>201</td>\n",
       "      <td>1</td>\n",
       "      <td>PG-13</td>\n",
       "      <td>Warner Bros</td>\n",
       "      <td>$1,119,929,521.00</td>\n",
       "    </tr>\n",
       "    <tr>\n",
       "      <th>...</th>\n",
       "      <td>...</td>\n",
       "      <td>...</td>\n",
       "      <td>...</td>\n",
       "      <td>...</td>\n",
       "      <td>...</td>\n",
       "      <td>...</td>\n",
       "      <td>...</td>\n",
       "      <td>...</td>\n",
       "      <td>...</td>\n",
       "      <td>...</td>\n",
       "      <td>...</td>\n",
       "      <td>...</td>\n",
       "      <td>...</td>\n",
       "      <td>...</td>\n",
       "      <td>...</td>\n",
       "      <td>...</td>\n",
       "    </tr>\n",
       "    <tr>\n",
       "      <th>232</th>\n",
       "      <td>1985</td>\n",
       "      <td>1986</td>\n",
       "      <td>58</td>\n",
       "      <td>ACTRESS IN A LEADING ROLE</td>\n",
       "      <td>Whoopi Goldberg</td>\n",
       "      <td>The Color Purple</td>\n",
       "      <td>False</td>\n",
       "      <td>Drama</td>\n",
       "      <td>NaN</td>\n",
       "      <td>NaN</td>\n",
       "      <td>7.8</td>\n",
       "      <td>154</td>\n",
       "      <td>4</td>\n",
       "      <td>PG-13</td>\n",
       "      <td>Warner Bros</td>\n",
       "      <td>$94,175,854.00</td>\n",
       "    </tr>\n",
       "    <tr>\n",
       "      <th>238</th>\n",
       "      <td>1985</td>\n",
       "      <td>1986</td>\n",
       "      <td>58</td>\n",
       "      <td>MAKEUP</td>\n",
       "      <td>Ken Chase</td>\n",
       "      <td>The Color Purple</td>\n",
       "      <td>False</td>\n",
       "      <td>Drama</td>\n",
       "      <td>NaN</td>\n",
       "      <td>NaN</td>\n",
       "      <td>7.8</td>\n",
       "      <td>154</td>\n",
       "      <td>4</td>\n",
       "      <td>PG-13</td>\n",
       "      <td>Warner Bros</td>\n",
       "      <td>$94,175,854.00</td>\n",
       "    </tr>\n",
       "    <tr>\n",
       "      <th>233</th>\n",
       "      <td>1985</td>\n",
       "      <td>1986</td>\n",
       "      <td>58</td>\n",
       "      <td>ACTRESS IN A SUPPORTING ROLE</td>\n",
       "      <td>Margaret Avery</td>\n",
       "      <td>The Color Purple</td>\n",
       "      <td>False</td>\n",
       "      <td>Drama</td>\n",
       "      <td>NaN</td>\n",
       "      <td>NaN</td>\n",
       "      <td>7.8</td>\n",
       "      <td>154</td>\n",
       "      <td>4</td>\n",
       "      <td>PG-13</td>\n",
       "      <td>Warner Bros</td>\n",
       "      <td>$94,175,854.00</td>\n",
       "    </tr>\n",
       "    <tr>\n",
       "      <th>240</th>\n",
       "      <td>1985</td>\n",
       "      <td>1986</td>\n",
       "      <td>58</td>\n",
       "      <td>MUSIC (Original Song)</td>\n",
       "      <td>Music by Quincy Jones and Rod Temperton; Lyric...</td>\n",
       "      <td>The Color Purple</td>\n",
       "      <td>False</td>\n",
       "      <td>Drama</td>\n",
       "      <td>NaN</td>\n",
       "      <td>NaN</td>\n",
       "      <td>7.8</td>\n",
       "      <td>154</td>\n",
       "      <td>4</td>\n",
       "      <td>PG-13</td>\n",
       "      <td>Warner Bros</td>\n",
       "      <td>$94,175,854.00</td>\n",
       "    </tr>\n",
       "    <tr>\n",
       "      <th>237</th>\n",
       "      <td>1985</td>\n",
       "      <td>1986</td>\n",
       "      <td>58</td>\n",
       "      <td>COSTUME DESIGN</td>\n",
       "      <td>Aggie Guerard Rodgers</td>\n",
       "      <td>The Color Purple</td>\n",
       "      <td>False</td>\n",
       "      <td>Drama</td>\n",
       "      <td>NaN</td>\n",
       "      <td>NaN</td>\n",
       "      <td>7.8</td>\n",
       "      <td>154</td>\n",
       "      <td>4</td>\n",
       "      <td>PG-13</td>\n",
       "      <td>Warner Bros</td>\n",
       "      <td>$94,175,854.00</td>\n",
       "    </tr>\n",
       "    <tr>\n",
       "      <th>235</th>\n",
       "      <td>1985</td>\n",
       "      <td>1986</td>\n",
       "      <td>58</td>\n",
       "      <td>ART DIRECTION</td>\n",
       "      <td>Art Direction:  J. Michael Riva, Robert W. Wel...</td>\n",
       "      <td>The Color Purple</td>\n",
       "      <td>False</td>\n",
       "      <td>Drama</td>\n",
       "      <td>NaN</td>\n",
       "      <td>NaN</td>\n",
       "      <td>7.8</td>\n",
       "      <td>154</td>\n",
       "      <td>4</td>\n",
       "      <td>PG-13</td>\n",
       "      <td>Warner Bros</td>\n",
       "      <td>$94,175,854.00</td>\n",
       "    </tr>\n",
       "    <tr>\n",
       "      <th>54</th>\n",
       "      <td>1977</td>\n",
       "      <td>1978</td>\n",
       "      <td>50</td>\n",
       "      <td>ACTOR IN A LEADING ROLE</td>\n",
       "      <td>John Travolta</td>\n",
       "      <td>Saturday Night Fever</td>\n",
       "      <td>False</td>\n",
       "      <td>Romance</td>\n",
       "      <td>Music</td>\n",
       "      <td>Drama</td>\n",
       "      <td>6.8</td>\n",
       "      <td>118</td>\n",
       "      <td>5</td>\n",
       "      <td>R</td>\n",
       "      <td>Paramount Pictures</td>\n",
       "      <td>$94,213,184.00</td>\n",
       "    </tr>\n",
       "    <tr>\n",
       "      <th>150</th>\n",
       "      <td>1981</td>\n",
       "      <td>1982</td>\n",
       "      <td>54</td>\n",
       "      <td>ACTOR IN A LEADING ROLE</td>\n",
       "      <td>Dudley Moore</td>\n",
       "      <td>Arthur</td>\n",
       "      <td>False</td>\n",
       "      <td>Romance</td>\n",
       "      <td>Comedy</td>\n",
       "      <td>NaN</td>\n",
       "      <td>6.9</td>\n",
       "      <td>97</td>\n",
       "      <td>4</td>\n",
       "      <td>PG</td>\n",
       "      <td>Warner Bros</td>\n",
       "      <td>$95,461,682.00</td>\n",
       "    </tr>\n",
       "    <tr>\n",
       "      <th>153</th>\n",
       "      <td>1981</td>\n",
       "      <td>1982</td>\n",
       "      <td>54</td>\n",
       "      <td>WRITING (Screenplay Written Directly for the S...</td>\n",
       "      <td>Steve Gordon</td>\n",
       "      <td>Arthur</td>\n",
       "      <td>False</td>\n",
       "      <td>Romance</td>\n",
       "      <td>Comedy</td>\n",
       "      <td>NaN</td>\n",
       "      <td>6.9</td>\n",
       "      <td>97</td>\n",
       "      <td>4</td>\n",
       "      <td>PG</td>\n",
       "      <td>Warner Bros</td>\n",
       "      <td>$95,461,682.00</td>\n",
       "    </tr>\n",
       "    <tr>\n",
       "      <th>152</th>\n",
       "      <td>1981</td>\n",
       "      <td>1982</td>\n",
       "      <td>54</td>\n",
       "      <td>MUSIC (Original Song)</td>\n",
       "      <td>Music and Lyric by Burt Bacharach, Carole Baye...</td>\n",
       "      <td>Arthur</td>\n",
       "      <td>True</td>\n",
       "      <td>Romance</td>\n",
       "      <td>Comedy</td>\n",
       "      <td>NaN</td>\n",
       "      <td>6.9</td>\n",
       "      <td>97</td>\n",
       "      <td>4</td>\n",
       "      <td>PG</td>\n",
       "      <td>Warner Bros</td>\n",
       "      <td>$95,461,682.00</td>\n",
       "    </tr>\n",
       "    <tr>\n",
       "      <th>151</th>\n",
       "      <td>1981</td>\n",
       "      <td>1982</td>\n",
       "      <td>54</td>\n",
       "      <td>ACTOR IN A SUPPORTING ROLE</td>\n",
       "      <td>John Gielgud</td>\n",
       "      <td>Arthur</td>\n",
       "      <td>True</td>\n",
       "      <td>Romance</td>\n",
       "      <td>Comedy</td>\n",
       "      <td>NaN</td>\n",
       "      <td>6.9</td>\n",
       "      <td>97</td>\n",
       "      <td>4</td>\n",
       "      <td>PG</td>\n",
       "      <td>Warner Bros</td>\n",
       "      <td>$95,461,682.00</td>\n",
       "    </tr>\n",
       "    <tr>\n",
       "      <th>803</th>\n",
       "      <td>2014</td>\n",
       "      <td>2015</td>\n",
       "      <td>87</td>\n",
       "      <td>SOUND EDITING</td>\n",
       "      <td>Brent Burge and Jason Canovas</td>\n",
       "      <td>The Hobbit: The Battle of the Five Armies</td>\n",
       "      <td>False</td>\n",
       "      <td>Fantasy</td>\n",
       "      <td>Adventure</td>\n",
       "      <td>NaN</td>\n",
       "      <td>7.5</td>\n",
       "      <td>144</td>\n",
       "      <td>2</td>\n",
       "      <td>PG-13</td>\n",
       "      <td>Warner Bros</td>\n",
       "      <td>$955,113,783.00</td>\n",
       "    </tr>\n",
       "    <tr>\n",
       "      <th>793</th>\n",
       "      <td>2013</td>\n",
       "      <td>2014</td>\n",
       "      <td>86</td>\n",
       "      <td>VISUAL EFFECTS</td>\n",
       "      <td>Joe Letteri, Eric Saindon, David Clayton and E...</td>\n",
       "      <td>The Hobbit: The Desolation of Smaug</td>\n",
       "      <td>False</td>\n",
       "      <td>Fantasy</td>\n",
       "      <td>Adventure</td>\n",
       "      <td>NaN</td>\n",
       "      <td>8.0</td>\n",
       "      <td>161</td>\n",
       "      <td>4</td>\n",
       "      <td>PG-13</td>\n",
       "      <td>Warner Bros</td>\n",
       "      <td>$960,366,855.00</td>\n",
       "    </tr>\n",
       "    <tr>\n",
       "      <th>791</th>\n",
       "      <td>2013</td>\n",
       "      <td>2014</td>\n",
       "      <td>86</td>\n",
       "      <td>SOUND EDITING</td>\n",
       "      <td>Brent Burge and Chris Ward</td>\n",
       "      <td>The Hobbit: The Desolation of Smaug</td>\n",
       "      <td>False</td>\n",
       "      <td>Fantasy</td>\n",
       "      <td>Adventure</td>\n",
       "      <td>NaN</td>\n",
       "      <td>8.0</td>\n",
       "      <td>161</td>\n",
       "      <td>4</td>\n",
       "      <td>PG-13</td>\n",
       "      <td>Warner Bros</td>\n",
       "      <td>$960,366,855.00</td>\n",
       "    </tr>\n",
       "    <tr>\n",
       "      <th>792</th>\n",
       "      <td>2013</td>\n",
       "      <td>2014</td>\n",
       "      <td>86</td>\n",
       "      <td>SOUND MIXING</td>\n",
       "      <td>Christopher Boyes, Michael Hedges, Michael Sem...</td>\n",
       "      <td>The Hobbit: The Desolation of Smaug</td>\n",
       "      <td>False</td>\n",
       "      <td>Fantasy</td>\n",
       "      <td>Adventure</td>\n",
       "      <td>NaN</td>\n",
       "      <td>8.0</td>\n",
       "      <td>161</td>\n",
       "      <td>4</td>\n",
       "      <td>PG-13</td>\n",
       "      <td>Warner Bros</td>\n",
       "      <td>$960,366,855.00</td>\n",
       "    </tr>\n",
       "    <tr>\n",
       "      <th>706</th>\n",
       "      <td>2007</td>\n",
       "      <td>2008</td>\n",
       "      <td>80</td>\n",
       "      <td>VISUAL EFFECTS</td>\n",
       "      <td>John Knoll, Hal Hickel, Charles Gibson and Joh...</td>\n",
       "      <td>Pirates of the Caribbean: At World's End</td>\n",
       "      <td>False</td>\n",
       "      <td>Fantasy</td>\n",
       "      <td>Adventure</td>\n",
       "      <td>Action</td>\n",
       "      <td>7.1</td>\n",
       "      <td>169</td>\n",
       "      <td>1</td>\n",
       "      <td>PG-13</td>\n",
       "      <td>Walt Disney Pictures</td>\n",
       "      <td>$963,420,425.00</td>\n",
       "    </tr>\n",
       "    <tr>\n",
       "      <th>705</th>\n",
       "      <td>2007</td>\n",
       "      <td>2008</td>\n",
       "      <td>80</td>\n",
       "      <td>MAKEUP</td>\n",
       "      <td>Ve Neill and Martin Samuel</td>\n",
       "      <td>Pirates of the Caribbean: At World's End</td>\n",
       "      <td>False</td>\n",
       "      <td>Fantasy</td>\n",
       "      <td>Adventure</td>\n",
       "      <td>Action</td>\n",
       "      <td>7.1</td>\n",
       "      <td>169</td>\n",
       "      <td>1</td>\n",
       "      <td>PG-13</td>\n",
       "      <td>Walt Disney Pictures</td>\n",
       "      <td>$963,420,425.00</td>\n",
       "    </tr>\n",
       "    <tr>\n",
       "      <th>787</th>\n",
       "      <td>2013</td>\n",
       "      <td>2014</td>\n",
       "      <td>86</td>\n",
       "      <td>ANIMATED FEATURE FILM</td>\n",
       "      <td>Chris Renaud, Pierre Coffin and Chris Meledandri</td>\n",
       "      <td>Despicable Me 2</td>\n",
       "      <td>False</td>\n",
       "      <td>Animation</td>\n",
       "      <td>Comedy</td>\n",
       "      <td>Animation</td>\n",
       "      <td>7.5</td>\n",
       "      <td>98</td>\n",
       "      <td>3</td>\n",
       "      <td>PG</td>\n",
       "      <td>Universal Pictures</td>\n",
       "      <td>$970,761,885.00</td>\n",
       "    </tr>\n",
       "    <tr>\n",
       "      <th>788</th>\n",
       "      <td>2013</td>\n",
       "      <td>2014</td>\n",
       "      <td>86</td>\n",
       "      <td>MUSIC (Original Song)</td>\n",
       "      <td>Music and Lyric by Pharrell Williams</td>\n",
       "      <td>Despicable Me 2</td>\n",
       "      <td>False</td>\n",
       "      <td>Animation</td>\n",
       "      <td>Comedy</td>\n",
       "      <td>Animation</td>\n",
       "      <td>7.5</td>\n",
       "      <td>98</td>\n",
       "      <td>3</td>\n",
       "      <td>PG</td>\n",
       "      <td>Universal Pictures</td>\n",
       "      <td>$970,761,885.00</td>\n",
       "    </tr>\n",
       "    <tr>\n",
       "      <th>621</th>\n",
       "      <td>2001</td>\n",
       "      <td>2002</td>\n",
       "      <td>74</td>\n",
       "      <td>ART DIRECTION</td>\n",
       "      <td>Art Direction:  Stuart Craig; Set Decoration: ...</td>\n",
       "      <td>Harry Potter and the Sorcerer's Stone</td>\n",
       "      <td>False</td>\n",
       "      <td>Fantasy</td>\n",
       "      <td>Family</td>\n",
       "      <td>Adventure</td>\n",
       "      <td>7.5</td>\n",
       "      <td>152</td>\n",
       "      <td>1</td>\n",
       "      <td>PG</td>\n",
       "      <td>Warner Bros</td>\n",
       "      <td>$974,733,550.00</td>\n",
       "    </tr>\n",
       "    <tr>\n",
       "      <th>623</th>\n",
       "      <td>2001</td>\n",
       "      <td>2002</td>\n",
       "      <td>74</td>\n",
       "      <td>MUSIC (Original Score)</td>\n",
       "      <td>John Williams</td>\n",
       "      <td>Harry Potter and the Sorcerer's Stone</td>\n",
       "      <td>False</td>\n",
       "      <td>Fantasy</td>\n",
       "      <td>Family</td>\n",
       "      <td>Adventure</td>\n",
       "      <td>7.5</td>\n",
       "      <td>152</td>\n",
       "      <td>1</td>\n",
       "      <td>PG</td>\n",
       "      <td>Warner Bros</td>\n",
       "      <td>$974,733,550.00</td>\n",
       "    </tr>\n",
       "    <tr>\n",
       "      <th>622</th>\n",
       "      <td>2001</td>\n",
       "      <td>2002</td>\n",
       "      <td>74</td>\n",
       "      <td>COSTUME DESIGN</td>\n",
       "      <td>Judianna Makovsky</td>\n",
       "      <td>Harry Potter and the Sorcerer's Stone</td>\n",
       "      <td>False</td>\n",
       "      <td>Fantasy</td>\n",
       "      <td>Family</td>\n",
       "      <td>Adventure</td>\n",
       "      <td>7.5</td>\n",
       "      <td>152</td>\n",
       "      <td>1</td>\n",
       "      <td>PG</td>\n",
       "      <td>Warner Bros</td>\n",
       "      <td>$974,733,550.00</td>\n",
       "    </tr>\n",
       "    <tr>\n",
       "      <th>717</th>\n",
       "      <td>2008</td>\n",
       "      <td>2009</td>\n",
       "      <td>81</td>\n",
       "      <td>VISUAL EFFECTS</td>\n",
       "      <td>Nick Davis, Chris Corbould, Tim Webber and Pau...</td>\n",
       "      <td>The Dark Knight</td>\n",
       "      <td>False</td>\n",
       "      <td>Drama</td>\n",
       "      <td>Crime</td>\n",
       "      <td>Action</td>\n",
       "      <td>9.0</td>\n",
       "      <td>152</td>\n",
       "      <td>1</td>\n",
       "      <td>PG-13</td>\n",
       "      <td>Warner Bros</td>\n",
       "      <td>$997,000,000.00</td>\n",
       "    </tr>\n",
       "    <tr>\n",
       "      <th>716</th>\n",
       "      <td>2008</td>\n",
       "      <td>2009</td>\n",
       "      <td>81</td>\n",
       "      <td>SOUND MIXING</td>\n",
       "      <td>Lora Hirschberg, Gary Rizzo and Ed Novick</td>\n",
       "      <td>The Dark Knight</td>\n",
       "      <td>False</td>\n",
       "      <td>Drama</td>\n",
       "      <td>Crime</td>\n",
       "      <td>Action</td>\n",
       "      <td>9.0</td>\n",
       "      <td>152</td>\n",
       "      <td>1</td>\n",
       "      <td>PG-13</td>\n",
       "      <td>Warner Bros</td>\n",
       "      <td>$997,000,000.00</td>\n",
       "    </tr>\n",
       "    <tr>\n",
       "      <th>715</th>\n",
       "      <td>2008</td>\n",
       "      <td>2009</td>\n",
       "      <td>81</td>\n",
       "      <td>SOUND EDITING</td>\n",
       "      <td>Richard King</td>\n",
       "      <td>The Dark Knight</td>\n",
       "      <td>True</td>\n",
       "      <td>Drama</td>\n",
       "      <td>Crime</td>\n",
       "      <td>Action</td>\n",
       "      <td>9.0</td>\n",
       "      <td>152</td>\n",
       "      <td>1</td>\n",
       "      <td>PG-13</td>\n",
       "      <td>Warner Bros</td>\n",
       "      <td>$997,000,000.00</td>\n",
       "    </tr>\n",
       "    <tr>\n",
       "      <th>714</th>\n",
       "      <td>2008</td>\n",
       "      <td>2009</td>\n",
       "      <td>81</td>\n",
       "      <td>MAKEUP</td>\n",
       "      <td>John Caglione, Jr. and Conor O'Sullivan</td>\n",
       "      <td>The Dark Knight</td>\n",
       "      <td>False</td>\n",
       "      <td>Drama</td>\n",
       "      <td>Crime</td>\n",
       "      <td>Action</td>\n",
       "      <td>9.0</td>\n",
       "      <td>152</td>\n",
       "      <td>1</td>\n",
       "      <td>PG-13</td>\n",
       "      <td>Warner Bros</td>\n",
       "      <td>$997,000,000.00</td>\n",
       "    </tr>\n",
       "    <tr>\n",
       "      <th>713</th>\n",
       "      <td>2008</td>\n",
       "      <td>2009</td>\n",
       "      <td>81</td>\n",
       "      <td>FILM EDITING</td>\n",
       "      <td>Lee Smith</td>\n",
       "      <td>The Dark Knight</td>\n",
       "      <td>False</td>\n",
       "      <td>Drama</td>\n",
       "      <td>Crime</td>\n",
       "      <td>Action</td>\n",
       "      <td>9.0</td>\n",
       "      <td>152</td>\n",
       "      <td>1</td>\n",
       "      <td>PG-13</td>\n",
       "      <td>Warner Bros</td>\n",
       "      <td>$997,000,000.00</td>\n",
       "    </tr>\n",
       "    <tr>\n",
       "      <th>712</th>\n",
       "      <td>2008</td>\n",
       "      <td>2009</td>\n",
       "      <td>81</td>\n",
       "      <td>CINEMATOGRAPHY</td>\n",
       "      <td>Wally Pfister</td>\n",
       "      <td>The Dark Knight</td>\n",
       "      <td>False</td>\n",
       "      <td>Drama</td>\n",
       "      <td>Crime</td>\n",
       "      <td>Action</td>\n",
       "      <td>9.0</td>\n",
       "      <td>152</td>\n",
       "      <td>1</td>\n",
       "      <td>PG-13</td>\n",
       "      <td>Warner Bros</td>\n",
       "      <td>$997,000,000.00</td>\n",
       "    </tr>\n",
       "    <tr>\n",
       "      <th>711</th>\n",
       "      <td>2008</td>\n",
       "      <td>2009</td>\n",
       "      <td>81</td>\n",
       "      <td>ART DIRECTION</td>\n",
       "      <td>Art Direction: Nathan Crowley; Set Decoration:...</td>\n",
       "      <td>The Dark Knight</td>\n",
       "      <td>False</td>\n",
       "      <td>Drama</td>\n",
       "      <td>Crime</td>\n",
       "      <td>Action</td>\n",
       "      <td>9.0</td>\n",
       "      <td>152</td>\n",
       "      <td>1</td>\n",
       "      <td>PG-13</td>\n",
       "      <td>Warner Bros</td>\n",
       "      <td>$997,000,000.00</td>\n",
       "    </tr>\n",
       "    <tr>\n",
       "      <th>710</th>\n",
       "      <td>2008</td>\n",
       "      <td>2009</td>\n",
       "      <td>81</td>\n",
       "      <td>ACTOR IN A SUPPORTING ROLE</td>\n",
       "      <td>Heath Ledger</td>\n",
       "      <td>The Dark Knight</td>\n",
       "      <td>True</td>\n",
       "      <td>Drama</td>\n",
       "      <td>Crime</td>\n",
       "      <td>Action</td>\n",
       "      <td>9.0</td>\n",
       "      <td>152</td>\n",
       "      <td>1</td>\n",
       "      <td>PG-13</td>\n",
       "      <td>Warner Bros</td>\n",
       "      <td>$997,000,000.00</td>\n",
       "    </tr>\n",
       "  </tbody>\n",
       "</table>\n",
       "<p>843 rows × 16 columns</p>\n",
       "</div>"
      ],
      "text/plain": [
       "     year_film  year_ceremony  ceremony  \\\n",
       "775       2012           2013        85   \n",
       "776       2012           2013        85   \n",
       "774       2012           2013        85   \n",
       "754       2010           2011        83   \n",
       "753       2010           2011        83   \n",
       "752       2010           2011        83   \n",
       "749       2010           2011        83   \n",
       "751       2010           2011        83   \n",
       "750       2010           2011        83   \n",
       "748       2010           2011        83   \n",
       "747       2010           2011        83   \n",
       "697       2006           2007        79   \n",
       "698       2006           2007        79   \n",
       "696       2006           2007        79   \n",
       "695       2006           2007        79   \n",
       "773       2012           2013        85   \n",
       "772       2012           2013        85   \n",
       "771       2012           2013        85   \n",
       "770       2012           2013        85   \n",
       "769       2012           2013        85   \n",
       "662       2003           2004        76   \n",
       "653       2003           2004        76   \n",
       "652       2003           2004        76   \n",
       "660       2003           2004        76   \n",
       "659       2003           2004        76   \n",
       "658       2003           2004        76   \n",
       "657       2003           2004        76   \n",
       "656       2003           2004        76   \n",
       "655       2003           2004        76   \n",
       "654       2003           2004        76   \n",
       "..         ...            ...       ...   \n",
       "232       1985           1986        58   \n",
       "238       1985           1986        58   \n",
       "233       1985           1986        58   \n",
       "240       1985           1986        58   \n",
       "237       1985           1986        58   \n",
       "235       1985           1986        58   \n",
       "54        1977           1978        50   \n",
       "150       1981           1982        54   \n",
       "153       1981           1982        54   \n",
       "152       1981           1982        54   \n",
       "151       1981           1982        54   \n",
       "803       2014           2015        87   \n",
       "793       2013           2014        86   \n",
       "791       2013           2014        86   \n",
       "792       2013           2014        86   \n",
       "706       2007           2008        80   \n",
       "705       2007           2008        80   \n",
       "787       2013           2014        86   \n",
       "788       2013           2014        86   \n",
       "621       2001           2002        74   \n",
       "623       2001           2002        74   \n",
       "622       2001           2002        74   \n",
       "717       2008           2009        81   \n",
       "716       2008           2009        81   \n",
       "715       2008           2009        81   \n",
       "714       2008           2009        81   \n",
       "713       2008           2009        81   \n",
       "712       2008           2009        81   \n",
       "711       2008           2009        81   \n",
       "710       2008           2009        81   \n",
       "\n",
       "                                              category  \\\n",
       "775                                  PRODUCTION DESIGN   \n",
       "776                                     VISUAL EFFECTS   \n",
       "774                             MAKEUP AND HAIRSTYLING   \n",
       "754                                     VISUAL EFFECTS   \n",
       "753                                     COSTUME DESIGN   \n",
       "752                                      ART DIRECTION   \n",
       "749                                       BEST PICTURE   \n",
       "751                       WRITING (Adapted Screenplay)   \n",
       "750                                      SOUND EDITING   \n",
       "748                              MUSIC (Original Song)   \n",
       "747                              ANIMATED FEATURE FILM   \n",
       "697                                       SOUND MIXING   \n",
       "698                                     VISUAL EFFECTS   \n",
       "696                                      SOUND EDITING   \n",
       "695                                      ART DIRECTION   \n",
       "773                                       SOUND MIXING   \n",
       "772                                      SOUND EDITING   \n",
       "771                              MUSIC (Original Song)   \n",
       "770                             MUSIC (Original Score)   \n",
       "769                                     CINEMATOGRAPHY   \n",
       "662                       WRITING (Adapted Screenplay)   \n",
       "653                                     COSTUME DESIGN   \n",
       "652                                      ART DIRECTION   \n",
       "660                                       SOUND MIXING   \n",
       "659                                       BEST PICTURE   \n",
       "658                              MUSIC (Original Song)   \n",
       "657                             MUSIC (Original Score)   \n",
       "656                                             MAKEUP   \n",
       "655                                       FILM EDITING   \n",
       "654                                          DIRECTING   \n",
       "..                                                 ...   \n",
       "232                          ACTRESS IN A LEADING ROLE   \n",
       "238                                             MAKEUP   \n",
       "233                       ACTRESS IN A SUPPORTING ROLE   \n",
       "240                              MUSIC (Original Song)   \n",
       "237                                     COSTUME DESIGN   \n",
       "235                                      ART DIRECTION   \n",
       "54                             ACTOR IN A LEADING ROLE   \n",
       "150                            ACTOR IN A LEADING ROLE   \n",
       "153  WRITING (Screenplay Written Directly for the S...   \n",
       "152                              MUSIC (Original Song)   \n",
       "151                         ACTOR IN A SUPPORTING ROLE   \n",
       "803                                      SOUND EDITING   \n",
       "793                                     VISUAL EFFECTS   \n",
       "791                                      SOUND EDITING   \n",
       "792                                       SOUND MIXING   \n",
       "706                                     VISUAL EFFECTS   \n",
       "705                                             MAKEUP   \n",
       "787                              ANIMATED FEATURE FILM   \n",
       "788                              MUSIC (Original Song)   \n",
       "621                                      ART DIRECTION   \n",
       "623                             MUSIC (Original Score)   \n",
       "622                                     COSTUME DESIGN   \n",
       "717                                     VISUAL EFFECTS   \n",
       "716                                       SOUND MIXING   \n",
       "715                                      SOUND EDITING   \n",
       "714                                             MAKEUP   \n",
       "713                                       FILM EDITING   \n",
       "712                                     CINEMATOGRAPHY   \n",
       "711                                      ART DIRECTION   \n",
       "710                         ACTOR IN A SUPPORTING ROLE   \n",
       "\n",
       "                                                  name  \\\n",
       "775  Production Design: Dan Hennah; Set Decoration:...   \n",
       "776  Joe Letteri, Eric Saindon, David Clayton and R...   \n",
       "774    Peter Swords King, Rick Findlater and Tami Lane   \n",
       "754  Ken Ralston, David Schaub, Carey Villegas and ...   \n",
       "753                                     Colleen Atwood   \n",
       "752  Production Design: Robert Stromberg; Set Decor...   \n",
       "749                        Darla K. Anderson, Producer   \n",
       "751  Screenplay by Michael Arndt; Story by John Las...   \n",
       "750                      Tom Myers and Michael Silvers   \n",
       "748                    Music and Lyric by Randy Newman   \n",
       "747                                        Lee Unkrich   \n",
       "697      Paul Massey, Christopher Boyes and Lee Orloff   \n",
       "698  John Knoll, Hal Hickel, Charles Gibson and All...   \n",
       "696            Christopher Boyes and George Watters II   \n",
       "695  Art Direction:  Rick Heinrichs; Set Decoration...   \n",
       "773    Scott Millan, Greg P. Russell and Stuart Wilson   \n",
       "772               Per Hallberg and Karen Baker Landers   \n",
       "771   Music and Lyric by Adele Adkins and Paul Epworth   \n",
       "770                                      Thomas Newman   \n",
       "769                                      Roger Deakins   \n",
       "662  Screenplay by Fran Walsh, Philippa Boyens & Pe...   \n",
       "653                   Ngila Dickson and Richard Taylor   \n",
       "652  Art Direction: Grant Major; Set Decoration: Da...   \n",
       "660  Christopher Boyes, Michael Semanick, Michael H...   \n",
       "659  Barrie M. Osborne, Peter Jackson and Fran Wals...   \n",
       "658  Music and Lyric by Fran Walsh and Howard Shore...   \n",
       "657                                       Howard Shore   \n",
       "656                      Richard Taylor and Peter King   \n",
       "655                                      Jamie Selkirk   \n",
       "654                                      Peter Jackson   \n",
       "..                                                 ...   \n",
       "232                                    Whoopi Goldberg   \n",
       "238                                          Ken Chase   \n",
       "233                                     Margaret Avery   \n",
       "240  Music by Quincy Jones and Rod Temperton; Lyric...   \n",
       "237                              Aggie Guerard Rodgers   \n",
       "235  Art Direction:  J. Michael Riva, Robert W. Wel...   \n",
       "54                                       John Travolta   \n",
       "150                                       Dudley Moore   \n",
       "153                                       Steve Gordon   \n",
       "152  Music and Lyric by Burt Bacharach, Carole Baye...   \n",
       "151                                       John Gielgud   \n",
       "803                      Brent Burge and Jason Canovas   \n",
       "793  Joe Letteri, Eric Saindon, David Clayton and E...   \n",
       "791                         Brent Burge and Chris Ward   \n",
       "792  Christopher Boyes, Michael Hedges, Michael Sem...   \n",
       "706  John Knoll, Hal Hickel, Charles Gibson and Joh...   \n",
       "705                         Ve Neill and Martin Samuel   \n",
       "787   Chris Renaud, Pierre Coffin and Chris Meledandri   \n",
       "788               Music and Lyric by Pharrell Williams   \n",
       "621  Art Direction:  Stuart Craig; Set Decoration: ...   \n",
       "623                                      John Williams   \n",
       "622                                  Judianna Makovsky   \n",
       "717  Nick Davis, Chris Corbould, Tim Webber and Pau...   \n",
       "716          Lora Hirschberg, Gary Rizzo and Ed Novick   \n",
       "715                                       Richard King   \n",
       "714            John Caglione, Jr. and Conor O'Sullivan   \n",
       "713                                          Lee Smith   \n",
       "712                                      Wally Pfister   \n",
       "711  Art Direction: Nathan Crowley; Set Decoration:...   \n",
       "710                                       Heath Ledger   \n",
       "\n",
       "                                             title  winner Main_Genre  \\\n",
       "775              The Hobbit: An Unexpected Journey   False    Fantasy   \n",
       "776              The Hobbit: An Unexpected Journey   False    Fantasy   \n",
       "774              The Hobbit: An Unexpected Journey   False    Fantasy   \n",
       "754                            Alice in Wonderland   False    Fantasy   \n",
       "753                            Alice in Wonderland    True    Fantasy   \n",
       "752                            Alice in Wonderland    True    Fantasy   \n",
       "749                                    Toy Story 3   False     Comedy   \n",
       "751                                    Toy Story 3   False     Comedy   \n",
       "750                                    Toy Story 3   False     Comedy   \n",
       "748                                    Toy Story 3    True     Comedy   \n",
       "747                                    Toy Story 3    True     Comedy   \n",
       "697     Pirates of the Caribbean: Dead Man's Chest   False    Fantasy   \n",
       "698     Pirates of the Caribbean: Dead Man's Chest    True    Fantasy   \n",
       "696     Pirates of the Caribbean: Dead Man's Chest   False    Fantasy   \n",
       "695     Pirates of the Caribbean: Dead Man's Chest   False    Fantasy   \n",
       "773                                        Skyfall   False   Thriller   \n",
       "772                                        Skyfall    True   Thriller   \n",
       "771                                        Skyfall    True   Thriller   \n",
       "770                                        Skyfall   False   Thriller   \n",
       "769                                        Skyfall   False   Thriller   \n",
       "662  The Lord of the Rings: The Return of the King    True    Fantasy   \n",
       "653  The Lord of the Rings: The Return of the King    True    Fantasy   \n",
       "652  The Lord of the Rings: The Return of the King    True    Fantasy   \n",
       "660  The Lord of the Rings: The Return of the King    True    Fantasy   \n",
       "659  The Lord of the Rings: The Return of the King    True    Fantasy   \n",
       "658  The Lord of the Rings: The Return of the King    True    Fantasy   \n",
       "657  The Lord of the Rings: The Return of the King    True    Fantasy   \n",
       "656  The Lord of the Rings: The Return of the King    True    Fantasy   \n",
       "655  The Lord of the Rings: The Return of the King    True    Fantasy   \n",
       "654  The Lord of the Rings: The Return of the King    True    Fantasy   \n",
       "..                                             ...     ...        ...   \n",
       "232                               The Color Purple   False      Drama   \n",
       "238                               The Color Purple   False      Drama   \n",
       "233                               The Color Purple   False      Drama   \n",
       "240                               The Color Purple   False      Drama   \n",
       "237                               The Color Purple   False      Drama   \n",
       "235                               The Color Purple   False      Drama   \n",
       "54                            Saturday Night Fever   False    Romance   \n",
       "150                                         Arthur   False    Romance   \n",
       "153                                         Arthur   False    Romance   \n",
       "152                                         Arthur    True    Romance   \n",
       "151                                         Arthur    True    Romance   \n",
       "803      The Hobbit: The Battle of the Five Armies   False    Fantasy   \n",
       "793            The Hobbit: The Desolation of Smaug   False    Fantasy   \n",
       "791            The Hobbit: The Desolation of Smaug   False    Fantasy   \n",
       "792            The Hobbit: The Desolation of Smaug   False    Fantasy   \n",
       "706       Pirates of the Caribbean: At World's End   False    Fantasy   \n",
       "705       Pirates of the Caribbean: At World's End   False    Fantasy   \n",
       "787                                Despicable Me 2   False  Animation   \n",
       "788                                Despicable Me 2   False  Animation   \n",
       "621          Harry Potter and the Sorcerer's Stone   False    Fantasy   \n",
       "623          Harry Potter and the Sorcerer's Stone   False    Fantasy   \n",
       "622          Harry Potter and the Sorcerer's Stone   False    Fantasy   \n",
       "717                                The Dark Knight   False      Drama   \n",
       "716                                The Dark Knight   False      Drama   \n",
       "715                                The Dark Knight    True      Drama   \n",
       "714                                The Dark Knight   False      Drama   \n",
       "713                                The Dark Knight   False      Drama   \n",
       "712                                The Dark Knight   False      Drama   \n",
       "711                                The Dark Knight   False      Drama   \n",
       "710                                The Dark Knight    True      Drama   \n",
       "\n",
       "       Genre_2    Genre_3  imdb_rating  length  rank_in_year rating  \\\n",
       "775  Adventure        NaN          8.0     169             4  PG-13   \n",
       "776  Adventure        NaN          8.0     169             4  PG-13   \n",
       "774  Adventure        NaN          8.0     169             4  PG-13   \n",
       "754     Family  Adventure          6.5     108             2     PG   \n",
       "753     Family  Adventure          6.5     108             2     PG   \n",
       "752     Family  Adventure          6.5     108             2     PG   \n",
       "749  Animation  Adventure          8.4     103             1      G   \n",
       "751  Animation  Adventure          8.4     103             1      G   \n",
       "750  Animation  Adventure          8.4     103             1      G   \n",
       "748  Animation  Adventure          8.4     103             1      G   \n",
       "747  Animation  Adventure          8.4     103             1      G   \n",
       "697  Adventure     Action          7.3     151             1  PG-13   \n",
       "698  Adventure     Action          7.3     151             1  PG-13   \n",
       "696  Adventure     Action          7.3     151             1  PG-13   \n",
       "695  Adventure     Action          7.3     151             1  PG-13   \n",
       "773  Adventure     Action          7.8     143             2  PG-13   \n",
       "772  Adventure     Action          7.8     143             2  PG-13   \n",
       "771  Adventure     Action          7.8     143             2  PG-13   \n",
       "770  Adventure     Action          7.8     143             2  PG-13   \n",
       "769  Adventure     Action          7.8     143             2  PG-13   \n",
       "662  Adventure    Western          8.9     201             1  PG-13   \n",
       "653  Adventure    Western          8.9     201             1  PG-13   \n",
       "652  Adventure    Western          8.9     201             1  PG-13   \n",
       "660  Adventure    Western          8.9     201             1  PG-13   \n",
       "659  Adventure    Western          8.9     201             1  PG-13   \n",
       "658  Adventure    Western          8.9     201             1  PG-13   \n",
       "657  Adventure    Western          8.9     201             1  PG-13   \n",
       "656  Adventure    Western          8.9     201             1  PG-13   \n",
       "655  Adventure    Western          8.9     201             1  PG-13   \n",
       "654  Adventure    Western          8.9     201             1  PG-13   \n",
       "..         ...        ...          ...     ...           ...    ...   \n",
       "232        NaN        NaN          7.8     154             4  PG-13   \n",
       "238        NaN        NaN          7.8     154             4  PG-13   \n",
       "233        NaN        NaN          7.8     154             4  PG-13   \n",
       "240        NaN        NaN          7.8     154             4  PG-13   \n",
       "237        NaN        NaN          7.8     154             4  PG-13   \n",
       "235        NaN        NaN          7.8     154             4  PG-13   \n",
       "54       Music      Drama          6.8     118             5      R   \n",
       "150     Comedy        NaN          6.9      97             4     PG   \n",
       "153     Comedy        NaN          6.9      97             4     PG   \n",
       "152     Comedy        NaN          6.9      97             4     PG   \n",
       "151     Comedy        NaN          6.9      97             4     PG   \n",
       "803  Adventure        NaN          7.5     144             2  PG-13   \n",
       "793  Adventure        NaN          8.0     161             4  PG-13   \n",
       "791  Adventure        NaN          8.0     161             4  PG-13   \n",
       "792  Adventure        NaN          8.0     161             4  PG-13   \n",
       "706  Adventure     Action          7.1     169             1  PG-13   \n",
       "705  Adventure     Action          7.1     169             1  PG-13   \n",
       "787     Comedy  Animation          7.5      98             3     PG   \n",
       "788     Comedy  Animation          7.5      98             3     PG   \n",
       "621     Family  Adventure          7.5     152             1     PG   \n",
       "623     Family  Adventure          7.5     152             1     PG   \n",
       "622     Family  Adventure          7.5     152             1     PG   \n",
       "717      Crime     Action          9.0     152             1  PG-13   \n",
       "716      Crime     Action          9.0     152             1  PG-13   \n",
       "715      Crime     Action          9.0     152             1  PG-13   \n",
       "714      Crime     Action          9.0     152             1  PG-13   \n",
       "713      Crime     Action          9.0     152             1  PG-13   \n",
       "712      Crime     Action          9.0     152             1  PG-13   \n",
       "711      Crime     Action          9.0     152             1  PG-13   \n",
       "710      Crime     Action          9.0     152             1  PG-13   \n",
       "\n",
       "                   studio     worldwide_gross  \n",
       "775           Warner Bros  $1,017,003,568.00   \n",
       "776           Warner Bros  $1,017,003,568.00   \n",
       "774           Warner Bros  $1,017,003,568.00   \n",
       "754  Walt Disney Pictures  $1,025,467,110.00   \n",
       "753  Walt Disney Pictures  $1,025,467,110.00   \n",
       "752  Walt Disney Pictures  $1,025,467,110.00   \n",
       "749  Walt Disney Pictures  $1,063,171,911.00   \n",
       "751  Walt Disney Pictures  $1,063,171,911.00   \n",
       "750  Walt Disney Pictures  $1,063,171,911.00   \n",
       "748  Walt Disney Pictures  $1,063,171,911.00   \n",
       "747  Walt Disney Pictures  $1,063,171,911.00   \n",
       "697  Walt Disney Pictures  $1,066,179,725.00   \n",
       "698  Walt Disney Pictures  $1,066,179,725.00   \n",
       "696  Walt Disney Pictures  $1,066,179,725.00   \n",
       "695  Walt Disney Pictures  $1,066,179,725.00   \n",
       "773   Metro-Goldwyn-Mayer  $1,108,561,013.00   \n",
       "772   Metro-Goldwyn-Mayer  $1,108,561,013.00   \n",
       "771   Metro-Goldwyn-Mayer  $1,108,561,013.00   \n",
       "770   Metro-Goldwyn-Mayer  $1,108,561,013.00   \n",
       "769   Metro-Goldwyn-Mayer  $1,108,561,013.00   \n",
       "662           Warner Bros  $1,119,929,521.00   \n",
       "653           Warner Bros  $1,119,929,521.00   \n",
       "652           Warner Bros  $1,119,929,521.00   \n",
       "660           Warner Bros  $1,119,929,521.00   \n",
       "659           Warner Bros  $1,119,929,521.00   \n",
       "658           Warner Bros  $1,119,929,521.00   \n",
       "657           Warner Bros  $1,119,929,521.00   \n",
       "656           Warner Bros  $1,119,929,521.00   \n",
       "655           Warner Bros  $1,119,929,521.00   \n",
       "654           Warner Bros  $1,119,929,521.00   \n",
       "..                    ...                 ...  \n",
       "232           Warner Bros     $94,175,854.00   \n",
       "238           Warner Bros     $94,175,854.00   \n",
       "233           Warner Bros     $94,175,854.00   \n",
       "240           Warner Bros     $94,175,854.00   \n",
       "237           Warner Bros     $94,175,854.00   \n",
       "235           Warner Bros     $94,175,854.00   \n",
       "54     Paramount Pictures     $94,213,184.00   \n",
       "150           Warner Bros     $95,461,682.00   \n",
       "153           Warner Bros     $95,461,682.00   \n",
       "152           Warner Bros     $95,461,682.00   \n",
       "151           Warner Bros     $95,461,682.00   \n",
       "803           Warner Bros    $955,113,783.00   \n",
       "793           Warner Bros    $960,366,855.00   \n",
       "791           Warner Bros    $960,366,855.00   \n",
       "792           Warner Bros    $960,366,855.00   \n",
       "706  Walt Disney Pictures    $963,420,425.00   \n",
       "705  Walt Disney Pictures    $963,420,425.00   \n",
       "787    Universal Pictures    $970,761,885.00   \n",
       "788    Universal Pictures    $970,761,885.00   \n",
       "621           Warner Bros    $974,733,550.00   \n",
       "623           Warner Bros    $974,733,550.00   \n",
       "622           Warner Bros    $974,733,550.00   \n",
       "717           Warner Bros    $997,000,000.00   \n",
       "716           Warner Bros    $997,000,000.00   \n",
       "715           Warner Bros    $997,000,000.00   \n",
       "714           Warner Bros    $997,000,000.00   \n",
       "713           Warner Bros    $997,000,000.00   \n",
       "712           Warner Bros    $997,000,000.00   \n",
       "711           Warner Bros    $997,000,000.00   \n",
       "710           Warner Bros    $997,000,000.00   \n",
       "\n",
       "[843 rows x 16 columns]"
      ]
     },
     "execution_count": 181,
     "metadata": {},
     "output_type": "execute_result"
    }
   ],
   "source": [
    "df.sort_values('worldwide_gross')"
   ]
  },
  {
   "cell_type": "code",
   "execution_count": 11,
   "metadata": {
    "ExecuteTime": {
     "end_time": "2020-06-02T20:09:46.031067Z",
     "start_time": "2020-06-02T20:09:46.018887Z"
    }
   },
   "outputs": [],
   "source": [
    "# 1. What are the top 3 highest-grossing films that won an Oscar?\n",
    "df1 = df.loc[df[\"winner\"] == True]"
   ]
  },
  {
   "cell_type": "code",
   "execution_count": 12,
   "metadata": {
    "ExecuteTime": {
     "end_time": "2020-06-02T20:09:46.143175Z",
     "start_time": "2020-06-02T20:09:46.040531Z"
    }
   },
   "outputs": [
    {
     "data": {
      "text/html": [
       "<div>\n",
       "<style scoped>\n",
       "    .dataframe tbody tr th:only-of-type {\n",
       "        vertical-align: middle;\n",
       "    }\n",
       "\n",
       "    .dataframe tbody tr th {\n",
       "        vertical-align: top;\n",
       "    }\n",
       "\n",
       "    .dataframe thead th {\n",
       "        text-align: right;\n",
       "    }\n",
       "</style>\n",
       "<table border=\"1\" class=\"dataframe\">\n",
       "  <thead>\n",
       "    <tr style=\"text-align: right;\">\n",
       "      <th></th>\n",
       "      <th>year_film</th>\n",
       "      <th>year_ceremony</th>\n",
       "      <th>ceremony</th>\n",
       "      <th>category</th>\n",
       "      <th>name</th>\n",
       "      <th>title</th>\n",
       "      <th>winner</th>\n",
       "      <th>Main_Genre</th>\n",
       "      <th>Genre_2</th>\n",
       "      <th>Genre_3</th>\n",
       "      <th>imdb_rating</th>\n",
       "      <th>length</th>\n",
       "      <th>rank_in_year</th>\n",
       "      <th>rating</th>\n",
       "      <th>studio</th>\n",
       "      <th>worldwide_gross</th>\n",
       "    </tr>\n",
       "  </thead>\n",
       "  <tbody>\n",
       "    <tr>\n",
       "      <th>753</th>\n",
       "      <td>2010</td>\n",
       "      <td>2011</td>\n",
       "      <td>83</td>\n",
       "      <td>COSTUME DESIGN</td>\n",
       "      <td>Colleen Atwood</td>\n",
       "      <td>Alice in Wonderland</td>\n",
       "      <td>True</td>\n",
       "      <td>Fantasy</td>\n",
       "      <td>Family</td>\n",
       "      <td>Adventure</td>\n",
       "      <td>6.5</td>\n",
       "      <td>108</td>\n",
       "      <td>2</td>\n",
       "      <td>PG</td>\n",
       "      <td>Walt Disney Pictures</td>\n",
       "      <td>$1,025,467,110.00</td>\n",
       "    </tr>\n",
       "    <tr>\n",
       "      <th>752</th>\n",
       "      <td>2010</td>\n",
       "      <td>2011</td>\n",
       "      <td>83</td>\n",
       "      <td>ART DIRECTION</td>\n",
       "      <td>Production Design: Robert Stromberg; Set Decor...</td>\n",
       "      <td>Alice in Wonderland</td>\n",
       "      <td>True</td>\n",
       "      <td>Fantasy</td>\n",
       "      <td>Family</td>\n",
       "      <td>Adventure</td>\n",
       "      <td>6.5</td>\n",
       "      <td>108</td>\n",
       "      <td>2</td>\n",
       "      <td>PG</td>\n",
       "      <td>Walt Disney Pictures</td>\n",
       "      <td>$1,025,467,110.00</td>\n",
       "    </tr>\n",
       "    <tr>\n",
       "      <th>748</th>\n",
       "      <td>2010</td>\n",
       "      <td>2011</td>\n",
       "      <td>83</td>\n",
       "      <td>MUSIC (Original Song)</td>\n",
       "      <td>Music and Lyric by Randy Newman</td>\n",
       "      <td>Toy Story 3</td>\n",
       "      <td>True</td>\n",
       "      <td>Comedy</td>\n",
       "      <td>Animation</td>\n",
       "      <td>Adventure</td>\n",
       "      <td>8.4</td>\n",
       "      <td>103</td>\n",
       "      <td>1</td>\n",
       "      <td>G</td>\n",
       "      <td>Walt Disney Pictures</td>\n",
       "      <td>$1,063,171,911.00</td>\n",
       "    </tr>\n",
       "    <tr>\n",
       "      <th>747</th>\n",
       "      <td>2010</td>\n",
       "      <td>2011</td>\n",
       "      <td>83</td>\n",
       "      <td>ANIMATED FEATURE FILM</td>\n",
       "      <td>Lee Unkrich</td>\n",
       "      <td>Toy Story 3</td>\n",
       "      <td>True</td>\n",
       "      <td>Comedy</td>\n",
       "      <td>Animation</td>\n",
       "      <td>Adventure</td>\n",
       "      <td>8.4</td>\n",
       "      <td>103</td>\n",
       "      <td>1</td>\n",
       "      <td>G</td>\n",
       "      <td>Walt Disney Pictures</td>\n",
       "      <td>$1,063,171,911.00</td>\n",
       "    </tr>\n",
       "    <tr>\n",
       "      <th>698</th>\n",
       "      <td>2006</td>\n",
       "      <td>2007</td>\n",
       "      <td>79</td>\n",
       "      <td>VISUAL EFFECTS</td>\n",
       "      <td>John Knoll, Hal Hickel, Charles Gibson and All...</td>\n",
       "      <td>Pirates of the Caribbean: Dead Man's Chest</td>\n",
       "      <td>True</td>\n",
       "      <td>Fantasy</td>\n",
       "      <td>Adventure</td>\n",
       "      <td>Action</td>\n",
       "      <td>7.3</td>\n",
       "      <td>151</td>\n",
       "      <td>1</td>\n",
       "      <td>PG-13</td>\n",
       "      <td>Walt Disney Pictures</td>\n",
       "      <td>$1,066,179,725.00</td>\n",
       "    </tr>\n",
       "    <tr>\n",
       "      <th>771</th>\n",
       "      <td>2012</td>\n",
       "      <td>2013</td>\n",
       "      <td>85</td>\n",
       "      <td>MUSIC (Original Song)</td>\n",
       "      <td>Music and Lyric by Adele Adkins and Paul Epworth</td>\n",
       "      <td>Skyfall</td>\n",
       "      <td>True</td>\n",
       "      <td>Thriller</td>\n",
       "      <td>Adventure</td>\n",
       "      <td>Action</td>\n",
       "      <td>7.8</td>\n",
       "      <td>143</td>\n",
       "      <td>2</td>\n",
       "      <td>PG-13</td>\n",
       "      <td>Metro-Goldwyn-Mayer</td>\n",
       "      <td>$1,108,561,013.00</td>\n",
       "    </tr>\n",
       "    <tr>\n",
       "      <th>772</th>\n",
       "      <td>2012</td>\n",
       "      <td>2013</td>\n",
       "      <td>85</td>\n",
       "      <td>SOUND EDITING</td>\n",
       "      <td>Per Hallberg and Karen Baker Landers</td>\n",
       "      <td>Skyfall</td>\n",
       "      <td>True</td>\n",
       "      <td>Thriller</td>\n",
       "      <td>Adventure</td>\n",
       "      <td>Action</td>\n",
       "      <td>7.8</td>\n",
       "      <td>143</td>\n",
       "      <td>2</td>\n",
       "      <td>PG-13</td>\n",
       "      <td>Metro-Goldwyn-Mayer</td>\n",
       "      <td>$1,108,561,013.00</td>\n",
       "    </tr>\n",
       "    <tr>\n",
       "      <th>654</th>\n",
       "      <td>2003</td>\n",
       "      <td>2004</td>\n",
       "      <td>76</td>\n",
       "      <td>DIRECTING</td>\n",
       "      <td>Peter Jackson</td>\n",
       "      <td>The Lord of the Rings: The Return of the King</td>\n",
       "      <td>True</td>\n",
       "      <td>Fantasy</td>\n",
       "      <td>Adventure</td>\n",
       "      <td>Western</td>\n",
       "      <td>8.9</td>\n",
       "      <td>201</td>\n",
       "      <td>1</td>\n",
       "      <td>PG-13</td>\n",
       "      <td>Warner Bros</td>\n",
       "      <td>$1,119,929,521.00</td>\n",
       "    </tr>\n",
       "    <tr>\n",
       "      <th>657</th>\n",
       "      <td>2003</td>\n",
       "      <td>2004</td>\n",
       "      <td>76</td>\n",
       "      <td>MUSIC (Original Score)</td>\n",
       "      <td>Howard Shore</td>\n",
       "      <td>The Lord of the Rings: The Return of the King</td>\n",
       "      <td>True</td>\n",
       "      <td>Fantasy</td>\n",
       "      <td>Adventure</td>\n",
       "      <td>Western</td>\n",
       "      <td>8.9</td>\n",
       "      <td>201</td>\n",
       "      <td>1</td>\n",
       "      <td>PG-13</td>\n",
       "      <td>Warner Bros</td>\n",
       "      <td>$1,119,929,521.00</td>\n",
       "    </tr>\n",
       "    <tr>\n",
       "      <th>652</th>\n",
       "      <td>2003</td>\n",
       "      <td>2004</td>\n",
       "      <td>76</td>\n",
       "      <td>ART DIRECTION</td>\n",
       "      <td>Art Direction: Grant Major; Set Decoration: Da...</td>\n",
       "      <td>The Lord of the Rings: The Return of the King</td>\n",
       "      <td>True</td>\n",
       "      <td>Fantasy</td>\n",
       "      <td>Adventure</td>\n",
       "      <td>Western</td>\n",
       "      <td>8.9</td>\n",
       "      <td>201</td>\n",
       "      <td>1</td>\n",
       "      <td>PG-13</td>\n",
       "      <td>Warner Bros</td>\n",
       "      <td>$1,119,929,521.00</td>\n",
       "    </tr>\n",
       "    <tr>\n",
       "      <th>662</th>\n",
       "      <td>2003</td>\n",
       "      <td>2004</td>\n",
       "      <td>76</td>\n",
       "      <td>WRITING (Adapted Screenplay)</td>\n",
       "      <td>Screenplay by Fran Walsh, Philippa Boyens &amp; Pe...</td>\n",
       "      <td>The Lord of the Rings: The Return of the King</td>\n",
       "      <td>True</td>\n",
       "      <td>Fantasy</td>\n",
       "      <td>Adventure</td>\n",
       "      <td>Western</td>\n",
       "      <td>8.9</td>\n",
       "      <td>201</td>\n",
       "      <td>1</td>\n",
       "      <td>PG-13</td>\n",
       "      <td>Warner Bros</td>\n",
       "      <td>$1,119,929,521.00</td>\n",
       "    </tr>\n",
       "    <tr>\n",
       "      <th>661</th>\n",
       "      <td>2003</td>\n",
       "      <td>2004</td>\n",
       "      <td>76</td>\n",
       "      <td>VISUAL EFFECTS</td>\n",
       "      <td>Jim Rygiel, Joe Letteri, Randall William Cook ...</td>\n",
       "      <td>The Lord of the Rings: The Return of the King</td>\n",
       "      <td>True</td>\n",
       "      <td>Fantasy</td>\n",
       "      <td>Adventure</td>\n",
       "      <td>Western</td>\n",
       "      <td>8.9</td>\n",
       "      <td>201</td>\n",
       "      <td>1</td>\n",
       "      <td>PG-13</td>\n",
       "      <td>Warner Bros</td>\n",
       "      <td>$1,119,929,521.00</td>\n",
       "    </tr>\n",
       "    <tr>\n",
       "      <th>660</th>\n",
       "      <td>2003</td>\n",
       "      <td>2004</td>\n",
       "      <td>76</td>\n",
       "      <td>SOUND MIXING</td>\n",
       "      <td>Christopher Boyes, Michael Semanick, Michael H...</td>\n",
       "      <td>The Lord of the Rings: The Return of the King</td>\n",
       "      <td>True</td>\n",
       "      <td>Fantasy</td>\n",
       "      <td>Adventure</td>\n",
       "      <td>Western</td>\n",
       "      <td>8.9</td>\n",
       "      <td>201</td>\n",
       "      <td>1</td>\n",
       "      <td>PG-13</td>\n",
       "      <td>Warner Bros</td>\n",
       "      <td>$1,119,929,521.00</td>\n",
       "    </tr>\n",
       "    <tr>\n",
       "      <th>659</th>\n",
       "      <td>2003</td>\n",
       "      <td>2004</td>\n",
       "      <td>76</td>\n",
       "      <td>BEST PICTURE</td>\n",
       "      <td>Barrie M. Osborne, Peter Jackson and Fran Wals...</td>\n",
       "      <td>The Lord of the Rings: The Return of the King</td>\n",
       "      <td>True</td>\n",
       "      <td>Fantasy</td>\n",
       "      <td>Adventure</td>\n",
       "      <td>Western</td>\n",
       "      <td>8.9</td>\n",
       "      <td>201</td>\n",
       "      <td>1</td>\n",
       "      <td>PG-13</td>\n",
       "      <td>Warner Bros</td>\n",
       "      <td>$1,119,929,521.00</td>\n",
       "    </tr>\n",
       "    <tr>\n",
       "      <th>658</th>\n",
       "      <td>2003</td>\n",
       "      <td>2004</td>\n",
       "      <td>76</td>\n",
       "      <td>MUSIC (Original Song)</td>\n",
       "      <td>Music and Lyric by Fran Walsh and Howard Shore...</td>\n",
       "      <td>The Lord of the Rings: The Return of the King</td>\n",
       "      <td>True</td>\n",
       "      <td>Fantasy</td>\n",
       "      <td>Adventure</td>\n",
       "      <td>Western</td>\n",
       "      <td>8.9</td>\n",
       "      <td>201</td>\n",
       "      <td>1</td>\n",
       "      <td>PG-13</td>\n",
       "      <td>Warner Bros</td>\n",
       "      <td>$1,119,929,521.00</td>\n",
       "    </tr>\n",
       "    <tr>\n",
       "      <th>655</th>\n",
       "      <td>2003</td>\n",
       "      <td>2004</td>\n",
       "      <td>76</td>\n",
       "      <td>FILM EDITING</td>\n",
       "      <td>Jamie Selkirk</td>\n",
       "      <td>The Lord of the Rings: The Return of the King</td>\n",
       "      <td>True</td>\n",
       "      <td>Fantasy</td>\n",
       "      <td>Adventure</td>\n",
       "      <td>Western</td>\n",
       "      <td>8.9</td>\n",
       "      <td>201</td>\n",
       "      <td>1</td>\n",
       "      <td>PG-13</td>\n",
       "      <td>Warner Bros</td>\n",
       "      <td>$1,119,929,521.00</td>\n",
       "    </tr>\n",
       "    <tr>\n",
       "      <th>653</th>\n",
       "      <td>2003</td>\n",
       "      <td>2004</td>\n",
       "      <td>76</td>\n",
       "      <td>COSTUME DESIGN</td>\n",
       "      <td>Ngila Dickson and Richard Taylor</td>\n",
       "      <td>The Lord of the Rings: The Return of the King</td>\n",
       "      <td>True</td>\n",
       "      <td>Fantasy</td>\n",
       "      <td>Adventure</td>\n",
       "      <td>Western</td>\n",
       "      <td>8.9</td>\n",
       "      <td>201</td>\n",
       "      <td>1</td>\n",
       "      <td>PG-13</td>\n",
       "      <td>Warner Bros</td>\n",
       "      <td>$1,119,929,521.00</td>\n",
       "    </tr>\n",
       "    <tr>\n",
       "      <th>656</th>\n",
       "      <td>2003</td>\n",
       "      <td>2004</td>\n",
       "      <td>76</td>\n",
       "      <td>MAKEUP</td>\n",
       "      <td>Richard Taylor and Peter King</td>\n",
       "      <td>The Lord of the Rings: The Return of the King</td>\n",
       "      <td>True</td>\n",
       "      <td>Fantasy</td>\n",
       "      <td>Adventure</td>\n",
       "      <td>Western</td>\n",
       "      <td>8.9</td>\n",
       "      <td>201</td>\n",
       "      <td>1</td>\n",
       "      <td>PG-13</td>\n",
       "      <td>Warner Bros</td>\n",
       "      <td>$1,119,929,521.00</td>\n",
       "    </tr>\n",
       "    <tr>\n",
       "      <th>790</th>\n",
       "      <td>2013</td>\n",
       "      <td>2014</td>\n",
       "      <td>86</td>\n",
       "      <td>MUSIC (Original Song)</td>\n",
       "      <td>Music and Lyric by Kristen Anderson-Lopez and ...</td>\n",
       "      <td>Frozen</td>\n",
       "      <td>True</td>\n",
       "      <td>Comedy</td>\n",
       "      <td>Animation</td>\n",
       "      <td>Adventure</td>\n",
       "      <td>7.7</td>\n",
       "      <td>102</td>\n",
       "      <td>1</td>\n",
       "      <td>PG</td>\n",
       "      <td>Walt Disney Pictures</td>\n",
       "      <td>$1,274,219,009.00</td>\n",
       "    </tr>\n",
       "    <tr>\n",
       "      <th>789</th>\n",
       "      <td>2013</td>\n",
       "      <td>2014</td>\n",
       "      <td>86</td>\n",
       "      <td>ANIMATED FEATURE FILM</td>\n",
       "      <td>Chris Buck, Jennifer Lee and Peter Del Vecho</td>\n",
       "      <td>Frozen</td>\n",
       "      <td>True</td>\n",
       "      <td>Comedy</td>\n",
       "      <td>Animation</td>\n",
       "      <td>Adventure</td>\n",
       "      <td>7.7</td>\n",
       "      <td>102</td>\n",
       "      <td>1</td>\n",
       "      <td>PG</td>\n",
       "      <td>Walt Disney Pictures</td>\n",
       "      <td>$1,274,219,009.00</td>\n",
       "    </tr>\n",
       "    <tr>\n",
       "      <th>509</th>\n",
       "      <td>1997</td>\n",
       "      <td>1998</td>\n",
       "      <td>70</td>\n",
       "      <td>DIRECTING</td>\n",
       "      <td>James Cameron</td>\n",
       "      <td>Titanic</td>\n",
       "      <td>True</td>\n",
       "      <td>Romance</td>\n",
       "      <td>Drama</td>\n",
       "      <td>NaN</td>\n",
       "      <td>7.7</td>\n",
       "      <td>194</td>\n",
       "      <td>1</td>\n",
       "      <td>PG-13</td>\n",
       "      <td>Paramount Pictures</td>\n",
       "      <td>$1,843,201,268.00</td>\n",
       "    </tr>\n",
       "    <tr>\n",
       "      <th>517</th>\n",
       "      <td>1997</td>\n",
       "      <td>1998</td>\n",
       "      <td>70</td>\n",
       "      <td>VISUAL EFFECTS</td>\n",
       "      <td>Robert Legato, Mark Lasoff, Thomas L. Fisher, ...</td>\n",
       "      <td>Titanic</td>\n",
       "      <td>True</td>\n",
       "      <td>Romance</td>\n",
       "      <td>Drama</td>\n",
       "      <td>NaN</td>\n",
       "      <td>7.7</td>\n",
       "      <td>194</td>\n",
       "      <td>1</td>\n",
       "      <td>PG-13</td>\n",
       "      <td>Paramount Pictures</td>\n",
       "      <td>$1,843,201,268.00</td>\n",
       "    </tr>\n",
       "    <tr>\n",
       "      <th>516</th>\n",
       "      <td>1997</td>\n",
       "      <td>1998</td>\n",
       "      <td>70</td>\n",
       "      <td>SOUND EFFECTS EDITING</td>\n",
       "      <td>Tom Bellfort, Christopher Boyes</td>\n",
       "      <td>Titanic</td>\n",
       "      <td>True</td>\n",
       "      <td>Romance</td>\n",
       "      <td>Drama</td>\n",
       "      <td>NaN</td>\n",
       "      <td>7.7</td>\n",
       "      <td>194</td>\n",
       "      <td>1</td>\n",
       "      <td>PG-13</td>\n",
       "      <td>Paramount Pictures</td>\n",
       "      <td>$1,843,201,268.00</td>\n",
       "    </tr>\n",
       "    <tr>\n",
       "      <th>510</th>\n",
       "      <td>1997</td>\n",
       "      <td>1998</td>\n",
       "      <td>70</td>\n",
       "      <td>FILM EDITING</td>\n",
       "      <td>Conrad Buff, James Cameron, Richard A. Harris</td>\n",
       "      <td>Titanic</td>\n",
       "      <td>True</td>\n",
       "      <td>Romance</td>\n",
       "      <td>Drama</td>\n",
       "      <td>NaN</td>\n",
       "      <td>7.7</td>\n",
       "      <td>194</td>\n",
       "      <td>1</td>\n",
       "      <td>PG-13</td>\n",
       "      <td>Paramount Pictures</td>\n",
       "      <td>$1,843,201,268.00</td>\n",
       "    </tr>\n",
       "    <tr>\n",
       "      <th>515</th>\n",
       "      <td>1997</td>\n",
       "      <td>1998</td>\n",
       "      <td>70</td>\n",
       "      <td>SOUND</td>\n",
       "      <td>Gary Rydstrom, Tom Johnson, Gary Summers, Mark...</td>\n",
       "      <td>Titanic</td>\n",
       "      <td>True</td>\n",
       "      <td>Romance</td>\n",
       "      <td>Drama</td>\n",
       "      <td>NaN</td>\n",
       "      <td>7.7</td>\n",
       "      <td>194</td>\n",
       "      <td>1</td>\n",
       "      <td>PG-13</td>\n",
       "      <td>Paramount Pictures</td>\n",
       "      <td>$1,843,201,268.00</td>\n",
       "    </tr>\n",
       "    <tr>\n",
       "      <th>513</th>\n",
       "      <td>1997</td>\n",
       "      <td>1998</td>\n",
       "      <td>70</td>\n",
       "      <td>MUSIC (Original Song)</td>\n",
       "      <td>Music by James Horner; Lyric by Will Jennings</td>\n",
       "      <td>Titanic</td>\n",
       "      <td>True</td>\n",
       "      <td>Romance</td>\n",
       "      <td>Drama</td>\n",
       "      <td>NaN</td>\n",
       "      <td>7.7</td>\n",
       "      <td>194</td>\n",
       "      <td>1</td>\n",
       "      <td>PG-13</td>\n",
       "      <td>Paramount Pictures</td>\n",
       "      <td>$1,843,201,268.00</td>\n",
       "    </tr>\n",
       "    <tr>\n",
       "      <th>512</th>\n",
       "      <td>1997</td>\n",
       "      <td>1998</td>\n",
       "      <td>70</td>\n",
       "      <td>MUSIC (Original Dramatic Score)</td>\n",
       "      <td>James Horner</td>\n",
       "      <td>Titanic</td>\n",
       "      <td>True</td>\n",
       "      <td>Romance</td>\n",
       "      <td>Drama</td>\n",
       "      <td>NaN</td>\n",
       "      <td>7.7</td>\n",
       "      <td>194</td>\n",
       "      <td>1</td>\n",
       "      <td>PG-13</td>\n",
       "      <td>Paramount Pictures</td>\n",
       "      <td>$1,843,201,268.00</td>\n",
       "    </tr>\n",
       "    <tr>\n",
       "      <th>514</th>\n",
       "      <td>1997</td>\n",
       "      <td>1998</td>\n",
       "      <td>70</td>\n",
       "      <td>BEST PICTURE</td>\n",
       "      <td>James Cameron and Jon Landau, Producers</td>\n",
       "      <td>Titanic</td>\n",
       "      <td>True</td>\n",
       "      <td>Romance</td>\n",
       "      <td>Drama</td>\n",
       "      <td>NaN</td>\n",
       "      <td>7.7</td>\n",
       "      <td>194</td>\n",
       "      <td>1</td>\n",
       "      <td>PG-13</td>\n",
       "      <td>Paramount Pictures</td>\n",
       "      <td>$1,843,201,268.00</td>\n",
       "    </tr>\n",
       "    <tr>\n",
       "      <th>508</th>\n",
       "      <td>1997</td>\n",
       "      <td>1998</td>\n",
       "      <td>70</td>\n",
       "      <td>COSTUME DESIGN</td>\n",
       "      <td>Deborah L. Scott</td>\n",
       "      <td>Titanic</td>\n",
       "      <td>True</td>\n",
       "      <td>Romance</td>\n",
       "      <td>Drama</td>\n",
       "      <td>NaN</td>\n",
       "      <td>7.7</td>\n",
       "      <td>194</td>\n",
       "      <td>1</td>\n",
       "      <td>PG-13</td>\n",
       "      <td>Paramount Pictures</td>\n",
       "      <td>$1,843,201,268.00</td>\n",
       "    </tr>\n",
       "    <tr>\n",
       "      <th>507</th>\n",
       "      <td>1997</td>\n",
       "      <td>1998</td>\n",
       "      <td>70</td>\n",
       "      <td>CINEMATOGRAPHY</td>\n",
       "      <td>Russell Carpenter</td>\n",
       "      <td>Titanic</td>\n",
       "      <td>True</td>\n",
       "      <td>Romance</td>\n",
       "      <td>Drama</td>\n",
       "      <td>NaN</td>\n",
       "      <td>7.7</td>\n",
       "      <td>194</td>\n",
       "      <td>1</td>\n",
       "      <td>PG-13</td>\n",
       "      <td>Paramount Pictures</td>\n",
       "      <td>$1,843,201,268.00</td>\n",
       "    </tr>\n",
       "    <tr>\n",
       "      <th>...</th>\n",
       "      <td>...</td>\n",
       "      <td>...</td>\n",
       "      <td>...</td>\n",
       "      <td>...</td>\n",
       "      <td>...</td>\n",
       "      <td>...</td>\n",
       "      <td>...</td>\n",
       "      <td>...</td>\n",
       "      <td>...</td>\n",
       "      <td>...</td>\n",
       "      <td>...</td>\n",
       "      <td>...</td>\n",
       "      <td>...</td>\n",
       "      <td>...</td>\n",
       "      <td>...</td>\n",
       "      <td>...</td>\n",
       "    </tr>\n",
       "    <tr>\n",
       "      <th>279</th>\n",
       "      <td>1987</td>\n",
       "      <td>1988</td>\n",
       "      <td>60</td>\n",
       "      <td>ACTRESS IN A SUPPORTING ROLE</td>\n",
       "      <td>Olympia Dukakis</td>\n",
       "      <td>Moonstruck</td>\n",
       "      <td>True</td>\n",
       "      <td>Romance</td>\n",
       "      <td>Drama</td>\n",
       "      <td>Comedy</td>\n",
       "      <td>7.1</td>\n",
       "      <td>102</td>\n",
       "      <td>5</td>\n",
       "      <td>PG</td>\n",
       "      <td>Metro-Goldwyn-Mayer</td>\n",
       "      <td>$80,640,528.00</td>\n",
       "    </tr>\n",
       "    <tr>\n",
       "      <th>278</th>\n",
       "      <td>1987</td>\n",
       "      <td>1988</td>\n",
       "      <td>60</td>\n",
       "      <td>ACTRESS IN A LEADING ROLE</td>\n",
       "      <td>Cher</td>\n",
       "      <td>Moonstruck</td>\n",
       "      <td>True</td>\n",
       "      <td>Romance</td>\n",
       "      <td>Drama</td>\n",
       "      <td>Comedy</td>\n",
       "      <td>7.1</td>\n",
       "      <td>102</td>\n",
       "      <td>5</td>\n",
       "      <td>PG</td>\n",
       "      <td>Metro-Goldwyn-Mayer</td>\n",
       "      <td>$80,640,528.00</td>\n",
       "    </tr>\n",
       "    <tr>\n",
       "      <th>122</th>\n",
       "      <td>1979</td>\n",
       "      <td>1980</td>\n",
       "      <td>52</td>\n",
       "      <td>VISUAL EFFECTS</td>\n",
       "      <td>H.R. Giger, Carlo Rambaldi, Brian Johnson, Nic...</td>\n",
       "      <td>Alien</td>\n",
       "      <td>True</td>\n",
       "      <td>Sci-Fi</td>\n",
       "      <td>Horror</td>\n",
       "      <td>NaN</td>\n",
       "      <td>8.5</td>\n",
       "      <td>117</td>\n",
       "      <td>6</td>\n",
       "      <td>R</td>\n",
       "      <td>20th Century Fox</td>\n",
       "      <td>$80,931,801.00</td>\n",
       "    </tr>\n",
       "    <tr>\n",
       "      <th>83</th>\n",
       "      <td>1978</td>\n",
       "      <td>1979</td>\n",
       "      <td>51</td>\n",
       "      <td>ART DIRECTION</td>\n",
       "      <td>Art Direction:  Paul Sylbert, Edwin O'Donovan;...</td>\n",
       "      <td>Heaven Can Wait</td>\n",
       "      <td>True</td>\n",
       "      <td>Sport</td>\n",
       "      <td>Romance</td>\n",
       "      <td>Comedy</td>\n",
       "      <td>6.9</td>\n",
       "      <td>101</td>\n",
       "      <td>5</td>\n",
       "      <td>PG</td>\n",
       "      <td>Paramount Pictures</td>\n",
       "      <td>$81,640,278.00</td>\n",
       "    </tr>\n",
       "    <tr>\n",
       "      <th>492</th>\n",
       "      <td>1996</td>\n",
       "      <td>1997</td>\n",
       "      <td>69</td>\n",
       "      <td>VISUAL EFFECTS</td>\n",
       "      <td>Volker Engel, Douglas Smith, Clay Pinney, Jose...</td>\n",
       "      <td>Independence Day</td>\n",
       "      <td>True</td>\n",
       "      <td>Sci-Fi</td>\n",
       "      <td>Adventure</td>\n",
       "      <td>Action</td>\n",
       "      <td>6.9</td>\n",
       "      <td>145</td>\n",
       "      <td>1</td>\n",
       "      <td>PG-13</td>\n",
       "      <td>20th Century Fox</td>\n",
       "      <td>$817,400,891.00</td>\n",
       "    </tr>\n",
       "    <tr>\n",
       "      <th>756</th>\n",
       "      <td>2010</td>\n",
       "      <td>2011</td>\n",
       "      <td>83</td>\n",
       "      <td>CINEMATOGRAPHY</td>\n",
       "      <td>Wally Pfister</td>\n",
       "      <td>Inception</td>\n",
       "      <td>True</td>\n",
       "      <td>Sci-Fi</td>\n",
       "      <td>Mystery</td>\n",
       "      <td>Action</td>\n",
       "      <td>8.8</td>\n",
       "      <td>148</td>\n",
       "      <td>4</td>\n",
       "      <td>PG-13</td>\n",
       "      <td>Warner Bros</td>\n",
       "      <td>$825,531,030.00</td>\n",
       "    </tr>\n",
       "    <tr>\n",
       "      <th>759</th>\n",
       "      <td>2010</td>\n",
       "      <td>2011</td>\n",
       "      <td>83</td>\n",
       "      <td>SOUND EDITING</td>\n",
       "      <td>Richard King</td>\n",
       "      <td>Inception</td>\n",
       "      <td>True</td>\n",
       "      <td>Sci-Fi</td>\n",
       "      <td>Mystery</td>\n",
       "      <td>Action</td>\n",
       "      <td>8.8</td>\n",
       "      <td>148</td>\n",
       "      <td>4</td>\n",
       "      <td>PG-13</td>\n",
       "      <td>Warner Bros</td>\n",
       "      <td>$825,531,030.00</td>\n",
       "    </tr>\n",
       "    <tr>\n",
       "      <th>760</th>\n",
       "      <td>2010</td>\n",
       "      <td>2011</td>\n",
       "      <td>83</td>\n",
       "      <td>SOUND MIXING</td>\n",
       "      <td>Lora Hirschberg, Gary A. Rizzo and Ed Novick</td>\n",
       "      <td>Inception</td>\n",
       "      <td>True</td>\n",
       "      <td>Sci-Fi</td>\n",
       "      <td>Mystery</td>\n",
       "      <td>Action</td>\n",
       "      <td>8.8</td>\n",
       "      <td>148</td>\n",
       "      <td>4</td>\n",
       "      <td>PG-13</td>\n",
       "      <td>Warner Bros</td>\n",
       "      <td>$825,531,030.00</td>\n",
       "    </tr>\n",
       "    <tr>\n",
       "      <th>761</th>\n",
       "      <td>2010</td>\n",
       "      <td>2011</td>\n",
       "      <td>83</td>\n",
       "      <td>VISUAL EFFECTS</td>\n",
       "      <td>Paul Franklin, Chris Corbould, Andrew Lockley ...</td>\n",
       "      <td>Inception</td>\n",
       "      <td>True</td>\n",
       "      <td>Sci-Fi</td>\n",
       "      <td>Mystery</td>\n",
       "      <td>Action</td>\n",
       "      <td>8.8</td>\n",
       "      <td>148</td>\n",
       "      <td>4</td>\n",
       "      <td>PG-13</td>\n",
       "      <td>Warner Bros</td>\n",
       "      <td>$825,531,030.00</td>\n",
       "    </tr>\n",
       "    <tr>\n",
       "      <th>119</th>\n",
       "      <td>1979</td>\n",
       "      <td>1980</td>\n",
       "      <td>52</td>\n",
       "      <td>SOUND</td>\n",
       "      <td>Walter Murch, Mark Berger, Richard Beggs, Nat ...</td>\n",
       "      <td>Apocalypse Now</td>\n",
       "      <td>True</td>\n",
       "      <td>War</td>\n",
       "      <td>Drama</td>\n",
       "      <td>NaN</td>\n",
       "      <td>8.5</td>\n",
       "      <td>153</td>\n",
       "      <td>4</td>\n",
       "      <td>R</td>\n",
       "      <td>Metro-Goldwyn-Mayer</td>\n",
       "      <td>$83,471,511.00</td>\n",
       "    </tr>\n",
       "    <tr>\n",
       "      <th>115</th>\n",
       "      <td>1979</td>\n",
       "      <td>1980</td>\n",
       "      <td>52</td>\n",
       "      <td>CINEMATOGRAPHY</td>\n",
       "      <td>Vittorio Storaro</td>\n",
       "      <td>Apocalypse Now</td>\n",
       "      <td>True</td>\n",
       "      <td>War</td>\n",
       "      <td>Drama</td>\n",
       "      <td>NaN</td>\n",
       "      <td>8.5</td>\n",
       "      <td>153</td>\n",
       "      <td>4</td>\n",
       "      <td>R</td>\n",
       "      <td>Metro-Goldwyn-Mayer</td>\n",
       "      <td>$83,471,511.00</td>\n",
       "    </tr>\n",
       "    <tr>\n",
       "      <th>230</th>\n",
       "      <td>1985</td>\n",
       "      <td>1986</td>\n",
       "      <td>58</td>\n",
       "      <td>ACTOR IN A SUPPORTING ROLE</td>\n",
       "      <td>Don Ameche</td>\n",
       "      <td>Cocoon</td>\n",
       "      <td>True</td>\n",
       "      <td>Sci-Fi</td>\n",
       "      <td>NaN</td>\n",
       "      <td>NaN</td>\n",
       "      <td>6.6</td>\n",
       "      <td>117</td>\n",
       "      <td>6</td>\n",
       "      <td>PG-13</td>\n",
       "      <td>20th Century Fox</td>\n",
       "      <td>$85,313,124.00</td>\n",
       "    </tr>\n",
       "    <tr>\n",
       "      <th>231</th>\n",
       "      <td>1985</td>\n",
       "      <td>1986</td>\n",
       "      <td>58</td>\n",
       "      <td>VISUAL EFFECTS</td>\n",
       "      <td>Ken Ralston, Ralph McQuarrie, Scott Farrar, Da...</td>\n",
       "      <td>Cocoon</td>\n",
       "      <td>True</td>\n",
       "      <td>Sci-Fi</td>\n",
       "      <td>NaN</td>\n",
       "      <td>NaN</td>\n",
       "      <td>6.6</td>\n",
       "      <td>117</td>\n",
       "      <td>6</td>\n",
       "      <td>PG-13</td>\n",
       "      <td>20th Century Fox</td>\n",
       "      <td>$85,313,124.00</td>\n",
       "    </tr>\n",
       "    <tr>\n",
       "      <th>262</th>\n",
       "      <td>1986</td>\n",
       "      <td>1987</td>\n",
       "      <td>59</td>\n",
       "      <td>VISUAL EFFECTS</td>\n",
       "      <td>Robert Skotak, Stan Winston, John Richardson, ...</td>\n",
       "      <td>Aliens</td>\n",
       "      <td>True</td>\n",
       "      <td>Sci-Fi</td>\n",
       "      <td>Adventure</td>\n",
       "      <td>Action</td>\n",
       "      <td>8.4</td>\n",
       "      <td>137</td>\n",
       "      <td>7</td>\n",
       "      <td>R</td>\n",
       "      <td>20th Century Fox</td>\n",
       "      <td>$86,160,248.00</td>\n",
       "    </tr>\n",
       "    <tr>\n",
       "      <th>261</th>\n",
       "      <td>1986</td>\n",
       "      <td>1987</td>\n",
       "      <td>59</td>\n",
       "      <td>SOUND EFFECTS EDITING</td>\n",
       "      <td>Don Sharpe</td>\n",
       "      <td>Aliens</td>\n",
       "      <td>True</td>\n",
       "      <td>Sci-Fi</td>\n",
       "      <td>Adventure</td>\n",
       "      <td>Action</td>\n",
       "      <td>8.4</td>\n",
       "      <td>137</td>\n",
       "      <td>7</td>\n",
       "      <td>R</td>\n",
       "      <td>20th Century Fox</td>\n",
       "      <td>$86,160,248.00</td>\n",
       "    </tr>\n",
       "    <tr>\n",
       "      <th>648</th>\n",
       "      <td>2003</td>\n",
       "      <td>2004</td>\n",
       "      <td>76</td>\n",
       "      <td>ANIMATED FEATURE FILM</td>\n",
       "      <td>Andrew Stanton</td>\n",
       "      <td>Finding Nemo</td>\n",
       "      <td>True</td>\n",
       "      <td>Comedy</td>\n",
       "      <td>Animation</td>\n",
       "      <td>Adventure</td>\n",
       "      <td>8.2</td>\n",
       "      <td>100</td>\n",
       "      <td>2</td>\n",
       "      <td>G</td>\n",
       "      <td>Pixar</td>\n",
       "      <td>$867,893,978.00</td>\n",
       "    </tr>\n",
       "    <tr>\n",
       "      <th>613</th>\n",
       "      <td>2001</td>\n",
       "      <td>2002</td>\n",
       "      <td>74</td>\n",
       "      <td>VISUAL EFFECTS</td>\n",
       "      <td>Jim Rygiel, Randall William Cook, Richard Tayl...</td>\n",
       "      <td>The Lord of the Rings: The Fellowship of the Ring</td>\n",
       "      <td>True</td>\n",
       "      <td>Fantasy</td>\n",
       "      <td>Adventure</td>\n",
       "      <td>NaN</td>\n",
       "      <td>8.8</td>\n",
       "      <td>178</td>\n",
       "      <td>2</td>\n",
       "      <td>PG-13</td>\n",
       "      <td>Warner Bros</td>\n",
       "      <td>$870,761,744.00</td>\n",
       "    </tr>\n",
       "    <tr>\n",
       "      <th>609</th>\n",
       "      <td>2001</td>\n",
       "      <td>2002</td>\n",
       "      <td>74</td>\n",
       "      <td>MUSIC (Original Score)</td>\n",
       "      <td>Howard Shore</td>\n",
       "      <td>The Lord of the Rings: The Fellowship of the Ring</td>\n",
       "      <td>True</td>\n",
       "      <td>Fantasy</td>\n",
       "      <td>Adventure</td>\n",
       "      <td>NaN</td>\n",
       "      <td>8.8</td>\n",
       "      <td>178</td>\n",
       "      <td>2</td>\n",
       "      <td>PG-13</td>\n",
       "      <td>Warner Bros</td>\n",
       "      <td>$870,761,744.00</td>\n",
       "    </tr>\n",
       "    <tr>\n",
       "      <th>608</th>\n",
       "      <td>2001</td>\n",
       "      <td>2002</td>\n",
       "      <td>74</td>\n",
       "      <td>MAKEUP</td>\n",
       "      <td>Peter Owen, Richard Taylor</td>\n",
       "      <td>The Lord of the Rings: The Fellowship of the Ring</td>\n",
       "      <td>True</td>\n",
       "      <td>Fantasy</td>\n",
       "      <td>Adventure</td>\n",
       "      <td>NaN</td>\n",
       "      <td>8.8</td>\n",
       "      <td>178</td>\n",
       "      <td>2</td>\n",
       "      <td>PG-13</td>\n",
       "      <td>Warner Bros</td>\n",
       "      <td>$870,761,744.00</td>\n",
       "    </tr>\n",
       "    <tr>\n",
       "      <th>604</th>\n",
       "      <td>2001</td>\n",
       "      <td>2002</td>\n",
       "      <td>74</td>\n",
       "      <td>CINEMATOGRAPHY</td>\n",
       "      <td>Andrew Lesnie</td>\n",
       "      <td>The Lord of the Rings: The Fellowship of the Ring</td>\n",
       "      <td>True</td>\n",
       "      <td>Fantasy</td>\n",
       "      <td>Adventure</td>\n",
       "      <td>NaN</td>\n",
       "      <td>8.8</td>\n",
       "      <td>178</td>\n",
       "      <td>2</td>\n",
       "      <td>PG-13</td>\n",
       "      <td>Warner Bros</td>\n",
       "      <td>$870,761,744.00</td>\n",
       "    </tr>\n",
       "    <tr>\n",
       "      <th>436</th>\n",
       "      <td>1993</td>\n",
       "      <td>1994</td>\n",
       "      <td>66</td>\n",
       "      <td>SOUND</td>\n",
       "      <td>Gary Summers, Gary Rydstrom, Shawn Murphy, Ron...</td>\n",
       "      <td>Jurassic Park</td>\n",
       "      <td>True</td>\n",
       "      <td>Thriller</td>\n",
       "      <td>Sci-Fi</td>\n",
       "      <td>Adventure</td>\n",
       "      <td>8.0</td>\n",
       "      <td>127</td>\n",
       "      <td>1</td>\n",
       "      <td>PG-13</td>\n",
       "      <td>Universal Pictures</td>\n",
       "      <td>$914,691,118.00</td>\n",
       "    </tr>\n",
       "    <tr>\n",
       "      <th>437</th>\n",
       "      <td>1993</td>\n",
       "      <td>1994</td>\n",
       "      <td>66</td>\n",
       "      <td>SOUND EFFECTS EDITING</td>\n",
       "      <td>Gary Rydstrom, Richard Hymns</td>\n",
       "      <td>Jurassic Park</td>\n",
       "      <td>True</td>\n",
       "      <td>Thriller</td>\n",
       "      <td>Sci-Fi</td>\n",
       "      <td>Adventure</td>\n",
       "      <td>8.0</td>\n",
       "      <td>127</td>\n",
       "      <td>1</td>\n",
       "      <td>PG-13</td>\n",
       "      <td>Universal Pictures</td>\n",
       "      <td>$914,691,118.00</td>\n",
       "    </tr>\n",
       "    <tr>\n",
       "      <th>438</th>\n",
       "      <td>1993</td>\n",
       "      <td>1994</td>\n",
       "      <td>66</td>\n",
       "      <td>VISUAL EFFECTS</td>\n",
       "      <td>Dennis Muren, Stan Winston, Phil Tippett, Mich...</td>\n",
       "      <td>Jurassic Park</td>\n",
       "      <td>True</td>\n",
       "      <td>Thriller</td>\n",
       "      <td>Sci-Fi</td>\n",
       "      <td>Adventure</td>\n",
       "      <td>8.0</td>\n",
       "      <td>127</td>\n",
       "      <td>1</td>\n",
       "      <td>PG-13</td>\n",
       "      <td>Universal Pictures</td>\n",
       "      <td>$914,691,118.00</td>\n",
       "    </tr>\n",
       "    <tr>\n",
       "      <th>207</th>\n",
       "      <td>1983</td>\n",
       "      <td>1984</td>\n",
       "      <td>56</td>\n",
       "      <td>MUSIC (Original Song)</td>\n",
       "      <td>Music by Giorgio Moroder; Lyric by Keith Forse...</td>\n",
       "      <td>Flashdance</td>\n",
       "      <td>True</td>\n",
       "      <td>Romance</td>\n",
       "      <td>Music</td>\n",
       "      <td>Drama</td>\n",
       "      <td>6.1</td>\n",
       "      <td>95</td>\n",
       "      <td>3</td>\n",
       "      <td>R</td>\n",
       "      <td>Paramount Pictures</td>\n",
       "      <td>$92,921,203.00</td>\n",
       "    </tr>\n",
       "    <tr>\n",
       "      <th>634</th>\n",
       "      <td>2002</td>\n",
       "      <td>2003</td>\n",
       "      <td>75</td>\n",
       "      <td>VISUAL EFFECTS</td>\n",
       "      <td>Jim Rygiel, Joe Letteri, Randall William Cook,...</td>\n",
       "      <td>The Lord of the Rings: The Two Towers</td>\n",
       "      <td>True</td>\n",
       "      <td>Fantasy</td>\n",
       "      <td>Adventure</td>\n",
       "      <td>NaN</td>\n",
       "      <td>8.7</td>\n",
       "      <td>179</td>\n",
       "      <td>1</td>\n",
       "      <td>PG-13</td>\n",
       "      <td>Warner Bros</td>\n",
       "      <td>$926,287,400.00</td>\n",
       "    </tr>\n",
       "    <tr>\n",
       "      <th>633</th>\n",
       "      <td>2002</td>\n",
       "      <td>2003</td>\n",
       "      <td>75</td>\n",
       "      <td>SOUND EDITING</td>\n",
       "      <td>Ethan Van der Ryn, Michael Hopkins</td>\n",
       "      <td>The Lord of the Rings: The Two Towers</td>\n",
       "      <td>True</td>\n",
       "      <td>Fantasy</td>\n",
       "      <td>Adventure</td>\n",
       "      <td>NaN</td>\n",
       "      <td>8.7</td>\n",
       "      <td>179</td>\n",
       "      <td>1</td>\n",
       "      <td>PG-13</td>\n",
       "      <td>Warner Bros</td>\n",
       "      <td>$926,287,400.00</td>\n",
       "    </tr>\n",
       "    <tr>\n",
       "      <th>151</th>\n",
       "      <td>1981</td>\n",
       "      <td>1982</td>\n",
       "      <td>54</td>\n",
       "      <td>ACTOR IN A SUPPORTING ROLE</td>\n",
       "      <td>John Gielgud</td>\n",
       "      <td>Arthur</td>\n",
       "      <td>True</td>\n",
       "      <td>Romance</td>\n",
       "      <td>Comedy</td>\n",
       "      <td>NaN</td>\n",
       "      <td>6.9</td>\n",
       "      <td>97</td>\n",
       "      <td>4</td>\n",
       "      <td>PG</td>\n",
       "      <td>Warner Bros</td>\n",
       "      <td>$95,461,682.00</td>\n",
       "    </tr>\n",
       "    <tr>\n",
       "      <th>152</th>\n",
       "      <td>1981</td>\n",
       "      <td>1982</td>\n",
       "      <td>54</td>\n",
       "      <td>MUSIC (Original Song)</td>\n",
       "      <td>Music and Lyric by Burt Bacharach, Carole Baye...</td>\n",
       "      <td>Arthur</td>\n",
       "      <td>True</td>\n",
       "      <td>Romance</td>\n",
       "      <td>Comedy</td>\n",
       "      <td>NaN</td>\n",
       "      <td>6.9</td>\n",
       "      <td>97</td>\n",
       "      <td>4</td>\n",
       "      <td>PG</td>\n",
       "      <td>Warner Bros</td>\n",
       "      <td>$95,461,682.00</td>\n",
       "    </tr>\n",
       "    <tr>\n",
       "      <th>715</th>\n",
       "      <td>2008</td>\n",
       "      <td>2009</td>\n",
       "      <td>81</td>\n",
       "      <td>SOUND EDITING</td>\n",
       "      <td>Richard King</td>\n",
       "      <td>The Dark Knight</td>\n",
       "      <td>True</td>\n",
       "      <td>Drama</td>\n",
       "      <td>Crime</td>\n",
       "      <td>Action</td>\n",
       "      <td>9.0</td>\n",
       "      <td>152</td>\n",
       "      <td>1</td>\n",
       "      <td>PG-13</td>\n",
       "      <td>Warner Bros</td>\n",
       "      <td>$997,000,000.00</td>\n",
       "    </tr>\n",
       "    <tr>\n",
       "      <th>710</th>\n",
       "      <td>2008</td>\n",
       "      <td>2009</td>\n",
       "      <td>81</td>\n",
       "      <td>ACTOR IN A SUPPORTING ROLE</td>\n",
       "      <td>Heath Ledger</td>\n",
       "      <td>The Dark Knight</td>\n",
       "      <td>True</td>\n",
       "      <td>Drama</td>\n",
       "      <td>Crime</td>\n",
       "      <td>Action</td>\n",
       "      <td>9.0</td>\n",
       "      <td>152</td>\n",
       "      <td>1</td>\n",
       "      <td>PG-13</td>\n",
       "      <td>Warner Bros</td>\n",
       "      <td>$997,000,000.00</td>\n",
       "    </tr>\n",
       "  </tbody>\n",
       "</table>\n",
       "<p>258 rows × 16 columns</p>\n",
       "</div>"
      ],
      "text/plain": [
       "     year_film  year_ceremony  ceremony                         category  \\\n",
       "753       2010           2011        83                   COSTUME DESIGN   \n",
       "752       2010           2011        83                    ART DIRECTION   \n",
       "748       2010           2011        83            MUSIC (Original Song)   \n",
       "747       2010           2011        83            ANIMATED FEATURE FILM   \n",
       "698       2006           2007        79                   VISUAL EFFECTS   \n",
       "771       2012           2013        85            MUSIC (Original Song)   \n",
       "772       2012           2013        85                    SOUND EDITING   \n",
       "654       2003           2004        76                        DIRECTING   \n",
       "657       2003           2004        76           MUSIC (Original Score)   \n",
       "652       2003           2004        76                    ART DIRECTION   \n",
       "662       2003           2004        76     WRITING (Adapted Screenplay)   \n",
       "661       2003           2004        76                   VISUAL EFFECTS   \n",
       "660       2003           2004        76                     SOUND MIXING   \n",
       "659       2003           2004        76                     BEST PICTURE   \n",
       "658       2003           2004        76            MUSIC (Original Song)   \n",
       "655       2003           2004        76                     FILM EDITING   \n",
       "653       2003           2004        76                   COSTUME DESIGN   \n",
       "656       2003           2004        76                           MAKEUP   \n",
       "790       2013           2014        86            MUSIC (Original Song)   \n",
       "789       2013           2014        86            ANIMATED FEATURE FILM   \n",
       "509       1997           1998        70                        DIRECTING   \n",
       "517       1997           1998        70                   VISUAL EFFECTS   \n",
       "516       1997           1998        70            SOUND EFFECTS EDITING   \n",
       "510       1997           1998        70                     FILM EDITING   \n",
       "515       1997           1998        70                            SOUND   \n",
       "513       1997           1998        70            MUSIC (Original Song)   \n",
       "512       1997           1998        70  MUSIC (Original Dramatic Score)   \n",
       "514       1997           1998        70                     BEST PICTURE   \n",
       "508       1997           1998        70                   COSTUME DESIGN   \n",
       "507       1997           1998        70                   CINEMATOGRAPHY   \n",
       "..         ...            ...       ...                              ...   \n",
       "279       1987           1988        60     ACTRESS IN A SUPPORTING ROLE   \n",
       "278       1987           1988        60        ACTRESS IN A LEADING ROLE   \n",
       "122       1979           1980        52                   VISUAL EFFECTS   \n",
       "83        1978           1979        51                    ART DIRECTION   \n",
       "492       1996           1997        69                   VISUAL EFFECTS   \n",
       "756       2010           2011        83                   CINEMATOGRAPHY   \n",
       "759       2010           2011        83                    SOUND EDITING   \n",
       "760       2010           2011        83                     SOUND MIXING   \n",
       "761       2010           2011        83                   VISUAL EFFECTS   \n",
       "119       1979           1980        52                            SOUND   \n",
       "115       1979           1980        52                   CINEMATOGRAPHY   \n",
       "230       1985           1986        58       ACTOR IN A SUPPORTING ROLE   \n",
       "231       1985           1986        58                   VISUAL EFFECTS   \n",
       "262       1986           1987        59                   VISUAL EFFECTS   \n",
       "261       1986           1987        59            SOUND EFFECTS EDITING   \n",
       "648       2003           2004        76            ANIMATED FEATURE FILM   \n",
       "613       2001           2002        74                   VISUAL EFFECTS   \n",
       "609       2001           2002        74           MUSIC (Original Score)   \n",
       "608       2001           2002        74                           MAKEUP   \n",
       "604       2001           2002        74                   CINEMATOGRAPHY   \n",
       "436       1993           1994        66                            SOUND   \n",
       "437       1993           1994        66            SOUND EFFECTS EDITING   \n",
       "438       1993           1994        66                   VISUAL EFFECTS   \n",
       "207       1983           1984        56            MUSIC (Original Song)   \n",
       "634       2002           2003        75                   VISUAL EFFECTS   \n",
       "633       2002           2003        75                    SOUND EDITING   \n",
       "151       1981           1982        54       ACTOR IN A SUPPORTING ROLE   \n",
       "152       1981           1982        54            MUSIC (Original Song)   \n",
       "715       2008           2009        81                    SOUND EDITING   \n",
       "710       2008           2009        81       ACTOR IN A SUPPORTING ROLE   \n",
       "\n",
       "                                                  name  \\\n",
       "753                                     Colleen Atwood   \n",
       "752  Production Design: Robert Stromberg; Set Decor...   \n",
       "748                    Music and Lyric by Randy Newman   \n",
       "747                                        Lee Unkrich   \n",
       "698  John Knoll, Hal Hickel, Charles Gibson and All...   \n",
       "771   Music and Lyric by Adele Adkins and Paul Epworth   \n",
       "772               Per Hallberg and Karen Baker Landers   \n",
       "654                                      Peter Jackson   \n",
       "657                                       Howard Shore   \n",
       "652  Art Direction: Grant Major; Set Decoration: Da...   \n",
       "662  Screenplay by Fran Walsh, Philippa Boyens & Pe...   \n",
       "661  Jim Rygiel, Joe Letteri, Randall William Cook ...   \n",
       "660  Christopher Boyes, Michael Semanick, Michael H...   \n",
       "659  Barrie M. Osborne, Peter Jackson and Fran Wals...   \n",
       "658  Music and Lyric by Fran Walsh and Howard Shore...   \n",
       "655                                      Jamie Selkirk   \n",
       "653                   Ngila Dickson and Richard Taylor   \n",
       "656                      Richard Taylor and Peter King   \n",
       "790  Music and Lyric by Kristen Anderson-Lopez and ...   \n",
       "789       Chris Buck, Jennifer Lee and Peter Del Vecho   \n",
       "509                                      James Cameron   \n",
       "517  Robert Legato, Mark Lasoff, Thomas L. Fisher, ...   \n",
       "516                    Tom Bellfort, Christopher Boyes   \n",
       "510      Conrad Buff, James Cameron, Richard A. Harris   \n",
       "515  Gary Rydstrom, Tom Johnson, Gary Summers, Mark...   \n",
       "513      Music by James Horner; Lyric by Will Jennings   \n",
       "512                                       James Horner   \n",
       "514            James Cameron and Jon Landau, Producers   \n",
       "508                                   Deborah L. Scott   \n",
       "507                                  Russell Carpenter   \n",
       "..                                                 ...   \n",
       "279                                    Olympia Dukakis   \n",
       "278                                               Cher   \n",
       "122  H.R. Giger, Carlo Rambaldi, Brian Johnson, Nic...   \n",
       "83   Art Direction:  Paul Sylbert, Edwin O'Donovan;...   \n",
       "492  Volker Engel, Douglas Smith, Clay Pinney, Jose...   \n",
       "756                                      Wally Pfister   \n",
       "759                                       Richard King   \n",
       "760       Lora Hirschberg, Gary A. Rizzo and Ed Novick   \n",
       "761  Paul Franklin, Chris Corbould, Andrew Lockley ...   \n",
       "119  Walter Murch, Mark Berger, Richard Beggs, Nat ...   \n",
       "115                                   Vittorio Storaro   \n",
       "230                                         Don Ameche   \n",
       "231  Ken Ralston, Ralph McQuarrie, Scott Farrar, Da...   \n",
       "262  Robert Skotak, Stan Winston, John Richardson, ...   \n",
       "261                                         Don Sharpe   \n",
       "648                                     Andrew Stanton   \n",
       "613  Jim Rygiel, Randall William Cook, Richard Tayl...   \n",
       "609                                       Howard Shore   \n",
       "608                         Peter Owen, Richard Taylor   \n",
       "604                                      Andrew Lesnie   \n",
       "436  Gary Summers, Gary Rydstrom, Shawn Murphy, Ron...   \n",
       "437                       Gary Rydstrom, Richard Hymns   \n",
       "438  Dennis Muren, Stan Winston, Phil Tippett, Mich...   \n",
       "207  Music by Giorgio Moroder; Lyric by Keith Forse...   \n",
       "634  Jim Rygiel, Joe Letteri, Randall William Cook,...   \n",
       "633                 Ethan Van der Ryn, Michael Hopkins   \n",
       "151                                       John Gielgud   \n",
       "152  Music and Lyric by Burt Bacharach, Carole Baye...   \n",
       "715                                       Richard King   \n",
       "710                                       Heath Ledger   \n",
       "\n",
       "                                                 title  winner Main_Genre  \\\n",
       "753                                Alice in Wonderland    True    Fantasy   \n",
       "752                                Alice in Wonderland    True    Fantasy   \n",
       "748                                        Toy Story 3    True     Comedy   \n",
       "747                                        Toy Story 3    True     Comedy   \n",
       "698         Pirates of the Caribbean: Dead Man's Chest    True    Fantasy   \n",
       "771                                            Skyfall    True   Thriller   \n",
       "772                                            Skyfall    True   Thriller   \n",
       "654      The Lord of the Rings: The Return of the King    True    Fantasy   \n",
       "657      The Lord of the Rings: The Return of the King    True    Fantasy   \n",
       "652      The Lord of the Rings: The Return of the King    True    Fantasy   \n",
       "662      The Lord of the Rings: The Return of the King    True    Fantasy   \n",
       "661      The Lord of the Rings: The Return of the King    True    Fantasy   \n",
       "660      The Lord of the Rings: The Return of the King    True    Fantasy   \n",
       "659      The Lord of the Rings: The Return of the King    True    Fantasy   \n",
       "658      The Lord of the Rings: The Return of the King    True    Fantasy   \n",
       "655      The Lord of the Rings: The Return of the King    True    Fantasy   \n",
       "653      The Lord of the Rings: The Return of the King    True    Fantasy   \n",
       "656      The Lord of the Rings: The Return of the King    True    Fantasy   \n",
       "790                                             Frozen    True     Comedy   \n",
       "789                                             Frozen    True     Comedy   \n",
       "509                                            Titanic    True    Romance   \n",
       "517                                            Titanic    True    Romance   \n",
       "516                                            Titanic    True    Romance   \n",
       "510                                            Titanic    True    Romance   \n",
       "515                                            Titanic    True    Romance   \n",
       "513                                            Titanic    True    Romance   \n",
       "512                                            Titanic    True    Romance   \n",
       "514                                            Titanic    True    Romance   \n",
       "508                                            Titanic    True    Romance   \n",
       "507                                            Titanic    True    Romance   \n",
       "..                                                 ...     ...        ...   \n",
       "279                                         Moonstruck    True    Romance   \n",
       "278                                         Moonstruck    True    Romance   \n",
       "122                                              Alien    True     Sci-Fi   \n",
       "83                                     Heaven Can Wait    True      Sport   \n",
       "492                                   Independence Day    True     Sci-Fi   \n",
       "756                                          Inception    True     Sci-Fi   \n",
       "759                                          Inception    True     Sci-Fi   \n",
       "760                                          Inception    True     Sci-Fi   \n",
       "761                                          Inception    True     Sci-Fi   \n",
       "119                                     Apocalypse Now    True        War   \n",
       "115                                     Apocalypse Now    True        War   \n",
       "230                                             Cocoon    True     Sci-Fi   \n",
       "231                                             Cocoon    True     Sci-Fi   \n",
       "262                                             Aliens    True     Sci-Fi   \n",
       "261                                             Aliens    True     Sci-Fi   \n",
       "648                                       Finding Nemo    True     Comedy   \n",
       "613  The Lord of the Rings: The Fellowship of the Ring    True    Fantasy   \n",
       "609  The Lord of the Rings: The Fellowship of the Ring    True    Fantasy   \n",
       "608  The Lord of the Rings: The Fellowship of the Ring    True    Fantasy   \n",
       "604  The Lord of the Rings: The Fellowship of the Ring    True    Fantasy   \n",
       "436                                      Jurassic Park    True   Thriller   \n",
       "437                                      Jurassic Park    True   Thriller   \n",
       "438                                      Jurassic Park    True   Thriller   \n",
       "207                                         Flashdance    True    Romance   \n",
       "634              The Lord of the Rings: The Two Towers    True    Fantasy   \n",
       "633              The Lord of the Rings: The Two Towers    True    Fantasy   \n",
       "151                                             Arthur    True    Romance   \n",
       "152                                             Arthur    True    Romance   \n",
       "715                                    The Dark Knight    True      Drama   \n",
       "710                                    The Dark Knight    True      Drama   \n",
       "\n",
       "       Genre_2    Genre_3  imdb_rating  length  rank_in_year rating  \\\n",
       "753     Family  Adventure          6.5     108             2     PG   \n",
       "752     Family  Adventure          6.5     108             2     PG   \n",
       "748  Animation  Adventure          8.4     103             1      G   \n",
       "747  Animation  Adventure          8.4     103             1      G   \n",
       "698  Adventure     Action          7.3     151             1  PG-13   \n",
       "771  Adventure     Action          7.8     143             2  PG-13   \n",
       "772  Adventure     Action          7.8     143             2  PG-13   \n",
       "654  Adventure    Western          8.9     201             1  PG-13   \n",
       "657  Adventure    Western          8.9     201             1  PG-13   \n",
       "652  Adventure    Western          8.9     201             1  PG-13   \n",
       "662  Adventure    Western          8.9     201             1  PG-13   \n",
       "661  Adventure    Western          8.9     201             1  PG-13   \n",
       "660  Adventure    Western          8.9     201             1  PG-13   \n",
       "659  Adventure    Western          8.9     201             1  PG-13   \n",
       "658  Adventure    Western          8.9     201             1  PG-13   \n",
       "655  Adventure    Western          8.9     201             1  PG-13   \n",
       "653  Adventure    Western          8.9     201             1  PG-13   \n",
       "656  Adventure    Western          8.9     201             1  PG-13   \n",
       "790  Animation  Adventure          7.7     102             1     PG   \n",
       "789  Animation  Adventure          7.7     102             1     PG   \n",
       "509      Drama        NaN          7.7     194             1  PG-13   \n",
       "517      Drama        NaN          7.7     194             1  PG-13   \n",
       "516      Drama        NaN          7.7     194             1  PG-13   \n",
       "510      Drama        NaN          7.7     194             1  PG-13   \n",
       "515      Drama        NaN          7.7     194             1  PG-13   \n",
       "513      Drama        NaN          7.7     194             1  PG-13   \n",
       "512      Drama        NaN          7.7     194             1  PG-13   \n",
       "514      Drama        NaN          7.7     194             1  PG-13   \n",
       "508      Drama        NaN          7.7     194             1  PG-13   \n",
       "507      Drama        NaN          7.7     194             1  PG-13   \n",
       "..         ...        ...          ...     ...           ...    ...   \n",
       "279      Drama     Comedy          7.1     102             5     PG   \n",
       "278      Drama     Comedy          7.1     102             5     PG   \n",
       "122     Horror        NaN          8.5     117             6      R   \n",
       "83     Romance     Comedy          6.9     101             5     PG   \n",
       "492  Adventure     Action          6.9     145             1  PG-13   \n",
       "756    Mystery     Action          8.8     148             4  PG-13   \n",
       "759    Mystery     Action          8.8     148             4  PG-13   \n",
       "760    Mystery     Action          8.8     148             4  PG-13   \n",
       "761    Mystery     Action          8.8     148             4  PG-13   \n",
       "119      Drama        NaN          8.5     153             4      R   \n",
       "115      Drama        NaN          8.5     153             4      R   \n",
       "230        NaN        NaN          6.6     117             6  PG-13   \n",
       "231        NaN        NaN          6.6     117             6  PG-13   \n",
       "262  Adventure     Action          8.4     137             7      R   \n",
       "261  Adventure     Action          8.4     137             7      R   \n",
       "648  Animation  Adventure          8.2     100             2      G   \n",
       "613  Adventure        NaN          8.8     178             2  PG-13   \n",
       "609  Adventure        NaN          8.8     178             2  PG-13   \n",
       "608  Adventure        NaN          8.8     178             2  PG-13   \n",
       "604  Adventure        NaN          8.8     178             2  PG-13   \n",
       "436     Sci-Fi  Adventure          8.0     127             1  PG-13   \n",
       "437     Sci-Fi  Adventure          8.0     127             1  PG-13   \n",
       "438     Sci-Fi  Adventure          8.0     127             1  PG-13   \n",
       "207      Music      Drama          6.1      95             3      R   \n",
       "634  Adventure        NaN          8.7     179             1  PG-13   \n",
       "633  Adventure        NaN          8.7     179             1  PG-13   \n",
       "151     Comedy        NaN          6.9      97             4     PG   \n",
       "152     Comedy        NaN          6.9      97             4     PG   \n",
       "715      Crime     Action          9.0     152             1  PG-13   \n",
       "710      Crime     Action          9.0     152             1  PG-13   \n",
       "\n",
       "                   studio     worldwide_gross  \n",
       "753  Walt Disney Pictures  $1,025,467,110.00   \n",
       "752  Walt Disney Pictures  $1,025,467,110.00   \n",
       "748  Walt Disney Pictures  $1,063,171,911.00   \n",
       "747  Walt Disney Pictures  $1,063,171,911.00   \n",
       "698  Walt Disney Pictures  $1,066,179,725.00   \n",
       "771   Metro-Goldwyn-Mayer  $1,108,561,013.00   \n",
       "772   Metro-Goldwyn-Mayer  $1,108,561,013.00   \n",
       "654           Warner Bros  $1,119,929,521.00   \n",
       "657           Warner Bros  $1,119,929,521.00   \n",
       "652           Warner Bros  $1,119,929,521.00   \n",
       "662           Warner Bros  $1,119,929,521.00   \n",
       "661           Warner Bros  $1,119,929,521.00   \n",
       "660           Warner Bros  $1,119,929,521.00   \n",
       "659           Warner Bros  $1,119,929,521.00   \n",
       "658           Warner Bros  $1,119,929,521.00   \n",
       "655           Warner Bros  $1,119,929,521.00   \n",
       "653           Warner Bros  $1,119,929,521.00   \n",
       "656           Warner Bros  $1,119,929,521.00   \n",
       "790  Walt Disney Pictures  $1,274,219,009.00   \n",
       "789  Walt Disney Pictures  $1,274,219,009.00   \n",
       "509    Paramount Pictures  $1,843,201,268.00   \n",
       "517    Paramount Pictures  $1,843,201,268.00   \n",
       "516    Paramount Pictures  $1,843,201,268.00   \n",
       "510    Paramount Pictures  $1,843,201,268.00   \n",
       "515    Paramount Pictures  $1,843,201,268.00   \n",
       "513    Paramount Pictures  $1,843,201,268.00   \n",
       "512    Paramount Pictures  $1,843,201,268.00   \n",
       "514    Paramount Pictures  $1,843,201,268.00   \n",
       "508    Paramount Pictures  $1,843,201,268.00   \n",
       "507    Paramount Pictures  $1,843,201,268.00   \n",
       "..                    ...                 ...  \n",
       "279   Metro-Goldwyn-Mayer     $80,640,528.00   \n",
       "278   Metro-Goldwyn-Mayer     $80,640,528.00   \n",
       "122      20th Century Fox     $80,931,801.00   \n",
       "83     Paramount Pictures     $81,640,278.00   \n",
       "492      20th Century Fox    $817,400,891.00   \n",
       "756           Warner Bros    $825,531,030.00   \n",
       "759           Warner Bros    $825,531,030.00   \n",
       "760           Warner Bros    $825,531,030.00   \n",
       "761           Warner Bros    $825,531,030.00   \n",
       "119   Metro-Goldwyn-Mayer     $83,471,511.00   \n",
       "115   Metro-Goldwyn-Mayer     $83,471,511.00   \n",
       "230      20th Century Fox     $85,313,124.00   \n",
       "231      20th Century Fox     $85,313,124.00   \n",
       "262      20th Century Fox     $86,160,248.00   \n",
       "261      20th Century Fox     $86,160,248.00   \n",
       "648                 Pixar    $867,893,978.00   \n",
       "613           Warner Bros    $870,761,744.00   \n",
       "609           Warner Bros    $870,761,744.00   \n",
       "608           Warner Bros    $870,761,744.00   \n",
       "604           Warner Bros    $870,761,744.00   \n",
       "436    Universal Pictures    $914,691,118.00   \n",
       "437    Universal Pictures    $914,691,118.00   \n",
       "438    Universal Pictures    $914,691,118.00   \n",
       "207    Paramount Pictures     $92,921,203.00   \n",
       "634           Warner Bros    $926,287,400.00   \n",
       "633           Warner Bros    $926,287,400.00   \n",
       "151           Warner Bros     $95,461,682.00   \n",
       "152           Warner Bros     $95,461,682.00   \n",
       "715           Warner Bros    $997,000,000.00   \n",
       "710           Warner Bros    $997,000,000.00   \n",
       "\n",
       "[258 rows x 16 columns]"
      ]
     },
     "execution_count": 12,
     "metadata": {},
     "output_type": "execute_result"
    }
   ],
   "source": [
    "df1.sort_values('worldwide_gross')"
   ]
  },
  {
   "cell_type": "code",
   "execution_count": 13,
   "metadata": {
    "ExecuteTime": {
     "end_time": "2020-06-02T20:09:46.157184Z",
     "start_time": "2020-06-02T20:09:46.146987Z"
    }
   },
   "outputs": [],
   "source": [
    "# top 3 movies - Alice in Wonderland, Toy Story 3, Pirates of the Caribbean"
   ]
  },
  {
   "cell_type": "code",
   "execution_count": 21,
   "metadata": {
    "ExecuteTime": {
     "end_time": "2020-06-02T20:17:13.247146Z",
     "start_time": "2020-06-02T20:17:13.227798Z"
    }
   },
   "outputs": [],
   "source": [
    "# 2. Which genre has earned the most Oscars?\n",
    "genre = df1.groupby(['title'], sort=False, as_index=False)['Main_Genre'].first()"
   ]
  },
  {
   "cell_type": "code",
   "execution_count": 22,
   "metadata": {
    "ExecuteTime": {
     "end_time": "2020-06-02T20:17:20.407532Z",
     "start_time": "2020-06-02T20:17:20.395773Z"
    }
   },
   "outputs": [
    {
     "data": {
      "text/html": [
       "<div>\n",
       "<style scoped>\n",
       "    .dataframe tbody tr th:only-of-type {\n",
       "        vertical-align: middle;\n",
       "    }\n",
       "\n",
       "    .dataframe tbody tr th {\n",
       "        vertical-align: top;\n",
       "    }\n",
       "\n",
       "    .dataframe thead th {\n",
       "        text-align: right;\n",
       "    }\n",
       "</style>\n",
       "<table border=\"1\" class=\"dataframe\">\n",
       "  <thead>\n",
       "    <tr style=\"text-align: right;\">\n",
       "      <th></th>\n",
       "      <th>title</th>\n",
       "      <th>Main_Genre</th>\n",
       "    </tr>\n",
       "  </thead>\n",
       "  <tbody>\n",
       "    <tr>\n",
       "      <th>0</th>\n",
       "      <td>Dog Day Afternoon</td>\n",
       "      <td>Drama</td>\n",
       "    </tr>\n",
       "    <tr>\n",
       "      <th>1</th>\n",
       "      <td>Shampoo</td>\n",
       "      <td>Romance</td>\n",
       "    </tr>\n",
       "    <tr>\n",
       "      <th>2</th>\n",
       "      <td>Rocky</td>\n",
       "      <td>Sport</td>\n",
       "    </tr>\n",
       "    <tr>\n",
       "      <th>3</th>\n",
       "      <td>All the President's Men</td>\n",
       "      <td>Thriller</td>\n",
       "    </tr>\n",
       "    <tr>\n",
       "      <th>4</th>\n",
       "      <td>King Kong</td>\n",
       "      <td>Horror</td>\n",
       "    </tr>\n",
       "  </tbody>\n",
       "</table>\n",
       "</div>"
      ],
      "text/plain": [
       "                     title Main_Genre\n",
       "0        Dog Day Afternoon      Drama\n",
       "1                  Shampoo    Romance\n",
       "2                    Rocky      Sport\n",
       "3  All the President's Men   Thriller\n",
       "4                King Kong     Horror"
      ]
     },
     "execution_count": 22,
     "metadata": {},
     "output_type": "execute_result"
    }
   ],
   "source": [
    "genre.head()"
   ]
  },
  {
   "cell_type": "code",
   "execution_count": 97,
   "metadata": {
    "ExecuteTime": {
     "end_time": "2020-06-03T00:58:07.957264Z",
     "start_time": "2020-06-03T00:58:07.925902Z"
    }
   },
   "outputs": [
    {
     "data": {
      "text/plain": [
       "Romance      21\n",
       "Sci-Fi       12\n",
       "Drama        12\n",
       "Fantasy      10\n",
       "Thriller      9\n",
       "Comedy        9\n",
       "Animation     7\n",
       "Action        5\n",
       "War           5\n",
       "Adventure     4\n",
       "Sport         3\n",
       "Music         2\n",
       "History       2\n",
       "Crime         2\n",
       "Family        1\n",
       "Horror        1\n",
       "Name: Main_Genre, dtype: int64"
      ]
     },
     "execution_count": 97,
     "metadata": {},
     "output_type": "execute_result"
    }
   ],
   "source": [
    "genre['Main_Genre'].value_counts()"
   ]
  },
  {
   "cell_type": "code",
   "execution_count": 99,
   "metadata": {
    "ExecuteTime": {
     "end_time": "2020-06-03T00:59:46.263386Z",
     "start_time": "2020-06-03T00:59:46.240907Z"
    }
   },
   "outputs": [
    {
     "data": {
      "text/plain": [
       "Romance      21\n",
       "Sci-Fi       12\n",
       "Drama        12\n",
       "Fantasy      10\n",
       "Thriller      9\n",
       "Comedy        9\n",
       "Animation     7\n",
       "Action        5\n",
       "War           5\n",
       "Adventure     4\n",
       "Sport         3\n",
       "Music         2\n",
       "History       2\n",
       "Crime         2\n",
       "Family        1\n",
       "Horror        1\n",
       "Name: Main_Genre, dtype: int64"
      ]
     },
     "execution_count": 99,
     "metadata": {},
     "output_type": "execute_result"
    }
   ],
   "source": [
    "genre['Main_Genre'].value_counts()"
   ]
  },
  {
   "cell_type": "code",
   "execution_count": 102,
   "metadata": {
    "ExecuteTime": {
     "end_time": "2020-06-03T01:01:47.800750Z",
     "start_time": "2020-06-03T01:01:47.420796Z"
    }
   },
   "outputs": [
    {
     "data": {
      "application/vnd.plotly.v1+json": {
       "config": {
        "plotlyServerURL": "https://plot.ly"
       },
       "data": [
        {
         "alignmentgroup": "True",
         "hoverlabel": {
          "namelength": 0
         },
         "hovertemplate": "Main_Genre=%{x}<br>oscars=%{y}",
         "legendgroup": "",
         "marker": {
          "color": "#636efa"
         },
         "name": "",
         "offsetgroup": "",
         "orientation": "v",
         "showlegend": false,
         "textposition": "auto",
         "type": "bar",
         "x": [
          "Romance",
          "Sci-Fi",
          "Drama",
          "Fantasy",
          "Thriller",
          "Comedy",
          "Animation",
          "Action",
          "War",
          "Adventure",
          "Sport",
          "Music",
          "History",
          "Crime",
          "Family",
          "Horror"
         ],
         "xaxis": "x",
         "y": [
          21,
          12,
          12,
          10,
          9,
          9,
          7,
          5,
          5,
          4,
          3,
          2,
          2,
          2,
          1,
          1
         ],
         "yaxis": "y"
        }
       ],
       "layout": {
        "barmode": "relative",
        "legend": {
         "tracegroupgap": 0
        },
        "margin": {
         "t": 60
        },
        "template": {
         "data": {
          "bar": [
           {
            "error_x": {
             "color": "#2a3f5f"
            },
            "error_y": {
             "color": "#2a3f5f"
            },
            "marker": {
             "line": {
              "color": "#E5ECF6",
              "width": 0.5
             }
            },
            "type": "bar"
           }
          ],
          "barpolar": [
           {
            "marker": {
             "line": {
              "color": "#E5ECF6",
              "width": 0.5
             }
            },
            "type": "barpolar"
           }
          ],
          "carpet": [
           {
            "aaxis": {
             "endlinecolor": "#2a3f5f",
             "gridcolor": "white",
             "linecolor": "white",
             "minorgridcolor": "white",
             "startlinecolor": "#2a3f5f"
            },
            "baxis": {
             "endlinecolor": "#2a3f5f",
             "gridcolor": "white",
             "linecolor": "white",
             "minorgridcolor": "white",
             "startlinecolor": "#2a3f5f"
            },
            "type": "carpet"
           }
          ],
          "choropleth": [
           {
            "colorbar": {
             "outlinewidth": 0,
             "ticks": ""
            },
            "type": "choropleth"
           }
          ],
          "contour": [
           {
            "colorbar": {
             "outlinewidth": 0,
             "ticks": ""
            },
            "colorscale": [
             [
              0,
              "#0d0887"
             ],
             [
              0.1111111111111111,
              "#46039f"
             ],
             [
              0.2222222222222222,
              "#7201a8"
             ],
             [
              0.3333333333333333,
              "#9c179e"
             ],
             [
              0.4444444444444444,
              "#bd3786"
             ],
             [
              0.5555555555555556,
              "#d8576b"
             ],
             [
              0.6666666666666666,
              "#ed7953"
             ],
             [
              0.7777777777777778,
              "#fb9f3a"
             ],
             [
              0.8888888888888888,
              "#fdca26"
             ],
             [
              1,
              "#f0f921"
             ]
            ],
            "type": "contour"
           }
          ],
          "contourcarpet": [
           {
            "colorbar": {
             "outlinewidth": 0,
             "ticks": ""
            },
            "type": "contourcarpet"
           }
          ],
          "heatmap": [
           {
            "colorbar": {
             "outlinewidth": 0,
             "ticks": ""
            },
            "colorscale": [
             [
              0,
              "#0d0887"
             ],
             [
              0.1111111111111111,
              "#46039f"
             ],
             [
              0.2222222222222222,
              "#7201a8"
             ],
             [
              0.3333333333333333,
              "#9c179e"
             ],
             [
              0.4444444444444444,
              "#bd3786"
             ],
             [
              0.5555555555555556,
              "#d8576b"
             ],
             [
              0.6666666666666666,
              "#ed7953"
             ],
             [
              0.7777777777777778,
              "#fb9f3a"
             ],
             [
              0.8888888888888888,
              "#fdca26"
             ],
             [
              1,
              "#f0f921"
             ]
            ],
            "type": "heatmap"
           }
          ],
          "heatmapgl": [
           {
            "colorbar": {
             "outlinewidth": 0,
             "ticks": ""
            },
            "colorscale": [
             [
              0,
              "#0d0887"
             ],
             [
              0.1111111111111111,
              "#46039f"
             ],
             [
              0.2222222222222222,
              "#7201a8"
             ],
             [
              0.3333333333333333,
              "#9c179e"
             ],
             [
              0.4444444444444444,
              "#bd3786"
             ],
             [
              0.5555555555555556,
              "#d8576b"
             ],
             [
              0.6666666666666666,
              "#ed7953"
             ],
             [
              0.7777777777777778,
              "#fb9f3a"
             ],
             [
              0.8888888888888888,
              "#fdca26"
             ],
             [
              1,
              "#f0f921"
             ]
            ],
            "type": "heatmapgl"
           }
          ],
          "histogram": [
           {
            "marker": {
             "colorbar": {
              "outlinewidth": 0,
              "ticks": ""
             }
            },
            "type": "histogram"
           }
          ],
          "histogram2d": [
           {
            "colorbar": {
             "outlinewidth": 0,
             "ticks": ""
            },
            "colorscale": [
             [
              0,
              "#0d0887"
             ],
             [
              0.1111111111111111,
              "#46039f"
             ],
             [
              0.2222222222222222,
              "#7201a8"
             ],
             [
              0.3333333333333333,
              "#9c179e"
             ],
             [
              0.4444444444444444,
              "#bd3786"
             ],
             [
              0.5555555555555556,
              "#d8576b"
             ],
             [
              0.6666666666666666,
              "#ed7953"
             ],
             [
              0.7777777777777778,
              "#fb9f3a"
             ],
             [
              0.8888888888888888,
              "#fdca26"
             ],
             [
              1,
              "#f0f921"
             ]
            ],
            "type": "histogram2d"
           }
          ],
          "histogram2dcontour": [
           {
            "colorbar": {
             "outlinewidth": 0,
             "ticks": ""
            },
            "colorscale": [
             [
              0,
              "#0d0887"
             ],
             [
              0.1111111111111111,
              "#46039f"
             ],
             [
              0.2222222222222222,
              "#7201a8"
             ],
             [
              0.3333333333333333,
              "#9c179e"
             ],
             [
              0.4444444444444444,
              "#bd3786"
             ],
             [
              0.5555555555555556,
              "#d8576b"
             ],
             [
              0.6666666666666666,
              "#ed7953"
             ],
             [
              0.7777777777777778,
              "#fb9f3a"
             ],
             [
              0.8888888888888888,
              "#fdca26"
             ],
             [
              1,
              "#f0f921"
             ]
            ],
            "type": "histogram2dcontour"
           }
          ],
          "mesh3d": [
           {
            "colorbar": {
             "outlinewidth": 0,
             "ticks": ""
            },
            "type": "mesh3d"
           }
          ],
          "parcoords": [
           {
            "line": {
             "colorbar": {
              "outlinewidth": 0,
              "ticks": ""
             }
            },
            "type": "parcoords"
           }
          ],
          "pie": [
           {
            "automargin": true,
            "type": "pie"
           }
          ],
          "scatter": [
           {
            "marker": {
             "colorbar": {
              "outlinewidth": 0,
              "ticks": ""
             }
            },
            "type": "scatter"
           }
          ],
          "scatter3d": [
           {
            "line": {
             "colorbar": {
              "outlinewidth": 0,
              "ticks": ""
             }
            },
            "marker": {
             "colorbar": {
              "outlinewidth": 0,
              "ticks": ""
             }
            },
            "type": "scatter3d"
           }
          ],
          "scattercarpet": [
           {
            "marker": {
             "colorbar": {
              "outlinewidth": 0,
              "ticks": ""
             }
            },
            "type": "scattercarpet"
           }
          ],
          "scattergeo": [
           {
            "marker": {
             "colorbar": {
              "outlinewidth": 0,
              "ticks": ""
             }
            },
            "type": "scattergeo"
           }
          ],
          "scattergl": [
           {
            "marker": {
             "colorbar": {
              "outlinewidth": 0,
              "ticks": ""
             }
            },
            "type": "scattergl"
           }
          ],
          "scattermapbox": [
           {
            "marker": {
             "colorbar": {
              "outlinewidth": 0,
              "ticks": ""
             }
            },
            "type": "scattermapbox"
           }
          ],
          "scatterpolar": [
           {
            "marker": {
             "colorbar": {
              "outlinewidth": 0,
              "ticks": ""
             }
            },
            "type": "scatterpolar"
           }
          ],
          "scatterpolargl": [
           {
            "marker": {
             "colorbar": {
              "outlinewidth": 0,
              "ticks": ""
             }
            },
            "type": "scatterpolargl"
           }
          ],
          "scatterternary": [
           {
            "marker": {
             "colorbar": {
              "outlinewidth": 0,
              "ticks": ""
             }
            },
            "type": "scatterternary"
           }
          ],
          "surface": [
           {
            "colorbar": {
             "outlinewidth": 0,
             "ticks": ""
            },
            "colorscale": [
             [
              0,
              "#0d0887"
             ],
             [
              0.1111111111111111,
              "#46039f"
             ],
             [
              0.2222222222222222,
              "#7201a8"
             ],
             [
              0.3333333333333333,
              "#9c179e"
             ],
             [
              0.4444444444444444,
              "#bd3786"
             ],
             [
              0.5555555555555556,
              "#d8576b"
             ],
             [
              0.6666666666666666,
              "#ed7953"
             ],
             [
              0.7777777777777778,
              "#fb9f3a"
             ],
             [
              0.8888888888888888,
              "#fdca26"
             ],
             [
              1,
              "#f0f921"
             ]
            ],
            "type": "surface"
           }
          ],
          "table": [
           {
            "cells": {
             "fill": {
              "color": "#EBF0F8"
             },
             "line": {
              "color": "white"
             }
            },
            "header": {
             "fill": {
              "color": "#C8D4E3"
             },
             "line": {
              "color": "white"
             }
            },
            "type": "table"
           }
          ]
         },
         "layout": {
          "annotationdefaults": {
           "arrowcolor": "#2a3f5f",
           "arrowhead": 0,
           "arrowwidth": 1
          },
          "coloraxis": {
           "colorbar": {
            "outlinewidth": 0,
            "ticks": ""
           }
          },
          "colorscale": {
           "diverging": [
            [
             0,
             "#8e0152"
            ],
            [
             0.1,
             "#c51b7d"
            ],
            [
             0.2,
             "#de77ae"
            ],
            [
             0.3,
             "#f1b6da"
            ],
            [
             0.4,
             "#fde0ef"
            ],
            [
             0.5,
             "#f7f7f7"
            ],
            [
             0.6,
             "#e6f5d0"
            ],
            [
             0.7,
             "#b8e186"
            ],
            [
             0.8,
             "#7fbc41"
            ],
            [
             0.9,
             "#4d9221"
            ],
            [
             1,
             "#276419"
            ]
           ],
           "sequential": [
            [
             0,
             "#0d0887"
            ],
            [
             0.1111111111111111,
             "#46039f"
            ],
            [
             0.2222222222222222,
             "#7201a8"
            ],
            [
             0.3333333333333333,
             "#9c179e"
            ],
            [
             0.4444444444444444,
             "#bd3786"
            ],
            [
             0.5555555555555556,
             "#d8576b"
            ],
            [
             0.6666666666666666,
             "#ed7953"
            ],
            [
             0.7777777777777778,
             "#fb9f3a"
            ],
            [
             0.8888888888888888,
             "#fdca26"
            ],
            [
             1,
             "#f0f921"
            ]
           ],
           "sequentialminus": [
            [
             0,
             "#0d0887"
            ],
            [
             0.1111111111111111,
             "#46039f"
            ],
            [
             0.2222222222222222,
             "#7201a8"
            ],
            [
             0.3333333333333333,
             "#9c179e"
            ],
            [
             0.4444444444444444,
             "#bd3786"
            ],
            [
             0.5555555555555556,
             "#d8576b"
            ],
            [
             0.6666666666666666,
             "#ed7953"
            ],
            [
             0.7777777777777778,
             "#fb9f3a"
            ],
            [
             0.8888888888888888,
             "#fdca26"
            ],
            [
             1,
             "#f0f921"
            ]
           ]
          },
          "colorway": [
           "#636efa",
           "#EF553B",
           "#00cc96",
           "#ab63fa",
           "#FFA15A",
           "#19d3f3",
           "#FF6692",
           "#B6E880",
           "#FF97FF",
           "#FECB52"
          ],
          "font": {
           "color": "#2a3f5f"
          },
          "geo": {
           "bgcolor": "white",
           "lakecolor": "white",
           "landcolor": "#E5ECF6",
           "showlakes": true,
           "showland": true,
           "subunitcolor": "white"
          },
          "hoverlabel": {
           "align": "left"
          },
          "hovermode": "closest",
          "mapbox": {
           "style": "light"
          },
          "paper_bgcolor": "white",
          "plot_bgcolor": "#E5ECF6",
          "polar": {
           "angularaxis": {
            "gridcolor": "white",
            "linecolor": "white",
            "ticks": ""
           },
           "bgcolor": "#E5ECF6",
           "radialaxis": {
            "gridcolor": "white",
            "linecolor": "white",
            "ticks": ""
           }
          },
          "scene": {
           "xaxis": {
            "backgroundcolor": "#E5ECF6",
            "gridcolor": "white",
            "gridwidth": 2,
            "linecolor": "white",
            "showbackground": true,
            "ticks": "",
            "zerolinecolor": "white"
           },
           "yaxis": {
            "backgroundcolor": "#E5ECF6",
            "gridcolor": "white",
            "gridwidth": 2,
            "linecolor": "white",
            "showbackground": true,
            "ticks": "",
            "zerolinecolor": "white"
           },
           "zaxis": {
            "backgroundcolor": "#E5ECF6",
            "gridcolor": "white",
            "gridwidth": 2,
            "linecolor": "white",
            "showbackground": true,
            "ticks": "",
            "zerolinecolor": "white"
           }
          },
          "shapedefaults": {
           "line": {
            "color": "#2a3f5f"
           }
          },
          "ternary": {
           "aaxis": {
            "gridcolor": "white",
            "linecolor": "white",
            "ticks": ""
           },
           "baxis": {
            "gridcolor": "white",
            "linecolor": "white",
            "ticks": ""
           },
           "bgcolor": "#E5ECF6",
           "caxis": {
            "gridcolor": "white",
            "linecolor": "white",
            "ticks": ""
           }
          },
          "title": {
           "x": 0.05
          },
          "xaxis": {
           "automargin": true,
           "gridcolor": "white",
           "linecolor": "white",
           "ticks": "",
           "title": {
            "standoff": 15
           },
           "zerolinecolor": "white",
           "zerolinewidth": 2
          },
          "yaxis": {
           "automargin": true,
           "gridcolor": "white",
           "linecolor": "white",
           "ticks": "",
           "title": {
            "standoff": 15
           },
           "zerolinecolor": "white",
           "zerolinewidth": 2
          }
         }
        },
        "xaxis": {
         "anchor": "y",
         "domain": [
          0,
          1
         ],
         "title": {
          "text": "Main_Genre"
         }
        },
        "yaxis": {
         "anchor": "x",
         "domain": [
          0,
          1
         ],
         "title": {
          "text": "oscars"
         }
        }
       }
      },
      "text/html": [
       "<div>\n",
       "        \n",
       "        \n",
       "            <div id=\"fc396cb0-afe5-4ef2-9aab-c71ada3f710d\" class=\"plotly-graph-div\" style=\"height:525px; width:100%;\"></div>\n",
       "            <script type=\"text/javascript\">\n",
       "                require([\"plotly\"], function(Plotly) {\n",
       "                    window.PLOTLYENV=window.PLOTLYENV || {};\n",
       "                    \n",
       "                if (document.getElementById(\"fc396cb0-afe5-4ef2-9aab-c71ada3f710d\")) {\n",
       "                    Plotly.newPlot(\n",
       "                        'fc396cb0-afe5-4ef2-9aab-c71ada3f710d',\n",
       "                        [{\"alignmentgroup\": \"True\", \"hoverlabel\": {\"namelength\": 0}, \"hovertemplate\": \"Main_Genre=%{x}<br>oscars=%{y}\", \"legendgroup\": \"\", \"marker\": {\"color\": \"#636efa\"}, \"name\": \"\", \"offsetgroup\": \"\", \"orientation\": \"v\", \"showlegend\": false, \"textposition\": \"auto\", \"type\": \"bar\", \"x\": [\"Romance\", \"Sci-Fi\", \"Drama\", \"Fantasy\", \"Thriller\", \"Comedy\", \"Animation\", \"Action\", \"War\", \"Adventure\", \"Sport\", \"Music\", \"History\", \"Crime\", \"Family\", \"Horror\"], \"xaxis\": \"x\", \"y\": [21, 12, 12, 10, 9, 9, 7, 5, 5, 4, 3, 2, 2, 2, 1, 1], \"yaxis\": \"y\"}],\n",
       "                        {\"barmode\": \"relative\", \"legend\": {\"tracegroupgap\": 0}, \"margin\": {\"t\": 60}, \"template\": {\"data\": {\"bar\": [{\"error_x\": {\"color\": \"#2a3f5f\"}, \"error_y\": {\"color\": \"#2a3f5f\"}, \"marker\": {\"line\": {\"color\": \"#E5ECF6\", \"width\": 0.5}}, \"type\": \"bar\"}], \"barpolar\": [{\"marker\": {\"line\": {\"color\": \"#E5ECF6\", \"width\": 0.5}}, \"type\": \"barpolar\"}], \"carpet\": [{\"aaxis\": {\"endlinecolor\": \"#2a3f5f\", \"gridcolor\": \"white\", \"linecolor\": \"white\", \"minorgridcolor\": \"white\", \"startlinecolor\": \"#2a3f5f\"}, \"baxis\": {\"endlinecolor\": \"#2a3f5f\", \"gridcolor\": \"white\", \"linecolor\": \"white\", \"minorgridcolor\": \"white\", \"startlinecolor\": \"#2a3f5f\"}, \"type\": \"carpet\"}], \"choropleth\": [{\"colorbar\": {\"outlinewidth\": 0, \"ticks\": \"\"}, \"type\": \"choropleth\"}], \"contour\": [{\"colorbar\": {\"outlinewidth\": 0, \"ticks\": \"\"}, \"colorscale\": [[0.0, \"#0d0887\"], [0.1111111111111111, \"#46039f\"], [0.2222222222222222, \"#7201a8\"], [0.3333333333333333, \"#9c179e\"], [0.4444444444444444, \"#bd3786\"], [0.5555555555555556, \"#d8576b\"], [0.6666666666666666, \"#ed7953\"], [0.7777777777777778, \"#fb9f3a\"], [0.8888888888888888, \"#fdca26\"], [1.0, \"#f0f921\"]], \"type\": \"contour\"}], \"contourcarpet\": [{\"colorbar\": {\"outlinewidth\": 0, \"ticks\": \"\"}, \"type\": \"contourcarpet\"}], \"heatmap\": [{\"colorbar\": {\"outlinewidth\": 0, \"ticks\": \"\"}, \"colorscale\": [[0.0, \"#0d0887\"], [0.1111111111111111, \"#46039f\"], [0.2222222222222222, \"#7201a8\"], [0.3333333333333333, \"#9c179e\"], [0.4444444444444444, \"#bd3786\"], [0.5555555555555556, \"#d8576b\"], [0.6666666666666666, \"#ed7953\"], [0.7777777777777778, \"#fb9f3a\"], [0.8888888888888888, \"#fdca26\"], [1.0, \"#f0f921\"]], \"type\": \"heatmap\"}], \"heatmapgl\": [{\"colorbar\": {\"outlinewidth\": 0, \"ticks\": \"\"}, \"colorscale\": [[0.0, \"#0d0887\"], [0.1111111111111111, \"#46039f\"], [0.2222222222222222, \"#7201a8\"], [0.3333333333333333, \"#9c179e\"], [0.4444444444444444, \"#bd3786\"], [0.5555555555555556, \"#d8576b\"], [0.6666666666666666, \"#ed7953\"], [0.7777777777777778, \"#fb9f3a\"], [0.8888888888888888, \"#fdca26\"], [1.0, \"#f0f921\"]], \"type\": \"heatmapgl\"}], \"histogram\": [{\"marker\": {\"colorbar\": {\"outlinewidth\": 0, \"ticks\": \"\"}}, \"type\": \"histogram\"}], \"histogram2d\": [{\"colorbar\": {\"outlinewidth\": 0, \"ticks\": \"\"}, \"colorscale\": [[0.0, \"#0d0887\"], [0.1111111111111111, \"#46039f\"], [0.2222222222222222, \"#7201a8\"], [0.3333333333333333, \"#9c179e\"], [0.4444444444444444, \"#bd3786\"], [0.5555555555555556, \"#d8576b\"], [0.6666666666666666, \"#ed7953\"], [0.7777777777777778, \"#fb9f3a\"], [0.8888888888888888, \"#fdca26\"], [1.0, \"#f0f921\"]], \"type\": \"histogram2d\"}], \"histogram2dcontour\": [{\"colorbar\": {\"outlinewidth\": 0, \"ticks\": \"\"}, \"colorscale\": [[0.0, \"#0d0887\"], [0.1111111111111111, \"#46039f\"], [0.2222222222222222, \"#7201a8\"], [0.3333333333333333, \"#9c179e\"], [0.4444444444444444, \"#bd3786\"], [0.5555555555555556, \"#d8576b\"], [0.6666666666666666, \"#ed7953\"], [0.7777777777777778, \"#fb9f3a\"], [0.8888888888888888, \"#fdca26\"], [1.0, \"#f0f921\"]], \"type\": \"histogram2dcontour\"}], \"mesh3d\": [{\"colorbar\": {\"outlinewidth\": 0, \"ticks\": \"\"}, \"type\": \"mesh3d\"}], \"parcoords\": [{\"line\": {\"colorbar\": {\"outlinewidth\": 0, \"ticks\": \"\"}}, \"type\": \"parcoords\"}], \"pie\": [{\"automargin\": true, \"type\": \"pie\"}], \"scatter\": [{\"marker\": {\"colorbar\": {\"outlinewidth\": 0, \"ticks\": \"\"}}, \"type\": \"scatter\"}], \"scatter3d\": [{\"line\": {\"colorbar\": {\"outlinewidth\": 0, \"ticks\": \"\"}}, \"marker\": {\"colorbar\": {\"outlinewidth\": 0, \"ticks\": \"\"}}, \"type\": \"scatter3d\"}], \"scattercarpet\": [{\"marker\": {\"colorbar\": {\"outlinewidth\": 0, \"ticks\": \"\"}}, \"type\": \"scattercarpet\"}], \"scattergeo\": [{\"marker\": {\"colorbar\": {\"outlinewidth\": 0, \"ticks\": \"\"}}, \"type\": \"scattergeo\"}], \"scattergl\": [{\"marker\": {\"colorbar\": {\"outlinewidth\": 0, \"ticks\": \"\"}}, \"type\": \"scattergl\"}], \"scattermapbox\": [{\"marker\": {\"colorbar\": {\"outlinewidth\": 0, \"ticks\": \"\"}}, \"type\": \"scattermapbox\"}], \"scatterpolar\": [{\"marker\": {\"colorbar\": {\"outlinewidth\": 0, \"ticks\": \"\"}}, \"type\": \"scatterpolar\"}], \"scatterpolargl\": [{\"marker\": {\"colorbar\": {\"outlinewidth\": 0, \"ticks\": \"\"}}, \"type\": \"scatterpolargl\"}], \"scatterternary\": [{\"marker\": {\"colorbar\": {\"outlinewidth\": 0, \"ticks\": \"\"}}, \"type\": \"scatterternary\"}], \"surface\": [{\"colorbar\": {\"outlinewidth\": 0, \"ticks\": \"\"}, \"colorscale\": [[0.0, \"#0d0887\"], [0.1111111111111111, \"#46039f\"], [0.2222222222222222, \"#7201a8\"], [0.3333333333333333, \"#9c179e\"], [0.4444444444444444, \"#bd3786\"], [0.5555555555555556, \"#d8576b\"], [0.6666666666666666, \"#ed7953\"], [0.7777777777777778, \"#fb9f3a\"], [0.8888888888888888, \"#fdca26\"], [1.0, \"#f0f921\"]], \"type\": \"surface\"}], \"table\": [{\"cells\": {\"fill\": {\"color\": \"#EBF0F8\"}, \"line\": {\"color\": \"white\"}}, \"header\": {\"fill\": {\"color\": \"#C8D4E3\"}, \"line\": {\"color\": \"white\"}}, \"type\": \"table\"}]}, \"layout\": {\"annotationdefaults\": {\"arrowcolor\": \"#2a3f5f\", \"arrowhead\": 0, \"arrowwidth\": 1}, \"coloraxis\": {\"colorbar\": {\"outlinewidth\": 0, \"ticks\": \"\"}}, \"colorscale\": {\"diverging\": [[0, \"#8e0152\"], [0.1, \"#c51b7d\"], [0.2, \"#de77ae\"], [0.3, \"#f1b6da\"], [0.4, \"#fde0ef\"], [0.5, \"#f7f7f7\"], [0.6, \"#e6f5d0\"], [0.7, \"#b8e186\"], [0.8, \"#7fbc41\"], [0.9, \"#4d9221\"], [1, \"#276419\"]], \"sequential\": [[0.0, \"#0d0887\"], [0.1111111111111111, \"#46039f\"], [0.2222222222222222, \"#7201a8\"], [0.3333333333333333, \"#9c179e\"], [0.4444444444444444, \"#bd3786\"], [0.5555555555555556, \"#d8576b\"], [0.6666666666666666, \"#ed7953\"], [0.7777777777777778, \"#fb9f3a\"], [0.8888888888888888, \"#fdca26\"], [1.0, \"#f0f921\"]], \"sequentialminus\": [[0.0, \"#0d0887\"], [0.1111111111111111, \"#46039f\"], [0.2222222222222222, \"#7201a8\"], [0.3333333333333333, \"#9c179e\"], [0.4444444444444444, \"#bd3786\"], [0.5555555555555556, \"#d8576b\"], [0.6666666666666666, \"#ed7953\"], [0.7777777777777778, \"#fb9f3a\"], [0.8888888888888888, \"#fdca26\"], [1.0, \"#f0f921\"]]}, \"colorway\": [\"#636efa\", \"#EF553B\", \"#00cc96\", \"#ab63fa\", \"#FFA15A\", \"#19d3f3\", \"#FF6692\", \"#B6E880\", \"#FF97FF\", \"#FECB52\"], \"font\": {\"color\": \"#2a3f5f\"}, \"geo\": {\"bgcolor\": \"white\", \"lakecolor\": \"white\", \"landcolor\": \"#E5ECF6\", \"showlakes\": true, \"showland\": true, \"subunitcolor\": \"white\"}, \"hoverlabel\": {\"align\": \"left\"}, \"hovermode\": \"closest\", \"mapbox\": {\"style\": \"light\"}, \"paper_bgcolor\": \"white\", \"plot_bgcolor\": \"#E5ECF6\", \"polar\": {\"angularaxis\": {\"gridcolor\": \"white\", \"linecolor\": \"white\", \"ticks\": \"\"}, \"bgcolor\": \"#E5ECF6\", \"radialaxis\": {\"gridcolor\": \"white\", \"linecolor\": \"white\", \"ticks\": \"\"}}, \"scene\": {\"xaxis\": {\"backgroundcolor\": \"#E5ECF6\", \"gridcolor\": \"white\", \"gridwidth\": 2, \"linecolor\": \"white\", \"showbackground\": true, \"ticks\": \"\", \"zerolinecolor\": \"white\"}, \"yaxis\": {\"backgroundcolor\": \"#E5ECF6\", \"gridcolor\": \"white\", \"gridwidth\": 2, \"linecolor\": \"white\", \"showbackground\": true, \"ticks\": \"\", \"zerolinecolor\": \"white\"}, \"zaxis\": {\"backgroundcolor\": \"#E5ECF6\", \"gridcolor\": \"white\", \"gridwidth\": 2, \"linecolor\": \"white\", \"showbackground\": true, \"ticks\": \"\", \"zerolinecolor\": \"white\"}}, \"shapedefaults\": {\"line\": {\"color\": \"#2a3f5f\"}}, \"ternary\": {\"aaxis\": {\"gridcolor\": \"white\", \"linecolor\": \"white\", \"ticks\": \"\"}, \"baxis\": {\"gridcolor\": \"white\", \"linecolor\": \"white\", \"ticks\": \"\"}, \"bgcolor\": \"#E5ECF6\", \"caxis\": {\"gridcolor\": \"white\", \"linecolor\": \"white\", \"ticks\": \"\"}}, \"title\": {\"x\": 0.05}, \"xaxis\": {\"automargin\": true, \"gridcolor\": \"white\", \"linecolor\": \"white\", \"ticks\": \"\", \"title\": {\"standoff\": 15}, \"zerolinecolor\": \"white\", \"zerolinewidth\": 2}, \"yaxis\": {\"automargin\": true, \"gridcolor\": \"white\", \"linecolor\": \"white\", \"ticks\": \"\", \"title\": {\"standoff\": 15}, \"zerolinecolor\": \"white\", \"zerolinewidth\": 2}}}, \"xaxis\": {\"anchor\": \"y\", \"domain\": [0.0, 1.0], \"title\": {\"text\": \"Main_Genre\"}}, \"yaxis\": {\"anchor\": \"x\", \"domain\": [0.0, 1.0], \"title\": {\"text\": \"oscars\"}}},\n",
       "                        {\"responsive\": true}\n",
       "                    ).then(function(){\n",
       "                            \n",
       "var gd = document.getElementById('fc396cb0-afe5-4ef2-9aab-c71ada3f710d');\n",
       "var x = new MutationObserver(function (mutations, observer) {{\n",
       "        var display = window.getComputedStyle(gd).display;\n",
       "        if (!display || display === 'none') {{\n",
       "            console.log([gd, 'removed!']);\n",
       "            Plotly.purge(gd);\n",
       "            observer.disconnect();\n",
       "        }}\n",
       "}});\n",
       "\n",
       "// Listen for the removal of the full notebook cells\n",
       "var notebookContainer = gd.closest('#notebook-container');\n",
       "if (notebookContainer) {{\n",
       "    x.observe(notebookContainer, {childList: true});\n",
       "}}\n",
       "\n",
       "// Listen for the clearing of the current output cell\n",
       "var outputEl = gd.closest('.output');\n",
       "if (outputEl) {{\n",
       "    x.observe(outputEl, {childList: true});\n",
       "}}\n",
       "\n",
       "                        })\n",
       "                };\n",
       "                });\n",
       "            </script>\n",
       "        </div>"
      ]
     },
     "metadata": {},
     "output_type": "display_data"
    }
   ],
   "source": [
    "import plotly.express as px\n",
    "\n",
    "# convert our series to a df\n",
    "data_plot = genre['Main_Genre'].value_counts().rename_axis('Main_Genre').reset_index(name='oscars')\n",
    "fig = px.bar(data_plot, x='Main_Genre', y='oscars')\n",
    "fig.show()"
   ]
  },
  {
   "cell_type": "code",
   "execution_count": 43,
   "metadata": {
    "ExecuteTime": {
     "end_time": "2020-06-02T20:38:02.422041Z",
     "start_time": "2020-06-02T20:38:02.395838Z"
    }
   },
   "outputs": [],
   "source": [
    "# 3. Which studio has the best Oscars to total movies produced ratio?\n",
    "# find number of movies won by studio, total movies, and merge on studio. Divide movies won by total movies\n",
    "winners = df1.groupby(['title'], sort=False, as_index=False)['studio'].first()"
   ]
  },
  {
   "cell_type": "code",
   "execution_count": 50,
   "metadata": {
    "ExecuteTime": {
     "end_time": "2020-06-02T20:39:07.286295Z",
     "start_time": "2020-06-02T20:39:07.274672Z"
    }
   },
   "outputs": [
    {
     "data": {
      "text/plain": [
       "Warner Bros             19\n",
       "Walt Disney Pictures    16\n",
       "Paramount Pictures      15\n",
       "Universal Pictures      11\n",
       "20th Century Fox         9\n",
       "Metro-Goldwyn-Mayer      9\n",
       "Columbia Pictures        8\n",
       "Pixar                    7\n",
       "Sony Pictures            6\n",
       "DreamWorks               4\n",
       "Lionsgate Films          1\n",
       "Name: studio, dtype: int64"
      ]
     },
     "execution_count": 50,
     "metadata": {},
     "output_type": "execute_result"
    }
   ],
   "source": [
    "winners['studio'].value_counts()"
   ]
  },
  {
   "cell_type": "code",
   "execution_count": 76,
   "metadata": {
    "ExecuteTime": {
     "end_time": "2020-06-02T20:53:35.076231Z",
     "start_time": "2020-06-02T20:53:35.068181Z"
    }
   },
   "outputs": [],
   "source": [
    "# convert to dataframe\n",
    "winners1 = winners['studio'].value_counts().rename_axis('studio').reset_index(name='oscars')"
   ]
  },
  {
   "cell_type": "code",
   "execution_count": 77,
   "metadata": {
    "ExecuteTime": {
     "end_time": "2020-06-02T20:53:35.353050Z",
     "start_time": "2020-06-02T20:53:35.340793Z"
    }
   },
   "outputs": [
    {
     "data": {
      "text/html": [
       "<div>\n",
       "<style scoped>\n",
       "    .dataframe tbody tr th:only-of-type {\n",
       "        vertical-align: middle;\n",
       "    }\n",
       "\n",
       "    .dataframe tbody tr th {\n",
       "        vertical-align: top;\n",
       "    }\n",
       "\n",
       "    .dataframe thead th {\n",
       "        text-align: right;\n",
       "    }\n",
       "</style>\n",
       "<table border=\"1\" class=\"dataframe\">\n",
       "  <thead>\n",
       "    <tr style=\"text-align: right;\">\n",
       "      <th></th>\n",
       "      <th>studio</th>\n",
       "      <th>oscars</th>\n",
       "    </tr>\n",
       "  </thead>\n",
       "  <tbody>\n",
       "    <tr>\n",
       "      <th>0</th>\n",
       "      <td>Warner Bros</td>\n",
       "      <td>19</td>\n",
       "    </tr>\n",
       "    <tr>\n",
       "      <th>1</th>\n",
       "      <td>Walt Disney Pictures</td>\n",
       "      <td>16</td>\n",
       "    </tr>\n",
       "    <tr>\n",
       "      <th>2</th>\n",
       "      <td>Paramount Pictures</td>\n",
       "      <td>15</td>\n",
       "    </tr>\n",
       "    <tr>\n",
       "      <th>3</th>\n",
       "      <td>Universal Pictures</td>\n",
       "      <td>11</td>\n",
       "    </tr>\n",
       "    <tr>\n",
       "      <th>4</th>\n",
       "      <td>20th Century Fox</td>\n",
       "      <td>9</td>\n",
       "    </tr>\n",
       "  </tbody>\n",
       "</table>\n",
       "</div>"
      ],
      "text/plain": [
       "                 studio  oscars\n",
       "0           Warner Bros      19\n",
       "1  Walt Disney Pictures      16\n",
       "2    Paramount Pictures      15\n",
       "3    Universal Pictures      11\n",
       "4      20th Century Fox       9"
      ]
     },
     "execution_count": 77,
     "metadata": {},
     "output_type": "execute_result"
    }
   ],
   "source": [
    "winners1.head()"
   ]
  },
  {
   "cell_type": "code",
   "execution_count": 67,
   "metadata": {
    "ExecuteTime": {
     "end_time": "2020-06-02T20:50:42.000035Z",
     "start_time": "2020-06-02T20:50:41.987742Z"
    }
   },
   "outputs": [],
   "source": [
    "total = df.groupby(['title'], sort=False, as_index=False)['studio'].first()"
   ]
  },
  {
   "cell_type": "code",
   "execution_count": 69,
   "metadata": {
    "ExecuteTime": {
     "end_time": "2020-06-02T20:51:00.234750Z",
     "start_time": "2020-06-02T20:51:00.223499Z"
    }
   },
   "outputs": [
    {
     "data": {
      "text/plain": [
       "Warner Bros             50\n",
       "Walt Disney Pictures    40\n",
       "Paramount Pictures      35\n",
       "Universal Pictures      23\n",
       "20th Century Fox        21\n",
       "Columbia Pictures       18\n",
       "Metro-Goldwyn-Mayer     17\n",
       "Sony Pictures           12\n",
       "Pixar                    9\n",
       "DreamWorks               8\n",
       "IFC Films                1\n",
       "Newmarket Films          1\n",
       "Lionsgate Films          1\n",
       "Name: studio, dtype: int64"
      ]
     },
     "execution_count": 69,
     "metadata": {},
     "output_type": "execute_result"
    }
   ],
   "source": [
    "total['studio'].value_counts()"
   ]
  },
  {
   "cell_type": "code",
   "execution_count": 72,
   "metadata": {
    "ExecuteTime": {
     "end_time": "2020-06-02T20:53:05.154267Z",
     "start_time": "2020-06-02T20:53:05.146085Z"
    }
   },
   "outputs": [],
   "source": [
    "# convert to dataframe\n",
    "total1 = total['studio'].value_counts().rename_axis('studio').reset_index(name='total_movies')"
   ]
  },
  {
   "cell_type": "code",
   "execution_count": 73,
   "metadata": {
    "ExecuteTime": {
     "end_time": "2020-06-02T20:53:05.557127Z",
     "start_time": "2020-06-02T20:53:05.541381Z"
    }
   },
   "outputs": [
    {
     "data": {
      "text/html": [
       "<div>\n",
       "<style scoped>\n",
       "    .dataframe tbody tr th:only-of-type {\n",
       "        vertical-align: middle;\n",
       "    }\n",
       "\n",
       "    .dataframe tbody tr th {\n",
       "        vertical-align: top;\n",
       "    }\n",
       "\n",
       "    .dataframe thead th {\n",
       "        text-align: right;\n",
       "    }\n",
       "</style>\n",
       "<table border=\"1\" class=\"dataframe\">\n",
       "  <thead>\n",
       "    <tr style=\"text-align: right;\">\n",
       "      <th></th>\n",
       "      <th>studio</th>\n",
       "      <th>total_movies</th>\n",
       "    </tr>\n",
       "  </thead>\n",
       "  <tbody>\n",
       "    <tr>\n",
       "      <th>0</th>\n",
       "      <td>Warner Bros</td>\n",
       "      <td>50</td>\n",
       "    </tr>\n",
       "    <tr>\n",
       "      <th>1</th>\n",
       "      <td>Walt Disney Pictures</td>\n",
       "      <td>40</td>\n",
       "    </tr>\n",
       "    <tr>\n",
       "      <th>2</th>\n",
       "      <td>Paramount Pictures</td>\n",
       "      <td>35</td>\n",
       "    </tr>\n",
       "    <tr>\n",
       "      <th>3</th>\n",
       "      <td>Universal Pictures</td>\n",
       "      <td>23</td>\n",
       "    </tr>\n",
       "    <tr>\n",
       "      <th>4</th>\n",
       "      <td>20th Century Fox</td>\n",
       "      <td>21</td>\n",
       "    </tr>\n",
       "  </tbody>\n",
       "</table>\n",
       "</div>"
      ],
      "text/plain": [
       "                 studio  total_movies\n",
       "0           Warner Bros            50\n",
       "1  Walt Disney Pictures            40\n",
       "2    Paramount Pictures            35\n",
       "3    Universal Pictures            23\n",
       "4      20th Century Fox            21"
      ]
     },
     "execution_count": 73,
     "metadata": {},
     "output_type": "execute_result"
    }
   ],
   "source": [
    "total1.head()"
   ]
  },
  {
   "cell_type": "code",
   "execution_count": 78,
   "metadata": {
    "ExecuteTime": {
     "end_time": "2020-06-02T20:53:43.375258Z",
     "start_time": "2020-06-02T20:53:43.350251Z"
    }
   },
   "outputs": [],
   "source": [
    "merged = winners1.merge(total1, on = ['studio'])"
   ]
  },
  {
   "cell_type": "code",
   "execution_count": 79,
   "metadata": {
    "ExecuteTime": {
     "end_time": "2020-06-02T20:53:43.691166Z",
     "start_time": "2020-06-02T20:53:43.671551Z"
    }
   },
   "outputs": [
    {
     "data": {
      "text/html": [
       "<div>\n",
       "<style scoped>\n",
       "    .dataframe tbody tr th:only-of-type {\n",
       "        vertical-align: middle;\n",
       "    }\n",
       "\n",
       "    .dataframe tbody tr th {\n",
       "        vertical-align: top;\n",
       "    }\n",
       "\n",
       "    .dataframe thead th {\n",
       "        text-align: right;\n",
       "    }\n",
       "</style>\n",
       "<table border=\"1\" class=\"dataframe\">\n",
       "  <thead>\n",
       "    <tr style=\"text-align: right;\">\n",
       "      <th></th>\n",
       "      <th>studio</th>\n",
       "      <th>oscars</th>\n",
       "      <th>total_movies</th>\n",
       "    </tr>\n",
       "  </thead>\n",
       "  <tbody>\n",
       "    <tr>\n",
       "      <th>0</th>\n",
       "      <td>Warner Bros</td>\n",
       "      <td>19</td>\n",
       "      <td>50</td>\n",
       "    </tr>\n",
       "    <tr>\n",
       "      <th>1</th>\n",
       "      <td>Walt Disney Pictures</td>\n",
       "      <td>16</td>\n",
       "      <td>40</td>\n",
       "    </tr>\n",
       "    <tr>\n",
       "      <th>2</th>\n",
       "      <td>Paramount Pictures</td>\n",
       "      <td>15</td>\n",
       "      <td>35</td>\n",
       "    </tr>\n",
       "    <tr>\n",
       "      <th>3</th>\n",
       "      <td>Universal Pictures</td>\n",
       "      <td>11</td>\n",
       "      <td>23</td>\n",
       "    </tr>\n",
       "    <tr>\n",
       "      <th>4</th>\n",
       "      <td>20th Century Fox</td>\n",
       "      <td>9</td>\n",
       "      <td>21</td>\n",
       "    </tr>\n",
       "  </tbody>\n",
       "</table>\n",
       "</div>"
      ],
      "text/plain": [
       "                 studio  oscars  total_movies\n",
       "0           Warner Bros      19            50\n",
       "1  Walt Disney Pictures      16            40\n",
       "2    Paramount Pictures      15            35\n",
       "3    Universal Pictures      11            23\n",
       "4      20th Century Fox       9            21"
      ]
     },
     "execution_count": 79,
     "metadata": {},
     "output_type": "execute_result"
    }
   ],
   "source": [
    "merged.head()"
   ]
  },
  {
   "cell_type": "code",
   "execution_count": 80,
   "metadata": {
    "ExecuteTime": {
     "end_time": "2020-06-02T20:54:41.230753Z",
     "start_time": "2020-06-02T20:54:35.512340Z"
    }
   },
   "outputs": [],
   "source": [
    "merged['ratio_oscars'] = merged['oscars']/merged['total_movies']"
   ]
  },
  {
   "cell_type": "code",
   "execution_count": 85,
   "metadata": {
    "ExecuteTime": {
     "end_time": "2020-06-02T20:55:55.618490Z",
     "start_time": "2020-06-02T20:55:55.599940Z"
    }
   },
   "outputs": [
    {
     "data": {
      "text/html": [
       "<div>\n",
       "<style scoped>\n",
       "    .dataframe tbody tr th:only-of-type {\n",
       "        vertical-align: middle;\n",
       "    }\n",
       "\n",
       "    .dataframe tbody tr th {\n",
       "        vertical-align: top;\n",
       "    }\n",
       "\n",
       "    .dataframe thead th {\n",
       "        text-align: right;\n",
       "    }\n",
       "</style>\n",
       "<table border=\"1\" class=\"dataframe\">\n",
       "  <thead>\n",
       "    <tr style=\"text-align: right;\">\n",
       "      <th></th>\n",
       "      <th>studio</th>\n",
       "      <th>oscars</th>\n",
       "      <th>total_movies</th>\n",
       "      <th>ratio_oscars</th>\n",
       "    </tr>\n",
       "  </thead>\n",
       "  <tbody>\n",
       "    <tr>\n",
       "      <th>10</th>\n",
       "      <td>Lionsgate Films</td>\n",
       "      <td>1</td>\n",
       "      <td>1</td>\n",
       "      <td>1.000000</td>\n",
       "    </tr>\n",
       "    <tr>\n",
       "      <th>7</th>\n",
       "      <td>Pixar</td>\n",
       "      <td>7</td>\n",
       "      <td>9</td>\n",
       "      <td>0.777778</td>\n",
       "    </tr>\n",
       "    <tr>\n",
       "      <th>5</th>\n",
       "      <td>Metro-Goldwyn-Mayer</td>\n",
       "      <td>9</td>\n",
       "      <td>17</td>\n",
       "      <td>0.529412</td>\n",
       "    </tr>\n",
       "    <tr>\n",
       "      <th>8</th>\n",
       "      <td>Sony Pictures</td>\n",
       "      <td>6</td>\n",
       "      <td>12</td>\n",
       "      <td>0.500000</td>\n",
       "    </tr>\n",
       "    <tr>\n",
       "      <th>9</th>\n",
       "      <td>DreamWorks</td>\n",
       "      <td>4</td>\n",
       "      <td>8</td>\n",
       "      <td>0.500000</td>\n",
       "    </tr>\n",
       "    <tr>\n",
       "      <th>3</th>\n",
       "      <td>Universal Pictures</td>\n",
       "      <td>11</td>\n",
       "      <td>23</td>\n",
       "      <td>0.478261</td>\n",
       "    </tr>\n",
       "    <tr>\n",
       "      <th>6</th>\n",
       "      <td>Columbia Pictures</td>\n",
       "      <td>8</td>\n",
       "      <td>18</td>\n",
       "      <td>0.444444</td>\n",
       "    </tr>\n",
       "    <tr>\n",
       "      <th>2</th>\n",
       "      <td>Paramount Pictures</td>\n",
       "      <td>15</td>\n",
       "      <td>35</td>\n",
       "      <td>0.428571</td>\n",
       "    </tr>\n",
       "    <tr>\n",
       "      <th>4</th>\n",
       "      <td>20th Century Fox</td>\n",
       "      <td>9</td>\n",
       "      <td>21</td>\n",
       "      <td>0.428571</td>\n",
       "    </tr>\n",
       "    <tr>\n",
       "      <th>1</th>\n",
       "      <td>Walt Disney Pictures</td>\n",
       "      <td>16</td>\n",
       "      <td>40</td>\n",
       "      <td>0.400000</td>\n",
       "    </tr>\n",
       "    <tr>\n",
       "      <th>0</th>\n",
       "      <td>Warner Bros</td>\n",
       "      <td>19</td>\n",
       "      <td>50</td>\n",
       "      <td>0.380000</td>\n",
       "    </tr>\n",
       "  </tbody>\n",
       "</table>\n",
       "</div>"
      ],
      "text/plain": [
       "                  studio  oscars  total_movies  ratio_oscars\n",
       "10       Lionsgate Films       1             1      1.000000\n",
       "7                  Pixar       7             9      0.777778\n",
       "5    Metro-Goldwyn-Mayer       9            17      0.529412\n",
       "8          Sony Pictures       6            12      0.500000\n",
       "9             DreamWorks       4             8      0.500000\n",
       "3     Universal Pictures      11            23      0.478261\n",
       "6      Columbia Pictures       8            18      0.444444\n",
       "2     Paramount Pictures      15            35      0.428571\n",
       "4       20th Century Fox       9            21      0.428571\n",
       "1   Walt Disney Pictures      16            40      0.400000\n",
       "0            Warner Bros      19            50      0.380000"
      ]
     },
     "execution_count": 85,
     "metadata": {},
     "output_type": "execute_result"
    }
   ],
   "source": [
    "merged.sort_values('ratio_oscars', ascending=False)"
   ]
  },
  {
   "cell_type": "code",
   "execution_count": null,
   "metadata": {},
   "outputs": [],
   "source": [
    "# Although Warner Bros makes the largest total movies, it's oscar winning ratio is the lowest.\n",
    "# Pixer has a favouritable ratio at 78%."
   ]
  },
  {
   "cell_type": "code",
   "execution_count": 90,
   "metadata": {
    "ExecuteTime": {
     "end_time": "2020-06-02T21:33:44.796766Z",
     "start_time": "2020-06-02T21:33:44.785973Z"
    }
   },
   "outputs": [],
   "source": [
    "import plotly.graph_objects as go\n",
    "\n",
    "x = merged['studio']"
   ]
  },
  {
   "cell_type": "code",
   "execution_count": 105,
   "metadata": {
    "ExecuteTime": {
     "end_time": "2020-06-03T01:09:09.041246Z",
     "start_time": "2020-06-03T01:09:08.840161Z"
    }
   },
   "outputs": [
    {
     "data": {
      "application/vnd.plotly.v1+json": {
       "config": {
        "plotlyServerURL": "https://plot.ly"
       },
       "data": [
        {
         "name": "winners",
         "type": "bar",
         "x": [
          "Warner Bros",
          "Walt Disney Pictures",
          "Paramount Pictures",
          "Universal Pictures",
          "20th Century Fox",
          "Metro-Goldwyn-Mayer",
          "Columbia Pictures",
          "Pixar",
          "Sony Pictures",
          "DreamWorks",
          "Lionsgate Films"
         ],
         "y": [
          19,
          16,
          15,
          11,
          9,
          9,
          8,
          7,
          6,
          4,
          1
         ]
        },
        {
         "name": "total",
         "type": "bar",
         "x": [
          "Warner Bros",
          "Walt Disney Pictures",
          "Paramount Pictures",
          "Universal Pictures",
          "20th Century Fox",
          "Metro-Goldwyn-Mayer",
          "Columbia Pictures",
          "Pixar",
          "Sony Pictures",
          "DreamWorks",
          "Lionsgate Films"
         ],
         "y": [
          50,
          40,
          35,
          23,
          21,
          17,
          18,
          9,
          12,
          8,
          1
         ]
        }
       ],
       "layout": {
        "barmode": "group",
        "template": {
         "data": {
          "bar": [
           {
            "error_x": {
             "color": "#2a3f5f"
            },
            "error_y": {
             "color": "#2a3f5f"
            },
            "marker": {
             "line": {
              "color": "#E5ECF6",
              "width": 0.5
             }
            },
            "type": "bar"
           }
          ],
          "barpolar": [
           {
            "marker": {
             "line": {
              "color": "#E5ECF6",
              "width": 0.5
             }
            },
            "type": "barpolar"
           }
          ],
          "carpet": [
           {
            "aaxis": {
             "endlinecolor": "#2a3f5f",
             "gridcolor": "white",
             "linecolor": "white",
             "minorgridcolor": "white",
             "startlinecolor": "#2a3f5f"
            },
            "baxis": {
             "endlinecolor": "#2a3f5f",
             "gridcolor": "white",
             "linecolor": "white",
             "minorgridcolor": "white",
             "startlinecolor": "#2a3f5f"
            },
            "type": "carpet"
           }
          ],
          "choropleth": [
           {
            "colorbar": {
             "outlinewidth": 0,
             "ticks": ""
            },
            "type": "choropleth"
           }
          ],
          "contour": [
           {
            "colorbar": {
             "outlinewidth": 0,
             "ticks": ""
            },
            "colorscale": [
             [
              0,
              "#0d0887"
             ],
             [
              0.1111111111111111,
              "#46039f"
             ],
             [
              0.2222222222222222,
              "#7201a8"
             ],
             [
              0.3333333333333333,
              "#9c179e"
             ],
             [
              0.4444444444444444,
              "#bd3786"
             ],
             [
              0.5555555555555556,
              "#d8576b"
             ],
             [
              0.6666666666666666,
              "#ed7953"
             ],
             [
              0.7777777777777778,
              "#fb9f3a"
             ],
             [
              0.8888888888888888,
              "#fdca26"
             ],
             [
              1,
              "#f0f921"
             ]
            ],
            "type": "contour"
           }
          ],
          "contourcarpet": [
           {
            "colorbar": {
             "outlinewidth": 0,
             "ticks": ""
            },
            "type": "contourcarpet"
           }
          ],
          "heatmap": [
           {
            "colorbar": {
             "outlinewidth": 0,
             "ticks": ""
            },
            "colorscale": [
             [
              0,
              "#0d0887"
             ],
             [
              0.1111111111111111,
              "#46039f"
             ],
             [
              0.2222222222222222,
              "#7201a8"
             ],
             [
              0.3333333333333333,
              "#9c179e"
             ],
             [
              0.4444444444444444,
              "#bd3786"
             ],
             [
              0.5555555555555556,
              "#d8576b"
             ],
             [
              0.6666666666666666,
              "#ed7953"
             ],
             [
              0.7777777777777778,
              "#fb9f3a"
             ],
             [
              0.8888888888888888,
              "#fdca26"
             ],
             [
              1,
              "#f0f921"
             ]
            ],
            "type": "heatmap"
           }
          ],
          "heatmapgl": [
           {
            "colorbar": {
             "outlinewidth": 0,
             "ticks": ""
            },
            "colorscale": [
             [
              0,
              "#0d0887"
             ],
             [
              0.1111111111111111,
              "#46039f"
             ],
             [
              0.2222222222222222,
              "#7201a8"
             ],
             [
              0.3333333333333333,
              "#9c179e"
             ],
             [
              0.4444444444444444,
              "#bd3786"
             ],
             [
              0.5555555555555556,
              "#d8576b"
             ],
             [
              0.6666666666666666,
              "#ed7953"
             ],
             [
              0.7777777777777778,
              "#fb9f3a"
             ],
             [
              0.8888888888888888,
              "#fdca26"
             ],
             [
              1,
              "#f0f921"
             ]
            ],
            "type": "heatmapgl"
           }
          ],
          "histogram": [
           {
            "marker": {
             "colorbar": {
              "outlinewidth": 0,
              "ticks": ""
             }
            },
            "type": "histogram"
           }
          ],
          "histogram2d": [
           {
            "colorbar": {
             "outlinewidth": 0,
             "ticks": ""
            },
            "colorscale": [
             [
              0,
              "#0d0887"
             ],
             [
              0.1111111111111111,
              "#46039f"
             ],
             [
              0.2222222222222222,
              "#7201a8"
             ],
             [
              0.3333333333333333,
              "#9c179e"
             ],
             [
              0.4444444444444444,
              "#bd3786"
             ],
             [
              0.5555555555555556,
              "#d8576b"
             ],
             [
              0.6666666666666666,
              "#ed7953"
             ],
             [
              0.7777777777777778,
              "#fb9f3a"
             ],
             [
              0.8888888888888888,
              "#fdca26"
             ],
             [
              1,
              "#f0f921"
             ]
            ],
            "type": "histogram2d"
           }
          ],
          "histogram2dcontour": [
           {
            "colorbar": {
             "outlinewidth": 0,
             "ticks": ""
            },
            "colorscale": [
             [
              0,
              "#0d0887"
             ],
             [
              0.1111111111111111,
              "#46039f"
             ],
             [
              0.2222222222222222,
              "#7201a8"
             ],
             [
              0.3333333333333333,
              "#9c179e"
             ],
             [
              0.4444444444444444,
              "#bd3786"
             ],
             [
              0.5555555555555556,
              "#d8576b"
             ],
             [
              0.6666666666666666,
              "#ed7953"
             ],
             [
              0.7777777777777778,
              "#fb9f3a"
             ],
             [
              0.8888888888888888,
              "#fdca26"
             ],
             [
              1,
              "#f0f921"
             ]
            ],
            "type": "histogram2dcontour"
           }
          ],
          "mesh3d": [
           {
            "colorbar": {
             "outlinewidth": 0,
             "ticks": ""
            },
            "type": "mesh3d"
           }
          ],
          "parcoords": [
           {
            "line": {
             "colorbar": {
              "outlinewidth": 0,
              "ticks": ""
             }
            },
            "type": "parcoords"
           }
          ],
          "pie": [
           {
            "automargin": true,
            "type": "pie"
           }
          ],
          "scatter": [
           {
            "marker": {
             "colorbar": {
              "outlinewidth": 0,
              "ticks": ""
             }
            },
            "type": "scatter"
           }
          ],
          "scatter3d": [
           {
            "line": {
             "colorbar": {
              "outlinewidth": 0,
              "ticks": ""
             }
            },
            "marker": {
             "colorbar": {
              "outlinewidth": 0,
              "ticks": ""
             }
            },
            "type": "scatter3d"
           }
          ],
          "scattercarpet": [
           {
            "marker": {
             "colorbar": {
              "outlinewidth": 0,
              "ticks": ""
             }
            },
            "type": "scattercarpet"
           }
          ],
          "scattergeo": [
           {
            "marker": {
             "colorbar": {
              "outlinewidth": 0,
              "ticks": ""
             }
            },
            "type": "scattergeo"
           }
          ],
          "scattergl": [
           {
            "marker": {
             "colorbar": {
              "outlinewidth": 0,
              "ticks": ""
             }
            },
            "type": "scattergl"
           }
          ],
          "scattermapbox": [
           {
            "marker": {
             "colorbar": {
              "outlinewidth": 0,
              "ticks": ""
             }
            },
            "type": "scattermapbox"
           }
          ],
          "scatterpolar": [
           {
            "marker": {
             "colorbar": {
              "outlinewidth": 0,
              "ticks": ""
             }
            },
            "type": "scatterpolar"
           }
          ],
          "scatterpolargl": [
           {
            "marker": {
             "colorbar": {
              "outlinewidth": 0,
              "ticks": ""
             }
            },
            "type": "scatterpolargl"
           }
          ],
          "scatterternary": [
           {
            "marker": {
             "colorbar": {
              "outlinewidth": 0,
              "ticks": ""
             }
            },
            "type": "scatterternary"
           }
          ],
          "surface": [
           {
            "colorbar": {
             "outlinewidth": 0,
             "ticks": ""
            },
            "colorscale": [
             [
              0,
              "#0d0887"
             ],
             [
              0.1111111111111111,
              "#46039f"
             ],
             [
              0.2222222222222222,
              "#7201a8"
             ],
             [
              0.3333333333333333,
              "#9c179e"
             ],
             [
              0.4444444444444444,
              "#bd3786"
             ],
             [
              0.5555555555555556,
              "#d8576b"
             ],
             [
              0.6666666666666666,
              "#ed7953"
             ],
             [
              0.7777777777777778,
              "#fb9f3a"
             ],
             [
              0.8888888888888888,
              "#fdca26"
             ],
             [
              1,
              "#f0f921"
             ]
            ],
            "type": "surface"
           }
          ],
          "table": [
           {
            "cells": {
             "fill": {
              "color": "#EBF0F8"
             },
             "line": {
              "color": "white"
             }
            },
            "header": {
             "fill": {
              "color": "#C8D4E3"
             },
             "line": {
              "color": "white"
             }
            },
            "type": "table"
           }
          ]
         },
         "layout": {
          "annotationdefaults": {
           "arrowcolor": "#2a3f5f",
           "arrowhead": 0,
           "arrowwidth": 1
          },
          "coloraxis": {
           "colorbar": {
            "outlinewidth": 0,
            "ticks": ""
           }
          },
          "colorscale": {
           "diverging": [
            [
             0,
             "#8e0152"
            ],
            [
             0.1,
             "#c51b7d"
            ],
            [
             0.2,
             "#de77ae"
            ],
            [
             0.3,
             "#f1b6da"
            ],
            [
             0.4,
             "#fde0ef"
            ],
            [
             0.5,
             "#f7f7f7"
            ],
            [
             0.6,
             "#e6f5d0"
            ],
            [
             0.7,
             "#b8e186"
            ],
            [
             0.8,
             "#7fbc41"
            ],
            [
             0.9,
             "#4d9221"
            ],
            [
             1,
             "#276419"
            ]
           ],
           "sequential": [
            [
             0,
             "#0d0887"
            ],
            [
             0.1111111111111111,
             "#46039f"
            ],
            [
             0.2222222222222222,
             "#7201a8"
            ],
            [
             0.3333333333333333,
             "#9c179e"
            ],
            [
             0.4444444444444444,
             "#bd3786"
            ],
            [
             0.5555555555555556,
             "#d8576b"
            ],
            [
             0.6666666666666666,
             "#ed7953"
            ],
            [
             0.7777777777777778,
             "#fb9f3a"
            ],
            [
             0.8888888888888888,
             "#fdca26"
            ],
            [
             1,
             "#f0f921"
            ]
           ],
           "sequentialminus": [
            [
             0,
             "#0d0887"
            ],
            [
             0.1111111111111111,
             "#46039f"
            ],
            [
             0.2222222222222222,
             "#7201a8"
            ],
            [
             0.3333333333333333,
             "#9c179e"
            ],
            [
             0.4444444444444444,
             "#bd3786"
            ],
            [
             0.5555555555555556,
             "#d8576b"
            ],
            [
             0.6666666666666666,
             "#ed7953"
            ],
            [
             0.7777777777777778,
             "#fb9f3a"
            ],
            [
             0.8888888888888888,
             "#fdca26"
            ],
            [
             1,
             "#f0f921"
            ]
           ]
          },
          "colorway": [
           "#636efa",
           "#EF553B",
           "#00cc96",
           "#ab63fa",
           "#FFA15A",
           "#19d3f3",
           "#FF6692",
           "#B6E880",
           "#FF97FF",
           "#FECB52"
          ],
          "font": {
           "color": "#2a3f5f"
          },
          "geo": {
           "bgcolor": "white",
           "lakecolor": "white",
           "landcolor": "#E5ECF6",
           "showlakes": true,
           "showland": true,
           "subunitcolor": "white"
          },
          "hoverlabel": {
           "align": "left"
          },
          "hovermode": "closest",
          "mapbox": {
           "style": "light"
          },
          "paper_bgcolor": "white",
          "plot_bgcolor": "#E5ECF6",
          "polar": {
           "angularaxis": {
            "gridcolor": "white",
            "linecolor": "white",
            "ticks": ""
           },
           "bgcolor": "#E5ECF6",
           "radialaxis": {
            "gridcolor": "white",
            "linecolor": "white",
            "ticks": ""
           }
          },
          "scene": {
           "xaxis": {
            "backgroundcolor": "#E5ECF6",
            "gridcolor": "white",
            "gridwidth": 2,
            "linecolor": "white",
            "showbackground": true,
            "ticks": "",
            "zerolinecolor": "white"
           },
           "yaxis": {
            "backgroundcolor": "#E5ECF6",
            "gridcolor": "white",
            "gridwidth": 2,
            "linecolor": "white",
            "showbackground": true,
            "ticks": "",
            "zerolinecolor": "white"
           },
           "zaxis": {
            "backgroundcolor": "#E5ECF6",
            "gridcolor": "white",
            "gridwidth": 2,
            "linecolor": "white",
            "showbackground": true,
            "ticks": "",
            "zerolinecolor": "white"
           }
          },
          "shapedefaults": {
           "line": {
            "color": "#2a3f5f"
           }
          },
          "ternary": {
           "aaxis": {
            "gridcolor": "white",
            "linecolor": "white",
            "ticks": ""
           },
           "baxis": {
            "gridcolor": "white",
            "linecolor": "white",
            "ticks": ""
           },
           "bgcolor": "#E5ECF6",
           "caxis": {
            "gridcolor": "white",
            "linecolor": "white",
            "ticks": ""
           }
          },
          "title": {
           "x": 0.05
          },
          "xaxis": {
           "automargin": true,
           "gridcolor": "white",
           "linecolor": "white",
           "ticks": "",
           "title": {
            "standoff": 15
           },
           "zerolinecolor": "white",
           "zerolinewidth": 2
          },
          "yaxis": {
           "automargin": true,
           "gridcolor": "white",
           "linecolor": "white",
           "ticks": "",
           "title": {
            "standoff": 15
           },
           "zerolinecolor": "white",
           "zerolinewidth": 2
          }
         }
        },
        "title": {
         "text": "Nominated movies grouped by studio"
        }
       }
      },
      "text/html": [
       "<div>\n",
       "        \n",
       "        \n",
       "            <div id=\"d19e72c9-ca6c-4421-a8b9-2bc9ef7ab1ab\" class=\"plotly-graph-div\" style=\"height:525px; width:100%;\"></div>\n",
       "            <script type=\"text/javascript\">\n",
       "                require([\"plotly\"], function(Plotly) {\n",
       "                    window.PLOTLYENV=window.PLOTLYENV || {};\n",
       "                    \n",
       "                if (document.getElementById(\"d19e72c9-ca6c-4421-a8b9-2bc9ef7ab1ab\")) {\n",
       "                    Plotly.newPlot(\n",
       "                        'd19e72c9-ca6c-4421-a8b9-2bc9ef7ab1ab',\n",
       "                        [{\"name\": \"winners\", \"type\": \"bar\", \"x\": [\"Warner Bros\", \"Walt Disney Pictures\", \"Paramount Pictures\", \"Universal Pictures\", \"20th Century Fox\", \"Metro-Goldwyn-Mayer\", \"Columbia Pictures\", \"Pixar\", \"Sony Pictures\", \"DreamWorks\", \"Lionsgate Films\"], \"y\": [19, 16, 15, 11, 9, 9, 8, 7, 6, 4, 1]}, {\"name\": \"total\", \"type\": \"bar\", \"x\": [\"Warner Bros\", \"Walt Disney Pictures\", \"Paramount Pictures\", \"Universal Pictures\", \"20th Century Fox\", \"Metro-Goldwyn-Mayer\", \"Columbia Pictures\", \"Pixar\", \"Sony Pictures\", \"DreamWorks\", \"Lionsgate Films\"], \"y\": [50, 40, 35, 23, 21, 17, 18, 9, 12, 8, 1]}],\n",
       "                        {\"barmode\": \"group\", \"template\": {\"data\": {\"bar\": [{\"error_x\": {\"color\": \"#2a3f5f\"}, \"error_y\": {\"color\": \"#2a3f5f\"}, \"marker\": {\"line\": {\"color\": \"#E5ECF6\", \"width\": 0.5}}, \"type\": \"bar\"}], \"barpolar\": [{\"marker\": {\"line\": {\"color\": \"#E5ECF6\", \"width\": 0.5}}, \"type\": \"barpolar\"}], \"carpet\": [{\"aaxis\": {\"endlinecolor\": \"#2a3f5f\", \"gridcolor\": \"white\", \"linecolor\": \"white\", \"minorgridcolor\": \"white\", \"startlinecolor\": \"#2a3f5f\"}, \"baxis\": {\"endlinecolor\": \"#2a3f5f\", \"gridcolor\": \"white\", \"linecolor\": \"white\", \"minorgridcolor\": \"white\", \"startlinecolor\": \"#2a3f5f\"}, \"type\": \"carpet\"}], \"choropleth\": [{\"colorbar\": {\"outlinewidth\": 0, \"ticks\": \"\"}, \"type\": \"choropleth\"}], \"contour\": [{\"colorbar\": {\"outlinewidth\": 0, \"ticks\": \"\"}, \"colorscale\": [[0.0, \"#0d0887\"], [0.1111111111111111, \"#46039f\"], [0.2222222222222222, \"#7201a8\"], [0.3333333333333333, \"#9c179e\"], [0.4444444444444444, \"#bd3786\"], [0.5555555555555556, \"#d8576b\"], [0.6666666666666666, \"#ed7953\"], [0.7777777777777778, \"#fb9f3a\"], [0.8888888888888888, \"#fdca26\"], [1.0, \"#f0f921\"]], \"type\": \"contour\"}], \"contourcarpet\": [{\"colorbar\": {\"outlinewidth\": 0, \"ticks\": \"\"}, \"type\": \"contourcarpet\"}], \"heatmap\": [{\"colorbar\": {\"outlinewidth\": 0, \"ticks\": \"\"}, \"colorscale\": [[0.0, \"#0d0887\"], [0.1111111111111111, \"#46039f\"], [0.2222222222222222, \"#7201a8\"], [0.3333333333333333, \"#9c179e\"], [0.4444444444444444, \"#bd3786\"], [0.5555555555555556, \"#d8576b\"], [0.6666666666666666, \"#ed7953\"], [0.7777777777777778, \"#fb9f3a\"], [0.8888888888888888, \"#fdca26\"], [1.0, \"#f0f921\"]], \"type\": \"heatmap\"}], \"heatmapgl\": [{\"colorbar\": {\"outlinewidth\": 0, \"ticks\": \"\"}, \"colorscale\": [[0.0, \"#0d0887\"], [0.1111111111111111, \"#46039f\"], [0.2222222222222222, \"#7201a8\"], [0.3333333333333333, \"#9c179e\"], [0.4444444444444444, \"#bd3786\"], [0.5555555555555556, \"#d8576b\"], [0.6666666666666666, \"#ed7953\"], [0.7777777777777778, \"#fb9f3a\"], [0.8888888888888888, \"#fdca26\"], [1.0, \"#f0f921\"]], \"type\": \"heatmapgl\"}], \"histogram\": [{\"marker\": {\"colorbar\": {\"outlinewidth\": 0, \"ticks\": \"\"}}, \"type\": \"histogram\"}], \"histogram2d\": [{\"colorbar\": {\"outlinewidth\": 0, \"ticks\": \"\"}, \"colorscale\": [[0.0, \"#0d0887\"], [0.1111111111111111, \"#46039f\"], [0.2222222222222222, \"#7201a8\"], [0.3333333333333333, \"#9c179e\"], [0.4444444444444444, \"#bd3786\"], [0.5555555555555556, \"#d8576b\"], [0.6666666666666666, \"#ed7953\"], [0.7777777777777778, \"#fb9f3a\"], [0.8888888888888888, \"#fdca26\"], [1.0, \"#f0f921\"]], \"type\": \"histogram2d\"}], \"histogram2dcontour\": [{\"colorbar\": {\"outlinewidth\": 0, \"ticks\": \"\"}, \"colorscale\": [[0.0, \"#0d0887\"], [0.1111111111111111, \"#46039f\"], [0.2222222222222222, \"#7201a8\"], [0.3333333333333333, \"#9c179e\"], [0.4444444444444444, \"#bd3786\"], [0.5555555555555556, \"#d8576b\"], [0.6666666666666666, \"#ed7953\"], [0.7777777777777778, \"#fb9f3a\"], [0.8888888888888888, \"#fdca26\"], [1.0, \"#f0f921\"]], \"type\": \"histogram2dcontour\"}], \"mesh3d\": [{\"colorbar\": {\"outlinewidth\": 0, \"ticks\": \"\"}, \"type\": \"mesh3d\"}], \"parcoords\": [{\"line\": {\"colorbar\": {\"outlinewidth\": 0, \"ticks\": \"\"}}, \"type\": \"parcoords\"}], \"pie\": [{\"automargin\": true, \"type\": \"pie\"}], \"scatter\": [{\"marker\": {\"colorbar\": {\"outlinewidth\": 0, \"ticks\": \"\"}}, \"type\": \"scatter\"}], \"scatter3d\": [{\"line\": {\"colorbar\": {\"outlinewidth\": 0, \"ticks\": \"\"}}, \"marker\": {\"colorbar\": {\"outlinewidth\": 0, \"ticks\": \"\"}}, \"type\": \"scatter3d\"}], \"scattercarpet\": [{\"marker\": {\"colorbar\": {\"outlinewidth\": 0, \"ticks\": \"\"}}, \"type\": \"scattercarpet\"}], \"scattergeo\": [{\"marker\": {\"colorbar\": {\"outlinewidth\": 0, \"ticks\": \"\"}}, \"type\": \"scattergeo\"}], \"scattergl\": [{\"marker\": {\"colorbar\": {\"outlinewidth\": 0, \"ticks\": \"\"}}, \"type\": \"scattergl\"}], \"scattermapbox\": [{\"marker\": {\"colorbar\": {\"outlinewidth\": 0, \"ticks\": \"\"}}, \"type\": \"scattermapbox\"}], \"scatterpolar\": [{\"marker\": {\"colorbar\": {\"outlinewidth\": 0, \"ticks\": \"\"}}, \"type\": \"scatterpolar\"}], \"scatterpolargl\": [{\"marker\": {\"colorbar\": {\"outlinewidth\": 0, \"ticks\": \"\"}}, \"type\": \"scatterpolargl\"}], \"scatterternary\": [{\"marker\": {\"colorbar\": {\"outlinewidth\": 0, \"ticks\": \"\"}}, \"type\": \"scatterternary\"}], \"surface\": [{\"colorbar\": {\"outlinewidth\": 0, \"ticks\": \"\"}, \"colorscale\": [[0.0, \"#0d0887\"], [0.1111111111111111, \"#46039f\"], [0.2222222222222222, \"#7201a8\"], [0.3333333333333333, \"#9c179e\"], [0.4444444444444444, \"#bd3786\"], [0.5555555555555556, \"#d8576b\"], [0.6666666666666666, \"#ed7953\"], [0.7777777777777778, \"#fb9f3a\"], [0.8888888888888888, \"#fdca26\"], [1.0, \"#f0f921\"]], \"type\": \"surface\"}], \"table\": [{\"cells\": {\"fill\": {\"color\": \"#EBF0F8\"}, \"line\": {\"color\": \"white\"}}, \"header\": {\"fill\": {\"color\": \"#C8D4E3\"}, \"line\": {\"color\": \"white\"}}, \"type\": \"table\"}]}, \"layout\": {\"annotationdefaults\": {\"arrowcolor\": \"#2a3f5f\", \"arrowhead\": 0, \"arrowwidth\": 1}, \"coloraxis\": {\"colorbar\": {\"outlinewidth\": 0, \"ticks\": \"\"}}, \"colorscale\": {\"diverging\": [[0, \"#8e0152\"], [0.1, \"#c51b7d\"], [0.2, \"#de77ae\"], [0.3, \"#f1b6da\"], [0.4, \"#fde0ef\"], [0.5, \"#f7f7f7\"], [0.6, \"#e6f5d0\"], [0.7, \"#b8e186\"], [0.8, \"#7fbc41\"], [0.9, \"#4d9221\"], [1, \"#276419\"]], \"sequential\": [[0.0, \"#0d0887\"], [0.1111111111111111, \"#46039f\"], [0.2222222222222222, \"#7201a8\"], [0.3333333333333333, \"#9c179e\"], [0.4444444444444444, \"#bd3786\"], [0.5555555555555556, \"#d8576b\"], [0.6666666666666666, \"#ed7953\"], [0.7777777777777778, \"#fb9f3a\"], [0.8888888888888888, \"#fdca26\"], [1.0, \"#f0f921\"]], \"sequentialminus\": [[0.0, \"#0d0887\"], [0.1111111111111111, \"#46039f\"], [0.2222222222222222, \"#7201a8\"], [0.3333333333333333, \"#9c179e\"], [0.4444444444444444, \"#bd3786\"], [0.5555555555555556, \"#d8576b\"], [0.6666666666666666, \"#ed7953\"], [0.7777777777777778, \"#fb9f3a\"], [0.8888888888888888, \"#fdca26\"], [1.0, \"#f0f921\"]]}, \"colorway\": [\"#636efa\", \"#EF553B\", \"#00cc96\", \"#ab63fa\", \"#FFA15A\", \"#19d3f3\", \"#FF6692\", \"#B6E880\", \"#FF97FF\", \"#FECB52\"], \"font\": {\"color\": \"#2a3f5f\"}, \"geo\": {\"bgcolor\": \"white\", \"lakecolor\": \"white\", \"landcolor\": \"#E5ECF6\", \"showlakes\": true, \"showland\": true, \"subunitcolor\": \"white\"}, \"hoverlabel\": {\"align\": \"left\"}, \"hovermode\": \"closest\", \"mapbox\": {\"style\": \"light\"}, \"paper_bgcolor\": \"white\", \"plot_bgcolor\": \"#E5ECF6\", \"polar\": {\"angularaxis\": {\"gridcolor\": \"white\", \"linecolor\": \"white\", \"ticks\": \"\"}, \"bgcolor\": \"#E5ECF6\", \"radialaxis\": {\"gridcolor\": \"white\", \"linecolor\": \"white\", \"ticks\": \"\"}}, \"scene\": {\"xaxis\": {\"backgroundcolor\": \"#E5ECF6\", \"gridcolor\": \"white\", \"gridwidth\": 2, \"linecolor\": \"white\", \"showbackground\": true, \"ticks\": \"\", \"zerolinecolor\": \"white\"}, \"yaxis\": {\"backgroundcolor\": \"#E5ECF6\", \"gridcolor\": \"white\", \"gridwidth\": 2, \"linecolor\": \"white\", \"showbackground\": true, \"ticks\": \"\", \"zerolinecolor\": \"white\"}, \"zaxis\": {\"backgroundcolor\": \"#E5ECF6\", \"gridcolor\": \"white\", \"gridwidth\": 2, \"linecolor\": \"white\", \"showbackground\": true, \"ticks\": \"\", \"zerolinecolor\": \"white\"}}, \"shapedefaults\": {\"line\": {\"color\": \"#2a3f5f\"}}, \"ternary\": {\"aaxis\": {\"gridcolor\": \"white\", \"linecolor\": \"white\", \"ticks\": \"\"}, \"baxis\": {\"gridcolor\": \"white\", \"linecolor\": \"white\", \"ticks\": \"\"}, \"bgcolor\": \"#E5ECF6\", \"caxis\": {\"gridcolor\": \"white\", \"linecolor\": \"white\", \"ticks\": \"\"}}, \"title\": {\"x\": 0.05}, \"xaxis\": {\"automargin\": true, \"gridcolor\": \"white\", \"linecolor\": \"white\", \"ticks\": \"\", \"title\": {\"standoff\": 15}, \"zerolinecolor\": \"white\", \"zerolinewidth\": 2}, \"yaxis\": {\"automargin\": true, \"gridcolor\": \"white\", \"linecolor\": \"white\", \"ticks\": \"\", \"title\": {\"standoff\": 15}, \"zerolinecolor\": \"white\", \"zerolinewidth\": 2}}}, \"title\": {\"text\": \"Nominated movies grouped by studio\"}},\n",
       "                        {\"responsive\": true}\n",
       "                    ).then(function(){\n",
       "                            \n",
       "var gd = document.getElementById('d19e72c9-ca6c-4421-a8b9-2bc9ef7ab1ab');\n",
       "var x = new MutationObserver(function (mutations, observer) {{\n",
       "        var display = window.getComputedStyle(gd).display;\n",
       "        if (!display || display === 'none') {{\n",
       "            console.log([gd, 'removed!']);\n",
       "            Plotly.purge(gd);\n",
       "            observer.disconnect();\n",
       "        }}\n",
       "}});\n",
       "\n",
       "// Listen for the removal of the full notebook cells\n",
       "var notebookContainer = gd.closest('#notebook-container');\n",
       "if (notebookContainer) {{\n",
       "    x.observe(notebookContainer, {childList: true});\n",
       "}}\n",
       "\n",
       "// Listen for the clearing of the current output cell\n",
       "var outputEl = gd.closest('.output');\n",
       "if (outputEl) {{\n",
       "    x.observe(outputEl, {childList: true});\n",
       "}}\n",
       "\n",
       "                        })\n",
       "                };\n",
       "                });\n",
       "            </script>\n",
       "        </div>"
      ]
     },
     "metadata": {},
     "output_type": "display_data"
    }
   ],
   "source": [
    "fig = go.Figure(data=[\n",
    "    go.Bar(name='winners', x=x, y=merged['oscars']),\n",
    "    go.Bar(name='total', x=x, y=merged['total_movies'])\n",
    "           ])\n",
    "# Change the bar mode\n",
    "fig.update_layout(barmode='group', title='Nominated movies grouped by studio')\n",
    "fig.show()"
   ]
  },
  {
   "cell_type": "code",
   "execution_count": 106,
   "metadata": {
    "ExecuteTime": {
     "end_time": "2020-06-03T01:15:47.572505Z",
     "start_time": "2020-06-03T01:15:47.542667Z"
    }
   },
   "outputs": [
    {
     "data": {
      "text/html": [
       "<div>\n",
       "<style scoped>\n",
       "    .dataframe tbody tr th:only-of-type {\n",
       "        vertical-align: middle;\n",
       "    }\n",
       "\n",
       "    .dataframe tbody tr th {\n",
       "        vertical-align: top;\n",
       "    }\n",
       "\n",
       "    .dataframe thead th {\n",
       "        text-align: right;\n",
       "    }\n",
       "</style>\n",
       "<table border=\"1\" class=\"dataframe\">\n",
       "  <thead>\n",
       "    <tr style=\"text-align: right;\">\n",
       "      <th></th>\n",
       "      <th>year_film</th>\n",
       "      <th>year_ceremony</th>\n",
       "      <th>ceremony</th>\n",
       "      <th>category</th>\n",
       "      <th>name</th>\n",
       "      <th>title</th>\n",
       "      <th>winner</th>\n",
       "      <th>Main_Genre</th>\n",
       "      <th>Genre_2</th>\n",
       "      <th>Genre_3</th>\n",
       "      <th>imdb_rating</th>\n",
       "      <th>length</th>\n",
       "      <th>rank_in_year</th>\n",
       "      <th>rating</th>\n",
       "      <th>studio</th>\n",
       "      <th>worldwide_gross</th>\n",
       "    </tr>\n",
       "  </thead>\n",
       "  <tbody>\n",
       "    <tr>\n",
       "      <th>0</th>\n",
       "      <td>1975</td>\n",
       "      <td>1976</td>\n",
       "      <td>48</td>\n",
       "      <td>ACTOR</td>\n",
       "      <td>Al Pacino</td>\n",
       "      <td>Dog Day Afternoon</td>\n",
       "      <td>False</td>\n",
       "      <td>Drama</td>\n",
       "      <td>Crime</td>\n",
       "      <td>NaN</td>\n",
       "      <td>8.1</td>\n",
       "      <td>125</td>\n",
       "      <td>4</td>\n",
       "      <td>R</td>\n",
       "      <td>Warner Bros</td>\n",
       "      <td>$50,000,000.00</td>\n",
       "    </tr>\n",
       "    <tr>\n",
       "      <th>1</th>\n",
       "      <td>1975</td>\n",
       "      <td>1976</td>\n",
       "      <td>48</td>\n",
       "      <td>ACTOR IN A SUPPORTING ROLE</td>\n",
       "      <td>Chris Sarandon</td>\n",
       "      <td>Dog Day Afternoon</td>\n",
       "      <td>False</td>\n",
       "      <td>Drama</td>\n",
       "      <td>Crime</td>\n",
       "      <td>NaN</td>\n",
       "      <td>8.1</td>\n",
       "      <td>125</td>\n",
       "      <td>4</td>\n",
       "      <td>R</td>\n",
       "      <td>Warner Bros</td>\n",
       "      <td>$50,000,000.00</td>\n",
       "    </tr>\n",
       "    <tr>\n",
       "      <th>2</th>\n",
       "      <td>1975</td>\n",
       "      <td>1976</td>\n",
       "      <td>48</td>\n",
       "      <td>DIRECTING</td>\n",
       "      <td>Sidney Lumet</td>\n",
       "      <td>Dog Day Afternoon</td>\n",
       "      <td>False</td>\n",
       "      <td>Drama</td>\n",
       "      <td>Crime</td>\n",
       "      <td>NaN</td>\n",
       "      <td>8.1</td>\n",
       "      <td>125</td>\n",
       "      <td>4</td>\n",
       "      <td>R</td>\n",
       "      <td>Warner Bros</td>\n",
       "      <td>$50,000,000.00</td>\n",
       "    </tr>\n",
       "    <tr>\n",
       "      <th>3</th>\n",
       "      <td>1975</td>\n",
       "      <td>1976</td>\n",
       "      <td>48</td>\n",
       "      <td>FILM EDITING</td>\n",
       "      <td>Dede Allen</td>\n",
       "      <td>Dog Day Afternoon</td>\n",
       "      <td>False</td>\n",
       "      <td>Drama</td>\n",
       "      <td>Crime</td>\n",
       "      <td>NaN</td>\n",
       "      <td>8.1</td>\n",
       "      <td>125</td>\n",
       "      <td>4</td>\n",
       "      <td>R</td>\n",
       "      <td>Warner Bros</td>\n",
       "      <td>$50,000,000.00</td>\n",
       "    </tr>\n",
       "    <tr>\n",
       "      <th>4</th>\n",
       "      <td>1975</td>\n",
       "      <td>1976</td>\n",
       "      <td>48</td>\n",
       "      <td>BEST PICTURE</td>\n",
       "      <td>Martin Bregman and Martin Elfand, Producers</td>\n",
       "      <td>Dog Day Afternoon</td>\n",
       "      <td>False</td>\n",
       "      <td>Drama</td>\n",
       "      <td>Crime</td>\n",
       "      <td>NaN</td>\n",
       "      <td>8.1</td>\n",
       "      <td>125</td>\n",
       "      <td>4</td>\n",
       "      <td>R</td>\n",
       "      <td>Warner Bros</td>\n",
       "      <td>$50,000,000.00</td>\n",
       "    </tr>\n",
       "  </tbody>\n",
       "</table>\n",
       "</div>"
      ],
      "text/plain": [
       "   year_film  year_ceremony  ceremony                    category  \\\n",
       "0       1975           1976        48                       ACTOR   \n",
       "1       1975           1976        48  ACTOR IN A SUPPORTING ROLE   \n",
       "2       1975           1976        48                   DIRECTING   \n",
       "3       1975           1976        48                FILM EDITING   \n",
       "4       1975           1976        48                BEST PICTURE   \n",
       "\n",
       "                                          name              title  winner  \\\n",
       "0                                    Al Pacino  Dog Day Afternoon   False   \n",
       "1                               Chris Sarandon  Dog Day Afternoon   False   \n",
       "2                                 Sidney Lumet  Dog Day Afternoon   False   \n",
       "3                                   Dede Allen  Dog Day Afternoon   False   \n",
       "4  Martin Bregman and Martin Elfand, Producers  Dog Day Afternoon   False   \n",
       "\n",
       "  Main_Genre Genre_2 Genre_3  imdb_rating  length  rank_in_year rating  \\\n",
       "0      Drama   Crime     NaN          8.1     125             4      R   \n",
       "1      Drama   Crime     NaN          8.1     125             4      R   \n",
       "2      Drama   Crime     NaN          8.1     125             4      R   \n",
       "3      Drama   Crime     NaN          8.1     125             4      R   \n",
       "4      Drama   Crime     NaN          8.1     125             4      R   \n",
       "\n",
       "        studio  worldwide_gross  \n",
       "0  Warner Bros  $50,000,000.00   \n",
       "1  Warner Bros  $50,000,000.00   \n",
       "2  Warner Bros  $50,000,000.00   \n",
       "3  Warner Bros  $50,000,000.00   \n",
       "4  Warner Bros  $50,000,000.00   "
      ]
     },
     "execution_count": 106,
     "metadata": {},
     "output_type": "execute_result"
    }
   ],
   "source": [
    "# 4. Plot number of nominations over the years and oscars\n",
    "df.head()"
   ]
  },
  {
   "cell_type": "code",
   "execution_count": 129,
   "metadata": {
    "ExecuteTime": {
     "end_time": "2020-06-03T01:38:01.388660Z",
     "start_time": "2020-06-03T01:38:01.375797Z"
    }
   },
   "outputs": [],
   "source": [
    "years_total = df['year_film'].value_counts().rename_axis('year').reset_index(name='nominations')\n",
    "# years_total.head()"
   ]
  },
  {
   "cell_type": "code",
   "execution_count": 173,
   "metadata": {
    "ExecuteTime": {
     "end_time": "2020-06-03T01:57:42.701470Z",
     "start_time": "2020-06-03T01:57:42.693020Z"
    }
   },
   "outputs": [],
   "source": [
    "years_oscar = df1['year_film'].value_counts().rename_axis('year').reset_index(name='oscars')\n",
    "# years_oscar.head()"
   ]
  },
  {
   "cell_type": "code",
   "execution_count": 174,
   "metadata": {
    "ExecuteTime": {
     "end_time": "2020-06-03T01:57:43.570535Z",
     "start_time": "2020-06-03T01:57:43.547909Z"
    }
   },
   "outputs": [
    {
     "data": {
      "text/html": [
       "<div>\n",
       "<style scoped>\n",
       "    .dataframe tbody tr th:only-of-type {\n",
       "        vertical-align: middle;\n",
       "    }\n",
       "\n",
       "    .dataframe tbody tr th {\n",
       "        vertical-align: top;\n",
       "    }\n",
       "\n",
       "    .dataframe thead th {\n",
       "        text-align: right;\n",
       "    }\n",
       "</style>\n",
       "<table border=\"1\" class=\"dataframe\">\n",
       "  <thead>\n",
       "    <tr style=\"text-align: right;\">\n",
       "      <th></th>\n",
       "      <th>year</th>\n",
       "      <th>nominations</th>\n",
       "      <th>oscars</th>\n",
       "    </tr>\n",
       "  </thead>\n",
       "  <tbody>\n",
       "    <tr>\n",
       "      <th>29</th>\n",
       "      <td>1975</td>\n",
       "      <td>16</td>\n",
       "      <td>2</td>\n",
       "    </tr>\n",
       "    <tr>\n",
       "      <th>6</th>\n",
       "      <td>1976</td>\n",
       "      <td>28</td>\n",
       "      <td>10</td>\n",
       "    </tr>\n",
       "    <tr>\n",
       "      <th>1</th>\n",
       "      <td>1977</td>\n",
       "      <td>36</td>\n",
       "      <td>13</td>\n",
       "    </tr>\n",
       "    <tr>\n",
       "      <th>13</th>\n",
       "      <td>1978</td>\n",
       "      <td>24</td>\n",
       "      <td>7</td>\n",
       "    </tr>\n",
       "    <tr>\n",
       "      <th>11</th>\n",
       "      <td>1979</td>\n",
       "      <td>25</td>\n",
       "      <td>8</td>\n",
       "    </tr>\n",
       "  </tbody>\n",
       "</table>\n",
       "</div>"
      ],
      "text/plain": [
       "    year  nominations  oscars\n",
       "29  1975           16       2\n",
       "6   1976           28      10\n",
       "1   1977           36      13\n",
       "13  1978           24       7\n",
       "11  1979           25       8"
      ]
     },
     "execution_count": 174,
     "metadata": {},
     "output_type": "execute_result"
    }
   ],
   "source": [
    "merged_years = years_total.merge(years_oscar, on = ['year']).sort_values('year', ascending=True)\n",
    "merged_years.head()"
   ]
  },
  {
   "cell_type": "code",
   "execution_count": 180,
   "metadata": {
    "ExecuteTime": {
     "end_time": "2020-06-03T02:01:15.231695Z",
     "start_time": "2020-06-03T02:01:15.014414Z"
    }
   },
   "outputs": [
    {
     "data": {
      "application/vnd.plotly.v1+json": {
       "config": {
        "plotlyServerURL": "https://plot.ly"
       },
       "data": [
        {
         "name": "winners",
         "type": "scatter",
         "x": [
          1975,
          1976,
          1977,
          1978,
          1979,
          1980,
          1981,
          1982,
          1983,
          1984,
          1985,
          1986,
          1987,
          1988,
          1989,
          1990,
          1991,
          1992,
          1993,
          1994,
          1995,
          1996,
          1997,
          1998,
          1999,
          2000,
          2001,
          2002,
          2003,
          2004,
          2005,
          2006,
          2007,
          2008,
          2009,
          2010,
          2012,
          2013,
          2014,
          2015,
          2016,
          2018
         ],
         "y": [
          2,
          10,
          13,
          7,
          8,
          1,
          14,
          3,
          6,
          1,
          5,
          7,
          4,
          8,
          7,
          3,
          14,
          5,
          14,
          10,
          4,
          3,
          15,
          12,
          10,
          5,
          7,
          2,
          12,
          3,
          4,
          2,
          1,
          3,
          5,
          8,
          2,
          9,
          1,
          2,
          3,
          3
         ]
        },
        {
         "name": "total",
         "type": "scatter",
         "x": [
          1975,
          1976,
          1977,
          1978,
          1979,
          1980,
          1981,
          1982,
          1983,
          1984,
          1985,
          1986,
          1987,
          1988,
          1989,
          1990,
          1991,
          1992,
          1993,
          1994,
          1995,
          1996,
          1997,
          1998,
          1999,
          2000,
          2001,
          2002,
          2003,
          2004,
          2005,
          2006,
          2007,
          2008,
          2009,
          2010,
          2012,
          2013,
          2014,
          2015,
          2016,
          2018
         ],
         "y": [
          16,
          28,
          36,
          24,
          25,
          11,
          31,
          23,
          19,
          9,
          26,
          24,
          21,
          23,
          21,
          11,
          37,
          19,
          35,
          26,
          19,
          13,
          33,
          30,
          25,
          17,
          26,
          11,
          24,
          16,
          13,
          8,
          10,
          17,
          18,
          20,
          8,
          18,
          12,
          16,
          5,
          10
         ]
        }
       ],
       "layout": {
        "barmode": "group",
        "template": {
         "data": {
          "bar": [
           {
            "error_x": {
             "color": "#2a3f5f"
            },
            "error_y": {
             "color": "#2a3f5f"
            },
            "marker": {
             "line": {
              "color": "#E5ECF6",
              "width": 0.5
             }
            },
            "type": "bar"
           }
          ],
          "barpolar": [
           {
            "marker": {
             "line": {
              "color": "#E5ECF6",
              "width": 0.5
             }
            },
            "type": "barpolar"
           }
          ],
          "carpet": [
           {
            "aaxis": {
             "endlinecolor": "#2a3f5f",
             "gridcolor": "white",
             "linecolor": "white",
             "minorgridcolor": "white",
             "startlinecolor": "#2a3f5f"
            },
            "baxis": {
             "endlinecolor": "#2a3f5f",
             "gridcolor": "white",
             "linecolor": "white",
             "minorgridcolor": "white",
             "startlinecolor": "#2a3f5f"
            },
            "type": "carpet"
           }
          ],
          "choropleth": [
           {
            "colorbar": {
             "outlinewidth": 0,
             "ticks": ""
            },
            "type": "choropleth"
           }
          ],
          "contour": [
           {
            "colorbar": {
             "outlinewidth": 0,
             "ticks": ""
            },
            "colorscale": [
             [
              0,
              "#0d0887"
             ],
             [
              0.1111111111111111,
              "#46039f"
             ],
             [
              0.2222222222222222,
              "#7201a8"
             ],
             [
              0.3333333333333333,
              "#9c179e"
             ],
             [
              0.4444444444444444,
              "#bd3786"
             ],
             [
              0.5555555555555556,
              "#d8576b"
             ],
             [
              0.6666666666666666,
              "#ed7953"
             ],
             [
              0.7777777777777778,
              "#fb9f3a"
             ],
             [
              0.8888888888888888,
              "#fdca26"
             ],
             [
              1,
              "#f0f921"
             ]
            ],
            "type": "contour"
           }
          ],
          "contourcarpet": [
           {
            "colorbar": {
             "outlinewidth": 0,
             "ticks": ""
            },
            "type": "contourcarpet"
           }
          ],
          "heatmap": [
           {
            "colorbar": {
             "outlinewidth": 0,
             "ticks": ""
            },
            "colorscale": [
             [
              0,
              "#0d0887"
             ],
             [
              0.1111111111111111,
              "#46039f"
             ],
             [
              0.2222222222222222,
              "#7201a8"
             ],
             [
              0.3333333333333333,
              "#9c179e"
             ],
             [
              0.4444444444444444,
              "#bd3786"
             ],
             [
              0.5555555555555556,
              "#d8576b"
             ],
             [
              0.6666666666666666,
              "#ed7953"
             ],
             [
              0.7777777777777778,
              "#fb9f3a"
             ],
             [
              0.8888888888888888,
              "#fdca26"
             ],
             [
              1,
              "#f0f921"
             ]
            ],
            "type": "heatmap"
           }
          ],
          "heatmapgl": [
           {
            "colorbar": {
             "outlinewidth": 0,
             "ticks": ""
            },
            "colorscale": [
             [
              0,
              "#0d0887"
             ],
             [
              0.1111111111111111,
              "#46039f"
             ],
             [
              0.2222222222222222,
              "#7201a8"
             ],
             [
              0.3333333333333333,
              "#9c179e"
             ],
             [
              0.4444444444444444,
              "#bd3786"
             ],
             [
              0.5555555555555556,
              "#d8576b"
             ],
             [
              0.6666666666666666,
              "#ed7953"
             ],
             [
              0.7777777777777778,
              "#fb9f3a"
             ],
             [
              0.8888888888888888,
              "#fdca26"
             ],
             [
              1,
              "#f0f921"
             ]
            ],
            "type": "heatmapgl"
           }
          ],
          "histogram": [
           {
            "marker": {
             "colorbar": {
              "outlinewidth": 0,
              "ticks": ""
             }
            },
            "type": "histogram"
           }
          ],
          "histogram2d": [
           {
            "colorbar": {
             "outlinewidth": 0,
             "ticks": ""
            },
            "colorscale": [
             [
              0,
              "#0d0887"
             ],
             [
              0.1111111111111111,
              "#46039f"
             ],
             [
              0.2222222222222222,
              "#7201a8"
             ],
             [
              0.3333333333333333,
              "#9c179e"
             ],
             [
              0.4444444444444444,
              "#bd3786"
             ],
             [
              0.5555555555555556,
              "#d8576b"
             ],
             [
              0.6666666666666666,
              "#ed7953"
             ],
             [
              0.7777777777777778,
              "#fb9f3a"
             ],
             [
              0.8888888888888888,
              "#fdca26"
             ],
             [
              1,
              "#f0f921"
             ]
            ],
            "type": "histogram2d"
           }
          ],
          "histogram2dcontour": [
           {
            "colorbar": {
             "outlinewidth": 0,
             "ticks": ""
            },
            "colorscale": [
             [
              0,
              "#0d0887"
             ],
             [
              0.1111111111111111,
              "#46039f"
             ],
             [
              0.2222222222222222,
              "#7201a8"
             ],
             [
              0.3333333333333333,
              "#9c179e"
             ],
             [
              0.4444444444444444,
              "#bd3786"
             ],
             [
              0.5555555555555556,
              "#d8576b"
             ],
             [
              0.6666666666666666,
              "#ed7953"
             ],
             [
              0.7777777777777778,
              "#fb9f3a"
             ],
             [
              0.8888888888888888,
              "#fdca26"
             ],
             [
              1,
              "#f0f921"
             ]
            ],
            "type": "histogram2dcontour"
           }
          ],
          "mesh3d": [
           {
            "colorbar": {
             "outlinewidth": 0,
             "ticks": ""
            },
            "type": "mesh3d"
           }
          ],
          "parcoords": [
           {
            "line": {
             "colorbar": {
              "outlinewidth": 0,
              "ticks": ""
             }
            },
            "type": "parcoords"
           }
          ],
          "pie": [
           {
            "automargin": true,
            "type": "pie"
           }
          ],
          "scatter": [
           {
            "marker": {
             "colorbar": {
              "outlinewidth": 0,
              "ticks": ""
             }
            },
            "type": "scatter"
           }
          ],
          "scatter3d": [
           {
            "line": {
             "colorbar": {
              "outlinewidth": 0,
              "ticks": ""
             }
            },
            "marker": {
             "colorbar": {
              "outlinewidth": 0,
              "ticks": ""
             }
            },
            "type": "scatter3d"
           }
          ],
          "scattercarpet": [
           {
            "marker": {
             "colorbar": {
              "outlinewidth": 0,
              "ticks": ""
             }
            },
            "type": "scattercarpet"
           }
          ],
          "scattergeo": [
           {
            "marker": {
             "colorbar": {
              "outlinewidth": 0,
              "ticks": ""
             }
            },
            "type": "scattergeo"
           }
          ],
          "scattergl": [
           {
            "marker": {
             "colorbar": {
              "outlinewidth": 0,
              "ticks": ""
             }
            },
            "type": "scattergl"
           }
          ],
          "scattermapbox": [
           {
            "marker": {
             "colorbar": {
              "outlinewidth": 0,
              "ticks": ""
             }
            },
            "type": "scattermapbox"
           }
          ],
          "scatterpolar": [
           {
            "marker": {
             "colorbar": {
              "outlinewidth": 0,
              "ticks": ""
             }
            },
            "type": "scatterpolar"
           }
          ],
          "scatterpolargl": [
           {
            "marker": {
             "colorbar": {
              "outlinewidth": 0,
              "ticks": ""
             }
            },
            "type": "scatterpolargl"
           }
          ],
          "scatterternary": [
           {
            "marker": {
             "colorbar": {
              "outlinewidth": 0,
              "ticks": ""
             }
            },
            "type": "scatterternary"
           }
          ],
          "surface": [
           {
            "colorbar": {
             "outlinewidth": 0,
             "ticks": ""
            },
            "colorscale": [
             [
              0,
              "#0d0887"
             ],
             [
              0.1111111111111111,
              "#46039f"
             ],
             [
              0.2222222222222222,
              "#7201a8"
             ],
             [
              0.3333333333333333,
              "#9c179e"
             ],
             [
              0.4444444444444444,
              "#bd3786"
             ],
             [
              0.5555555555555556,
              "#d8576b"
             ],
             [
              0.6666666666666666,
              "#ed7953"
             ],
             [
              0.7777777777777778,
              "#fb9f3a"
             ],
             [
              0.8888888888888888,
              "#fdca26"
             ],
             [
              1,
              "#f0f921"
             ]
            ],
            "type": "surface"
           }
          ],
          "table": [
           {
            "cells": {
             "fill": {
              "color": "#EBF0F8"
             },
             "line": {
              "color": "white"
             }
            },
            "header": {
             "fill": {
              "color": "#C8D4E3"
             },
             "line": {
              "color": "white"
             }
            },
            "type": "table"
           }
          ]
         },
         "layout": {
          "annotationdefaults": {
           "arrowcolor": "#2a3f5f",
           "arrowhead": 0,
           "arrowwidth": 1
          },
          "coloraxis": {
           "colorbar": {
            "outlinewidth": 0,
            "ticks": ""
           }
          },
          "colorscale": {
           "diverging": [
            [
             0,
             "#8e0152"
            ],
            [
             0.1,
             "#c51b7d"
            ],
            [
             0.2,
             "#de77ae"
            ],
            [
             0.3,
             "#f1b6da"
            ],
            [
             0.4,
             "#fde0ef"
            ],
            [
             0.5,
             "#f7f7f7"
            ],
            [
             0.6,
             "#e6f5d0"
            ],
            [
             0.7,
             "#b8e186"
            ],
            [
             0.8,
             "#7fbc41"
            ],
            [
             0.9,
             "#4d9221"
            ],
            [
             1,
             "#276419"
            ]
           ],
           "sequential": [
            [
             0,
             "#0d0887"
            ],
            [
             0.1111111111111111,
             "#46039f"
            ],
            [
             0.2222222222222222,
             "#7201a8"
            ],
            [
             0.3333333333333333,
             "#9c179e"
            ],
            [
             0.4444444444444444,
             "#bd3786"
            ],
            [
             0.5555555555555556,
             "#d8576b"
            ],
            [
             0.6666666666666666,
             "#ed7953"
            ],
            [
             0.7777777777777778,
             "#fb9f3a"
            ],
            [
             0.8888888888888888,
             "#fdca26"
            ],
            [
             1,
             "#f0f921"
            ]
           ],
           "sequentialminus": [
            [
             0,
             "#0d0887"
            ],
            [
             0.1111111111111111,
             "#46039f"
            ],
            [
             0.2222222222222222,
             "#7201a8"
            ],
            [
             0.3333333333333333,
             "#9c179e"
            ],
            [
             0.4444444444444444,
             "#bd3786"
            ],
            [
             0.5555555555555556,
             "#d8576b"
            ],
            [
             0.6666666666666666,
             "#ed7953"
            ],
            [
             0.7777777777777778,
             "#fb9f3a"
            ],
            [
             0.8888888888888888,
             "#fdca26"
            ],
            [
             1,
             "#f0f921"
            ]
           ]
          },
          "colorway": [
           "#636efa",
           "#EF553B",
           "#00cc96",
           "#ab63fa",
           "#FFA15A",
           "#19d3f3",
           "#FF6692",
           "#B6E880",
           "#FF97FF",
           "#FECB52"
          ],
          "font": {
           "color": "#2a3f5f"
          },
          "geo": {
           "bgcolor": "white",
           "lakecolor": "white",
           "landcolor": "#E5ECF6",
           "showlakes": true,
           "showland": true,
           "subunitcolor": "white"
          },
          "hoverlabel": {
           "align": "left"
          },
          "hovermode": "closest",
          "mapbox": {
           "style": "light"
          },
          "paper_bgcolor": "white",
          "plot_bgcolor": "#E5ECF6",
          "polar": {
           "angularaxis": {
            "gridcolor": "white",
            "linecolor": "white",
            "ticks": ""
           },
           "bgcolor": "#E5ECF6",
           "radialaxis": {
            "gridcolor": "white",
            "linecolor": "white",
            "ticks": ""
           }
          },
          "scene": {
           "xaxis": {
            "backgroundcolor": "#E5ECF6",
            "gridcolor": "white",
            "gridwidth": 2,
            "linecolor": "white",
            "showbackground": true,
            "ticks": "",
            "zerolinecolor": "white"
           },
           "yaxis": {
            "backgroundcolor": "#E5ECF6",
            "gridcolor": "white",
            "gridwidth": 2,
            "linecolor": "white",
            "showbackground": true,
            "ticks": "",
            "zerolinecolor": "white"
           },
           "zaxis": {
            "backgroundcolor": "#E5ECF6",
            "gridcolor": "white",
            "gridwidth": 2,
            "linecolor": "white",
            "showbackground": true,
            "ticks": "",
            "zerolinecolor": "white"
           }
          },
          "shapedefaults": {
           "line": {
            "color": "#2a3f5f"
           }
          },
          "ternary": {
           "aaxis": {
            "gridcolor": "white",
            "linecolor": "white",
            "ticks": ""
           },
           "baxis": {
            "gridcolor": "white",
            "linecolor": "white",
            "ticks": ""
           },
           "bgcolor": "#E5ECF6",
           "caxis": {
            "gridcolor": "white",
            "linecolor": "white",
            "ticks": ""
           }
          },
          "title": {
           "x": 0.05
          },
          "xaxis": {
           "automargin": true,
           "gridcolor": "white",
           "linecolor": "white",
           "ticks": "",
           "title": {
            "standoff": 15
           },
           "zerolinecolor": "white",
           "zerolinewidth": 2
          },
          "yaxis": {
           "automargin": true,
           "gridcolor": "white",
           "linecolor": "white",
           "ticks": "",
           "title": {
            "standoff": 15
           },
           "zerolinecolor": "white",
           "zerolinewidth": 2
          }
         }
        },
        "title": {
         "text": "Nominated movies grouped by studio"
        },
        "xaxis": {
         "title": {
          "text": "year"
         }
        },
        "yaxis": {
         "title": {
          "text": "nominatated movies"
         }
        }
       }
      },
      "text/html": [
       "<div>\n",
       "        \n",
       "        \n",
       "            <div id=\"846df02c-7889-4f5c-94ed-5965bd90dfb1\" class=\"plotly-graph-div\" style=\"height:525px; width:100%;\"></div>\n",
       "            <script type=\"text/javascript\">\n",
       "                require([\"plotly\"], function(Plotly) {\n",
       "                    window.PLOTLYENV=window.PLOTLYENV || {};\n",
       "                    \n",
       "                if (document.getElementById(\"846df02c-7889-4f5c-94ed-5965bd90dfb1\")) {\n",
       "                    Plotly.newPlot(\n",
       "                        '846df02c-7889-4f5c-94ed-5965bd90dfb1',\n",
       "                        [{\"name\": \"winners\", \"type\": \"scatter\", \"x\": [1975, 1976, 1977, 1978, 1979, 1980, 1981, 1982, 1983, 1984, 1985, 1986, 1987, 1988, 1989, 1990, 1991, 1992, 1993, 1994, 1995, 1996, 1997, 1998, 1999, 2000, 2001, 2002, 2003, 2004, 2005, 2006, 2007, 2008, 2009, 2010, 2012, 2013, 2014, 2015, 2016, 2018], \"y\": [2, 10, 13, 7, 8, 1, 14, 3, 6, 1, 5, 7, 4, 8, 7, 3, 14, 5, 14, 10, 4, 3, 15, 12, 10, 5, 7, 2, 12, 3, 4, 2, 1, 3, 5, 8, 2, 9, 1, 2, 3, 3]}, {\"name\": \"total\", \"type\": \"scatter\", \"x\": [1975, 1976, 1977, 1978, 1979, 1980, 1981, 1982, 1983, 1984, 1985, 1986, 1987, 1988, 1989, 1990, 1991, 1992, 1993, 1994, 1995, 1996, 1997, 1998, 1999, 2000, 2001, 2002, 2003, 2004, 2005, 2006, 2007, 2008, 2009, 2010, 2012, 2013, 2014, 2015, 2016, 2018], \"y\": [16, 28, 36, 24, 25, 11, 31, 23, 19, 9, 26, 24, 21, 23, 21, 11, 37, 19, 35, 26, 19, 13, 33, 30, 25, 17, 26, 11, 24, 16, 13, 8, 10, 17, 18, 20, 8, 18, 12, 16, 5, 10]}],\n",
       "                        {\"barmode\": \"group\", \"template\": {\"data\": {\"bar\": [{\"error_x\": {\"color\": \"#2a3f5f\"}, \"error_y\": {\"color\": \"#2a3f5f\"}, \"marker\": {\"line\": {\"color\": \"#E5ECF6\", \"width\": 0.5}}, \"type\": \"bar\"}], \"barpolar\": [{\"marker\": {\"line\": {\"color\": \"#E5ECF6\", \"width\": 0.5}}, \"type\": \"barpolar\"}], \"carpet\": [{\"aaxis\": {\"endlinecolor\": \"#2a3f5f\", \"gridcolor\": \"white\", \"linecolor\": \"white\", \"minorgridcolor\": \"white\", \"startlinecolor\": \"#2a3f5f\"}, \"baxis\": {\"endlinecolor\": \"#2a3f5f\", \"gridcolor\": \"white\", \"linecolor\": \"white\", \"minorgridcolor\": \"white\", \"startlinecolor\": \"#2a3f5f\"}, \"type\": \"carpet\"}], \"choropleth\": [{\"colorbar\": {\"outlinewidth\": 0, \"ticks\": \"\"}, \"type\": \"choropleth\"}], \"contour\": [{\"colorbar\": {\"outlinewidth\": 0, \"ticks\": \"\"}, \"colorscale\": [[0.0, \"#0d0887\"], [0.1111111111111111, \"#46039f\"], [0.2222222222222222, \"#7201a8\"], [0.3333333333333333, \"#9c179e\"], [0.4444444444444444, \"#bd3786\"], [0.5555555555555556, \"#d8576b\"], [0.6666666666666666, \"#ed7953\"], [0.7777777777777778, \"#fb9f3a\"], [0.8888888888888888, \"#fdca26\"], [1.0, \"#f0f921\"]], \"type\": \"contour\"}], \"contourcarpet\": [{\"colorbar\": {\"outlinewidth\": 0, \"ticks\": \"\"}, \"type\": \"contourcarpet\"}], \"heatmap\": [{\"colorbar\": {\"outlinewidth\": 0, \"ticks\": \"\"}, \"colorscale\": [[0.0, \"#0d0887\"], [0.1111111111111111, \"#46039f\"], [0.2222222222222222, \"#7201a8\"], [0.3333333333333333, \"#9c179e\"], [0.4444444444444444, \"#bd3786\"], [0.5555555555555556, \"#d8576b\"], [0.6666666666666666, \"#ed7953\"], [0.7777777777777778, \"#fb9f3a\"], [0.8888888888888888, \"#fdca26\"], [1.0, \"#f0f921\"]], \"type\": \"heatmap\"}], \"heatmapgl\": [{\"colorbar\": {\"outlinewidth\": 0, \"ticks\": \"\"}, \"colorscale\": [[0.0, \"#0d0887\"], [0.1111111111111111, \"#46039f\"], [0.2222222222222222, \"#7201a8\"], [0.3333333333333333, \"#9c179e\"], [0.4444444444444444, \"#bd3786\"], [0.5555555555555556, \"#d8576b\"], [0.6666666666666666, \"#ed7953\"], [0.7777777777777778, \"#fb9f3a\"], [0.8888888888888888, \"#fdca26\"], [1.0, \"#f0f921\"]], \"type\": \"heatmapgl\"}], \"histogram\": [{\"marker\": {\"colorbar\": {\"outlinewidth\": 0, \"ticks\": \"\"}}, \"type\": \"histogram\"}], \"histogram2d\": [{\"colorbar\": {\"outlinewidth\": 0, \"ticks\": \"\"}, \"colorscale\": [[0.0, \"#0d0887\"], [0.1111111111111111, \"#46039f\"], [0.2222222222222222, \"#7201a8\"], [0.3333333333333333, \"#9c179e\"], [0.4444444444444444, \"#bd3786\"], [0.5555555555555556, \"#d8576b\"], [0.6666666666666666, \"#ed7953\"], [0.7777777777777778, \"#fb9f3a\"], [0.8888888888888888, \"#fdca26\"], [1.0, \"#f0f921\"]], \"type\": \"histogram2d\"}], \"histogram2dcontour\": [{\"colorbar\": {\"outlinewidth\": 0, \"ticks\": \"\"}, \"colorscale\": [[0.0, \"#0d0887\"], [0.1111111111111111, \"#46039f\"], [0.2222222222222222, \"#7201a8\"], [0.3333333333333333, \"#9c179e\"], [0.4444444444444444, \"#bd3786\"], [0.5555555555555556, \"#d8576b\"], [0.6666666666666666, \"#ed7953\"], [0.7777777777777778, \"#fb9f3a\"], [0.8888888888888888, \"#fdca26\"], [1.0, \"#f0f921\"]], \"type\": \"histogram2dcontour\"}], \"mesh3d\": [{\"colorbar\": {\"outlinewidth\": 0, \"ticks\": \"\"}, \"type\": \"mesh3d\"}], \"parcoords\": [{\"line\": {\"colorbar\": {\"outlinewidth\": 0, \"ticks\": \"\"}}, \"type\": \"parcoords\"}], \"pie\": [{\"automargin\": true, \"type\": \"pie\"}], \"scatter\": [{\"marker\": {\"colorbar\": {\"outlinewidth\": 0, \"ticks\": \"\"}}, \"type\": \"scatter\"}], \"scatter3d\": [{\"line\": {\"colorbar\": {\"outlinewidth\": 0, \"ticks\": \"\"}}, \"marker\": {\"colorbar\": {\"outlinewidth\": 0, \"ticks\": \"\"}}, \"type\": \"scatter3d\"}], \"scattercarpet\": [{\"marker\": {\"colorbar\": {\"outlinewidth\": 0, \"ticks\": \"\"}}, \"type\": \"scattercarpet\"}], \"scattergeo\": [{\"marker\": {\"colorbar\": {\"outlinewidth\": 0, \"ticks\": \"\"}}, \"type\": \"scattergeo\"}], \"scattergl\": [{\"marker\": {\"colorbar\": {\"outlinewidth\": 0, \"ticks\": \"\"}}, \"type\": \"scattergl\"}], \"scattermapbox\": [{\"marker\": {\"colorbar\": {\"outlinewidth\": 0, \"ticks\": \"\"}}, \"type\": \"scattermapbox\"}], \"scatterpolar\": [{\"marker\": {\"colorbar\": {\"outlinewidth\": 0, \"ticks\": \"\"}}, \"type\": \"scatterpolar\"}], \"scatterpolargl\": [{\"marker\": {\"colorbar\": {\"outlinewidth\": 0, \"ticks\": \"\"}}, \"type\": \"scatterpolargl\"}], \"scatterternary\": [{\"marker\": {\"colorbar\": {\"outlinewidth\": 0, \"ticks\": \"\"}}, \"type\": \"scatterternary\"}], \"surface\": [{\"colorbar\": {\"outlinewidth\": 0, \"ticks\": \"\"}, \"colorscale\": [[0.0, \"#0d0887\"], [0.1111111111111111, \"#46039f\"], [0.2222222222222222, \"#7201a8\"], [0.3333333333333333, \"#9c179e\"], [0.4444444444444444, \"#bd3786\"], [0.5555555555555556, \"#d8576b\"], [0.6666666666666666, \"#ed7953\"], [0.7777777777777778, \"#fb9f3a\"], [0.8888888888888888, \"#fdca26\"], [1.0, \"#f0f921\"]], \"type\": \"surface\"}], \"table\": [{\"cells\": {\"fill\": {\"color\": \"#EBF0F8\"}, \"line\": {\"color\": \"white\"}}, \"header\": {\"fill\": {\"color\": \"#C8D4E3\"}, \"line\": {\"color\": \"white\"}}, \"type\": \"table\"}]}, \"layout\": {\"annotationdefaults\": {\"arrowcolor\": \"#2a3f5f\", \"arrowhead\": 0, \"arrowwidth\": 1}, \"coloraxis\": {\"colorbar\": {\"outlinewidth\": 0, \"ticks\": \"\"}}, \"colorscale\": {\"diverging\": [[0, \"#8e0152\"], [0.1, \"#c51b7d\"], [0.2, \"#de77ae\"], [0.3, \"#f1b6da\"], [0.4, \"#fde0ef\"], [0.5, \"#f7f7f7\"], [0.6, \"#e6f5d0\"], [0.7, \"#b8e186\"], [0.8, \"#7fbc41\"], [0.9, \"#4d9221\"], [1, \"#276419\"]], \"sequential\": [[0.0, \"#0d0887\"], [0.1111111111111111, \"#46039f\"], [0.2222222222222222, \"#7201a8\"], [0.3333333333333333, \"#9c179e\"], [0.4444444444444444, \"#bd3786\"], [0.5555555555555556, \"#d8576b\"], [0.6666666666666666, \"#ed7953\"], [0.7777777777777778, \"#fb9f3a\"], [0.8888888888888888, \"#fdca26\"], [1.0, \"#f0f921\"]], \"sequentialminus\": [[0.0, \"#0d0887\"], [0.1111111111111111, \"#46039f\"], [0.2222222222222222, \"#7201a8\"], [0.3333333333333333, \"#9c179e\"], [0.4444444444444444, \"#bd3786\"], [0.5555555555555556, \"#d8576b\"], [0.6666666666666666, \"#ed7953\"], [0.7777777777777778, \"#fb9f3a\"], [0.8888888888888888, \"#fdca26\"], [1.0, \"#f0f921\"]]}, \"colorway\": [\"#636efa\", \"#EF553B\", \"#00cc96\", \"#ab63fa\", \"#FFA15A\", \"#19d3f3\", \"#FF6692\", \"#B6E880\", \"#FF97FF\", \"#FECB52\"], \"font\": {\"color\": \"#2a3f5f\"}, \"geo\": {\"bgcolor\": \"white\", \"lakecolor\": \"white\", \"landcolor\": \"#E5ECF6\", \"showlakes\": true, \"showland\": true, \"subunitcolor\": \"white\"}, \"hoverlabel\": {\"align\": \"left\"}, \"hovermode\": \"closest\", \"mapbox\": {\"style\": \"light\"}, \"paper_bgcolor\": \"white\", \"plot_bgcolor\": \"#E5ECF6\", \"polar\": {\"angularaxis\": {\"gridcolor\": \"white\", \"linecolor\": \"white\", \"ticks\": \"\"}, \"bgcolor\": \"#E5ECF6\", \"radialaxis\": {\"gridcolor\": \"white\", \"linecolor\": \"white\", \"ticks\": \"\"}}, \"scene\": {\"xaxis\": {\"backgroundcolor\": \"#E5ECF6\", \"gridcolor\": \"white\", \"gridwidth\": 2, \"linecolor\": \"white\", \"showbackground\": true, \"ticks\": \"\", \"zerolinecolor\": \"white\"}, \"yaxis\": {\"backgroundcolor\": \"#E5ECF6\", \"gridcolor\": \"white\", \"gridwidth\": 2, \"linecolor\": \"white\", \"showbackground\": true, \"ticks\": \"\", \"zerolinecolor\": \"white\"}, \"zaxis\": {\"backgroundcolor\": \"#E5ECF6\", \"gridcolor\": \"white\", \"gridwidth\": 2, \"linecolor\": \"white\", \"showbackground\": true, \"ticks\": \"\", \"zerolinecolor\": \"white\"}}, \"shapedefaults\": {\"line\": {\"color\": \"#2a3f5f\"}}, \"ternary\": {\"aaxis\": {\"gridcolor\": \"white\", \"linecolor\": \"white\", \"ticks\": \"\"}, \"baxis\": {\"gridcolor\": \"white\", \"linecolor\": \"white\", \"ticks\": \"\"}, \"bgcolor\": \"#E5ECF6\", \"caxis\": {\"gridcolor\": \"white\", \"linecolor\": \"white\", \"ticks\": \"\"}}, \"title\": {\"x\": 0.05}, \"xaxis\": {\"automargin\": true, \"gridcolor\": \"white\", \"linecolor\": \"white\", \"ticks\": \"\", \"title\": {\"standoff\": 15}, \"zerolinecolor\": \"white\", \"zerolinewidth\": 2}, \"yaxis\": {\"automargin\": true, \"gridcolor\": \"white\", \"linecolor\": \"white\", \"ticks\": \"\", \"title\": {\"standoff\": 15}, \"zerolinecolor\": \"white\", \"zerolinewidth\": 2}}}, \"title\": {\"text\": \"Nominated movies grouped by studio\"}, \"xaxis\": {\"title\": {\"text\": \"year\"}}, \"yaxis\": {\"title\": {\"text\": \"nominatated movies\"}}},\n",
       "                        {\"responsive\": true}\n",
       "                    ).then(function(){\n",
       "                            \n",
       "var gd = document.getElementById('846df02c-7889-4f5c-94ed-5965bd90dfb1');\n",
       "var x = new MutationObserver(function (mutations, observer) {{\n",
       "        var display = window.getComputedStyle(gd).display;\n",
       "        if (!display || display === 'none') {{\n",
       "            console.log([gd, 'removed!']);\n",
       "            Plotly.purge(gd);\n",
       "            observer.disconnect();\n",
       "        }}\n",
       "}});\n",
       "\n",
       "// Listen for the removal of the full notebook cells\n",
       "var notebookContainer = gd.closest('#notebook-container');\n",
       "if (notebookContainer) {{\n",
       "    x.observe(notebookContainer, {childList: true});\n",
       "}}\n",
       "\n",
       "// Listen for the clearing of the current output cell\n",
       "var outputEl = gd.closest('.output');\n",
       "if (outputEl) {{\n",
       "    x.observe(outputEl, {childList: true});\n",
       "}}\n",
       "\n",
       "                        })\n",
       "                };\n",
       "                });\n",
       "            </script>\n",
       "        </div>"
      ]
     },
     "metadata": {},
     "output_type": "display_data"
    }
   ],
   "source": [
    "x = merged_years['year']\n",
    "fig = go.Figure(data=[\n",
    "    go.Scatter(name='winners', x=x, y=merged_years['oscars']),\n",
    "    go.Scatter(name='total', x=x, y=merged_years['nominations'])\n",
    "           ])\n",
    "# Change the bar mode\n",
    "fig.update_layout(barmode='group',title='Nominated movies grouped by studio', xaxis_title='year',\n",
    "                  yaxis_title='nominatated movies')\n",
    "fig.show()"
   ]
  },
  {
   "cell_type": "code",
   "execution_count": 182,
   "metadata": {
    "ExecuteTime": {
     "end_time": "2020-06-03T02:06:18.139596Z",
     "start_time": "2020-06-03T02:06:18.134656Z"
    }
   },
   "outputs": [],
   "source": [
    "# decline in overall movies being nominated and therefore decline in winners selected"
   ]
  },
  {
   "cell_type": "code",
   "execution_count": 189,
   "metadata": {
    "ExecuteTime": {
     "end_time": "2020-06-03T02:12:08.811985Z",
     "start_time": "2020-06-03T02:12:08.379222Z"
    }
   },
   "outputs": [
    {
     "data": {
      "application/vnd.plotly.v1+json": {
       "config": {
        "plotlyServerURL": "https://plot.ly"
       },
       "data": [
        {
         "hoverlabel": {
          "namelength": 0
         },
         "hovertemplate": "year=%{x}<br>winning_prob=%{y}",
         "legendgroup": "",
         "line": {
          "color": "#636efa",
          "dash": "solid"
         },
         "mode": "lines",
         "name": "",
         "showlegend": false,
         "type": "scatter",
         "x": [
          1975,
          1976,
          1977,
          1978,
          1979,
          1980,
          1981,
          1982,
          1983,
          1984,
          1985,
          1986,
          1987,
          1988,
          1989,
          1990,
          1991,
          1992,
          1993,
          1994,
          1995,
          1996,
          1997,
          1998,
          1999,
          2000,
          2001,
          2002,
          2003,
          2004,
          2005,
          2006,
          2007,
          2008,
          2009,
          2010,
          2012,
          2013,
          2014,
          2015,
          2016,
          2018
         ],
         "xaxis": "x",
         "y": [
          0.125,
          0.35714285714285715,
          0.3611111111111111,
          0.2916666666666667,
          0.32,
          0.09090909090909091,
          0.45161290322580644,
          0.13043478260869565,
          0.3157894736842105,
          0.1111111111111111,
          0.19230769230769232,
          0.2916666666666667,
          0.19047619047619047,
          0.34782608695652173,
          0.3333333333333333,
          0.2727272727272727,
          0.3783783783783784,
          0.2631578947368421,
          0.4,
          0.38461538461538464,
          0.21052631578947367,
          0.23076923076923078,
          0.45454545454545453,
          0.4,
          0.4,
          0.29411764705882354,
          0.2692307692307692,
          0.18181818181818182,
          0.5,
          0.1875,
          0.3076923076923077,
          0.25,
          0.1,
          0.17647058823529413,
          0.2777777777777778,
          0.4,
          0.25,
          0.5,
          0.08333333333333333,
          0.125,
          0.6,
          0.3
         ],
         "yaxis": "y"
        }
       ],
       "layout": {
        "legend": {
         "tracegroupgap": 0
        },
        "margin": {
         "t": 60
        },
        "template": {
         "data": {
          "bar": [
           {
            "error_x": {
             "color": "#2a3f5f"
            },
            "error_y": {
             "color": "#2a3f5f"
            },
            "marker": {
             "line": {
              "color": "#E5ECF6",
              "width": 0.5
             }
            },
            "type": "bar"
           }
          ],
          "barpolar": [
           {
            "marker": {
             "line": {
              "color": "#E5ECF6",
              "width": 0.5
             }
            },
            "type": "barpolar"
           }
          ],
          "carpet": [
           {
            "aaxis": {
             "endlinecolor": "#2a3f5f",
             "gridcolor": "white",
             "linecolor": "white",
             "minorgridcolor": "white",
             "startlinecolor": "#2a3f5f"
            },
            "baxis": {
             "endlinecolor": "#2a3f5f",
             "gridcolor": "white",
             "linecolor": "white",
             "minorgridcolor": "white",
             "startlinecolor": "#2a3f5f"
            },
            "type": "carpet"
           }
          ],
          "choropleth": [
           {
            "colorbar": {
             "outlinewidth": 0,
             "ticks": ""
            },
            "type": "choropleth"
           }
          ],
          "contour": [
           {
            "colorbar": {
             "outlinewidth": 0,
             "ticks": ""
            },
            "colorscale": [
             [
              0,
              "#0d0887"
             ],
             [
              0.1111111111111111,
              "#46039f"
             ],
             [
              0.2222222222222222,
              "#7201a8"
             ],
             [
              0.3333333333333333,
              "#9c179e"
             ],
             [
              0.4444444444444444,
              "#bd3786"
             ],
             [
              0.5555555555555556,
              "#d8576b"
             ],
             [
              0.6666666666666666,
              "#ed7953"
             ],
             [
              0.7777777777777778,
              "#fb9f3a"
             ],
             [
              0.8888888888888888,
              "#fdca26"
             ],
             [
              1,
              "#f0f921"
             ]
            ],
            "type": "contour"
           }
          ],
          "contourcarpet": [
           {
            "colorbar": {
             "outlinewidth": 0,
             "ticks": ""
            },
            "type": "contourcarpet"
           }
          ],
          "heatmap": [
           {
            "colorbar": {
             "outlinewidth": 0,
             "ticks": ""
            },
            "colorscale": [
             [
              0,
              "#0d0887"
             ],
             [
              0.1111111111111111,
              "#46039f"
             ],
             [
              0.2222222222222222,
              "#7201a8"
             ],
             [
              0.3333333333333333,
              "#9c179e"
             ],
             [
              0.4444444444444444,
              "#bd3786"
             ],
             [
              0.5555555555555556,
              "#d8576b"
             ],
             [
              0.6666666666666666,
              "#ed7953"
             ],
             [
              0.7777777777777778,
              "#fb9f3a"
             ],
             [
              0.8888888888888888,
              "#fdca26"
             ],
             [
              1,
              "#f0f921"
             ]
            ],
            "type": "heatmap"
           }
          ],
          "heatmapgl": [
           {
            "colorbar": {
             "outlinewidth": 0,
             "ticks": ""
            },
            "colorscale": [
             [
              0,
              "#0d0887"
             ],
             [
              0.1111111111111111,
              "#46039f"
             ],
             [
              0.2222222222222222,
              "#7201a8"
             ],
             [
              0.3333333333333333,
              "#9c179e"
             ],
             [
              0.4444444444444444,
              "#bd3786"
             ],
             [
              0.5555555555555556,
              "#d8576b"
             ],
             [
              0.6666666666666666,
              "#ed7953"
             ],
             [
              0.7777777777777778,
              "#fb9f3a"
             ],
             [
              0.8888888888888888,
              "#fdca26"
             ],
             [
              1,
              "#f0f921"
             ]
            ],
            "type": "heatmapgl"
           }
          ],
          "histogram": [
           {
            "marker": {
             "colorbar": {
              "outlinewidth": 0,
              "ticks": ""
             }
            },
            "type": "histogram"
           }
          ],
          "histogram2d": [
           {
            "colorbar": {
             "outlinewidth": 0,
             "ticks": ""
            },
            "colorscale": [
             [
              0,
              "#0d0887"
             ],
             [
              0.1111111111111111,
              "#46039f"
             ],
             [
              0.2222222222222222,
              "#7201a8"
             ],
             [
              0.3333333333333333,
              "#9c179e"
             ],
             [
              0.4444444444444444,
              "#bd3786"
             ],
             [
              0.5555555555555556,
              "#d8576b"
             ],
             [
              0.6666666666666666,
              "#ed7953"
             ],
             [
              0.7777777777777778,
              "#fb9f3a"
             ],
             [
              0.8888888888888888,
              "#fdca26"
             ],
             [
              1,
              "#f0f921"
             ]
            ],
            "type": "histogram2d"
           }
          ],
          "histogram2dcontour": [
           {
            "colorbar": {
             "outlinewidth": 0,
             "ticks": ""
            },
            "colorscale": [
             [
              0,
              "#0d0887"
             ],
             [
              0.1111111111111111,
              "#46039f"
             ],
             [
              0.2222222222222222,
              "#7201a8"
             ],
             [
              0.3333333333333333,
              "#9c179e"
             ],
             [
              0.4444444444444444,
              "#bd3786"
             ],
             [
              0.5555555555555556,
              "#d8576b"
             ],
             [
              0.6666666666666666,
              "#ed7953"
             ],
             [
              0.7777777777777778,
              "#fb9f3a"
             ],
             [
              0.8888888888888888,
              "#fdca26"
             ],
             [
              1,
              "#f0f921"
             ]
            ],
            "type": "histogram2dcontour"
           }
          ],
          "mesh3d": [
           {
            "colorbar": {
             "outlinewidth": 0,
             "ticks": ""
            },
            "type": "mesh3d"
           }
          ],
          "parcoords": [
           {
            "line": {
             "colorbar": {
              "outlinewidth": 0,
              "ticks": ""
             }
            },
            "type": "parcoords"
           }
          ],
          "pie": [
           {
            "automargin": true,
            "type": "pie"
           }
          ],
          "scatter": [
           {
            "marker": {
             "colorbar": {
              "outlinewidth": 0,
              "ticks": ""
             }
            },
            "type": "scatter"
           }
          ],
          "scatter3d": [
           {
            "line": {
             "colorbar": {
              "outlinewidth": 0,
              "ticks": ""
             }
            },
            "marker": {
             "colorbar": {
              "outlinewidth": 0,
              "ticks": ""
             }
            },
            "type": "scatter3d"
           }
          ],
          "scattercarpet": [
           {
            "marker": {
             "colorbar": {
              "outlinewidth": 0,
              "ticks": ""
             }
            },
            "type": "scattercarpet"
           }
          ],
          "scattergeo": [
           {
            "marker": {
             "colorbar": {
              "outlinewidth": 0,
              "ticks": ""
             }
            },
            "type": "scattergeo"
           }
          ],
          "scattergl": [
           {
            "marker": {
             "colorbar": {
              "outlinewidth": 0,
              "ticks": ""
             }
            },
            "type": "scattergl"
           }
          ],
          "scattermapbox": [
           {
            "marker": {
             "colorbar": {
              "outlinewidth": 0,
              "ticks": ""
             }
            },
            "type": "scattermapbox"
           }
          ],
          "scatterpolar": [
           {
            "marker": {
             "colorbar": {
              "outlinewidth": 0,
              "ticks": ""
             }
            },
            "type": "scatterpolar"
           }
          ],
          "scatterpolargl": [
           {
            "marker": {
             "colorbar": {
              "outlinewidth": 0,
              "ticks": ""
             }
            },
            "type": "scatterpolargl"
           }
          ],
          "scatterternary": [
           {
            "marker": {
             "colorbar": {
              "outlinewidth": 0,
              "ticks": ""
             }
            },
            "type": "scatterternary"
           }
          ],
          "surface": [
           {
            "colorbar": {
             "outlinewidth": 0,
             "ticks": ""
            },
            "colorscale": [
             [
              0,
              "#0d0887"
             ],
             [
              0.1111111111111111,
              "#46039f"
             ],
             [
              0.2222222222222222,
              "#7201a8"
             ],
             [
              0.3333333333333333,
              "#9c179e"
             ],
             [
              0.4444444444444444,
              "#bd3786"
             ],
             [
              0.5555555555555556,
              "#d8576b"
             ],
             [
              0.6666666666666666,
              "#ed7953"
             ],
             [
              0.7777777777777778,
              "#fb9f3a"
             ],
             [
              0.8888888888888888,
              "#fdca26"
             ],
             [
              1,
              "#f0f921"
             ]
            ],
            "type": "surface"
           }
          ],
          "table": [
           {
            "cells": {
             "fill": {
              "color": "#EBF0F8"
             },
             "line": {
              "color": "white"
             }
            },
            "header": {
             "fill": {
              "color": "#C8D4E3"
             },
             "line": {
              "color": "white"
             }
            },
            "type": "table"
           }
          ]
         },
         "layout": {
          "annotationdefaults": {
           "arrowcolor": "#2a3f5f",
           "arrowhead": 0,
           "arrowwidth": 1
          },
          "coloraxis": {
           "colorbar": {
            "outlinewidth": 0,
            "ticks": ""
           }
          },
          "colorscale": {
           "diverging": [
            [
             0,
             "#8e0152"
            ],
            [
             0.1,
             "#c51b7d"
            ],
            [
             0.2,
             "#de77ae"
            ],
            [
             0.3,
             "#f1b6da"
            ],
            [
             0.4,
             "#fde0ef"
            ],
            [
             0.5,
             "#f7f7f7"
            ],
            [
             0.6,
             "#e6f5d0"
            ],
            [
             0.7,
             "#b8e186"
            ],
            [
             0.8,
             "#7fbc41"
            ],
            [
             0.9,
             "#4d9221"
            ],
            [
             1,
             "#276419"
            ]
           ],
           "sequential": [
            [
             0,
             "#0d0887"
            ],
            [
             0.1111111111111111,
             "#46039f"
            ],
            [
             0.2222222222222222,
             "#7201a8"
            ],
            [
             0.3333333333333333,
             "#9c179e"
            ],
            [
             0.4444444444444444,
             "#bd3786"
            ],
            [
             0.5555555555555556,
             "#d8576b"
            ],
            [
             0.6666666666666666,
             "#ed7953"
            ],
            [
             0.7777777777777778,
             "#fb9f3a"
            ],
            [
             0.8888888888888888,
             "#fdca26"
            ],
            [
             1,
             "#f0f921"
            ]
           ],
           "sequentialminus": [
            [
             0,
             "#0d0887"
            ],
            [
             0.1111111111111111,
             "#46039f"
            ],
            [
             0.2222222222222222,
             "#7201a8"
            ],
            [
             0.3333333333333333,
             "#9c179e"
            ],
            [
             0.4444444444444444,
             "#bd3786"
            ],
            [
             0.5555555555555556,
             "#d8576b"
            ],
            [
             0.6666666666666666,
             "#ed7953"
            ],
            [
             0.7777777777777778,
             "#fb9f3a"
            ],
            [
             0.8888888888888888,
             "#fdca26"
            ],
            [
             1,
             "#f0f921"
            ]
           ]
          },
          "colorway": [
           "#636efa",
           "#EF553B",
           "#00cc96",
           "#ab63fa",
           "#FFA15A",
           "#19d3f3",
           "#FF6692",
           "#B6E880",
           "#FF97FF",
           "#FECB52"
          ],
          "font": {
           "color": "#2a3f5f"
          },
          "geo": {
           "bgcolor": "white",
           "lakecolor": "white",
           "landcolor": "#E5ECF6",
           "showlakes": true,
           "showland": true,
           "subunitcolor": "white"
          },
          "hoverlabel": {
           "align": "left"
          },
          "hovermode": "closest",
          "mapbox": {
           "style": "light"
          },
          "paper_bgcolor": "white",
          "plot_bgcolor": "#E5ECF6",
          "polar": {
           "angularaxis": {
            "gridcolor": "white",
            "linecolor": "white",
            "ticks": ""
           },
           "bgcolor": "#E5ECF6",
           "radialaxis": {
            "gridcolor": "white",
            "linecolor": "white",
            "ticks": ""
           }
          },
          "scene": {
           "xaxis": {
            "backgroundcolor": "#E5ECF6",
            "gridcolor": "white",
            "gridwidth": 2,
            "linecolor": "white",
            "showbackground": true,
            "ticks": "",
            "zerolinecolor": "white"
           },
           "yaxis": {
            "backgroundcolor": "#E5ECF6",
            "gridcolor": "white",
            "gridwidth": 2,
            "linecolor": "white",
            "showbackground": true,
            "ticks": "",
            "zerolinecolor": "white"
           },
           "zaxis": {
            "backgroundcolor": "#E5ECF6",
            "gridcolor": "white",
            "gridwidth": 2,
            "linecolor": "white",
            "showbackground": true,
            "ticks": "",
            "zerolinecolor": "white"
           }
          },
          "shapedefaults": {
           "line": {
            "color": "#2a3f5f"
           }
          },
          "ternary": {
           "aaxis": {
            "gridcolor": "white",
            "linecolor": "white",
            "ticks": ""
           },
           "baxis": {
            "gridcolor": "white",
            "linecolor": "white",
            "ticks": ""
           },
           "bgcolor": "#E5ECF6",
           "caxis": {
            "gridcolor": "white",
            "linecolor": "white",
            "ticks": ""
           }
          },
          "title": {
           "x": 0.05
          },
          "xaxis": {
           "automargin": true,
           "gridcolor": "white",
           "linecolor": "white",
           "ticks": "",
           "title": {
            "standoff": 15
           },
           "zerolinecolor": "white",
           "zerolinewidth": 2
          },
          "yaxis": {
           "automargin": true,
           "gridcolor": "white",
           "linecolor": "white",
           "ticks": "",
           "title": {
            "standoff": 15
           },
           "zerolinecolor": "white",
           "zerolinewidth": 2
          }
         }
        },
        "xaxis": {
         "anchor": "y",
         "domain": [
          0,
          1
         ],
         "title": {
          "text": "year"
         }
        },
        "yaxis": {
         "anchor": "x",
         "domain": [
          0,
          1
         ],
         "title": {
          "text": "winning_prob"
         }
        }
       }
      },
      "text/html": [
       "<div>\n",
       "        \n",
       "        \n",
       "            <div id=\"3770fa80-db02-4a04-9254-358346bfe741\" class=\"plotly-graph-div\" style=\"height:525px; width:100%;\"></div>\n",
       "            <script type=\"text/javascript\">\n",
       "                require([\"plotly\"], function(Plotly) {\n",
       "                    window.PLOTLYENV=window.PLOTLYENV || {};\n",
       "                    \n",
       "                if (document.getElementById(\"3770fa80-db02-4a04-9254-358346bfe741\")) {\n",
       "                    Plotly.newPlot(\n",
       "                        '3770fa80-db02-4a04-9254-358346bfe741',\n",
       "                        [{\"hoverlabel\": {\"namelength\": 0}, \"hovertemplate\": \"year=%{x}<br>winning_prob=%{y}\", \"legendgroup\": \"\", \"line\": {\"color\": \"#636efa\", \"dash\": \"solid\"}, \"mode\": \"lines\", \"name\": \"\", \"showlegend\": false, \"type\": \"scatter\", \"x\": [1975, 1976, 1977, 1978, 1979, 1980, 1981, 1982, 1983, 1984, 1985, 1986, 1987, 1988, 1989, 1990, 1991, 1992, 1993, 1994, 1995, 1996, 1997, 1998, 1999, 2000, 2001, 2002, 2003, 2004, 2005, 2006, 2007, 2008, 2009, 2010, 2012, 2013, 2014, 2015, 2016, 2018], \"xaxis\": \"x\", \"y\": [0.125, 0.35714285714285715, 0.3611111111111111, 0.2916666666666667, 0.32, 0.09090909090909091, 0.45161290322580644, 0.13043478260869565, 0.3157894736842105, 0.1111111111111111, 0.19230769230769232, 0.2916666666666667, 0.19047619047619047, 0.34782608695652173, 0.3333333333333333, 0.2727272727272727, 0.3783783783783784, 0.2631578947368421, 0.4, 0.38461538461538464, 0.21052631578947367, 0.23076923076923078, 0.45454545454545453, 0.4, 0.4, 0.29411764705882354, 0.2692307692307692, 0.18181818181818182, 0.5, 0.1875, 0.3076923076923077, 0.25, 0.1, 0.17647058823529413, 0.2777777777777778, 0.4, 0.25, 0.5, 0.08333333333333333, 0.125, 0.6, 0.3], \"yaxis\": \"y\"}],\n",
       "                        {\"legend\": {\"tracegroupgap\": 0}, \"margin\": {\"t\": 60}, \"template\": {\"data\": {\"bar\": [{\"error_x\": {\"color\": \"#2a3f5f\"}, \"error_y\": {\"color\": \"#2a3f5f\"}, \"marker\": {\"line\": {\"color\": \"#E5ECF6\", \"width\": 0.5}}, \"type\": \"bar\"}], \"barpolar\": [{\"marker\": {\"line\": {\"color\": \"#E5ECF6\", \"width\": 0.5}}, \"type\": \"barpolar\"}], \"carpet\": [{\"aaxis\": {\"endlinecolor\": \"#2a3f5f\", \"gridcolor\": \"white\", \"linecolor\": \"white\", \"minorgridcolor\": \"white\", \"startlinecolor\": \"#2a3f5f\"}, \"baxis\": {\"endlinecolor\": \"#2a3f5f\", \"gridcolor\": \"white\", \"linecolor\": \"white\", \"minorgridcolor\": \"white\", \"startlinecolor\": \"#2a3f5f\"}, \"type\": \"carpet\"}], \"choropleth\": [{\"colorbar\": {\"outlinewidth\": 0, \"ticks\": \"\"}, \"type\": \"choropleth\"}], \"contour\": [{\"colorbar\": {\"outlinewidth\": 0, \"ticks\": \"\"}, \"colorscale\": [[0.0, \"#0d0887\"], [0.1111111111111111, \"#46039f\"], [0.2222222222222222, \"#7201a8\"], [0.3333333333333333, \"#9c179e\"], [0.4444444444444444, \"#bd3786\"], [0.5555555555555556, \"#d8576b\"], [0.6666666666666666, \"#ed7953\"], [0.7777777777777778, \"#fb9f3a\"], [0.8888888888888888, \"#fdca26\"], [1.0, \"#f0f921\"]], \"type\": \"contour\"}], \"contourcarpet\": [{\"colorbar\": {\"outlinewidth\": 0, \"ticks\": \"\"}, \"type\": \"contourcarpet\"}], \"heatmap\": [{\"colorbar\": {\"outlinewidth\": 0, \"ticks\": \"\"}, \"colorscale\": [[0.0, \"#0d0887\"], [0.1111111111111111, \"#46039f\"], [0.2222222222222222, \"#7201a8\"], [0.3333333333333333, \"#9c179e\"], [0.4444444444444444, \"#bd3786\"], [0.5555555555555556, \"#d8576b\"], [0.6666666666666666, \"#ed7953\"], [0.7777777777777778, \"#fb9f3a\"], [0.8888888888888888, \"#fdca26\"], [1.0, \"#f0f921\"]], \"type\": \"heatmap\"}], \"heatmapgl\": [{\"colorbar\": {\"outlinewidth\": 0, \"ticks\": \"\"}, \"colorscale\": [[0.0, \"#0d0887\"], [0.1111111111111111, \"#46039f\"], [0.2222222222222222, \"#7201a8\"], [0.3333333333333333, \"#9c179e\"], [0.4444444444444444, \"#bd3786\"], [0.5555555555555556, \"#d8576b\"], [0.6666666666666666, \"#ed7953\"], [0.7777777777777778, \"#fb9f3a\"], [0.8888888888888888, \"#fdca26\"], [1.0, \"#f0f921\"]], \"type\": \"heatmapgl\"}], \"histogram\": [{\"marker\": {\"colorbar\": {\"outlinewidth\": 0, \"ticks\": \"\"}}, \"type\": \"histogram\"}], \"histogram2d\": [{\"colorbar\": {\"outlinewidth\": 0, \"ticks\": \"\"}, \"colorscale\": [[0.0, \"#0d0887\"], [0.1111111111111111, \"#46039f\"], [0.2222222222222222, \"#7201a8\"], [0.3333333333333333, \"#9c179e\"], [0.4444444444444444, \"#bd3786\"], [0.5555555555555556, \"#d8576b\"], [0.6666666666666666, \"#ed7953\"], [0.7777777777777778, \"#fb9f3a\"], [0.8888888888888888, \"#fdca26\"], [1.0, \"#f0f921\"]], \"type\": \"histogram2d\"}], \"histogram2dcontour\": [{\"colorbar\": {\"outlinewidth\": 0, \"ticks\": \"\"}, \"colorscale\": [[0.0, \"#0d0887\"], [0.1111111111111111, \"#46039f\"], [0.2222222222222222, \"#7201a8\"], [0.3333333333333333, \"#9c179e\"], [0.4444444444444444, \"#bd3786\"], [0.5555555555555556, \"#d8576b\"], [0.6666666666666666, \"#ed7953\"], [0.7777777777777778, \"#fb9f3a\"], [0.8888888888888888, \"#fdca26\"], [1.0, \"#f0f921\"]], \"type\": \"histogram2dcontour\"}], \"mesh3d\": [{\"colorbar\": {\"outlinewidth\": 0, \"ticks\": \"\"}, \"type\": \"mesh3d\"}], \"parcoords\": [{\"line\": {\"colorbar\": {\"outlinewidth\": 0, \"ticks\": \"\"}}, \"type\": \"parcoords\"}], \"pie\": [{\"automargin\": true, \"type\": \"pie\"}], \"scatter\": [{\"marker\": {\"colorbar\": {\"outlinewidth\": 0, \"ticks\": \"\"}}, \"type\": \"scatter\"}], \"scatter3d\": [{\"line\": {\"colorbar\": {\"outlinewidth\": 0, \"ticks\": \"\"}}, \"marker\": {\"colorbar\": {\"outlinewidth\": 0, \"ticks\": \"\"}}, \"type\": \"scatter3d\"}], \"scattercarpet\": [{\"marker\": {\"colorbar\": {\"outlinewidth\": 0, \"ticks\": \"\"}}, \"type\": \"scattercarpet\"}], \"scattergeo\": [{\"marker\": {\"colorbar\": {\"outlinewidth\": 0, \"ticks\": \"\"}}, \"type\": \"scattergeo\"}], \"scattergl\": [{\"marker\": {\"colorbar\": {\"outlinewidth\": 0, \"ticks\": \"\"}}, \"type\": \"scattergl\"}], \"scattermapbox\": [{\"marker\": {\"colorbar\": {\"outlinewidth\": 0, \"ticks\": \"\"}}, \"type\": \"scattermapbox\"}], \"scatterpolar\": [{\"marker\": {\"colorbar\": {\"outlinewidth\": 0, \"ticks\": \"\"}}, \"type\": \"scatterpolar\"}], \"scatterpolargl\": [{\"marker\": {\"colorbar\": {\"outlinewidth\": 0, \"ticks\": \"\"}}, \"type\": \"scatterpolargl\"}], \"scatterternary\": [{\"marker\": {\"colorbar\": {\"outlinewidth\": 0, \"ticks\": \"\"}}, \"type\": \"scatterternary\"}], \"surface\": [{\"colorbar\": {\"outlinewidth\": 0, \"ticks\": \"\"}, \"colorscale\": [[0.0, \"#0d0887\"], [0.1111111111111111, \"#46039f\"], [0.2222222222222222, \"#7201a8\"], [0.3333333333333333, \"#9c179e\"], [0.4444444444444444, \"#bd3786\"], [0.5555555555555556, \"#d8576b\"], [0.6666666666666666, \"#ed7953\"], [0.7777777777777778, \"#fb9f3a\"], [0.8888888888888888, \"#fdca26\"], [1.0, \"#f0f921\"]], \"type\": \"surface\"}], \"table\": [{\"cells\": {\"fill\": {\"color\": \"#EBF0F8\"}, \"line\": {\"color\": \"white\"}}, \"header\": {\"fill\": {\"color\": \"#C8D4E3\"}, \"line\": {\"color\": \"white\"}}, \"type\": \"table\"}]}, \"layout\": {\"annotationdefaults\": {\"arrowcolor\": \"#2a3f5f\", \"arrowhead\": 0, \"arrowwidth\": 1}, \"coloraxis\": {\"colorbar\": {\"outlinewidth\": 0, \"ticks\": \"\"}}, \"colorscale\": {\"diverging\": [[0, \"#8e0152\"], [0.1, \"#c51b7d\"], [0.2, \"#de77ae\"], [0.3, \"#f1b6da\"], [0.4, \"#fde0ef\"], [0.5, \"#f7f7f7\"], [0.6, \"#e6f5d0\"], [0.7, \"#b8e186\"], [0.8, \"#7fbc41\"], [0.9, \"#4d9221\"], [1, \"#276419\"]], \"sequential\": [[0.0, \"#0d0887\"], [0.1111111111111111, \"#46039f\"], [0.2222222222222222, \"#7201a8\"], [0.3333333333333333, \"#9c179e\"], [0.4444444444444444, \"#bd3786\"], [0.5555555555555556, \"#d8576b\"], [0.6666666666666666, \"#ed7953\"], [0.7777777777777778, \"#fb9f3a\"], [0.8888888888888888, \"#fdca26\"], [1.0, \"#f0f921\"]], \"sequentialminus\": [[0.0, \"#0d0887\"], [0.1111111111111111, \"#46039f\"], [0.2222222222222222, \"#7201a8\"], [0.3333333333333333, \"#9c179e\"], [0.4444444444444444, \"#bd3786\"], [0.5555555555555556, \"#d8576b\"], [0.6666666666666666, \"#ed7953\"], [0.7777777777777778, \"#fb9f3a\"], [0.8888888888888888, \"#fdca26\"], [1.0, \"#f0f921\"]]}, \"colorway\": [\"#636efa\", \"#EF553B\", \"#00cc96\", \"#ab63fa\", \"#FFA15A\", \"#19d3f3\", \"#FF6692\", \"#B6E880\", \"#FF97FF\", \"#FECB52\"], \"font\": {\"color\": \"#2a3f5f\"}, \"geo\": {\"bgcolor\": \"white\", \"lakecolor\": \"white\", \"landcolor\": \"#E5ECF6\", \"showlakes\": true, \"showland\": true, \"subunitcolor\": \"white\"}, \"hoverlabel\": {\"align\": \"left\"}, \"hovermode\": \"closest\", \"mapbox\": {\"style\": \"light\"}, \"paper_bgcolor\": \"white\", \"plot_bgcolor\": \"#E5ECF6\", \"polar\": {\"angularaxis\": {\"gridcolor\": \"white\", \"linecolor\": \"white\", \"ticks\": \"\"}, \"bgcolor\": \"#E5ECF6\", \"radialaxis\": {\"gridcolor\": \"white\", \"linecolor\": \"white\", \"ticks\": \"\"}}, \"scene\": {\"xaxis\": {\"backgroundcolor\": \"#E5ECF6\", \"gridcolor\": \"white\", \"gridwidth\": 2, \"linecolor\": \"white\", \"showbackground\": true, \"ticks\": \"\", \"zerolinecolor\": \"white\"}, \"yaxis\": {\"backgroundcolor\": \"#E5ECF6\", \"gridcolor\": \"white\", \"gridwidth\": 2, \"linecolor\": \"white\", \"showbackground\": true, \"ticks\": \"\", \"zerolinecolor\": \"white\"}, \"zaxis\": {\"backgroundcolor\": \"#E5ECF6\", \"gridcolor\": \"white\", \"gridwidth\": 2, \"linecolor\": \"white\", \"showbackground\": true, \"ticks\": \"\", \"zerolinecolor\": \"white\"}}, \"shapedefaults\": {\"line\": {\"color\": \"#2a3f5f\"}}, \"ternary\": {\"aaxis\": {\"gridcolor\": \"white\", \"linecolor\": \"white\", \"ticks\": \"\"}, \"baxis\": {\"gridcolor\": \"white\", \"linecolor\": \"white\", \"ticks\": \"\"}, \"bgcolor\": \"#E5ECF6\", \"caxis\": {\"gridcolor\": \"white\", \"linecolor\": \"white\", \"ticks\": \"\"}}, \"title\": {\"x\": 0.05}, \"xaxis\": {\"automargin\": true, \"gridcolor\": \"white\", \"linecolor\": \"white\", \"ticks\": \"\", \"title\": {\"standoff\": 15}, \"zerolinecolor\": \"white\", \"zerolinewidth\": 2}, \"yaxis\": {\"automargin\": true, \"gridcolor\": \"white\", \"linecolor\": \"white\", \"ticks\": \"\", \"title\": {\"standoff\": 15}, \"zerolinecolor\": \"white\", \"zerolinewidth\": 2}}}, \"xaxis\": {\"anchor\": \"y\", \"domain\": [0.0, 1.0], \"title\": {\"text\": \"year\"}}, \"yaxis\": {\"anchor\": \"x\", \"domain\": [0.0, 1.0], \"title\": {\"text\": \"winning_prob\"}}},\n",
       "                        {\"responsive\": true}\n",
       "                    ).then(function(){\n",
       "                            \n",
       "var gd = document.getElementById('3770fa80-db02-4a04-9254-358346bfe741');\n",
       "var x = new MutationObserver(function (mutations, observer) {{\n",
       "        var display = window.getComputedStyle(gd).display;\n",
       "        if (!display || display === 'none') {{\n",
       "            console.log([gd, 'removed!']);\n",
       "            Plotly.purge(gd);\n",
       "            observer.disconnect();\n",
       "        }}\n",
       "}});\n",
       "\n",
       "// Listen for the removal of the full notebook cells\n",
       "var notebookContainer = gd.closest('#notebook-container');\n",
       "if (notebookContainer) {{\n",
       "    x.observe(notebookContainer, {childList: true});\n",
       "}}\n",
       "\n",
       "// Listen for the clearing of the current output cell\n",
       "var outputEl = gd.closest('.output');\n",
       "if (outputEl) {{\n",
       "    x.observe(outputEl, {childList: true});\n",
       "}}\n",
       "\n",
       "                        })\n",
       "                };\n",
       "                });\n",
       "            </script>\n",
       "        </div>"
      ]
     },
     "metadata": {},
     "output_type": "display_data"
    }
   ],
   "source": [
    "# 5. Winning probability year to year\n",
    "merged_years['winning_prob'] = merged_years['oscars']/merged_years['nominations']\n",
    "fig = px.line(merged_years, x='year', y='winning_prob')\n",
    "fig.show()"
   ]
  },
  {
   "cell_type": "code",
   "execution_count": null,
   "metadata": {},
   "outputs": [],
   "source": [
    "# there is a better chance of winning an oscar if you are nominated"
   ]
  }
 ],
 "metadata": {
  "kernelspec": {
   "display_name": "Python 3",
   "language": "python",
   "name": "python3"
  },
  "language_info": {
   "codemirror_mode": {
    "name": "ipython",
    "version": 3
   },
   "file_extension": ".py",
   "mimetype": "text/x-python",
   "name": "python",
   "nbconvert_exporter": "python",
   "pygments_lexer": "ipython3",
   "version": "3.7.6"
  },
  "toc": {
   "base_numbering": 1,
   "nav_menu": {},
   "number_sections": false,
   "sideBar": true,
   "skip_h1_title": false,
   "title_cell": "Table of Contents",
   "title_sidebar": "Contents",
   "toc_cell": false,
   "toc_position": {},
   "toc_section_display": true,
   "toc_window_display": false
  }
 },
 "nbformat": 4,
 "nbformat_minor": 2
}
